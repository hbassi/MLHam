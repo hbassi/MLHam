{
 "cells": [
  {
   "cell_type": "code",
   "execution_count": 1,
   "metadata": {},
   "outputs": [],
   "source": [
    "from matplotlib import pyplot as plt\n",
    "import numpy as np\n",
    "import scipy\n",
    "#TODO make separate notebooks for each system"
   ]
  },
  {
   "cell_type": "code",
   "execution_count": 2,
   "metadata": {},
   "outputs": [],
   "source": [
    "allcontents_tdcasscf = np.load('C:/Users/Hardeep/Desktop/TDCI/tdcasscf_data/ke+en+overlap+ee_twoe+dip_casscf22_heh+_sto-3g.npz',allow_pickle=True)\n",
    "allcontents_tdhf = np.load('C:/Users/Hardeep/Downloads/ke+en+overlap+ee_twoe+dip_hf_s0_heh+_sto-3g.npz')"
   ]
  },
  {
   "cell_type": "code",
   "execution_count": 3,
   "metadata": {},
   "outputs": [
    {
     "name": "stdout",
     "output_type": "stream",
     "text": [
      "['ke_data', 'en_data', 'overlap_data', 'ee_twoe_data', 'dip_data', 'molgeom_data', 'cMO_colvec_data']\n"
     ]
    }
   ],
   "source": [
    "print(allcontents_tdcasscf.files)"
   ]
  },
  {
   "cell_type": "code",
   "execution_count": 4,
   "metadata": {},
   "outputs": [],
   "source": [
    "overlap_data_tdcasscf = allcontents_tdcasscf['overlap_data']\n",
    "overlap_data_tdhf = allcontents_tdhf['overlap_data']"
   ]
  },
  {
   "cell_type": "code",
   "execution_count": 5,
   "metadata": {},
   "outputs": [
    {
     "data": {
      "text/plain": [
       "(array([[1.      , 0.538415],\n",
       "        [0.538415, 1.      ]]),\n",
       " array([[1.      , 0.538415],\n",
       "        [0.538415, 1.      ]]))"
      ]
     },
     "execution_count": 5,
     "metadata": {},
     "output_type": "execute_result"
    }
   ],
   "source": [
    "overlap_data_tdcasscf, overlap_data_tdhf"
   ]
  },
  {
   "cell_type": "code",
   "execution_count": 6,
   "metadata": {},
   "outputs": [],
   "source": [
    "overlap_data = allcontents_tdhf['overlap_data']"
   ]
  },
  {
   "cell_type": "code",
   "execution_count": 7,
   "metadata": {},
   "outputs": [],
   "source": [
    "sevals, sevecs = np.linalg.eigh(overlap_data)"
   ]
  },
  {
   "cell_type": "code",
   "execution_count": 8,
   "metadata": {},
   "outputs": [
    {
     "data": {
      "text/plain": [
       "array([[-1.04078053,  0.57009634],\n",
       "       [ 1.04078053,  0.57009634]])"
      ]
     },
     "execution_count": 8,
     "metadata": {},
     "output_type": "execute_result"
    }
   ],
   "source": [
    "sevecs @ np.diag(sevals**(-0.5))"
   ]
  },
  {
   "cell_type": "code",
   "execution_count": 19,
   "metadata": {
    "scrolled": true
   },
   "outputs": [],
   "source": [
    "trajs = []\n",
    "sys = 'tdcis'\n",
    "#dt = '0.082680'\n",
    "dt = '0.008268'\n",
    "steps = 10000\n",
    "for i in range(1,10):\n",
    "    data = np.load('./'+sys+'_data/dt'+dt+'/td_dens_'+sys+'_heh+_sto-3g_00'+str(i)+'_dt='+dt+'au.npz')\n",
    "    traj = np.diag(sevals**(0.5)) @ sevecs.T @ (data['td_dens_re_data'] + 1j*data['td_dens_im_data']) @ sevecs @ np.diag(sevals**(0.5))\n",
    "    #import pdb; pdb.set_trace()\n",
    "    trajs.append(traj[:steps])\n"
   ]
  },
  {
   "cell_type": "code",
   "execution_count": 20,
   "metadata": {},
   "outputs": [],
   "source": [
    "for i in range(10,100):\n",
    "    data = np.load('./'+sys+'_data/dt'+dt+'/td_dens_'+sys+'_heh+_sto-3g_0'+str(i)+'_dt='+dt+'au.npz')\n",
    "    traj =  traj = np.diag(sevals**(0.5)) @ sevecs.T @ (data['td_dens_re_data'] + 1j*data['td_dens_im_data']) @ sevecs @ np.diag(sevals**(0.5))\n",
    "    trajs.append(traj[:steps])"
   ]
  },
  {
   "cell_type": "code",
   "execution_count": 21,
   "metadata": {},
   "outputs": [],
   "source": [
    "for i in range(100,302):\n",
    "    data = np.load('./'+sys+'_data/dt'+dt+'/td_dens_'+sys+'_heh+_sto-3g_'+str(i)+'_dt='+dt+'au.npz')\n",
    "    traj =  traj = np.diag(sevals**(0.5)) @ sevecs.T @ (data['td_dens_re_data'] + 1j*data['td_dens_im_data']) @ sevecs @ np.diag(sevals**(0.5))\n",
    "    trajs.append(traj[:steps])"
   ]
  },
  {
   "cell_type": "code",
   "execution_count": 22,
   "metadata": {},
   "outputs": [
    {
     "data": {
      "text/plain": [
       "(301, 10000, 2, 2)"
      ]
     },
     "execution_count": 22,
     "metadata": {},
     "output_type": "execute_result"
    }
   ],
   "source": [
    "trajs = np.array(trajs)\n",
    "trajs.shape"
   ]
  },
  {
   "cell_type": "code",
   "execution_count": 69,
   "metadata": {},
   "outputs": [
    {
     "data": {
      "text/plain": [
       "array([[[0.10477089+0.00000000e+00j, 0.30625791+0.00000000e+00j],\n",
       "        [0.30625791+0.00000000e+00j, 0.89522938+0.00000000e+00j]],\n",
       "\n",
       "       [[0.10477089+0.00000000e+00j, 0.30625791+0.00000000e+00j],\n",
       "        [0.30625791+0.00000000e+00j, 0.89522938+0.00000000e+00j]],\n",
       "\n",
       "       [[0.10477094-2.13773805e-22j, 0.30625798-1.90978275e-05j],\n",
       "        [0.30625798+1.90978275e-05j, 0.89522933+1.67210403e-22j]],\n",
       "\n",
       "       ...,\n",
       "\n",
       "       [[0.09870675+5.54720423e-19j, 0.29616883+3.52958080e-02j],\n",
       "        [0.29616883-3.52958080e-02j, 0.90129357+1.92221971e-18j]],\n",
       "\n",
       "       [[0.09851151+4.40001217e-19j, 0.29591687+3.51886409e-02j],\n",
       "        [0.29591687-3.51886409e-02j, 0.90148881-5.13904335e-19j]],\n",
       "\n",
       "       [[0.09831687+2.47265416e-19j, 0.29566569+3.50785954e-02j],\n",
       "        [0.29566569-3.50785954e-02j, 0.90168345+1.80852949e-18j]]])"
      ]
     },
     "execution_count": 69,
     "metadata": {},
     "output_type": "execute_result"
    }
   ],
   "source": [
    "trajs[146]"
   ]
  },
  {
   "cell_type": "code",
   "execution_count": 70,
   "metadata": {},
   "outputs": [
    {
     "data": {
      "text/plain": [
       "[<matplotlib.lines.Line2D at 0x1f79a2bfb80>]"
      ]
     },
     "execution_count": 70,
     "metadata": {},
     "output_type": "execute_result"
    },
    {
     "data": {
      "image/png": "[encoded data removed]",
      "text/plain": [
       "<Figure size 432x288 with 1 Axes>"
      ]
     },
     "metadata": {
      "needs_background": "light"
     },
     "output_type": "display_data"
    }
   ],
   "source": [
    "plt.plot(trajs[146][:,0,1].imag)"
   ]
  },
  {
   "cell_type": "code",
   "execution_count": 28,
   "metadata": {},
   "outputs": [],
   "source": [
    "# with open(sys+'_dt0.0082680_steady_state.npz', 'wb') as f:\n",
    "#     np.save(f, trajs)"
   ]
  },
  {
   "cell_type": "code",
   "execution_count": 25,
   "metadata": {},
   "outputs": [],
   "source": [
    "trnfreq =[]\n",
    "trnamp = []\n",
    "trntme = []\n",
    "trncycs = []\n",
    "sys = 'tdcis'\n",
    "for j in range(1,10):\n",
    "    data = np.load('./'+sys+'_data/dt0.008268/'+sys+'_heh+_sto-3g_00'+str(j)+'_dt=0.008268au.npz')\n",
    "    trnfreq.append(data['freq'].item())\n",
    "    trnamp.append(data['emax'].item())\n",
    "#     period = (2*np.pi)/data['freq']\n",
    "#     period_tsteps = int(period/0.082680)\n",
    "#     duration = int(data['ncyc']*period_tsteps)\n",
    "#     tmeoff = duration\n",
    "    trntme.append(((2*np.pi)/data['freq']) * data['ncyc'] )\n",
    "    trncycs.append(data['ncyc'])"
   ]
  },
  {
   "cell_type": "code",
   "execution_count": 26,
   "metadata": {},
   "outputs": [],
   "source": [
    "for j in range(10,100):\n",
    "    data = np.load('./'+sys+'_data/dt0.008268/'+sys+'_heh+_sto-3g_0'+str(j)+'_dt=0.008268au.npz')\n",
    "    trnfreq.append(data['freq'].item())\n",
    "    trnamp.append(data['emax'].item())\n",
    "#     period = (2*np.pi)/data['freq']\n",
    "#     period_tsteps = int(period/0.082680)\n",
    "#     duration = int(data['ncyc']*period_tsteps)\n",
    "#     tmeoff = duration\n",
    "    trntme.append(((2*np.pi)/data['freq']) * data['ncyc'] )\n",
    "    trncycs.append(data['ncyc'])"
   ]
  },
  {
   "cell_type": "code",
   "execution_count": 27,
   "metadata": {},
   "outputs": [],
   "source": [
    "for j in range(100,302):\n",
    "    data = np.load('./'+sys+'_data/dt0.008268/'+sys+'_heh+_sto-3g_'+str(j)+'_dt=0.008268au.npz')\n",
    "    trnfreq.append(data['freq'].item())\n",
    "    trnamp.append(data['emax'].item())\n",
    "#     period = (2*np.pi)/data['freq']\n",
    "#     period_tsteps = int(period/0.082680)\n",
    "#     duration = int(data['ncyc']*period_tsteps)\n",
    "#     tmeoff = duration\n",
    "    trntme.append(((2*np.pi)/data['freq']) * data['ncyc'] )\n",
    "    trncycs.append(data['ncyc'])"
   ]
  },
  {
   "cell_type": "code",
   "execution_count": 28,
   "metadata": {},
   "outputs": [],
   "source": [
    "trnamp = np.array(trnamp)\n",
    "trnfreq = np.array(trnfreq)\n",
    "trntme = np.array(trntme)\n",
    "trncycs = np.array(trncycs)"
   ]
  },
  {
   "cell_type": "code",
   "execution_count": 32,
   "metadata": {},
   "outputs": [],
   "source": [
    "indsamp = np.where( (trnamp != 0.5) )[0]\n",
    "indsfreq = np.where((trnfreq == 0.9000000000000001) | (trnfreq == 1.1000000000000003))[0]\n",
    "indscyc = np.where(trncycs == 5)[0]"
   ]
  },
  {
   "cell_type": "code",
   "execution_count": 33,
   "metadata": {},
   "outputs": [
    {
     "data": {
      "text/plain": [
       "(array([0.1, 0.1, 0.1, 0.1, 0.1, 0.1, 0.1, 0.1, 0.1, 0.1, 0.1, 0.1, 0.1,\n",
       "        0.1, 0.1, 0.1, 0.1, 0.1, 0.1, 0.1, 0.1, 0.1, 0.1, 0.1, 0.1, 0.1,\n",
       "        0.1, 0.1, 0.1, 0.1, 0.3, 0.3, 0.3, 0.3, 0.3, 0.3, 0.3, 0.3, 0.3,\n",
       "        0.3, 0.3, 0.3, 0.3, 0.3, 0.3, 0.3, 0.3, 0.3, 0.3, 0.3, 0.3, 0.3,\n",
       "        0.3, 0.3, 0.3, 0.3, 0.3, 0.3, 0.3, 0.3, 0.5, 0.5, 0.5, 0.5, 0.5,\n",
       "        0.5, 0.5, 0.5, 0.5, 0.5, 0.5, 0.5, 0.5, 0.5, 0.5, 0.5, 0.5, 0.5,\n",
       "        0.5, 0.5, 0.5, 0.5, 0.5, 0.5, 0.5, 0.5, 0.5, 0.5, 0.5, 0.5, 0.7,\n",
       "        0.7, 0.7, 0.7, 0.7, 0.7, 0.7, 0.7, 0.7, 0.7, 0.7, 0.7, 0.7, 0.7,\n",
       "        0.7, 0.7, 0.7, 0.7, 0.7, 0.7, 0.7, 0.7, 0.7, 0.7, 0.7, 0.7, 0.7,\n",
       "        0.7, 0.7, 0.7, 0.9, 0.9, 0.9, 0.9, 0.9, 0.9, 0.9, 0.9, 0.9, 0.9,\n",
       "        0.9, 0.9, 0.9, 0.9, 0.9, 0.9, 0.9, 0.9, 0.9, 0.9, 0.9, 0.9, 0.9,\n",
       "        0.9, 0.9, 0.9, 0.9, 0.9, 0.9, 0.9, 1.1, 1.1, 1.1, 1.1, 1.1, 1.1,\n",
       "        1.1, 1.1, 1.1, 1.1, 1.1, 1.1, 1.1, 1.1, 1.1, 1.1, 1.1, 1.1, 1.1,\n",
       "        1.1, 1.1, 1.1, 1.1, 1.1, 1.1, 1.1, 1.1, 1.1, 1.1, 1.1, 1.3, 1.3,\n",
       "        1.3, 1.3, 1.3, 1.3, 1.3, 1.3, 1.3, 1.3, 1.3, 1.3, 1.3, 1.3, 1.3,\n",
       "        1.3, 1.3, 1.3, 1.3, 1.3, 1.3, 1.3, 1.3, 1.3, 1.3, 1.3, 1.3, 1.3,\n",
       "        1.3, 1.3, 1.5, 1.5, 1.5, 1.5, 1.5, 1.5, 1.5, 1.5, 1.5, 1.5, 1.5,\n",
       "        1.5, 1.5, 1.5, 1.5, 1.5, 1.5, 1.5, 1.5, 1.5, 1.5, 1.5, 1.5, 1.5,\n",
       "        1.5, 1.5, 1.5, 1.5, 1.5, 1.5, 1.7, 1.7, 1.7, 1.7, 1.7, 1.7, 1.7,\n",
       "        1.7, 1.7, 1.7, 1.7, 1.7, 1.7, 1.7, 1.7, 1.7, 1.7, 1.7, 1.7, 1.7,\n",
       "        1.7, 1.7, 1.7, 1.7, 1.7, 1.7, 1.7, 1.7, 1.7, 1.7, 1.9, 1.9, 1.9,\n",
       "        1.9, 1.9, 1.9, 1.9, 1.9, 1.9, 1.9, 1.9, 1.9, 1.9, 1.9, 1.9, 1.9,\n",
       "        1.9, 1.9, 1.9, 1.9, 1.9, 1.9, 1.9, 1.9, 1.9, 1.9, 1.9, 1.9, 1.9,\n",
       "        1.9, 2.1]),\n",
       " array([ 0.005,  0.005,  0.005,  0.005,  0.005,  0.05 ,  0.05 ,  0.05 ,\n",
       "         0.05 ,  0.05 ,  0.5  ,  0.5  ,  0.5  ,  0.5  ,  0.5  , -0.005,\n",
       "        -0.005, -0.005, -0.005, -0.005, -0.05 , -0.05 , -0.05 , -0.05 ,\n",
       "        -0.05 , -0.5  , -0.5  , -0.5  , -0.5  , -0.5  ,  0.005,  0.005,\n",
       "         0.005,  0.005,  0.005,  0.05 ,  0.05 ,  0.05 ,  0.05 ,  0.05 ,\n",
       "         0.5  ,  0.5  ,  0.5  ,  0.5  ,  0.5  , -0.005, -0.005, -0.005,\n",
       "        -0.005, -0.005, -0.05 , -0.05 , -0.05 , -0.05 , -0.05 , -0.5  ,\n",
       "        -0.5  , -0.5  , -0.5  , -0.5  ,  0.005,  0.005,  0.005,  0.005,\n",
       "         0.005,  0.05 ,  0.05 ,  0.05 ,  0.05 ,  0.05 ,  0.5  ,  0.5  ,\n",
       "         0.5  ,  0.5  ,  0.5  , -0.005, -0.005, -0.005, -0.005, -0.005,\n",
       "        -0.05 , -0.05 , -0.05 , -0.05 , -0.05 , -0.5  , -0.5  , -0.5  ,\n",
       "        -0.5  , -0.5  ,  0.005,  0.005,  0.005,  0.005,  0.005,  0.05 ,\n",
       "         0.05 ,  0.05 ,  0.05 ,  0.05 ,  0.5  ,  0.5  ,  0.5  ,  0.5  ,\n",
       "         0.5  , -0.005, -0.005, -0.005, -0.005, -0.005, -0.05 , -0.05 ,\n",
       "        -0.05 , -0.05 , -0.05 , -0.5  , -0.5  , -0.5  , -0.5  , -0.5  ,\n",
       "         0.005,  0.005,  0.005,  0.005,  0.005,  0.05 ,  0.05 ,  0.05 ,\n",
       "         0.05 ,  0.05 ,  0.5  ,  0.5  ,  0.5  ,  0.5  ,  0.5  , -0.005,\n",
       "        -0.005, -0.005, -0.005, -0.005, -0.05 , -0.05 , -0.05 , -0.05 ,\n",
       "        -0.05 , -0.5  , -0.5  , -0.5  , -0.5  , -0.5  ,  0.005,  0.005,\n",
       "         0.005,  0.005,  0.005,  0.05 ,  0.05 ,  0.05 ,  0.05 ,  0.05 ,\n",
       "         0.5  ,  0.5  ,  0.5  ,  0.5  ,  0.5  , -0.005, -0.005, -0.005,\n",
       "        -0.005, -0.005, -0.05 , -0.05 , -0.05 , -0.05 , -0.05 , -0.5  ,\n",
       "        -0.5  , -0.5  , -0.5  , -0.5  ,  0.005,  0.005,  0.005,  0.005,\n",
       "         0.005,  0.05 ,  0.05 ,  0.05 ,  0.05 ,  0.05 ,  0.5  ,  0.5  ,\n",
       "         0.5  ,  0.5  ,  0.5  , -0.005, -0.005, -0.005, -0.005, -0.005,\n",
       "        -0.05 , -0.05 , -0.05 , -0.05 , -0.05 , -0.5  , -0.5  , -0.5  ,\n",
       "        -0.5  , -0.5  ,  0.005,  0.005,  0.005,  0.005,  0.005,  0.05 ,\n",
       "         0.05 ,  0.05 ,  0.05 ,  0.05 ,  0.5  ,  0.5  ,  0.5  ,  0.5  ,\n",
       "         0.5  , -0.005, -0.005, -0.005, -0.005, -0.005, -0.05 , -0.05 ,\n",
       "        -0.05 , -0.05 , -0.05 , -0.5  , -0.5  , -0.5  , -0.5  , -0.5  ,\n",
       "         0.005,  0.005,  0.005,  0.005,  0.005,  0.05 ,  0.05 ,  0.05 ,\n",
       "         0.05 ,  0.05 ,  0.5  ,  0.5  ,  0.5  ,  0.5  ,  0.5  , -0.005,\n",
       "        -0.005, -0.005, -0.005, -0.005, -0.05 , -0.05 , -0.05 , -0.05 ,\n",
       "        -0.05 , -0.5  , -0.5  , -0.5  , -0.5  , -0.5  ,  0.005,  0.005,\n",
       "         0.005,  0.005,  0.005,  0.05 ,  0.05 ,  0.05 ,  0.05 ,  0.05 ,\n",
       "         0.5  ,  0.5  ,  0.5  ,  0.5  ,  0.5  , -0.005, -0.005, -0.005,\n",
       "        -0.005, -0.005, -0.05 , -0.05 , -0.05 , -0.05 , -0.05 , -0.5  ,\n",
       "        -0.5  , -0.5  , -0.5  , -0.5  ,  0.005]),\n",
       " array([1, 2, 3, 4, 5, 1, 2, 3, 4, 5, 1, 2, 3, 4, 5, 1, 2, 3, 4, 5, 1, 2,\n",
       "        3, 4, 5, 1, 2, 3, 4, 5, 1, 2, 3, 4, 5, 1, 2, 3, 4, 5, 1, 2, 3, 4,\n",
       "        5, 1, 2, 3, 4, 5, 1, 2, 3, 4, 5, 1, 2, 3, 4, 5, 1, 2, 3, 4, 5, 1,\n",
       "        2, 3, 4, 5, 1, 2, 3, 4, 5, 1, 2, 3, 4, 5, 1, 2, 3, 4, 5, 1, 2, 3,\n",
       "        4, 5, 1, 2, 3, 4, 5, 1, 2, 3, 4, 5, 1, 2, 3, 4, 5, 1, 2, 3, 4, 5,\n",
       "        1, 2, 3, 4, 5, 1, 2, 3, 4, 5, 1, 2, 3, 4, 5, 1, 2, 3, 4, 5, 1, 2,\n",
       "        3, 4, 5, 1, 2, 3, 4, 5, 1, 2, 3, 4, 5, 1, 2, 3, 4, 5, 1, 2, 3, 4,\n",
       "        5, 1, 2, 3, 4, 5, 1, 2, 3, 4, 5, 1, 2, 3, 4, 5, 1, 2, 3, 4, 5, 1,\n",
       "        2, 3, 4, 5, 1, 2, 3, 4, 5, 1, 2, 3, 4, 5, 1, 2, 3, 4, 5, 1, 2, 3,\n",
       "        4, 5, 1, 2, 3, 4, 5, 1, 2, 3, 4, 5, 1, 2, 3, 4, 5, 1, 2, 3, 4, 5,\n",
       "        1, 2, 3, 4, 5, 1, 2, 3, 4, 5, 1, 2, 3, 4, 5, 1, 2, 3, 4, 5, 1, 2,\n",
       "        3, 4, 5, 1, 2, 3, 4, 5, 1, 2, 3, 4, 5, 1, 2, 3, 4, 5, 1, 2, 3, 4,\n",
       "        5, 1, 2, 3, 4, 5, 1, 2, 3, 4, 5, 1, 2, 3, 4, 5, 1, 2, 3, 4, 5, 1,\n",
       "        2, 3, 4, 5, 1, 2, 3, 4, 5, 1, 2, 3, 4, 5, 1], dtype=int64))"
      ]
     },
     "execution_count": 33,
     "metadata": {},
     "output_type": "execute_result"
    }
   ],
   "source": [
    "trnfreq, trnamp, trncycs"
   ]
  },
  {
   "cell_type": "code",
   "execution_count": 51,
   "metadata": {},
   "outputs": [],
   "source": [
    "indsamp1 = np.where( (trnamp != 0.5) )[0]\n",
    "indsamp2 = np.where( (trnamp != -0.5) )[0]"
   ]
  },
  {
   "cell_type": "code",
   "execution_count": 65,
   "metadata": {},
   "outputs": [
    {
     "name": "stdout",
     "output_type": "stream",
     "text": [
      "[  0   1   2   3   4   5   6   7   8   9  15  16  17  18  19  20  21  22\n",
      "  23  24  30  31  32  33  34  35  36  37  38  39  45  46  47  48  49  50\n",
      "  51  52  53  54  60  61  62  63  64  65  66  67  68  69  75  76  77  78\n",
      "  79  80  81  82  83  84  90  91  92  93  94  95  96  97  98  99 105 106\n",
      " 107 108 109 110 111 112 113 114 120 121 122 123 124 125 126 127 128 129\n",
      " 135 136 137 138 139 140 141 142 143 144 150 151 152 153 154 155 156 157\n",
      " 158 159 165 166 167 168 169 170 171 172 173 174 180 181 182 183 184 185\n",
      " 186 187 188 189 195 196 197 198 199 200 201 202 203 204 210 211 212 213\n",
      " 214 215 216 217 218 219 225 226 227 228 229 230 231 232 233 234 240 241\n",
      " 242 243 244 245 246 247 248 249 255 256 257 258 259 260 261 262 263 264\n",
      " 270 271 272 273 274 275 276 277 278 279 285 286 287 288 289 290 291 292\n",
      " 293 294 300]\n"
     ]
    },
    {
     "data": {
      "text/plain": [
       "(array([-0.05 , -0.05 , -0.05 , -0.05 , -0.05 ,  0.005,  0.005,  0.005,\n",
       "         0.005,  0.005,  0.05 ,  0.05 ,  0.05 ,  0.05 ,  0.05 , -0.005,\n",
       "        -0.005, -0.005, -0.005, -0.005]),\n",
       " array([0.9, 0.9, 0.9, 0.9, 0.9, 1.1, 1.1, 1.1, 1.1, 1.1, 1.1, 1.1, 1.1,\n",
       "        1.1, 1.1, 1.1, 1.1, 1.1, 1.1, 1.1]))"
      ]
     },
     "execution_count": 65,
     "metadata": {},
     "output_type": "execute_result"
    }
   ],
   "source": [
    "print(np.array(list(set(indsamp1) & set(indsamp2))))\n",
    "inds = np.array([140, 141, 142, 143, 144, 150, 151, 152, 153,\n",
    "       154, 155, 156, 157, 158, 159, 165, 166, 167,168,169])\n",
    "trnamp[inds], trnfreq[inds]"
   ]
  },
  {
   "cell_type": "code",
   "execution_count": 49,
   "metadata": {},
   "outputs": [
    {
     "data": {
      "text/plain": [
       "(array([0.7, 0.7, 0.7, 0.7, 0.7, 0.7, 0.7, 0.7, 0.7, 0.7, 0.7, 0.7, 0.7,\n",
       "        0.7]),\n",
       " array([1.5, 1.5, 1.5, 1.5, 1.5, 1.5, 1.5]))"
      ]
     },
     "execution_count": 49,
     "metadata": {},
     "output_type": "execute_result"
    }
   ],
   "source": [
    "trnfreq[105:119], trnfreq[210:217]"
   ]
  },
  {
   "cell_type": "code",
   "execution_count": 40,
   "metadata": {},
   "outputs": [
    {
     "data": {
      "text/plain": [
       "(0.30000000000000004, -0.5, 1)"
      ]
     },
     "execution_count": 40,
     "metadata": {},
     "output_type": "execute_result"
    }
   ],
   "source": [
    "ind = 55\n",
    "trnfreq[ind], trnamp[ind], trncycs[ind]"
   ]
  },
  {
   "cell_type": "code",
   "execution_count": 41,
   "metadata": {},
   "outputs": [
    {
     "data": {
      "text/plain": [
       "(array([0.9, 0.9, 0.9, 0.9, 0.9, 0.9, 0.9, 0.9, 0.9, 0.9, 1.1, 1.1, 1.1,\n",
       "        1.1, 1.1, 1.1, 1.1, 1.1, 1.1, 1.1]),\n",
       " array([-0.05 , -0.05 , -0.05 , -0.05 , -0.05 , -0.5  , -0.5  , -0.5  ,\n",
       "        -0.5  , -0.5  ,  0.005,  0.005,  0.005,  0.005,  0.005,  0.05 ,\n",
       "         0.05 ,  0.05 ,  0.05 ,  0.05 ]),\n",
       " array([1, 2, 3, 4, 5, 1, 2, 3, 4, 5, 1, 2, 3, 4, 5, 1, 2, 3, 4, 5],\n",
       "       dtype=int64))"
      ]
     },
     "execution_count": 41,
     "metadata": {},
     "output_type": "execute_result"
    }
   ],
   "source": [
    "trnfreq[140:160], trnamp[140:160], trncycs[140:160]"
   ]
  },
  {
   "cell_type": "code",
   "execution_count": 71,
   "metadata": {},
   "outputs": [
    {
     "name": "stdout",
     "output_type": "stream",
     "text": [
      "[0.10477089 0.10477089 0.10477089 ... 0.11820466 0.1186949  0.11918453]\n",
      "[0.10477089 0.10477089 0.10477089 ... 0.07840427 0.07905648 0.07971202]\n",
      "[0.10477089 0.10477089 0.10477089 ... 0.04873769 0.04900123 0.0492703 ]\n",
      "[0.10477089 0.10477089 0.10477089 ... 0.07754069 0.07747218 0.07740607]\n",
      "[0.10477089 0.10477089 0.10477089 ... 0.12344354 0.12364831 0.12385167]\n",
      "[0.10477089 0.10477089 0.10477089 ... 0.10056532 0.10053493 0.10050488]\n",
      "[0.10477089 0.10477089 0.10477089 ... 0.09637219 0.09631278 0.09625408]\n",
      "[0.10477089 0.10477089 0.10477089 ... 0.09219942 0.09211244 0.09202654]\n",
      "[0.10477089 0.10477089 0.10477089 ... 0.08805505 0.08794197 0.08783036]\n",
      "[0.10477089 0.10477089 0.10477089 ... 0.08394714 0.0838095  0.0836737 ]\n",
      "[0.10477089 0.10477089 0.10477088 ... 0.06704245 0.06676285 0.06648687]\n",
      "[0.10477089 0.10477089 0.10477088 ... 0.04286728 0.04234172 0.04182326]\n",
      "[0.10477089 0.10477089 0.10477088 ... 0.03399931 0.0332746  0.0325601 ]\n",
      "[0.10477089 0.10477089 0.10477088 ... 0.0413086  0.04044005 0.03958425]\n",
      "[0.10477089 0.10477089 0.10477088 ... 0.06469186 0.06373826 0.06279916]\n",
      "[0.10477089 0.10477089 0.10477089 ... 0.10906364 0.10909446 0.10912494]\n",
      "[0.10477089 0.10477089 0.10477089 ... 0.11359528 0.11365555 0.11371512]\n",
      "[0.10477089 0.10477089 0.10477089 ... 0.11835725 0.11844554 0.11853277]\n",
      "[0.10477089 0.10477089 0.10477089 ... 0.12334043 0.12345528 0.12356868]\n",
      "[0.10477089 0.10477089 0.10477089 ... 0.12853521 0.12867509 0.12881315]\n"
     ]
    }
   ],
   "source": [
    "for i in inds:\n",
    "    fig, axs = plt.subplots(2, 2, figsize=(10,8))\n",
    "    #axs[0,0].plot(mlprop[:,0,0].real, color='red')\n",
    "    axs[0,0].plot(jnp.real(trnden[i][:mynumsteps+1,0,0]),color='black')\n",
    "    axs[0,0].set_title('P'+str(0)+str(0)+' Real')\n",
    "\n",
    "    #axs[0,1].plot(mlprop[:,0,1].real, color='red')\n",
    "    axs[0,1].plot(jnp.real(trnden[i][:mynumsteps+1,0,1]),color='black')\n",
    "    axs[0,1].set_title('P'+str(0)+str(1)+' Real')\n",
    "\n",
    "    #axs[1,0].plot(mlprop[:,0,1].imag, color='red')\n",
    "    axs[1,0].plot(jnp.imag(trnden[i][:mynumsteps+1,0,1]),color='black')\n",
    "    axs[1,0].set_title('P'+str(0)+str(1)+' Imaginary')\n",
    "\n",
    "    #axs[1,1].plot(mlprop[:,1,1].real, color='red')\n",
    "    axs[1,1].plot(jnp.real(trnden[i][:mynumsteps+1,1,1]),color='black')\n",
    "    axs[1,1].set_title('P'+str(1)+str(1)+' Real')\n",
    "    #plt.savefig('./tdcasscf_data/linear_model_forcing_tdcasscf.pdf')\n",
    "    plt.legend(['ML Prop', 'Ground Truth'])"
   ]
  },
  {
   "cell_type": "code",
   "execution_count": 42,
   "metadata": {},
   "outputs": [
    {
     "data": {
      "text/plain": [
       "{9,\n",
       " 24,\n",
       " 39,\n",
       " 54,\n",
       " 69,\n",
       " 84,\n",
       " 99,\n",
       " 114,\n",
       " 129,\n",
       " 144,\n",
       " 159,\n",
       " 174,\n",
       " 189,\n",
       " 204,\n",
       " 219,\n",
       " 234,\n",
       " 249,\n",
       " 264,\n",
       " 279,\n",
       " 294}"
      ]
     },
     "execution_count": 42,
     "metadata": {},
     "output_type": "execute_result"
    }
   ],
   "source": [
    "set(indsamp) & set(indscyc)"
   ]
  },
  {
   "cell_type": "code",
   "execution_count": 43,
   "metadata": {},
   "outputs": [],
   "source": [
    "with open(sys+'_trnamp_dt0.008268.npz', 'wb') as f:\n",
    "    np.save(f, trnamp)\n",
    "    f.close()"
   ]
  },
  {
   "cell_type": "code",
   "execution_count": 44,
   "metadata": {},
   "outputs": [],
   "source": [
    "with open(sys+'_trnfreq_dt0.008268.npz', 'wb') as f:\n",
    "    np.save(f, trnfreq)\n",
    "    f.close()"
   ]
  },
  {
   "cell_type": "code",
   "execution_count": 45,
   "metadata": {},
   "outputs": [],
   "source": [
    "with open(sys+'_trntme_dt0.008268.npz', 'wb') as f:\n",
    "    np.save(f, trntme)\n",
    "    f.close()"
   ]
  },
  {
   "cell_type": "code",
   "execution_count": null,
   "metadata": {},
   "outputs": [],
   "source": []
  }
 ],
 "metadata": {
  "kernelspec": {
   "display_name": "Python 3",
   "language": "python",
   "name": "python3"
  },
  "language_info": {
   "codemirror_mode": {
    "name": "ipython",
    "version": 3
   },
   "file_extension": ".py",
   "mimetype": "text/x-python",
   "name": "python",
   "nbconvert_exporter": "python",
   "pygments_lexer": "ipython3",
   "version": "3.8.5"
  }
 },
 "nbformat": 4,
 "nbformat_minor": 4
}
