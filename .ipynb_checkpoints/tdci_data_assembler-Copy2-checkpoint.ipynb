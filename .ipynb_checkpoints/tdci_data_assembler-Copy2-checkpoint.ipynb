{
 "cells": [
  {
   "cell_type": "code",
   "execution_count": 1,
   "metadata": {},
   "outputs": [],
   "source": [
    "from matplotlib import pyplot as plt\n",
    "import numpy as np\n",
    "import scipy\n",
    "#TODO make separate notebooks for each system"
   ]
  },
  {
   "cell_type": "code",
   "execution_count": 2,
   "metadata": {},
   "outputs": [],
   "source": [
    "# #uncomment this block for HeH+\n",
    "# sys = 'heh+'\n",
    "# c0hf = 0.9625707\n",
    "# c1hf = -0.2691179\n",
    "# c2hf = 0.0321435\n",
    "# c2b1b0 = 0.1903932\n",
    "# c2b1b1 = 0.6809922 \n",
    "# c2b1b2 = 0.0000088\n",
    "# c2a1a0 = c2b1b0\n",
    "# c2a1a1 = c2b1b1\n",
    "# c2a1a2 = c2b1b2\n",
    "# c22110 = -0.0309597 \n",
    "# c22111 = 0.0086428\n",
    "# c22112 = 0.999483"
   ]
  },
  {
   "cell_type": "code",
   "execution_count": 3,
   "metadata": {},
   "outputs": [],
   "source": [
    "sys = 'heh+'\n",
    "c0hf = 0.9625707\n",
    "c1hf = -0.13322676E-14 \n",
    "c2hf = -0.2691179\n",
    "c3hf = 0.0321435\n",
    "\n",
    "c2b1b0 = 0.1903932\n",
    "c2b1b1 = 0.70710678\n",
    "c2b1b2 = 0.6809922 \n",
    "c2b1b3 = 0.0000088\n",
    "\n",
    "c2a1a0 = c2b1b0\n",
    "c2a1a1 = -0.70710678 \n",
    "c2a1a2 = c2b1b2\n",
    "c2a1a3 = c2b1b3\n",
    "\n",
    "c22110 = -0.0309597 \n",
    "c22111 = 0.57112365E-16\n",
    "c22112 = 0.0086428\n",
    "c22113 = 0.9994833"
   ]
  },
  {
   "cell_type": "code",
   "execution_count": 4,
   "metadata": {},
   "outputs": [],
   "source": [
    "# #form basis and dictionary of CI coefficients\n",
    "#canonicalMO\n",
    "#phi1 = np.array([1,0]).reshape((2,1))\n",
    "#phi2 = np.array([0, 1]).reshape((2,1))\n",
    "phi1 = np.array([0.000365,0.999803]).reshape((2,1))\n",
    "phi2 = np.array([1.186690, -0.639239]).reshape((2,1))\n",
    "phi1hf = np.array([0.20252, 0.87629]).reshape((2,1))\n",
    "chf = {0: c0hf, 1: c1hf, 2:  c2hf, 3: c3hf }\n",
    "c2b1b = {0: c2b1b0, 1: c2b1b1, 2:  c2b1b2, 3:c2b1b3 }\n",
    "c2a1a = {0: c2a1a0, 1: c2a1a1, 2:  c2a1a2, 3: c2a1a3}\n",
    "c2211 = {0: c22110, 1: c22111, 2:  c22112, 3: c22113}"
   ]
  },
  {
   "cell_type": "code",
   "execution_count": 5,
   "metadata": {},
   "outputs": [],
   "source": [
    "#  print(np.trace((rdmAO[0,:,:]) @ dipole_moment_matrix_AO),np.trace((phi1hf @ phi1hf.T) @ dipole_moment_matrix_AO) )"
   ]
  },
  {
   "cell_type": "code",
   "execution_count": 6,
   "metadata": {},
   "outputs": [],
   "source": [
    "# dipole_moment_matrix_AO.shape"
   ]
  },
  {
   "cell_type": "code",
   "execution_count": 7,
   "metadata": {
    "scrolled": true
   },
   "outputs": [
    {
     "name": "stdout",
     "output_type": "stream",
     "text": [
      "TRACE:  1.0300145965474115 00\n",
      "TRACE:  0.4486931395812618 01\n",
      "TRACE:  0.10574335475915428 02\n",
      "TRACE:  -0.025287440806968486 03\n",
      "TRACE:  0.4486931395812618 10\n",
      "TRACE:  1.4082329089013803 11\n",
      "TRACE:  -0.12544087280599467 12\n",
      "TRACE:  -0.43686507418787685 13\n",
      "TRACE:  0.10574335475915428 20\n",
      "TRACE:  -0.12544087280599467 21\n",
      "TRACE:  1.3786687247751992 22\n",
      "TRACE:  0.007064534885243796 23\n",
      "TRACE:  -0.025287440806968486 30\n",
      "TRACE:  -0.43686507418787685 31\n",
      "TRACE:  0.007064534885243796 32\n",
      "TRACE:  1.8160153954219627 33\n"
     ]
    },
    {
     "data": {
      "text/plain": [
       "array([[[[ 5.23977712e-02, -2.78738959e-02],\n",
       "         [-2.78738959e-02,  9.77616825e-01]],\n",
       "\n",
       "        [[-3.04296046e-04, -2.58148702e-02],\n",
       "         [-8.07544773e-01,  4.48997436e-01]],\n",
       "\n",
       "        [[ 1.82209448e-01, -9.81987116e-02],\n",
       "         [-9.81987116e-02, -7.64660933e-02]],\n",
       "\n",
       "        [[-4.35735851e-02,  2.34832495e-02],\n",
       "         [ 2.34832495e-02,  1.82861443e-02]]],\n",
       "\n",
       "\n",
       "       [[[-3.04296046e-04, -8.07544773e-01],\n",
       "         [-2.58148702e-02,  4.48997436e-01]],\n",
       "\n",
       "        [[ 7.04116642e-01, -3.79106799e-01],\n",
       "         [-3.79106799e-01,  7.04116267e-01]],\n",
       "\n",
       "        [[ 8.50718636e-05,  2.25775370e-01],\n",
       "         [ 7.20648769e-03, -1.25525945e-01]],\n",
       "\n",
       "        [[ 2.96274453e-04, -2.71317276e-02],\n",
       "         [ 8.38523056e-01, -4.37161349e-01]]],\n",
       "\n",
       "\n",
       "       [[[ 1.82209448e-01, -9.81987116e-02],\n",
       "         [-9.81987116e-02, -7.64660933e-02]],\n",
       "\n",
       "        [[ 8.50718636e-05,  7.20648769e-03],\n",
       "         [ 2.25775370e-01, -1.25525945e-01]],\n",
       "\n",
       "        [[ 6.53173920e-01, -3.51652077e-01],\n",
       "         [-3.51652077e-01,  7.25494805e-01]],\n",
       "\n",
       "        [[ 1.21732267e-02, -6.56055544e-03],\n",
       "         [-6.56055544e-03, -5.10869185e-03]]],\n",
       "\n",
       "\n",
       "       [[[-4.35735851e-02,  2.34832495e-02],\n",
       "         [ 2.34832495e-02,  1.82861443e-02]],\n",
       "\n",
       "        [[ 2.96274453e-04,  8.38523056e-01],\n",
       "         [-2.71317276e-02, -4.37161349e-01]],\n",
       "\n",
       "        [[ 1.21732267e-02, -6.56055544e-03],\n",
       "         [-6.56055544e-03, -5.10869185e-03]],\n",
       "\n",
       "        [[ 1.40677826e+00, -7.57794439e-01],\n",
       "         [-7.57794439e-01,  4.09237131e-01]]]])"
      ]
     },
     "execution_count": 7,
     "metadata": {},
     "output_type": "execute_result"
    }
   ],
   "source": [
    "tens = np.zeros((4,4,2,2))\n",
    "for i in range(0,4):\n",
    "    for j in range(0,4):\n",
    "        tens [i,j,:,:] = (chf[i]*chf[j] *(phi1 @phi1.T) + (1/2)*c2a1a[i]*c2a1a[j]*(phi1 @phi1.T + phi2 @phi2.T) \n",
    "                                           +(1/2) * c2b1b[i]*c2b1b[j]*(phi1 @phi1.T + phi2 @phi2.T) + c2211[i]*c2211[j]*(phi2 @phi2.T)\n",
    "                                          +(1/2) * (chf[i]*c2a1a[j] * (phi1 @ phi2.T) + c2a1a[i]*chf[j]*(phi2 @ phi1.T))\n",
    "                                          -(1/2) * (chf[i]*c2b1b[j] * (phi1 @ phi2.T) + c2b1b[i]*chf[j]*(phi2 @ phi1.T))\n",
    "                                          -(1/2) * (c2a1a[i]*c2211[j] * (phi1 @ phi2.T) + c2211[i]*c2a1a[j]*(phi2 @ phi1.T))\n",
    "                                          +(1/2) * (c2b1b[i]*c2211[j] * (phi1 @ phi2.T) + c2211[i]*c2b1b[j]*(phi2 @ phi1.T)))\n",
    "        print('TRACE: ',np.trace(tens [i,j,:,:]),str(i)+str(j))\n",
    "    \n",
    "tens\n",
    "#can compare this MO -> AO with saved Gaussian"
   ]
  },
  {
   "cell_type": "code",
   "execution_count": 8,
   "metadata": {},
   "outputs": [],
   "source": [
    "xmat = np.array([[-1.04078053,  0.57009634],\n",
    "       [ 1.04078053,  0.57009634]])"
   ]
  },
  {
   "cell_type": "code",
   "execution_count": 9,
   "metadata": {},
   "outputs": [],
   "source": [
    "allcontents_tdcasscf = np.load('C:/Users/Hardeep/Desktop/TDCI/tdcasscf_data/ke+en+overlap+ee_twoe+dip_casscf22_heh+_sto-3g.npz',allow_pickle=True)\n",
    "allcontents_tdhf = np.load('C:/Users/Hardeep/Downloads/ke+en+overlap+ee_twoe+dip_hf_s0_heh+_sto-3g.npz')"
   ]
  },
  {
   "cell_type": "code",
   "execution_count": 10,
   "metadata": {},
   "outputs": [
    {
     "name": "stdout",
     "output_type": "stream",
     "text": [
      "['ke_data', 'en_data', 'overlap_data', 'ee_twoe_data', 'dip_data', 'molgeom_data', 'cMO_colvec_data']\n"
     ]
    }
   ],
   "source": [
    "print(allcontents_tdcasscf.files)"
   ]
  },
  {
   "cell_type": "code",
   "execution_count": 11,
   "metadata": {},
   "outputs": [],
   "source": [
    "overlap_data_tdcasscf = allcontents_tdcasscf['overlap_data']\n",
    "overlap_data_tdhf = allcontents_tdhf['overlap_data']"
   ]
  },
  {
   "cell_type": "code",
   "execution_count": 12,
   "metadata": {},
   "outputs": [
    {
     "data": {
      "text/plain": [
       "(array([[1.      , 0.538415],\n",
       "        [0.538415, 1.      ]]),\n",
       " array([[1.      , 0.538415],\n",
       "        [0.538415, 1.      ]]))"
      ]
     },
     "execution_count": 12,
     "metadata": {},
     "output_type": "execute_result"
    }
   ],
   "source": [
    "overlap_data_tdcasscf, overlap_data_tdhf"
   ]
  },
  {
   "cell_type": "code",
   "execution_count": 14,
   "metadata": {},
   "outputs": [],
   "source": [
    "overlap_data = allcontents_tdhf['overlap_data']"
   ]
  },
  {
   "cell_type": "code",
   "execution_count": 15,
   "metadata": {},
   "outputs": [],
   "source": [
    "sevals, sevecs = np.linalg.eigh(overlap_data)"
   ]
  },
  {
   "cell_type": "code",
   "execution_count": 16,
   "metadata": {},
   "outputs": [
    {
     "data": {
      "text/plain": [
       "array([[-1.04078053,  0.57009634],\n",
       "       [ 1.04078053,  0.57009634]])"
      ]
     },
     "execution_count": 16,
     "metadata": {},
     "output_type": "execute_result"
    }
   ],
   "source": [
    "sevecs @ np.diag(sevals**(-0.5))"
   ]
  },
  {
   "cell_type": "code",
   "execution_count": 15,
   "metadata": {
    "scrolled": true
   },
   "outputs": [],
   "source": [
    "trajs = []\n",
    "sys = 'tdcis'\n",
    "#dt = '0.082680'\n",
    "dt = '0.008268'\n",
    "steps = 20000\n",
    "for i in range(1,10):\n",
    "    data = np.load('./'+sys+'_data/dt'+dt+'/td_dens_'+sys+'_heh+_sto-3g_00'+str(i)+'_dt='+dt+'au.npz')\n",
    "    traj = np.diag(sevals**(0.5)) @ sevecs.T @ (data['td_dens_re_data'] + 1j*data['td_dens_im_data']) @ sevecs @ np.diag(sevals**(0.5))\n",
    "    #import pdb; pdb.set_trace()\n",
    "    trajs.append(traj[:steps])\n"
   ]
  },
  {
   "cell_type": "code",
   "execution_count": 16,
   "metadata": {},
   "outputs": [],
   "source": [
    "for i in range(10,100):\n",
    "    data = np.load('./'+sys+'_data/dt'+dt+'/td_dens_'+sys+'_heh+_sto-3g_0'+str(i)+'_dt='+dt+'au.npz')\n",
    "    traj =  traj = np.diag(sevals**(0.5)) @ sevecs.T @ (data['td_dens_re_data'] + 1j*data['td_dens_im_data']) @ sevecs @ np.diag(sevals**(0.5))\n",
    "    trajs.append(traj[:steps])"
   ]
  },
  {
   "cell_type": "code",
   "execution_count": 17,
   "metadata": {},
   "outputs": [],
   "source": [
    "for i in range(100,302):\n",
    "    data = np.load('./'+sys+'_data/dt'+dt+'/td_dens_'+sys+'_heh+_sto-3g_'+str(i)+'_dt='+dt+'au.npz')\n",
    "    traj =  traj = np.diag(sevals**(0.5)) @ sevecs.T @ (data['td_dens_re_data'] + 1j*data['td_dens_im_data']) @ sevecs @ np.diag(sevals**(0.5))\n",
    "    trajs.append(traj[:steps])"
   ]
  },
  {
   "cell_type": "code",
   "execution_count": 18,
   "metadata": {},
   "outputs": [
    {
     "data": {
      "text/plain": [
       "(301, 20000, 2, 2)"
      ]
     },
     "execution_count": 18,
     "metadata": {},
     "output_type": "execute_result"
    }
   ],
   "source": [
    "trajs = np.array(trajs)\n",
    "trajs.shape"
   ]
  },
  {
   "cell_type": "code",
   "execution_count": 34,
   "metadata": {},
   "outputs": [
    {
     "data": {
      "text/plain": [
       "array([[[0.10117632+0.00000000e+00j, 0.29423999+0.00000000e+00j],\n",
       "        [0.29423999+0.00000000e+00j, 0.89882396+0.00000000e+00j]],\n",
       "\n",
       "       [[0.10117632+0.00000000e+00j, 0.29423999+0.00000000e+00j],\n",
       "        [0.29423999+0.00000000e+00j, 0.89882396+0.00000000e+00j]],\n",
       "\n",
       "       [[0.10117632+3.80215785e-24j, 0.29423999+7.64913918e-08j],\n",
       "        [0.29423999-7.64913918e-08j, 0.89882396-1.34012609e-23j]],\n",
       "\n",
       "       ...,\n",
       "\n",
       "       [[0.10262491-7.03874709e-21j, 0.29562757+4.03820187e-04j],\n",
       "        [0.29562757-4.03820187e-04j, 0.89802072-7.54170330e-21j]],\n",
       "\n",
       "       [[0.10262215-4.04157184e-21j, 0.29562479+4.18578685e-04j],\n",
       "        [0.29562479-4.18578685e-04j, 0.89802215+1.18813706e-20j]],\n",
       "\n",
       "       [[0.10261928-7.53581081e-21j, 0.2956219 +4.33311743e-04j],\n",
       "        [0.2956219 -4.33311743e-04j, 0.89802364+2.96717813e-20j]]])"
      ]
     },
     "execution_count": 34,
     "metadata": {},
     "output_type": "execute_result"
    }
   ],
   "source": [
    "trajs[0]"
   ]
  },
  {
   "cell_type": "code",
   "execution_count": 39,
   "metadata": {},
   "outputs": [
    {
     "data": {
      "text/plain": [
       "[<matplotlib.lines.Line2D at 0x28000196e20>]"
      ]
     },
     "execution_count": 39,
     "metadata": {},
     "output_type": "execute_result"
    },
    {
     "data": {
      "image/png": "[encoded data removed]",
      "text/plain": [
       "<Figure size 432x288 with 1 Axes>"
      ]
     },
     "metadata": {
      "needs_background": "light"
     },
     "output_type": "display_data"
    }
   ],
   "source": [
    "plt.plot(trajs[0][:,0,1].real)"
   ]
  },
  {
   "cell_type": "code",
   "execution_count": 21,
   "metadata": {},
   "outputs": [],
   "source": [
    "with open(sys+'_dt0.082680.npz', 'wb') as f:\n",
    "    np.save(f, trajs)"
   ]
  },
  {
   "cell_type": "code",
   "execution_count": 8,
   "metadata": {},
   "outputs": [],
   "source": [
    "trnfreq =[]\n",
    "trnamp = []\n",
    "trntme = []\n",
    "trncycs = []\n",
    "sys = 'tdcis'\n",
    "for j in range(1,10):\n",
    "    data = np.load('./'+sys+'_data/dt0.008268/'+sys+'_heh+_sto-3g_00'+str(j)+'_dt=0.008268au.npz')\n",
    "    trnfreq.append(data['freq'].item())\n",
    "    trnamp.append(data['emax'].item())\n",
    "#     period = (2*np.pi)/data['freq']\n",
    "#     period_tsteps = int(period/0.082680)\n",
    "#     duration = int(data['ncyc']*period_tsteps)\n",
    "#     tmeoff = duration\n",
    "    trntme.append(((2*np.pi)/data['freq']) * data['ncyc'] )\n",
    "    trncycs.append(data['ncyc'])"
   ]
  },
  {
   "cell_type": "code",
   "execution_count": 9,
   "metadata": {},
   "outputs": [],
   "source": [
    "for j in range(10,100):\n",
    "    data = np.load('./'+sys+'_data/dt0.008268/'+sys+'_heh+_sto-3g_0'+str(j)+'_dt=0.008268au.npz')\n",
    "    trnfreq.append(data['freq'].item())\n",
    "    trnamp.append(data['emax'].item())\n",
    "#     period = (2*np.pi)/data['freq']\n",
    "#     period_tsteps = int(period/0.082680)\n",
    "#     duration = int(data['ncyc']*period_tsteps)\n",
    "#     tmeoff = duration\n",
    "    trntme.append(((2*np.pi)/data['freq']) * data['ncyc'] )\n",
    "    trncycs.append(data['ncyc'])"
   ]
  },
  {
   "cell_type": "code",
   "execution_count": 10,
   "metadata": {},
   "outputs": [],
   "source": [
    "for j in range(100,302):\n",
    "    data = np.load('./'+sys+'_data/dt0.008268/'+sys+'_heh+_sto-3g_'+str(j)+'_dt=0.008268au.npz')\n",
    "    trnfreq.append(data['freq'].item())\n",
    "    trnamp.append(data['emax'].item())\n",
    "#     period = (2*np.pi)/data['freq']\n",
    "#     period_tsteps = int(period/0.082680)\n",
    "#     duration = int(data['ncyc']*period_tsteps)\n",
    "#     tmeoff = duration\n",
    "    trntme.append(((2*np.pi)/data['freq']) * data['ncyc'] )\n",
    "    trncycs.append(data['ncyc'])"
   ]
  },
  {
   "cell_type": "code",
   "execution_count": 11,
   "metadata": {},
   "outputs": [],
   "source": [
    "trnamp = np.array(trnamp)\n",
    "trnfreq = np.array(trnfreq)\n",
    "trntme = np.array(trntme)\n",
    "trncycs = np.array(trncycs)"
   ]
  },
  {
   "cell_type": "code",
   "execution_count": 12,
   "metadata": {},
   "outputs": [],
   "source": [
    "indsamp = np.where( (trnamp == 0.05) | (trnamp == -0.05))[0]\n",
    "indsfreq = np.where((trnfreq == 0.9000000000000001) | (trnfreq == 1.1000000000000003))[0]\n",
    "indscyc = np.where(trncycs == 5)[0]"
   ]
  },
  {
   "cell_type": "code",
   "execution_count": 13,
   "metadata": {},
   "outputs": [
    {
     "data": {
      "text/plain": [
       "(array([0.1, 0.1, 0.1, 0.1, 0.1, 0.1, 0.1, 0.1, 0.1, 0.1, 0.1, 0.1, 0.1,\n",
       "        0.1, 0.1, 0.1, 0.1, 0.1, 0.1, 0.1, 0.1, 0.1, 0.1, 0.1, 0.1, 0.1,\n",
       "        0.1, 0.1, 0.1, 0.1, 0.3, 0.3, 0.3, 0.3, 0.3, 0.3, 0.3, 0.3, 0.3,\n",
       "        0.3, 0.3, 0.3, 0.3, 0.3, 0.3, 0.3, 0.3, 0.3, 0.3, 0.3, 0.3, 0.3,\n",
       "        0.3, 0.3, 0.3, 0.3, 0.3, 0.3, 0.3, 0.3, 0.5, 0.5, 0.5, 0.5, 0.5,\n",
       "        0.5, 0.5, 0.5, 0.5, 0.5, 0.5, 0.5, 0.5, 0.5, 0.5, 0.5, 0.5, 0.5,\n",
       "        0.5, 0.5, 0.5, 0.5, 0.5, 0.5, 0.5, 0.5, 0.5, 0.5, 0.5, 0.5, 0.7,\n",
       "        0.7, 0.7, 0.7, 0.7, 0.7, 0.7, 0.7, 0.7, 0.7, 0.7, 0.7, 0.7, 0.7,\n",
       "        0.7, 0.7, 0.7, 0.7, 0.7, 0.7, 0.7, 0.7, 0.7, 0.7, 0.7, 0.7, 0.7,\n",
       "        0.7, 0.7, 0.7, 0.9, 0.9, 0.9, 0.9, 0.9, 0.9, 0.9, 0.9, 0.9, 0.9,\n",
       "        0.9, 0.9, 0.9, 0.9, 0.9, 0.9, 0.9, 0.9, 0.9, 0.9, 0.9, 0.9, 0.9,\n",
       "        0.9, 0.9, 0.9, 0.9, 0.9, 0.9, 0.9, 1.1, 1.1, 1.1, 1.1, 1.1, 1.1,\n",
       "        1.1, 1.1, 1.1, 1.1, 1.1, 1.1, 1.1, 1.1, 1.1, 1.1, 1.1, 1.1, 1.1,\n",
       "        1.1, 1.1, 1.1, 1.1, 1.1, 1.1, 1.1, 1.1, 1.1, 1.1, 1.1, 1.3, 1.3,\n",
       "        1.3, 1.3, 1.3, 1.3, 1.3, 1.3, 1.3, 1.3, 1.3, 1.3, 1.3, 1.3, 1.3,\n",
       "        1.3, 1.3, 1.3, 1.3, 1.3, 1.3, 1.3, 1.3, 1.3, 1.3, 1.3, 1.3, 1.3,\n",
       "        1.3, 1.3, 1.5, 1.5, 1.5, 1.5, 1.5, 1.5, 1.5, 1.5, 1.5, 1.5, 1.5,\n",
       "        1.5, 1.5, 1.5, 1.5, 1.5, 1.5, 1.5, 1.5, 1.5, 1.5, 1.5, 1.5, 1.5,\n",
       "        1.5, 1.5, 1.5, 1.5, 1.5, 1.5, 1.7, 1.7, 1.7, 1.7, 1.7, 1.7, 1.7,\n",
       "        1.7, 1.7, 1.7, 1.7, 1.7, 1.7, 1.7, 1.7, 1.7, 1.7, 1.7, 1.7, 1.7,\n",
       "        1.7, 1.7, 1.7, 1.7, 1.7, 1.7, 1.7, 1.7, 1.7, 1.7, 1.9, 1.9, 1.9,\n",
       "        1.9, 1.9, 1.9, 1.9, 1.9, 1.9, 1.9, 1.9, 1.9, 1.9, 1.9, 1.9, 1.9,\n",
       "        1.9, 1.9, 1.9, 1.9, 1.9, 1.9, 1.9, 1.9, 1.9, 1.9, 1.9, 1.9, 1.9,\n",
       "        1.9, 2.1]),\n",
       " array([ 0.005,  0.005,  0.005,  0.005,  0.005,  0.05 ,  0.05 ,  0.05 ,\n",
       "         0.05 ,  0.05 ,  0.5  ,  0.5  ,  0.5  ,  0.5  ,  0.5  , -0.005,\n",
       "        -0.005, -0.005, -0.005, -0.005, -0.05 , -0.05 , -0.05 , -0.05 ,\n",
       "        -0.05 , -0.5  , -0.5  , -0.5  , -0.5  , -0.5  ,  0.005,  0.005,\n",
       "         0.005,  0.005,  0.005,  0.05 ,  0.05 ,  0.05 ,  0.05 ,  0.05 ,\n",
       "         0.5  ,  0.5  ,  0.5  ,  0.5  ,  0.5  , -0.005, -0.005, -0.005,\n",
       "        -0.005, -0.005, -0.05 , -0.05 , -0.05 , -0.05 , -0.05 , -0.5  ,\n",
       "        -0.5  , -0.5  , -0.5  , -0.5  ,  0.005,  0.005,  0.005,  0.005,\n",
       "         0.005,  0.05 ,  0.05 ,  0.05 ,  0.05 ,  0.05 ,  0.5  ,  0.5  ,\n",
       "         0.5  ,  0.5  ,  0.5  , -0.005, -0.005, -0.005, -0.005, -0.005,\n",
       "        -0.05 , -0.05 , -0.05 , -0.05 , -0.05 , -0.5  , -0.5  , -0.5  ,\n",
       "        -0.5  , -0.5  ,  0.005,  0.005,  0.005,  0.005,  0.005,  0.05 ,\n",
       "         0.05 ,  0.05 ,  0.05 ,  0.05 ,  0.5  ,  0.5  ,  0.5  ,  0.5  ,\n",
       "         0.5  , -0.005, -0.005, -0.005, -0.005, -0.005, -0.05 , -0.05 ,\n",
       "        -0.05 , -0.05 , -0.05 , -0.5  , -0.5  , -0.5  , -0.5  , -0.5  ,\n",
       "         0.005,  0.005,  0.005,  0.005,  0.005,  0.05 ,  0.05 ,  0.05 ,\n",
       "         0.05 ,  0.05 ,  0.5  ,  0.5  ,  0.5  ,  0.5  ,  0.5  , -0.005,\n",
       "        -0.005, -0.005, -0.005, -0.005, -0.05 , -0.05 , -0.05 , -0.05 ,\n",
       "        -0.05 , -0.5  , -0.5  , -0.5  , -0.5  , -0.5  ,  0.005,  0.005,\n",
       "         0.005,  0.005,  0.005,  0.05 ,  0.05 ,  0.05 ,  0.05 ,  0.05 ,\n",
       "         0.5  ,  0.5  ,  0.5  ,  0.5  ,  0.5  , -0.005, -0.005, -0.005,\n",
       "        -0.005, -0.005, -0.05 , -0.05 , -0.05 , -0.05 , -0.05 , -0.5  ,\n",
       "        -0.5  , -0.5  , -0.5  , -0.5  ,  0.005,  0.005,  0.005,  0.005,\n",
       "         0.005,  0.05 ,  0.05 ,  0.05 ,  0.05 ,  0.05 ,  0.5  ,  0.5  ,\n",
       "         0.5  ,  0.5  ,  0.5  , -0.005, -0.005, -0.005, -0.005, -0.005,\n",
       "        -0.05 , -0.05 , -0.05 , -0.05 , -0.05 , -0.5  , -0.5  , -0.5  ,\n",
       "        -0.5  , -0.5  ,  0.005,  0.005,  0.005,  0.005,  0.005,  0.05 ,\n",
       "         0.05 ,  0.05 ,  0.05 ,  0.05 ,  0.5  ,  0.5  ,  0.5  ,  0.5  ,\n",
       "         0.5  , -0.005, -0.005, -0.005, -0.005, -0.005, -0.05 , -0.05 ,\n",
       "        -0.05 , -0.05 , -0.05 , -0.5  , -0.5  , -0.5  , -0.5  , -0.5  ,\n",
       "         0.005,  0.005,  0.005,  0.005,  0.005,  0.05 ,  0.05 ,  0.05 ,\n",
       "         0.05 ,  0.05 ,  0.5  ,  0.5  ,  0.5  ,  0.5  ,  0.5  , -0.005,\n",
       "        -0.005, -0.005, -0.005, -0.005, -0.05 , -0.05 , -0.05 , -0.05 ,\n",
       "        -0.05 , -0.5  , -0.5  , -0.5  , -0.5  , -0.5  ,  0.005,  0.005,\n",
       "         0.005,  0.005,  0.005,  0.05 ,  0.05 ,  0.05 ,  0.05 ,  0.05 ,\n",
       "         0.5  ,  0.5  ,  0.5  ,  0.5  ,  0.5  , -0.005, -0.005, -0.005,\n",
       "        -0.005, -0.005, -0.05 , -0.05 , -0.05 , -0.05 , -0.05 , -0.5  ,\n",
       "        -0.5  , -0.5  , -0.5  , -0.5  ,  0.005]),\n",
       " array([1, 2, 3, 4, 5, 1, 2, 3, 4, 5, 1, 2, 3, 4, 5, 1, 2, 3, 4, 5, 1, 2,\n",
       "        3, 4, 5, 1, 2, 3, 4, 5, 1, 2, 3, 4, 5, 1, 2, 3, 4, 5, 1, 2, 3, 4,\n",
       "        5, 1, 2, 3, 4, 5, 1, 2, 3, 4, 5, 1, 2, 3, 4, 5, 1, 2, 3, 4, 5, 1,\n",
       "        2, 3, 4, 5, 1, 2, 3, 4, 5, 1, 2, 3, 4, 5, 1, 2, 3, 4, 5, 1, 2, 3,\n",
       "        4, 5, 1, 2, 3, 4, 5, 1, 2, 3, 4, 5, 1, 2, 3, 4, 5, 1, 2, 3, 4, 5,\n",
       "        1, 2, 3, 4, 5, 1, 2, 3, 4, 5, 1, 2, 3, 4, 5, 1, 2, 3, 4, 5, 1, 2,\n",
       "        3, 4, 5, 1, 2, 3, 4, 5, 1, 2, 3, 4, 5, 1, 2, 3, 4, 5, 1, 2, 3, 4,\n",
       "        5, 1, 2, 3, 4, 5, 1, 2, 3, 4, 5, 1, 2, 3, 4, 5, 1, 2, 3, 4, 5, 1,\n",
       "        2, 3, 4, 5, 1, 2, 3, 4, 5, 1, 2, 3, 4, 5, 1, 2, 3, 4, 5, 1, 2, 3,\n",
       "        4, 5, 1, 2, 3, 4, 5, 1, 2, 3, 4, 5, 1, 2, 3, 4, 5, 1, 2, 3, 4, 5,\n",
       "        1, 2, 3, 4, 5, 1, 2, 3, 4, 5, 1, 2, 3, 4, 5, 1, 2, 3, 4, 5, 1, 2,\n",
       "        3, 4, 5, 1, 2, 3, 4, 5, 1, 2, 3, 4, 5, 1, 2, 3, 4, 5, 1, 2, 3, 4,\n",
       "        5, 1, 2, 3, 4, 5, 1, 2, 3, 4, 5, 1, 2, 3, 4, 5, 1, 2, 3, 4, 5, 1,\n",
       "        2, 3, 4, 5, 1, 2, 3, 4, 5, 1, 2, 3, 4, 5, 1], dtype=int64))"
      ]
     },
     "execution_count": 13,
     "metadata": {},
     "output_type": "execute_result"
    }
   ],
   "source": [
    "trnfreq, trnamp, trncycs"
   ]
  },
  {
   "cell_type": "code",
   "execution_count": 14,
   "metadata": {},
   "outputs": [
    {
     "data": {
      "text/plain": [
       "(0.30000000000000004, -0.5, 1)"
      ]
     },
     "execution_count": 14,
     "metadata": {},
     "output_type": "execute_result"
    }
   ],
   "source": [
    "ind = 55\n",
    "trnfreq[ind], trnamp[ind], trncycs[ind]"
   ]
  },
  {
   "cell_type": "code",
   "execution_count": 29,
   "metadata": {},
   "outputs": [
    {
     "data": {
      "text/plain": [
       "(array([0.9, 0.9, 0.9, 0.9, 0.9, 0.9, 0.9, 0.9, 0.9, 0.9, 1.1, 1.1, 1.1,\n",
       "        1.1, 1.1, 1.1, 1.1, 1.1, 1.1, 1.1]),\n",
       " array([-0.05 , -0.05 , -0.05 , -0.05 , -0.05 , -0.5  , -0.5  , -0.5  ,\n",
       "        -0.5  , -0.5  ,  0.005,  0.005,  0.005,  0.005,  0.005,  0.05 ,\n",
       "         0.05 ,  0.05 ,  0.05 ,  0.05 ]),\n",
       " array([1, 2, 3, 4, 5, 1, 2, 3, 4, 5, 1, 2, 3, 4, 5, 1, 2, 3, 4, 5],\n",
       "       dtype=int64))"
      ]
     },
     "execution_count": 29,
     "metadata": {},
     "output_type": "execute_result"
    }
   ],
   "source": [
    "trnfreq[140:160], trnamp[140:160], trncycs[140:160]"
   ]
  },
  {
   "cell_type": "code",
   "execution_count": 30,
   "metadata": {},
   "outputs": [
    {
     "data": {
      "text/plain": [
       "{9,\n",
       " 24,\n",
       " 39,\n",
       " 54,\n",
       " 69,\n",
       " 84,\n",
       " 99,\n",
       " 114,\n",
       " 129,\n",
       " 144,\n",
       " 159,\n",
       " 174,\n",
       " 189,\n",
       " 204,\n",
       " 219,\n",
       " 234,\n",
       " 249,\n",
       " 264,\n",
       " 279,\n",
       " 294}"
      ]
     },
     "execution_count": 30,
     "metadata": {},
     "output_type": "execute_result"
    }
   ],
   "source": [
    "set(indsamp) & set(indscyc)"
   ]
  },
  {
   "cell_type": "code",
   "execution_count": 31,
   "metadata": {},
   "outputs": [],
   "source": [
    "with open(sys+'_trnamp_dt0.008268.npz', 'wb') as f:\n",
    "    np.save(f, trnamp)\n",
    "    f.close()"
   ]
  },
  {
   "cell_type": "code",
   "execution_count": 32,
   "metadata": {},
   "outputs": [],
   "source": [
    "with open(sys+'_trnfreq_dt0.008268.npz', 'wb') as f:\n",
    "    np.save(f, trnfreq)\n",
    "    f.close()"
   ]
  },
  {
   "cell_type": "code",
   "execution_count": 33,
   "metadata": {},
   "outputs": [],
   "source": [
    "with open(sys+'_trntme_dt0.008268.npz', 'wb') as f:\n",
    "    np.save(f, trntme)\n",
    "    f.close()"
   ]
  },
  {
   "cell_type": "code",
   "execution_count": null,
   "metadata": {},
   "outputs": [],
   "source": []
  }
 ],
 "metadata": {
  "kernelspec": {
   "display_name": "Python 3",
   "language": "python",
   "name": "python3"
  },
  "language_info": {
   "codemirror_mode": {
    "name": "ipython",
    "version": 3
   },
   "file_extension": ".py",
   "mimetype": "text/x-python",
   "name": "python",
   "nbconvert_exporter": "python",
   "pygments_lexer": "ipython3",
   "version": "3.8.5"
  }
 },
 "nbformat": 4,
 "nbformat_minor": 4
}
