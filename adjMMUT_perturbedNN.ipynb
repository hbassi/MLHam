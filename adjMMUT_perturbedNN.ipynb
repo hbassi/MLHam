{
 "cells": [
  {
   "cell_type": "code",
   "execution_count": 1,
   "id": "fde49bfb-a9d2-4eee-8216-17921113011b",
   "metadata": {},
   "outputs": [],
   "source": [
    "from jax.config import config\n",
    "config.update(\"jax_enable_x64\", True)\n",
    "\n",
    "import jax.numpy as jnp\n",
    "from jax import jit, lax, vmap, jacobian\n",
    "import jax.scipy.linalg as jsl\n",
    "\n",
    "import jax\n",
    "\n",
    "import numpy as np\n",
    "from read_traj_v2 import *\n",
    "\n",
    "import scipy.optimize\n",
    "\n",
    "import matplotlib\n",
    "%matplotlib inline\n",
    "import matplotlib.pyplot as plt"
   ]
  },
  {
   "cell_type": "code",
   "execution_count": 2,
   "id": "cdd49902-a6c5-4036-a143-daadf57e8319",
   "metadata": {},
   "outputs": [
    {
     "name": "stdout",
     "output_type": "stream",
     "text": [
      "\n",
      "\treading from \"./correctdata/ke+en+overlap+ee_twoe+dip_casscf22_heh+_sto-3g.npz\"\n",
      "\n",
      "can only concatenate str (not \"NoneType\") to str\n",
      "True is not in list\n"
     ]
    }
   ],
   "source": [
    "mol = 'heh+'\n",
    "basis = 'sto-3g'\n",
    "init = 'hf'\n",
    "td = 'rt-tdexx'\n",
    "\n",
    "dt = 0.08268/10\n",
    "\n",
    "inpath = './correctdata'\n",
    "inpath2 = './mydata/'\n",
    "outpath = './'\n",
    "saved_model_dir = './models/'\n",
    "\n",
    "trnfrq = jnp.array(np.load('./tdcis_data/tdcis_trnfreq_dt0.008268.npz'))\n",
    "trnamp = jnp.array(np.load('./tdcis_data/tdcis_trnamp_dt0.008268.npz'))\n",
    "trntme = jnp.array(np.load('./tdcis_data/tdcis_trntme_dt0.008268.npz'))\n",
    "# load important static matrices\n",
    "a = traj_data(inpath, mol, basis, init, td, '001',\n",
    "                init_cond_file=f'ke+en+overlap+ee_twoe+dip_casscf22_{mol}_{basis}.npz',\n",
    "                )\n",
    "a.assign_init_data()\n",
    "drc = a.drc\n",
    "xmat, didat, kinmat, enmat = a.xmat, a.didat, a.kinmat, a.enmat\n",
    "X = xmat"
   ]
  },
  {
   "cell_type": "code",
   "execution_count": 3,
   "id": "782c93f5-ac6b-461c-8027-c4cd4d28a6e4",
   "metadata": {},
   "outputs": [
    {
     "name": "stdout",
     "output_type": "stream",
     "text": [
      "(301, 10000, 2, 2)\n"
     ]
    }
   ],
   "source": [
    "trnden = jnp.array(np.load('./tdcis_data/tdcis_dt0.0082680.npz'))\n",
    "print(trnden.shape)"
   ]
  },
  {
   "cell_type": "code",
   "execution_count": 4,
   "id": "a085c573",
   "metadata": {},
   "outputs": [],
   "source": [
    "# need two masks\n",
    "# upper mask is matrix whose (u,v)-th element is 0 unless u <= v\n",
    "# lower mask is matrix whose (u,v)-th element is 0 unless u > v\n",
    "upper = np.zeros((2,2),dtype=np.float64)\n",
    "lower = np.zeros((2,2),dtype=np.float64)\n",
    "for u in range(2):\n",
    "    for v in range(2):\n",
    "        if u <= v:\n",
    "            upper[u,v] = 1.0\n",
    "        if u > v:\n",
    "            lower[u,v] = 1.0\n",
    "\n",
    "ru1 = 2*np.einsum('uv,uk,ma,sb,uvms,vl->klab',upper,X,X,X,a.eeten,X)\n",
    "ru2 = np.einsum('uv,uk,ma,sb,umvs,vl->klab',upper,X,X,X,a.eeten,X)\n",
    "rl1 = 2*np.einsum('uv,uk,ma,sb,vums,vl->klab',lower,X,X,X,a.eeten,X)\n",
    "rl2 = np.einsum('uv,uk,ma,sb,vmus,vl->klab',lower,X,X,X,a.eeten,X)\n",
    "beta1trueNP = ru1 - ru2 + rl1 - rl2\n",
    "gamma1trueNP = ru1 - ru2 - rl1 + rl2\n",
    "\n",
    "beta0trueNP = xmat.conj().T @ (kinmat - enmat) @ xmat\n",
    "gamma0trueNP = np.zeros(beta0trueNP.shape)\n",
    "\n",
    "# extract parameters for real target\n",
    "beta0true = -beta0trueNP.reshape((-1))\n",
    "beta1true = -beta1trueNP.reshape((drc**2, drc**2))\n",
    "# extract parameters for imag target\n",
    "gamma0true = -gamma0trueNP.reshape((-1))\n",
    "gamma1true = -gamma1trueNP.reshape((drc**2, drc**2))\n",
    "\n",
    "beta0 = beta0true\n",
    "# beta1 = beta1true\n",
    "gamma0 = gamma0true\n",
    "# gamma1 = gamma1true\n",
    "\n",
    "thetatrue = jnp.concatenate([beta1true.reshape((-1)), gamma1true.reshape((-1))])"
   ]
  },
  {
   "cell_type": "code",
   "execution_count": 5,
   "id": "e208b109-be01-4e34-a35d-0570b43fa966",
   "metadata": {},
   "outputs": [],
   "source": [
    "nlayers = 4\n",
    "layerwidths = [2*drc**2,64,64,64,2*drc**2]\n",
    "numparams = 0\n",
    "numweights = 0\n",
    "for j in range(nlayers):\n",
    "    numparams += layerwidths[j]*layerwidths[j+1] + layerwidths[j+1]\n",
    "    numweights += layerwidths[j]*layerwidths[j+1]\n",
    "#numparams = 2 * drc**2 + 2 * 2 * drc**4\n",
    "# numparams = 32"
   ]
  },
  {
   "cell_type": "code",
   "execution_count": 6,
   "id": "d2bc38d2-f592-4df0-a561-0c847766fc6b",
   "metadata": {},
   "outputs": [],
   "source": [
    "# assume p is of size drc x drc    #\n",
    "def MLham(theta,t,x,y,fldfrq,fldamp,tmeoff,norm_direc):\n",
    "    beta1 = thetatrue[:drc**4].reshape((drc**2, drc**2))\n",
    "    gamma1 = thetatrue[drc**4:].reshape((drc**2, drc**2))\n",
    "    x = x.reshape((drc**2))\n",
    "    y = y.reshape((drc**2))\n",
    "    # # produce real target\n",
    "    rmat0 = (beta0 + jnp.matmul(x, beta1)).reshape((drc, drc))\n",
    "    # # produce imag target\n",
    "    qmat0 = (gamma0 + jnp.matmul(y, gamma1)).reshape((drc, drc))\n",
    "    h0 = 0.5*(rmat0 + rmat0.T) + 0.5j*(qmat0 - qmat0.T)\n",
    "\n",
    "    filt = []\n",
    "    si = 0\n",
    "    ei = layerwidths[0]*layerwidths[1]\n",
    "    filt.append( theta[si:ei].reshape((layerwidths[0],layerwidths[1])) )\n",
    "    si += layerwidths[0]*layerwidths[1]\n",
    "    ei += layerwidths[1]*layerwidths[2]\n",
    "    filt.append( theta[si:ei].reshape((layerwidths[1],layerwidths[2])) )\n",
    "    si += layerwidths[1]*layerwidths[2]\n",
    "    ei += layerwidths[2]*layerwidths[3]\n",
    "    filt.append( theta[si:ei].reshape((layerwidths[2],layerwidths[3])) )\n",
    "    si += layerwidths[2]*layerwidths[3]\n",
    "    ei += layerwidths[3]*layerwidths[4]\n",
    "    filt.append( theta[si:ei].reshape((layerwidths[3],layerwidths[4])) )\n",
    "    bias = []\n",
    "    si += layerwidths[3]*layerwidths[4]\n",
    "    ei += layerwidths[1]\n",
    "    bias.append( theta[si:ei] )\n",
    "    si += layerwidths[1]\n",
    "    ei += layerwidths[2]\n",
    "    bias.append( theta[si:ei] )\n",
    "    si += layerwidths[2]\n",
    "    ei += layerwidths[3]\n",
    "    bias.append( theta[si:ei] )\n",
    "    si += layerwidths[3]\n",
    "    ei += layerwidths[4]\n",
    "    bias.append( theta[si:ei] )\n",
    "    inplyr = jnp.array( jnp.concatenate([x.flatten(), y.flatten()]))\n",
    "    h1 = jax.nn.relu( inplyr @ filt[0] + bias[0] )\n",
    "    h2 = jax.nn.relu( h1 @ filt[1] + bias[1] )\n",
    "    h3 = jax.nn.relu( h2 @ filt[2] + bias[2] )\n",
    "    h4 = h3 @ filt[3] + bias[3]\n",
    "    \n",
    "    hreal = h4[0:drc**2]\n",
    "    himag = h4[drc**2:]\n",
    "    rmat1 = hreal.reshape((drc,drc))\n",
    "    qmat1 = himag.reshape((drc,drc))\n",
    "    h1= 0.5*(rmat1 + rmat1.T) + 0.5j*(qmat1 - qmat1.T)\n",
    "    h = h0 + h1\n",
    "    \n",
    "    ef = (t>=0)*(t<=tmeoff)*fldamp*jnp.sin(fldfrq*t)\n",
    "    hfieldAO = ef*jnp.sum(norm_direc[:,None,None]*didat, axis=0, dtype=jnp.complex128)\n",
    "    h -= xmat.conj().T @ hfieldAO @ xmat\n",
    "    \n",
    "  \n",
    "    return h.real, h.imag"
   ]
  },
  {
   "cell_type": "code",
   "execution_count": 7,
   "id": "87e78e8a-c2be-476a-b331-24cc2f15c4b5",
   "metadata": {},
   "outputs": [],
   "source": [
    "mydHdtheta = jacobian(MLham, 0)\n",
    "dHdXjax = jacobian(MLham, 2)\n",
    "dHdYjax = jacobian(MLham,3)"
   ]
  },
  {
   "cell_type": "code",
   "execution_count": 8,
   "id": "2e04bc41",
   "metadata": {},
   "outputs": [],
   "source": [
    "m = drc\n",
    "def expderiv(d, u, w):\n",
    "    offdiagmask = jnp.ones((m, m)) - jnp.eye(m)\n",
    "    expspec = jnp.exp(d)\n",
    "    e1, e2 = jnp.meshgrid(expspec, expspec)\n",
    "    s1, s2 = jnp.meshgrid(d, d)\n",
    "    denom = offdiagmask * (s1 - s2) + jnp.eye(m)\n",
    "    mask = offdiagmask * (e1 - e2)/denom + jnp.diag(expspec)\n",
    "    prederivamat = jnp.einsum('ij,jk,kl->il',u.conj().T,w,u) \n",
    "    derivamat = prederivamat * mask\n",
    "    return jnp.einsum('ij,jk,kl->il',u,derivamat,u.conj().T)"
   ]
  },
  {
   "cell_type": "code",
   "execution_count": 9,
   "id": "368da964",
   "metadata": {},
   "outputs": [],
   "source": [
    "def expderiv2(d, u, w):\n",
    "    offdiagmask = jnp.ones((m, m)) - jnp.eye(m)\n",
    "    expspec = jnp.exp(d)\n",
    "    e1, e2 = jnp.meshgrid(expspec, expspec)\n",
    "    s1, s2 = jnp.meshgrid(d, d)\n",
    "    denom = offdiagmask * (s1 - s2) + jnp.eye(m)\n",
    "    mask = offdiagmask * (e1 - e2)/denom + jnp.diag(expspec)\n",
    "    prederivamat = jnp.einsum('ij,abjk,kl->ilab',u.conj().T,w,u) \n",
    "    derivamat = jnp.einsum('ilab,il->ilab',prederivamat,mask)\n",
    "    return jnp.einsum('ij,jkab,kl->ilab',u,derivamat,u.conj().T)"
   ]
  },
  {
   "cell_type": "code",
   "execution_count": 10,
   "id": "acf65ed4",
   "metadata": {},
   "outputs": [],
   "source": [
    "def expderiv3(d, u, w):\n",
    "    offdiagmask = jnp.ones((m, m)) - jnp.eye(m)\n",
    "    expspec = jnp.exp(d)\n",
    "    e1, e2 = jnp.meshgrid(expspec, expspec)\n",
    "    s1, s2 = jnp.meshgrid(d, d)\n",
    "    denom = offdiagmask * (s1 - s2) + jnp.eye(m)\n",
    "    mask = offdiagmask * (e1 - e2)/denom + jnp.diag(expspec)\n",
    "    prederivamat = jnp.einsum('ij,jka,kl->ila',u.conj().T,w,u) \n",
    "    derivamat = jnp.einsum('ila,il->ila',prederivamat,mask)\n",
    "    return jnp.einsum('ij,jka,kl->ila',u,derivamat,u.conj().T)"
   ]
  },
  {
   "cell_type": "code",
   "execution_count": 11,
   "id": "7425c709",
   "metadata": {},
   "outputs": [],
   "source": [
    "def xicomp(theta, x, y, evals, evecs, t, fldfrq,fldamp,tmeoff,norm_direc):\n",
    "    dHrealdPauto = 0.5*(dHdXjax(theta,t,x,y,fldfrq,fldamp,tmeoff,norm_direc)[0] - 1j*dHdYjax(theta,t,x,y,fldfrq,fldamp,tmeoff,norm_direc)[0])\n",
    "    dHimagdPauto = 0.5*(dHdXjax(theta,t,x,y,fldfrq,fldamp,tmeoff,norm_direc)[1] - 1j*dHdYjax(theta,t,x,y,fldfrq,fldamp,tmeoff,norm_direc)[1])\n",
    "    dHdp = dHrealdPauto + 1j*dHimagdPauto\n",
    "    dHrealdPbarauto = 0.5*(dHdXjax(theta,t,x,y,fldfrq,fldamp,tmeoff,norm_direc)[0] + 1j*dHdYjax(theta,t,x,y,fldfrq,fldamp,tmeoff,norm_direc)[0])\n",
    "    dHimagdPbarauto = 0.5*(dHdXjax(theta,t,x,y,fldfrq,fldamp,tmeoff,norm_direc)[1] + 1j*dHdYjax(theta,t,x,y,fldfrq,fldamp,tmeoff,norm_direc)[1])\n",
    "    dHdPbar = dHrealdPbarauto  + 1j*dHimagdPbarauto\n",
    "    dHdp = dHdp.reshape((drc,drc,drc,drc)).transpose((2,3,0,1))\n",
    "    dHdPbar = dHdPbar.reshape((drc,drc,drc,drc)).transpose((2,3,0,1))\n",
    "    jacP = expderiv2(evals, evecs, dHdp)\n",
    "    jacPbar = expderiv2(evals, evecs, dHdPbar)\n",
    "    return jacP, jacPbar\n",
    "\n",
    "def dUdtheta(theta, x, y, evals, evecs, t, fldfrq,fldamp,tmeoff,norm_direc):\n",
    "    dHdtheta =  mydHdtheta(theta,t, x, y, fldfrq,fldamp,tmeoff,norm_direc)\n",
    "    tm1 = expderiv3(evals, evecs, dHdtheta[0])\n",
    "    tm2 = expderiv3(evals, evecs, dHdtheta[1])\n",
    "    return tm1 + 1j*tm2"
   ]
  },
  {
   "cell_type": "code",
   "execution_count": 12,
   "id": "1ceb74d2",
   "metadata": {},
   "outputs": [],
   "source": [
    "mynumsteps = 4000\n",
    "ntvec = mynumsteps\n",
    "\n",
    "def MMUT_Adjoint(theta, Ptilde, dt=0.08268, \n",
    "                 tmeoff=1, fldfrq=1, fldamp=1, norm_direc=jnp.array([0.0,0.0,1.0])):\n",
    "    tvec = dt*jnp.arange(ntvec)\n",
    "    P0 = Ptilde[0,:,:]\n",
    "    propagated_dens = [P0]\n",
    "    H0 = MLham(theta,0.0,P0.real,P0.imag,fldfrq,fldamp,tmeoff,norm_direc)\n",
    "    H0 = H0[0] + 1.0j*H0[1]\n",
    "    evals, evecs = jnp.linalg.eigh(H0)\n",
    "    U0 = evecs @ jnp.diag(jnp.exp(-1j*dt*evals)) @ evecs.conj().T\n",
    "    P1 = U0 @ P0 @ U0.conj().T\n",
    "    propagated_dens.append( P1 )\n",
    "    \n",
    "    def bodyfun(i, dtup):\n",
    "        dl, dvals, dvecs, dU = dtup\n",
    "        P0 = dl[i, :, :]\n",
    "        P1 = dl[i+1, :, :]\n",
    "        H1 = MLham(theta,(i+1.0)*dt,P1.real,P1.imag,fldfrq,fldamp,tmeoff,norm_direc)\n",
    "        H1 = H1[0] + 1.0j*H1[1]\n",
    "        evals, evecs = jnp.linalg.eigh(H1)\n",
    "        dvals = dvals.at[i+1].set( evals )\n",
    "        dvecs = dvecs.at[i+1].set( evecs )\n",
    "        U1 = evecs @ jnp.diag(jnp.exp(-2j*dt*evals)) @ evecs.conj().T\n",
    "        dU = dU.at[i+1].set( U1 )\n",
    "        P2 = U1 @ P0 @ U1.conj().T\n",
    "        dl = dl.at[i+2].set( P2 )\n",
    "        return (dl, dvals, dvecs, dU)\n",
    "    \n",
    "    alldens = jnp.concatenate([jnp.stack(propagated_dens), jnp.zeros((ntvec-1, drc, drc))], axis=0)\n",
    "    allevals = jnp.concatenate([jnp.expand_dims(evals,0), jnp.zeros((ntvec-1, drc))], axis=0)\n",
    "    allevecs = jnp.concatenate([jnp.expand_dims(evecs,0), jnp.zeros((ntvec-1, drc, drc))], axis=0)\n",
    "    allU = jnp.concatenate([jnp.expand_dims(U0,0), jnp.zeros((ntvec-1, drc, drc))], axis=0)\n",
    "    ftup = lax.fori_loop(0, ntvec-1, bodyfun, (alldens, allevals, allevecs, allU))\n",
    "    Pstack, allevals, allevecs, allU = ftup\n",
    "\n",
    "    def bodylamb(i, dl):\n",
    "        k = ntvec - i\n",
    "        newlamb = Pstack[k, :, :] - Ptilde[k, :, :]\n",
    "        xiak = xicomp(theta, Pstack[k].real, Pstack[k].imag,-2j*dt*allevals[k], allevecs[k], i*dt, fldfrq,fldamp,tmeoff,norm_direc)\n",
    "        xibk = xicomp(theta,  Pstack[k].real.reshape((-1)), Pstack[k].imag.reshape((-1)), 2j*dt*allevals[k], allevecs[k], i*dt, fldfrq,fldamp,tmeoff,norm_direc)\n",
    "        # if i <---> k correspond, then i-1 <---> k+1 correspond\n",
    "        newlamb += jnp.einsum('ij,ijkl->kl',dl[i-1] @ allU[k] @ Pstack[k-1], (-2j*dt*xiak[0]).conj())\n",
    "        newlamb += jnp.einsum('ij,ijkl->kl',dl[i-1] @ allU[k] @ Pstack[k-1], (-2j*dt*xiak[1]).conj()).conj()\n",
    "        newlamb += jnp.einsum('ij,ijkl->kl',Pstack[k-1] @ allU[k].conj().T @ dl[i-1], (2j*dt*xibk[0]).conj())\n",
    "        newlamb += jnp.einsum('ij,ijkl->kl',Pstack[k-1] @ allU[k].conj().T @ dl[i-1], (2j*dt*xibk[1]).conj()).conj()\n",
    "        newlamb += allU[k+1].conj().T @ dl[i-2] @ allU[k+1]\n",
    "        return dl.at[i].set( newlamb )\n",
    "    \n",
    "    lambfinal = Pstack[ntvec, :, :] - Ptilde[ntvec, :, :]\n",
    "    lambnext = Pstack[ntvec-1, :, :] - Ptilde[ntvec-1, :, :]\n",
    "    xiak = xicomp(theta, Pstack[ntvec-1].real, Pstack[ntvec-1].imag, -2j*dt*allevals[ntvec-1], allevecs[ntvec-1], (ntvec-1)*dt, fldfrq,fldamp,tmeoff,norm_direc)\n",
    "    xibk = xicomp(theta, Pstack[ntvec-1].real, Pstack[ntvec-1].imag, 2j*dt*allevals[ntvec-1], allevecs[ntvec-1], (ntvec-1)*dt, fldfrq,fldamp,tmeoff,norm_direc)\n",
    "    lambnext += jnp.einsum('ij,ijkl->kl',lambfinal @ allU[ntvec-1] @ Pstack[ntvec-2], (-2j*dt*xiak[0]).conj())\n",
    "    lambnext += jnp.einsum('ij,ijkl->kl',lambfinal @ allU[ntvec-1] @ Pstack[ntvec-2], (-2j*dt*xiak[1]).conj()).conj()\n",
    "    lambnext += jnp.einsum('ij,ijkl->kl',Pstack[ntvec-2] @ allU[ntvec-1].conj().T @ lambfinal, (2j*dt*xibk[0]).conj())\n",
    "    lambnext += jnp.einsum('ij,ijkl->kl',Pstack[ntvec-2] @ allU[ntvec-1].conj().T @ lambfinal, (2j*dt*xibk[1]).conj()).conj()\n",
    "    lambcat = jnp.concatenate([jnp.expand_dims(lambfinal,0), jnp.expand_dims(lambnext, 0), jnp.zeros((ntvec-2, drc, drc))])\n",
    "    alllamb = lax.fori_loop(2, ntvec, bodylamb, lambcat)\n",
    "    lambstack = jnp.flipud( jnp.stack(alllamb, axis=0) )    \n",
    "    \n",
    "    def bodygrad(k, gL):\n",
    "        tmp1 = -2j*dt*dUdtheta(theta, Pstack[k].real, Pstack[k].imag, -2j*dt*allevals[k], allevecs[k], k*dt, fldfrq,fldamp,tmeoff,norm_direc)\n",
    "        term1 = jnp.einsum('ija,jk,kl->ila',tmp1,Pstack[k-1],allU[k].conj().T)\n",
    "        term2 = term1.transpose((1,0,2)).conj()\n",
    "        return gL + jnp.real(jnp.einsum('il,ila->a',lambstack[k],(term1+term2).conj()))\n",
    "\n",
    "    tmp1 = -1j*dt*dUdtheta(theta, Pstack[0].real, Pstack[0].imag, -1j*dt*allevals[0], allevecs[0], 0 , fldfrq,fldamp,tmeoff,norm_direc)\n",
    "    term1 = jnp.einsum('ija,jk,kl->ila',tmp1,Pstack[0],allU[0].conj().T)\n",
    "    term2 = term1.transpose((1,0,2)).conj()\n",
    "    initgradL = jnp.real(jnp.einsum('il,ila->a',lambstack[0],(term1+term2).conj()))\n",
    "    gradL = lax.fori_loop(1, ntvec, bodygrad, initgradL)\n",
    "    return gradL/mynumsteps/drc**2\n",
    "    "
   ]
  },
  {
   "cell_type": "code",
   "execution_count": 13,
   "id": "2af0ec1d-b817-4a9d-bc42-6619c7c15c06",
   "metadata": {},
   "outputs": [],
   "source": [
    "def MMUT_Prop_HSB(theta, initial_density, dt=0.08268, ntvec=2000,\n",
    "                  tmeoff=1, fldfrq=1, fldamp=1, norm_direc=jnp.array([0.0,0.0,1.0])):\n",
    "    tvec = dt*jnp.arange(ntvec)\n",
    "    P0 = initial_density.reshape((drc, drc))\n",
    "    propagated_dens = [P0]\n",
    "    H0 = MLham(theta,0.0,P0.real, P0.imag,fldfrq,fldamp,tmeoff,norm_direc)\n",
    "    H0 = H0[0] + 1.0j*H0[1]\n",
    "    evals, evecs = jnp.linalg.eigh(H0)\n",
    "    U0 = evecs @ jnp.diag(jnp.exp(-1j*dt*evals)) @ evecs.conj().T\n",
    "    P1 = U0 @ P0 @ U0.conj().T\n",
    "    propagated_dens.append( P1 )\n",
    "    def bodyfun(i, dl):\n",
    "        P0 = dl[i, :, :]\n",
    "        P1 = dl[i+1, :, :]\n",
    "        H1 = MLham(theta,(i+1.0)*dt,P1.real, P1.imag,fldfrq,fldamp,tmeoff,norm_direc)\n",
    "        H1 = H1[0] + 1.0j*H1[1]\n",
    "        evals, evecs = jnp.linalg.eigh(H1)\n",
    "        U1 = evecs @ jnp.diag(jnp.exp(-2j*dt*evals)) @ evecs.conj().T\n",
    "        P2 = U1 @ P0 @ U1.conj().T\n",
    "        return dl.at[i+2].set( P2 )\n",
    "    #import pdb; pdb.set_trace()\n",
    "    alldens = jnp.concatenate([jnp.stack(propagated_dens), jnp.zeros((ntvec-1, drc, drc))], axis=0) \n",
    "    fdl = lax.fori_loop(0, ntvec-1, bodyfun, alldens)\n",
    "    \n",
    "    return fdl"
   ]
  },
  {
   "cell_type": "code",
   "execution_count": 14,
   "id": "3ed71ae0",
   "metadata": {},
   "outputs": [],
   "source": [
    "# # # this is a sanity check\n",
    "\n",
    "# # pick one trajectory\n",
    "# i = 140\n",
    "# ic = trnden[i][0,:,:].reshape((-1))\n",
    "# print('propagating trajectory: {}'.format(i))\n",
    "\n",
    "# # propagate with true Hamiltonian, correct forcing, etc \n",
    "# mlprop = MMUT_Prop_HSB(thetatrue, ic, dt=dt, ntvec=mynumsteps, tmeoff=trntme[i], fldfrq=trnfrq[i], fldamp=trnamp[i])\n",
    "# mlprop.shape\n",
    "\n",
    "# # plot the result of propagating with MMUT_Prop_HSB **and** the ground truth training trajectory, on the same panels\n",
    "\n",
    "# plt.figure(figsize=(6,4))\n",
    "# plt.plot(jnp.real(mlprop[:,0,0]),color='red')\n",
    "# plt.plot(jnp.real(trnden[i][:mynumsteps+1,0,0]),color='black')\n",
    "# plt.show()\n",
    "# plt.figure(figsize=(6,4))\n",
    "# plt.plot(jnp.real(mlprop[:,0,1]),color='red')\n",
    "# plt.plot(jnp.real(trnden[i][:mynumsteps+1,0,1]),color='black')\n",
    "# plt.show()\n",
    "# plt.figure(figsize=(6,4))\n",
    "# plt.plot(jnp.imag(mlprop[:,0,1]),color='red')\n",
    "# plt.plot(jnp.imag(trnden[i][:mynumsteps+1,0,1]),color='black')\n",
    "# plt.show()\n",
    "# plt.figure(figsize=(6,4))\n",
    "# plt.plot(jnp.real(mlprop[:,1,1]),color='red')\n",
    "# plt.plot(jnp.real(trnden[i][:mynumsteps+1,1,1]),color='black')\n",
    "# plt.show()"
   ]
  },
  {
   "cell_type": "code",
   "execution_count": 15,
   "id": "ad6a2c34",
   "metadata": {},
   "outputs": [],
   "source": [
    "# single-trajectory loss\n",
    "def loss(theta, i):\n",
    "    mlprop = MMUT_Prop_HSB(theta, ic, dt=dt, ntvec=mynumsteps,\n",
    "                           tmeoff=trntme[i], fldfrq=trnfrq[i], fldamp=trnamp[i])\n",
    "    resid = mlprop - trnden[i,:mynumsteps+1, :, :]\n",
    "    sse = 0.5*jnp.real(jnp.mean(jnp.conj(resid)*resid))\n",
    "    return sse"
   ]
  },
  {
   "cell_type": "code",
   "execution_count": 16,
   "id": "cde974e5-dc6d-4f07-ae49-4763c4b4a89d",
   "metadata": {},
   "outputs": [],
   "source": [
    "# gradient of single-trajectory loss\n",
    "def gradloss(theta, i):\n",
    "    return MMUT_Adjoint(theta, \n",
    "                        jnp.array(trnden[i,:mynumsteps+1,:,:]), dt=dt, \n",
    "                        tmeoff=trntme[i], fldfrq=trnfrq[i], fldamp=trnamp[i])"
   ]
  },
  {
   "cell_type": "code",
   "execution_count": 17,
   "id": "67201d4b",
   "metadata": {},
   "outputs": [],
   "source": [
    "# # # this is a sanity check\n",
    "\n",
    "# # the single-trajectory loss evaluated at the *true* theta should be super close to 0\n",
    "# print( loss(thetatrue, 0))\n",
    "\n",
    "# # the norm of the gradient of the single-trajectory loss at the *true* theta should be super close to 0\n",
    "# print( jnp.linalg.norm( jnp.abs( gradloss(thetatrue, 0) ) ))"
   ]
  },
  {
   "cell_type": "code",
   "execution_count": 18,
   "id": "b9e3aeaa-e112-472c-b4fd-5e19e746f596",
   "metadata": {},
   "outputs": [
    {
     "name": "stdout",
     "output_type": "stream",
     "text": [
      "propagating trajectory: 140\n"
     ]
    }
   ],
   "source": [
    "# # uncomment this cell to test whether the adjoint method's gradient agrees with JAX's gradient\n",
    "# # you should get agreement to 6-7 decimal places --- j\n",
    "i = 140\n",
    "ic = trnden[i][0,:,:].reshape((-1))\n",
    "print('propagating trajectory: {}'.format(i))"
   ]
  },
  {
   "cell_type": "code",
   "execution_count": 19,
   "id": "6ad06670-973b-475e-bd4a-b8ecd2b5a705",
   "metadata": {},
   "outputs": [],
   "source": [
    "from jax import grad, jacobian\n",
    "jaxgradloss = grad(loss)\n",
    "#thetarand = jnp.array(np.random.normal(size=32))\n",
    "#thetarand = jnp.array(np.random.normal(size=2 * drc**2 + 2 * 2 * drc**4))\n",
    "thetarand = 0.01 * jnp.array(np.random.normal(size=numparams))"
   ]
  },
  {
   "cell_type": "code",
   "execution_count": 20,
   "id": "937a643e-7b27-471b-a6ee-77f50d16aa36",
   "metadata": {},
   "outputs": [],
   "source": [
    "# #uncomment if you want a finite difference differentiation of the loss wrt theta\n",
    "# perturbedtheta = np.copy(thetarand)\n",
    "# fdtot = []\n",
    "# for ind in range(perturbedtheta.shape[0]):\n",
    "#     perturbedtheta[ind] += 1e-6\n",
    "#     losstheta = loss(thetarand,i)\n",
    "#     lossperturbedtheta = loss(perturbedtheta,i)\n",
    "#     fd = (lossperturbedtheta - losstheta)/1e-6\n",
    "#     fdtot.append(fd)\n",
    "#     perturbedtheta[ind] -= 1e-6\n",
    "# fdtot = np.array(fdtot)"
   ]
  },
  {
   "cell_type": "code",
   "execution_count": 21,
   "id": "2a8dd6ac-789c-4d6b-a30b-61a48b99b74f",
   "metadata": {},
   "outputs": [
    {
     "name": "stdout",
     "output_type": "stream",
     "text": [
      "1.7202999072878563e-09\n"
     ]
    }
   ],
   "source": [
    "autodiffresult = jaxgradloss(thetarand, i)\n",
    "adjointresult = gradloss(thetarand, i)\n",
    "#print(autodiffresult)\n",
    "#print(adjointresult)\n",
    "print(jnp.mean(jnp.abs(autodiffresult-adjointresult)))"
   ]
  },
  {
   "cell_type": "code",
   "execution_count": 22,
   "id": "802ecf4c-d522-4189-a887-1c8d7a4e03f5",
   "metadata": {},
   "outputs": [],
   "source": [
    "# multi-trajectory loss\n",
    "vloss = vmap(loss, (None,0))\n",
    "jvloss = jit(vloss)\n",
    "\n",
    "# gradient of multi-trajectory loss\n",
    "vgradloss = vmap(gradloss, (None, 0))\n",
    "jvgradloss = jit(vgradloss)"
   ]
  },
  {
   "cell_type": "code",
   "execution_count": 23,
   "id": "5b0a554d-6ec8-4d94-91f0-e132e62a982d",
   "metadata": {},
   "outputs": [],
   "source": [
    "\n",
    "# # multi-trajectory loss\n",
    "# ploss = pmap(loss, (None,0))\n",
    "# #jvloss = jit(vloss)\n",
    "\n",
    "# # gradient of multi-trajectory loss\n",
    "# pgradloss = pmap(gradloss, (None, 0))\n",
    "# #jvgradloss = jit(vgradloss)"
   ]
  },
  {
   "cell_type": "code",
   "execution_count": 24,
   "id": "6e8af22c-4903-40db-be04-ff5848467728",
   "metadata": {},
   "outputs": [],
   "source": [
    "# # this is a sanity check\n",
    "\n",
    "# # the multi-trajectory loss evaluated at the *true* theta should be super close to 0\n",
    "# print( jnp.mean( jvloss(thetatrue, jnp.arange(140,160)) ) )\n",
    "\n",
    "# # the norm of the gradient of the multi-trajectory loss at the *true* theta should be super close to 0\n",
    "# print( jnp.linalg.norm( jnp.mean( jvgradloss(thetatrue, jnp.arange(140,160)), axis=0 ) ) )"
   ]
  },
  {
   "cell_type": "code",
   "execution_count": 25,
   "id": "53bf0d1d-2851-4a8f-9dfe-f93ec88738b5",
   "metadata": {},
   "outputs": [],
   "source": [
    "# NumPy wrappers to our JAX functions for use with SciPy optimizers\n",
    "\n",
    "def siobj(x):\n",
    "    jx = jnp.array(x)\n",
    "    return jnp.mean(jvloss( jx, jnp.arange(140,160) )).item()\n",
    "\n",
    "def sigrad(x):\n",
    "    jx = jnp.array(x)\n",
    "    return np.asarray( jnp.mean( jvgradloss( jx, jnp.arange(140,160) ), axis=0 ), dtype = np.float64 )"
   ]
  },
  {
   "cell_type": "code",
   "execution_count": 26,
   "id": "d4e62367-6f3c-4740-a577-da3683dff3a1",
   "metadata": {},
   "outputs": [],
   "source": [
    "# # NumPy wrappers to our JAX functions for use with SciPy optimizers\n",
    "\n",
    "# def siobj(x):\n",
    "#     jx = jnp.array(x)\n",
    "#     return jnp.mean(ploss( jx, jnp.arange(140,144) )).item()\n",
    "\n",
    "# def sigrad(x):\n",
    "#     jx = jnp.array(x)\n",
    "#     return np.asarray( jnp.mean( pgradloss( jx, jnp.arange(140,144) ), axis=0 ), dtype = np.float64 )"
   ]
  },
  {
   "cell_type": "code",
   "execution_count": 27,
   "id": "6467efcc-ea3d-41ba-9125-9eb3b77494e9",
   "metadata": {},
   "outputs": [],
   "source": [
    "# many-theta version of the loss function\n",
    "vthetaloss = vmap(loss, (0, None))\n",
    "jvthetaloss = jit(vthetaloss)"
   ]
  },
  {
   "cell_type": "code",
   "execution_count": 28,
   "id": "86e4828e-2914-489e-a87b-b63c7be669ae",
   "metadata": {},
   "outputs": [
    {
     "data": {
      "image/png": "[encoded data removed]",
      "text/plain": [
       "<Figure size 640x480 with 1 Axes>"
      ]
     },
     "metadata": {},
     "output_type": "display_data"
    }
   ],
   "source": [
    "# evaluate the loss for many randomly sampled thetas\n",
    "numruns = 100\n",
    "np.random.seed(5)\n",
    "manytheta0 = 1e-1*jnp.array(np.random.normal(size=numparams*numruns), dtype=np.float64).reshape((numruns, -1))\n",
    "\n",
    "# use the many-theta version of the loss function,\n",
    "# but only evaluate along one trajectory, to save memory and time\n",
    "testloss = jvthetaloss(manytheta0, 0)\n",
    "\n",
    "# plot log_{10} of the losses obtained from the random thetas\n",
    "plt.plot(jnp.log(testloss)/jnp.log(10))\n",
    "plt.show()\n",
    "\n",
    "# pick the best theta\n",
    "minind = jnp.argmin(testloss)\n",
    "theta0 = manytheta0[minind]"
   ]
  },
  {
   "cell_type": "code",
   "execution_count": null,
   "id": "5c847853-23b8-4658-a040-0913be16299c",
   "metadata": {},
   "outputs": [
    {
     "name": "stdout",
     "output_type": "stream",
     "text": [
      "| niter |f evals|CG iter|  obj func   |tr radius |   opt    |  c viol  |\n",
      "|-------|-------|-------|-------------|----------|----------|----------|\n",
      "|   1   |   1   |   0   | +3.8393e-03 | 1.00e+00 | 4.66e-02 | 0.00e+00 |\n",
      "|   2   |   2   |   1   | +3.8393e-03 | 1.00e-01 | 4.66e-02 | 0.00e+00 |\n",
      "|   3   |   3   |   3   | +3.8393e-03 | 3.76e-02 | 4.66e-02 | 0.00e+00 |\n",
      "|   4   |   4   |   4   | +3.8393e-03 | 1.88e-02 | 4.66e-02 | 0.00e+00 |\n",
      "|   5   |   5   |   6   | +2.8310e-03 | 1.32e-01 | 6.48e-03 | 0.00e+00 |\n",
      "|   6   |   6   |   9   | +2.8310e-03 | 5.51e-02 | 6.48e-03 | 0.00e+00 |\n",
      "|   7   |   7   |  13   | +2.6694e-03 | 9.68e-02 | 5.13e-03 | 0.00e+00 |\n",
      "|   8   |   8   |  17   | +2.5522e-03 | 9.68e-02 | 3.79e-03 | 0.00e+00 |\n",
      "|   9   |   9   |  20   | +2.4819e-03 | 9.68e-02 | 2.88e-03 | 0.00e+00 |\n",
      "|  10   |  10   |  21   | +2.4509e-03 | 9.68e-02 | 3.29e-03 | 0.00e+00 |\n",
      "|  11   |  11   |  22   | +2.4185e-03 | 9.68e-02 | 3.20e-03 | 0.00e+00 |\n",
      "|  12   |  12   |  24   | +2.2659e-03 | 9.68e-02 | 5.49e-03 | 0.00e+00 |\n",
      "|  13   |  13   |  26   | +2.2088e-03 | 9.68e-02 | 4.17e-03 | 0.00e+00 |\n",
      "|  14   |  14   |  30   | +2.0507e-03 | 1.99e-01 | 3.49e-03 | 0.00e+00 |\n",
      "|  15   |  15   |  32   | +2.0332e-03 | 1.99e-01 | 7.99e-04 | 0.00e+00 |\n",
      "|  16   |  16   |  38   | +1.9743e-03 | 1.99e-01 | 3.62e-03 | 0.00e+00 |\n",
      "|  17   |  17   |  47   | +1.8635e-03 | 4.82e-01 | 8.08e-03 | 0.00e+00 |\n",
      "|  18   |  18   |  48   | +1.8468e-03 | 4.82e-01 | 3.92e-03 | 0.00e+00 |\n",
      "|  19   |  19   |  51   | +1.8176e-03 | 4.82e-01 | 2.26e-03 | 0.00e+00 |\n",
      "|  20   |  20   |  61   | +1.7023e-03 | 5.60e-01 | 2.53e-03 | 0.00e+00 |\n",
      "|  21   |  21   |  65   | +1.6891e-03 | 5.60e-01 | 3.22e-03 | 0.00e+00 |\n",
      "|  22   |  22   |  67   | +1.6820e-03 | 5.60e-01 | 1.69e-03 | 0.00e+00 |\n",
      "|  23   |  23   |  73   | +1.6548e-03 | 5.60e-01 | 2.79e-03 | 0.00e+00 |\n",
      "|  24   |  24   |  75   | +1.6498e-03 | 5.60e-01 | 1.98e-03 | 0.00e+00 |\n",
      "|  25   |  25   |  83   | +1.5762e-03 | 5.60e-01 | 5.05e-03 | 0.00e+00 |\n",
      "|  26   |  26   |  84   | +1.5709e-03 | 5.60e-01 | 2.94e-03 | 0.00e+00 |\n",
      "|  27   |  27   |  93   | +1.5042e-03 | 5.60e-01 | 1.54e-03 | 0.00e+00 |\n",
      "|  28   |  28   |  95   | +1.4961e-03 | 5.60e-01 | 1.37e-03 | 0.00e+00 |\n",
      "|  29   |  29   |  105  | +1.4345e-03 | 5.60e-01 | 2.36e-03 | 0.00e+00 |\n",
      "|  30   |  30   |  110  | +1.4172e-03 | 5.60e-01 | 1.51e-03 | 0.00e+00 |\n",
      "|  31   |  31   |  112  | +1.4142e-03 | 5.60e-01 | 5.55e-04 | 0.00e+00 |\n",
      "|  32   |  32   |  123  | +1.3918e-03 | 5.60e-01 | 2.98e-03 | 0.00e+00 |\n",
      "|  33   |  33   |  124  | +1.3896e-03 | 5.60e-01 | 1.43e-03 | 0.00e+00 |\n",
      "|  34   |  34   |  127  | +1.3781e-03 | 5.60e-01 | 4.41e-04 | 0.00e+00 |\n",
      "|  35   |  35   |  141  | +1.3286e-03 | 6.27e-01 | 3.55e-03 | 0.00e+00 |\n",
      "|  36   |  36   |  142  | +1.3246e-03 | 6.27e-01 | 7.25e-04 | 0.00e+00 |\n",
      "|  37   |  37   |  150  | +1.3017e-03 | 6.27e-01 | 6.04e-04 | 0.00e+00 |\n",
      "|  38   |  38   |  160  | +1.2746e-03 | 6.27e-01 | 1.49e-03 | 0.00e+00 |\n",
      "|  39   |  39   |  163  | +1.2685e-03 | 6.27e-01 | 9.62e-04 | 0.00e+00 |\n",
      "|  40   |  40   |  180  | +1.2253e-03 | 9.25e-01 | 1.54e-03 | 0.00e+00 |\n",
      "|  41   |  41   |  183  | +1.2214e-03 | 9.25e-01 | 9.60e-04 | 0.00e+00 |\n",
      "|  42   |  42   |  187  | +1.2147e-03 | 9.25e-01 | 1.72e-03 | 0.00e+00 |\n",
      "|  43   |  43   |  189  | +1.2120e-03 | 9.25e-01 | 5.37e-04 | 0.00e+00 |\n"
     ]
    }
   ],
   "source": [
    "# optimize using SciPy plus wrapped functions above (siobj & sigrad),\n",
    "# starting from the initial theta0 chosen via random sampling\n",
    "#theta0 = np.load('trainedtheta_linear_model_tdhf_fine_dt.npz')\n",
    "res = scipy.optimize.minimize( siobj, \n",
    "                               x0 = theta0,\n",
    "                               method = 'trust-constr', \n",
    "                               jac = sigrad,\n",
    "                               options = {'disp': True, 'verbose': 2, 'xtol': 1e-30, 'gtol': 1e-30, 'maxiter': 200} )"
   ]
  },
  {
   "cell_type": "code",
   "execution_count": null,
   "id": "4b6decd6-9c83-454e-8dfc-7b3a13567bca",
   "metadata": {},
   "outputs": [],
   "source": [
    "# # after training, run some diagnostics\n",
    "\n",
    "# # how far was the initial guess from the *true* theta?\n",
    "# print( jnp.linalg.norm(theta0-thetatrue) )\n",
    "\n",
    "# # how far is the final value of theta from the *true* theta?\n",
    "# print( jnp.linalg.norm(res.x-thetatrue) )"
   ]
  },
  {
   "cell_type": "code",
   "execution_count": null,
   "id": "36c11049-51cb-409a-99c5-d137b9f24a30",
   "metadata": {},
   "outputs": [],
   "source": [
    "# plt.plot(res.x)"
   ]
  },
  {
   "cell_type": "code",
   "execution_count": null,
   "id": "2f9847af-c2ef-455e-82c8-8f9e8484d9be",
   "metadata": {},
   "outputs": [],
   "source": [
    "# with open('./tdcasscf_data/trainedtheta_linear_model_tdcasscf_dt0.008268au.npz', 'wb') as f:\n",
    "#     np.save(f, res.x)"
   ]
  },
  {
   "cell_type": "code",
   "execution_count": null,
   "id": "7cd8a98e-562c-4a00-a856-55954546f20a",
   "metadata": {},
   "outputs": [],
   "source": [
    "# trnden = jnp.array(np.load('./tdhf_data/rt-tdhf_forcing_full_finedt_120ksteps.npz'))\n",
    "# print(trnden.shape)"
   ]
  },
  {
   "cell_type": "code",
   "execution_count": null,
   "id": "79c4d05f-a01f-47f5-b63f-118dea91c799",
   "metadata": {},
   "outputs": [],
   "source": [
    "i = 146\n",
    "ic = trnden[i][0,:,:].reshape((-1))\n",
    "mlprop = MMUT_Prop_HSB(res.x, ic, dt=dt, ntvec=mynumsteps, tmeoff=trntme[i], fldfrq=trnfrq[i], fldamp=trnamp[i])"
   ]
  },
  {
   "cell_type": "code",
   "execution_count": null,
   "id": "9bae0646-76db-4751-b738-b17ad7f36d10",
   "metadata": {},
   "outputs": [],
   "source": [
    "print(jnp.mean(jnp.abs(mlprop - trnden[i][:mynumsteps+1,:,:])**2))\n",
    "fig, axs = plt.subplots(2, 2, figsize=(10,8))\n",
    "axs[0,0].plot(mlprop[:,0,0].real, color='red')\n",
    "axs[0,0].plot(jnp.real(trnden[i][:mynumsteps+1,0,0]),color='black')\n",
    "axs[0,0].set_title('P'+str(0)+str(0)+' Real')\n",
    "\n",
    "axs[0,1].plot(mlprop[:,0,1].real, color='red')\n",
    "axs[0,1].plot(jnp.real(trnden[i][:mynumsteps+1,0,1]),color='black')\n",
    "axs[0,1].set_title('P'+str(0)+str(1)+' Real')\n",
    "\n",
    "axs[1,0].plot(mlprop[:,0,1].imag, color='red')\n",
    "axs[1,0].plot(jnp.imag(trnden[i][:mynumsteps+1,0,1]),color='black')\n",
    "axs[1,0].set_title('P'+str(0)+str(1)+' Imaginary')\n",
    "\n",
    "axs[1,1].plot(mlprop[:,1,1].real, color='red')\n",
    "axs[1,1].plot(jnp.real(trnden[i][:mynumsteps+1,1,1]),color='black')\n",
    "axs[1,1].set_title('P'+str(1)+str(1)+' Real')\n",
    "#plt.savefig('./tdcasscf_data/linear_model_forcing_tdcasscf.pdf')\n",
    "plt.legend(['ML Prop', 'Ground Truth'])\n",
    "plt.show()\n",
    "plt.close()"
   ]
  },
  {
   "cell_type": "code",
   "execution_count": null,
   "id": "237a6f23-d9d6-436a-bf30-2acaaaf95613",
   "metadata": {},
   "outputs": [],
   "source": [
    "# pick one training trajectory, and for this trajectory, \n",
    "# plot the MSE at each point in time between\n",
    "# (1) mlprop, the result we get by propagating using the learned theta from optimization --- \"res.x\",\n",
    "# (2) the ground truth training trajectory\n",
    "for ii in range(140,160):\n",
    "    i = ii\n",
    "    ic = trnden[i][0,:,:].reshape((-1))\n",
    "    mlprop = MMUT_Prop_HSB(jnp.array(res.x), \n",
    "                           ic, dt=dt, ntvec=mynumsteps, tmeoff=trntme[i], fldfrq=trnfrq[i], fldamp=trnamp[i])\n",
    "    #print(mlprop.shape)\n",
    "    #print(trnden[i][:mynumsteps+1,:,:].shape)\n",
    "    print(jnp.mean(jnp.abs(mlprop - trnden[i][:mynumsteps+1,:,:])**2))\n",
    "    plt.figure(figsize=(6,4))\n",
    "    plt.plot(jnp.mean(jnp.abs(mlprop-trnden[i][:mynumsteps+1,:,:])**2,axis=(1,2)))\n",
    "plt.show()"
   ]
  },
  {
   "cell_type": "code",
   "execution_count": null,
   "id": "d1424a8f-e58c-4877-a3e2-c85831fea601",
   "metadata": {},
   "outputs": [],
   "source": [
    "# compute and return all the densities **and** all the Hamiltonians along one trajectory!\n",
    "def MMUT_Save_Ham(theta, initial_density, dt=0.08268, ntvec=2000,\n",
    "                  tmeoff=1, fldfrq=1, fldamp=1, norm_direc=jnp.array([0.0,0.0,1.0])):\n",
    "    tvec = dt*jnp.arange(ntvec)\n",
    "    P0 = initial_density.reshape((drc, drc))\n",
    "    propagated_dens = [P0]\n",
    "    H0 = MLham(theta,0.0,P0.real, P0.imag,fldfrq,fldamp,tmeoff,norm_direc)\n",
    "    H0 = H0[0] + 1.0j*H0[1]\n",
    "    propagated_hams = [H0]\n",
    "    evals, evecs = jnp.linalg.eigh(H0)\n",
    "    U0 = evecs @ jnp.diag(jnp.exp(-1j*dt*evals)) @ evecs.conj().T\n",
    "    P1 = U0 @ P0 @ U0.conj().T\n",
    "    propagated_dens.append( P1 )\n",
    "    def bodyfun(i, intup):\n",
    "        dl, hl = intup\n",
    "        P0 = dl[i, :, :]\n",
    "        P1 = dl[i+1, :, :]\n",
    "        H1 = MLham(theta,(i+1.0)*dt,P1.real, P1.imag,fldfrq,fldamp,tmeoff,norm_direc)\n",
    "        H1 = H1[0] + 1.0j*H1[1]\n",
    "        evals, evecs = jnp.linalg.eigh(H1)\n",
    "        U1 = evecs @ jnp.diag(jnp.exp(-2j*dt*evals)) @ evecs.conj().T\n",
    "        P2 = U1 @ P0 @ U1.conj().T\n",
    "        return (dl.at[i+2].set( P2 ), hl.at[i+1].set( H1 ))\n",
    "    \n",
    "    alldens = jnp.concatenate([jnp.stack(propagated_dens), jnp.zeros((ntvec-1, drc, drc))], axis=0)\n",
    "    allhams = jnp.concatenate([jnp.stack(propagated_hams), jnp.zeros((ntvec-1, drc, drc))], axis=0)\n",
    "    fdh = lax.fori_loop(0, ntvec-1, bodyfun, (alldens, allhams))\n",
    "    \n",
    "    return fdh"
   ]
  },
  {
   "cell_type": "code",
   "execution_count": null,
   "id": "5eacbb5c-9a2c-4df7-8af8-7173c0b913e1",
   "metadata": {},
   "outputs": [],
   "source": [
    "# compute mean square commutator errors for one trajectory\n",
    "def commutatorerror(theta, i):\n",
    "    ic = trnden[i][0,:,:].reshape((-1))\n",
    "    mynumsteps = 4000\n",
    "    mydenham = MMUT_Save_Ham(theta, ic, dt=dt, ntvec=mynumsteps, tmeoff=trntme[i], fldfrq=trnfrq[i], fldamp=trnamp[i])\n",
    "    trdenham = MMUT_Save_Ham(thetatrue, ic, dt=dt, ntvec=mynumsteps, tmeoff=trntme[i], fldfrq=trnfrq[i], fldamp=trnamp[i])\n",
    "\n",
    "    mycom = jnp.einsum('aij,ajk->aik',mydenham[1],mydenham[0][:-1,:,:]) - jnp.einsum('aij,ajk->aik',mydenham[0][:-1,:,:],mydenham[1])\n",
    "    trcom = jnp.einsum('aij,ajk->aik',trdenham[1],trdenham[0][:-1,:,:]) - jnp.einsum('aij,ajk->aik',trdenham[0][:-1,:,:],trdenham[1])\n",
    "\n",
    "    return jnp.mean(jnp.square(jnp.abs(mycom - trcom)))"
   ]
  },
  {
   "cell_type": "code",
   "execution_count": null,
   "id": "2e0c9527-e594-4bfb-bdcd-02ea2ba0b63c",
   "metadata": {},
   "outputs": [],
   "source": [
    "# many trajectory version\n",
    "vcommutatorerror = vmap(commutatorerror, (None, 0))\n",
    "jvcommutatorerror = jit(vcommutatorerror)"
   ]
  },
  {
   "cell_type": "code",
   "execution_count": null,
   "id": "8d9819bb-1e5d-4b81-bf69-72dc9453fb75",
   "metadata": {},
   "outputs": [],
   "source": [
    "# evaluate commutator errors on training set\n",
    "allcommerrs = jvcommutatorerror(jnp.array(res.x), jnp.arange(100))"
   ]
  },
  {
   "cell_type": "code",
   "execution_count": null,
   "id": "c192f924-8873-4b01-ad3e-80babe32fb02",
   "metadata": {},
   "outputs": [],
   "source": [
    "# min, mean, and max commutator error\n",
    "print(jnp.min(allcommerrs), jnp.mean(allcommerrs), jnp.max(allcommerrs))"
   ]
  },
  {
   "cell_type": "code",
   "execution_count": null,
   "id": "6ceb70ef-77d5-48c6-a0f5-37d32a34897b",
   "metadata": {},
   "outputs": [],
   "source": []
  }
 ],
 "metadata": {
  "kernelspec": {
   "display_name": "tensorflow-2.9.0",
   "language": "python",
   "name": "tensorflow-2.9.0"
  },
  "language_info": {
   "codemirror_mode": {
    "name": "ipython",
    "version": 3
   },
   "file_extension": ".py",
   "mimetype": "text/x-python",
   "name": "python",
   "nbconvert_exporter": "python",
   "pygments_lexer": "ipython3",
   "version": "3.9.15"
  }
 },
 "nbformat": 4,
 "nbformat_minor": 5
}
