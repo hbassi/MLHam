{
 "cells": [
  {
   "cell_type": "code",
   "execution_count": 1,
   "id": "4b264029",
   "metadata": {},
   "outputs": [],
   "source": [
    "from jax.config import config\n",
    "config.update(\"jax_enable_x64\", True)\n",
    "\n",
    "import jax\n",
    "import jax.numpy as jnp\n",
    "from jax import jit, grad, jacobian, lax, vmap, pmap\n",
    "\n",
    "import numpy as np\n",
    "import matplotlib\n",
    "import matplotlib.pyplot as plt\n",
    "\n",
    "import scipy.integrate as si\n",
    "import scipy.optimize as so\n",
    "\n",
    "import time"
   ]
  },
  {
   "cell_type": "code",
   "execution_count": 2,
   "id": "6e77fca8",
   "metadata": {},
   "outputs": [],
   "source": [
    "# given time series observations, our goal here is to find f(x)\n",
    "# such that the observations can be predicted using the ODE\n",
    "# dx/dt = \\dot{x} = f(x)"
   ]
  },
  {
   "cell_type": "code",
   "execution_count": 3,
   "id": "88caecac",
   "metadata": {},
   "outputs": [],
   "source": [
    "# typical supervised learning task\n",
    "# you have a lot of (x, y) pairs\n",
    "# you want a function y = f(x)\n",
    "# our problem is different, we never directly observe the thing we're trying to learn (which is f(x))1q\n",
    "dilfac = 1\n",
    "numsteps = 65"
   ]
  },
  {
   "cell_type": "code",
   "execution_count": 4,
   "id": "4f9b2eb4-655f-4be7-8da1-81010262b29b",
   "metadata": {},
   "outputs": [
    {
     "data": {
      "text/plain": [
       "(90, 20000, 2, 2)"
      ]
     },
     "execution_count": 4,
     "metadata": {},
     "output_type": "execute_result"
    }
   ],
   "source": [
    "alltraj = np.load('heh+_training_data.npz')\n",
    "alltraj.shape"
   ]
  },
  {
   "cell_type": "code",
   "execution_count": 5,
   "id": "2f34fd74-a7d0-45b5-84fb-a8d59a9331c3",
   "metadata": {},
   "outputs": [
    {
     "data": {
      "text/plain": [
       "(90, 65, 2)"
      ]
     },
     "execution_count": 5,
     "metadata": {},
     "output_type": "execute_result"
    }
   ],
   "source": [
    "#flatten density matrices into a vector and reshape to be in form \n",
    "trajs = []\n",
    "for i in range(alltraj.shape[0]):\n",
    "    traj = alltraj[i]\n",
    "    steps  = []\n",
    "    for j in range(numsteps):\n",
    "        vec = np.zeros((2,),dtype=np.float64)\n",
    "        denmat = traj[j]\n",
    "        v1 = denmat[0][0]\n",
    "        v2 = denmat[1][1]\n",
    "        vec[0] = v1.real\n",
    "        vec[1] = v2.real\n",
    "        steps.append(vec)\n",
    "    trajs.append(steps)\n",
    "trajs = np.array(trajs)\n",
    "trajs.shape"
   ]
  },
  {
   "cell_type": "code",
   "execution_count": 6,
   "id": "bd320aa4",
   "metadata": {},
   "outputs": [
    {
     "name": "stdout",
     "output_type": "stream",
     "text": [
      "33666\n"
     ]
    }
   ],
   "source": [
    "# now pretend we don't know the vector field but we want to learn it\n",
    "# set up a neural network model for f\n",
    "nlayers = 4\n",
    "\n",
    "# units per hidden layer\n",
    "uphl = 128\n",
    "\n",
    "# dimension of vector field\n",
    "vfd = 2\n",
    "\n",
    "# set up neural network parameters\n",
    "layerwidths = [vfd,uphl,uphl,uphl,vfd]\n",
    "numparams = 0\n",
    "numweights = 0\n",
    "numbiases = 0\n",
    "for j in range(nlayers):\n",
    "    numparams += layerwidths[j]*layerwidths[j+1] + layerwidths[j+1]\n",
    "    numweights += layerwidths[j]*layerwidths[j+1]\n",
    "    numbiases += layerwidths[j+1]\n",
    "\n",
    "# print out total number of parameters\n",
    "print(numparams)\n",
    "\n",
    "# definition of actual neural network function\n",
    "def neuralf(x, theta):\n",
    "    filt = []\n",
    "    si = 0\n",
    "    ei = layerwidths[0]*layerwidths[1]\n",
    "    filt.append( theta[si:ei].reshape((layerwidths[0],layerwidths[1])) )\n",
    "    si += layerwidths[0]*layerwidths[1]\n",
    "    ei += layerwidths[1]*layerwidths[2]\n",
    "    filt.append( theta[si:ei].reshape((layerwidths[1],layerwidths[2])) )\n",
    "    si += layerwidths[1]*layerwidths[2]\n",
    "    ei += layerwidths[2]*layerwidths[3]\n",
    "    filt.append( theta[si:ei].reshape((layerwidths[2],layerwidths[3])) )\n",
    "    si += layerwidths[2]*layerwidths[3]\n",
    "    ei += layerwidths[3]*layerwidths[4]\n",
    "    filt.append( theta[si:ei].reshape((layerwidths[3],layerwidths[4])) )\n",
    "    bias = []\n",
    "    si += layerwidths[3]*layerwidths[4]\n",
    "    ei += layerwidths[1]\n",
    "    bias.append( theta[si:ei] )\n",
    "    si += layerwidths[1]\n",
    "    ei += layerwidths[2]\n",
    "    bias.append( theta[si:ei] )\n",
    "    si += layerwidths[2]\n",
    "    ei += layerwidths[3]\n",
    "    bias.append( theta[si:ei] )\n",
    "    si += layerwidths[3]\n",
    "    ei += layerwidths[4]\n",
    "    bias.append( theta[si:ei] )\n",
    "    inplyr = x\n",
    "    h1 = jax.nn.selu( inplyr @ filt[0] + bias[0] )\n",
    "    h2 = jax.nn.selu( h1 @ filt[1] + bias[1] )\n",
    "    h3 = jax.nn.selu( h2 @ filt[2] + bias[2] )\n",
    "    h4 = h3 @ filt[3] + bias[3]\n",
    "    return h4"
   ]
  },
  {
   "cell_type": "code",
   "execution_count": 7,
   "id": "32cb5d5a",
   "metadata": {},
   "outputs": [],
   "source": [
    "from jax.experimental import ode"
   ]
  },
  {
   "cell_type": "code",
   "execution_count": 8,
   "id": "c17b04e3",
   "metadata": {},
   "outputs": [
    {
     "name": "stdout",
     "output_type": "stream",
     "text": [
      "(90, 65, 2)\n"
     ]
    }
   ],
   "source": [
    "# move training data from NumPy to JAX\n",
    "jalltraj = jnp.array(trajs)\n",
    "print(jalltraj.shape)"
   ]
  },
  {
   "cell_type": "code",
   "execution_count": 9,
   "id": "83e43776",
   "metadata": {},
   "outputs": [],
   "source": [
    "# define JAX function to compute one predicted trajectory\n",
    "def predtraj(y0, theta):\n",
    "    def rhsfunc(y, t):\n",
    "        return neuralf(y, theta)\n",
    "    \n",
    "    intdt = 0.08268/dilfac\n",
    "    intnpts = (numsteps-1)*dilfac + 1\n",
    "    inttint = np.arange(intnpts)*intdt\n",
    "    return ode.odeint(rhsfunc, y0, inttint)"
   ]
  },
  {
   "cell_type": "code",
   "execution_count": 10,
   "id": "e9fb89a3",
   "metadata": {},
   "outputs": [],
   "source": [
    "# now parallelize the above function to handle many initial conditions but one theta\n",
    "vpredtraj = vmap(predtraj, in_axes=(0, None))"
   ]
  },
  {
   "cell_type": "code",
   "execution_count": 11,
   "id": "33e3bf69",
   "metadata": {},
   "outputs": [],
   "source": [
    "# now define loss (or objective function)\n",
    "def obj(y, theta):\n",
    "    # compute all predicted trajectories for fixed theta\n",
    "    predfine = predtraj(y[0,:], theta)\n",
    "    pred = predfine[::dilfac, :]\n",
    "    # now compute mean squared errors between predictions and training data\n",
    "    return jnp.mean(jnp.square(pred - y))"
   ]
  },
  {
   "cell_type": "code",
   "execution_count": 12,
   "id": "c6b0df75",
   "metadata": {},
   "outputs": [],
   "source": [
    "# use JAX to compile objective function\n",
    "jobj = jit(obj)\n",
    "\n",
    "# use JAX to compute gradient and compile it\n",
    "jgradobj = jit(grad(obj,1))"
   ]
  },
  {
   "cell_type": "code",
   "execution_count": 13,
   "id": "6143c8cd",
   "metadata": {},
   "outputs": [],
   "source": [
    "dfdx = jacobian(neuralf, 0)\n",
    "dfdtheta = jacobian(neuralf, 1)"
   ]
  },
  {
   "cell_type": "code",
   "execution_count": 14,
   "id": "50935476",
   "metadata": {},
   "outputs": [],
   "source": [
    "vdfdtheta = vmap(dfdtheta, in_axes=(0,None))"
   ]
  },
  {
   "cell_type": "code",
   "execution_count": 15,
   "id": "0f66f3c7",
   "metadata": {},
   "outputs": [],
   "source": [
    "# adjoint method to compute gradient of objective function\n",
    "# here y stands for one trajectory of observations, of shape (numsteps, 2)\n",
    "def newlagwithgrad(y, theta):\n",
    "    intdt = 0.08268/dilfac\n",
    "    intnpts = (numsteps-1)*dilfac + 1\n",
    "    inttint = np.arange(intnpts)*intdt\n",
    "    \n",
    "    # solve forward problem and compute residual\n",
    "    def rhsfunc(y, t):\n",
    "        return neuralf(y, theta)\n",
    "    \n",
    "    xfine = ode.odeint(rhsfunc, y[0,:], inttint)\n",
    "    \n",
    "    x = xfine[::dilfac,:]\n",
    "    resid = 2*(x - y)\n",
    "    \n",
    "    # compute and save loss for later\n",
    "    obj = jnp.mean(jnp.square(resid))\n",
    "    \n",
    "    # trapezoid rule quadrature weights\n",
    "    w = jnp.concatenate([jnp.array([0.5]),jnp.ones(intnpts-2),jnp.array([0.5])])\n",
    "    \n",
    "    # backward-in-time loop body\n",
    "    # Heun's method backward in time\n",
    "    inth = -intdt\n",
    "    \n",
    "    def bodylamb(j, lambmfine):\n",
    "       \n",
    "        #import pdb; pdb.set_trace()\n",
    "        feval1 = -lambmfine[intnpts-j, :] @ dfdx(xfine[intnpts-j, :], theta) #@ dfdy(xfine[intnpts-j, :].real,xfine[intnpts-j, :].imag, theta)\n",
    "        lambtilde = lambmfine[intnpts-j, :] + inth*feval1\n",
    "        feval2 = -lambtilde @ dfdx(xfine[intnpts-j-1, :], theta) #@ dfdy(xfine[intnpts-j-1,:].real ,xfine[intnpts-j-1, :].imag , theta)\n",
    "        prevlamb = lambmfine[intnpts-j, :] + (inth/2.0)*(feval1 + feval2)\n",
    "        prevlamb += ((intnpts-j-1) % dilfac == 0) * resid[(intnpts-j-1)//dilfac, :]\n",
    "        return lambmfine.at[intnpts-j-1].set( prevlamb )\n",
    "    \n",
    "    # loop initialization\n",
    "    lambmat = jnp.concatenate([ jnp.zeros((intnpts-1, vfd)), resid[[numsteps-1],:] ])\n",
    "    \n",
    "    # actually loop\n",
    "    lambout = lax.fori_loop(1, intnpts, bodylamb, lambmat)\n",
    "    \n",
    "    # straight out of the notes\n",
    "    allg = vdfdtheta(xfine, theta)\n",
    "    gradtheta = intdt*jnp.einsum('ij,ijk,i->k',lambout,allg,w)\n",
    "    gradtheta *= (1.0/(2*numsteps))\n",
    "    return obj, gradtheta\n",
    "\n",
    "jnlwg = jit(newlagwithgrad)"
   ]
  },
  {
   "cell_type": "code",
   "execution_count": 16,
   "id": "587f1455",
   "metadata": {},
   "outputs": [],
   "source": [
    "jnewlagwithgrad = jit(newlagwithgrad)"
   ]
  },
  {
   "cell_type": "code",
   "execution_count": 17,
   "id": "4a30b619",
   "metadata": {},
   "outputs": [],
   "source": [
    "# random initializer\n",
    "def glorotinit():\n",
    "    theta = []\n",
    "    sd = np.sqrt(2.0 / (layerwidths[0]+layerwidths[1]))\n",
    "    theta.append( np.random.normal(size=layerwidths[0]*layerwidths[1])*sd )\n",
    "    sd = np.sqrt(2.0 / (layerwidths[1]+layerwidths[2]))\n",
    "    theta.append( np.random.normal(size=layerwidths[1]*layerwidths[2])*sd )\n",
    "    sd = np.sqrt(2.0 / (layerwidths[2]+layerwidths[3]))\n",
    "    theta.append( np.random.normal(size=layerwidths[2]*layerwidths[3])*sd )\n",
    "    sd = np.sqrt(2.0 / (layerwidths[3]+layerwidths[4]))\n",
    "    theta.append( np.random.normal(size=layerwidths[3]*layerwidths[4])*sd )\n",
    "    theta.append( np.zeros(numbiases) )\n",
    "    theta = np.concatenate(theta)\n",
    "    return theta\n",
    "\n",
    "theta0 = glorotinit()"
   ]
  },
  {
   "cell_type": "code",
   "execution_count": 18,
   "id": "ef171129",
   "metadata": {},
   "outputs": [
    {
     "name": "stdout",
     "output_type": "stream",
     "text": [
      "2.241117477416992\n",
      "2.7400100231170654\n",
      "0.0031994676653449208\n"
     ]
    }
   ],
   "source": [
    "start = time.time()\n",
    "myobj, mygrad = jnewlagwithgrad(jalltraj[0], theta0)\n",
    "end = time.time()\n",
    "print(end-start)\n",
    "\n",
    "start = time.time()\n",
    "jaxobj = jobj(jalltraj[0], theta0)\n",
    "jaxgrad = jgradobj(jalltraj[0], theta0)\n",
    "end = time.time()\n",
    "print(end-start)\n",
    "\n",
    "print(jnp.mean(jnp.abs(jaxgrad-mygrad)))"
   ]
  },
  {
   "cell_type": "code",
   "execution_count": 19,
   "id": "29c81467",
   "metadata": {},
   "outputs": [],
   "source": [
    "jvnewlagwithgrad = jit(vmap(newlagwithgrad, in_axes=(0,None)))"
   ]
  },
  {
   "cell_type": "code",
   "execution_count": 20,
   "id": "f0a1185a",
   "metadata": {},
   "outputs": [],
   "source": [
    "# # for debugging purposes\n",
    "# tobj, tgrad = jvnewlagwithgrad(jalltraj, theta0)"
   ]
  },
  {
   "cell_type": "code",
   "execution_count": 21,
   "id": "bc38bc75-e87f-4036-b688-81469de0003d",
   "metadata": {},
   "outputs": [],
   "source": [
    "# tobj.shape, tgrad.shape"
   ]
  },
  {
   "cell_type": "code",
   "execution_count": 22,
   "id": "5ec34f36",
   "metadata": {},
   "outputs": [],
   "source": [
    "# wrap functions so that we can use them in standard NumPy/SciPy\n",
    "def objgradSP(theta):\n",
    "    jaxobj, jaxgrads = jvnewlagwithgrad(jalltraj, theta)\n",
    "    return jnp.mean(jaxobj).item(), np.array(jnp.mean(jaxgrads,0))"
   ]
  },
  {
   "cell_type": "code",
   "execution_count": 23,
   "id": "d19f8730-45ea-4674-83c4-dd8d9fac07c2",
   "metadata": {},
   "outputs": [],
   "source": [
    "# def siobj(x):\n",
    "#     return np.mean(jvobj(jalltraj,x))\n",
    "\n",
    "# def sigrad(x):\n",
    "#     jaxobj, jaxgrad = jvnewlagwithgrad(jalltraj,x)\n",
    "#     return np.array(jnp.mean( jaxgrad, axis=0 ))"
   ]
  },
  {
   "cell_type": "code",
   "execution_count": null,
   "id": "7bd665ed",
   "metadata": {},
   "outputs": [
    {
     "name": "stdout",
     "output_type": "stream",
     "text": [
      "| niter |f evals|CG iter|  obj func   |tr radius |   opt    |  c viol  |\n",
      "|-------|-------|-------|-------------|----------|----------|----------|\n",
      "|   1   |   1   |   0   | +4.3411e+00 | 1.00e+00 | 8.66e+00 | 0.00e+00 |\n",
      "|   2   |   2   |   1   | +4.3411e+00 | 5.00e-01 | 8.66e+00 | 0.00e+00 |\n",
      "|   3   |   3   |   2   | +4.3411e+00 | 2.50e-01 | 8.66e+00 | 0.00e+00 |\n",
      "|   4   |   4   |   3   | +4.3411e+00 | 1.25e-01 | 8.66e+00 | 0.00e+00 |\n",
      "|   5   |   5   |   4   | +4.3411e+00 | 6.25e-02 | 8.66e+00 | 0.00e+00 |\n",
      "|   6   |   6   |   5   | +7.0242e-01 | 1.25e-01 | 2.03e+00 | 0.00e+00 |\n",
      "|   7   |   7   |   7   | +7.0242e-01 | 3.91e-02 | 2.03e+00 | 0.00e+00 |\n",
      "|   8   |   8   |   9   | +7.0242e-01 | 6.95e-03 | 2.03e+00 | 0.00e+00 |\n",
      "|   9   |   9   |  10   | +3.9732e-01 | 4.86e-02 | 1.61e+00 | 0.00e+00 |\n",
      "|  10   |  10   |  12   | +3.9732e-01 | 4.86e-03 | 1.61e+00 | 0.00e+00 |\n",
      "|  11   |  11   |  14   | +2.0656e-01 | 3.40e-02 | 1.07e+00 | 0.00e+00 |\n",
      "|  12   |  12   |  18   | +2.0656e-01 | 1.01e-02 | 1.07e+00 | 0.00e+00 |\n",
      "|  13   |  13   |  21   | +4.2771e-02 | 7.06e-02 | 9.59e-01 | 0.00e+00 |\n",
      "|  14   |  14   |  24   | +4.2771e-02 | 1.23e-02 | 9.59e-01 | 0.00e+00 |\n",
      "|  15   |  15   |  28   | +1.1094e-02 | 8.62e-02 | 3.49e-01 | 0.00e+00 |\n",
      "|  16   |  16   |  34   | +1.1094e-02 | 8.62e-03 | 3.49e-01 | 0.00e+00 |\n",
      "|  17   |  17   |  41   | +1.0654e-02 | 8.62e-03 | 2.78e-01 | 0.00e+00 |\n",
      "|  18   |  18   |  47   | +1.0654e-02 | 4.31e-03 | 2.78e-01 | 0.00e+00 |\n",
      "|  19   |  19   |  52   | +6.3502e-03 | 2.75e-02 | 2.05e-02 | 0.00e+00 |\n",
      "|  20   |  20   |  55   | +6.3213e-03 | 2.75e-02 | 7.28e-03 | 0.00e+00 |\n",
      "|  21   |  21   |  56   | +6.3204e-03 | 2.75e-02 | 5.43e-03 | 0.00e+00 |\n",
      "|  22   |  22   |  57   | +6.3195e-03 | 2.75e-02 | 1.39e-03 | 0.00e+00 |\n",
      "|  23   |  23   |  61   | +6.3191e-03 | 2.75e-02 | 2.08e-03 | 0.00e+00 |\n",
      "|  24   |  24   |  68   | +6.3191e-03 | 2.75e-03 | 2.08e-03 | 0.00e+00 |\n",
      "|  25   |  25   |  77   | +6.3191e-03 | 1.37e-03 | 2.08e-03 | 0.00e+00 |\n",
      "|  26   |  26   |  85   | +6.3163e-03 | 1.72e-03 | 2.37e-03 | 0.00e+00 |\n",
      "|  27   |  27   |  95   | +6.3103e-03 | 1.20e-02 | 4.97e-03 | 0.00e+00 |\n",
      "|  28   |  28   |  97   | +6.3095e-03 | 1.20e-02 | 3.29e-03 | 0.00e+00 |\n",
      "|  29   |  29   |  99   | +6.3087e-03 | 1.20e-02 | 2.56e-03 | 0.00e+00 |\n",
      "|  30   |  30   |  102  | +6.3087e-03 | 1.20e-03 | 2.56e-03 | 0.00e+00 |\n",
      "|  31   |  31   |  108  | +6.2987e-03 | 8.42e-03 | 6.04e-03 | 0.00e+00 |\n",
      "|  32   |  32   |  110  | +6.2959e-03 | 8.42e-03 | 4.94e-03 | 0.00e+00 |\n",
      "|  33   |  33   |  115  | +6.2156e-03 | 8.42e-03 | 9.64e-03 | 0.00e+00 |\n",
      "|  34   |  34   |  117  | +6.2107e-03 | 8.42e-03 | 1.18e-03 | 0.00e+00 |\n",
      "|  35   |  35   |  120  | +6.2105e-03 | 8.42e-03 | 2.24e-04 | 0.00e+00 |\n",
      "|  36   |  36   |  126  | +6.1859e-03 | 8.42e-03 | 8.41e-03 | 0.00e+00 |\n",
      "|  37   |  37   |  129  | +6.1646e-03 | 8.42e-03 | 1.66e-03 | 0.00e+00 |\n",
      "|  38   |  38   |  132  | +6.1641e-03 | 8.42e-03 | 2.23e-04 | 0.00e+00 |\n"
     ]
    }
   ],
   "source": [
    "# trust region optimizer with SR1 update\n",
    "res = so.minimize(fun=objgradSP, jac=True, x0=theta0, method='trust-constr', \n",
    "                  hess=so.SR1(), options={'gtol': 1e-6, 'xtol': 1e-6, 'verbose': 2})\n",
    "\n",
    "# L-BFGS-B optimizer\n",
    "# res = so.minimize(fun=siobj, jac=sigrad, x0=theta0, method='L-BFGS-B',\n",
    "#                   options={'gtol': 1e-8, 'ftol':1e-8, 'iprint':1})"
   ]
  },
  {
   "cell_type": "code",
   "execution_count": 25,
   "id": "b1dceac4",
   "metadata": {},
   "outputs": [
    {
     "ename": "NameError",
     "evalue": "name 'res' is not defined",
     "output_type": "error",
     "traceback": [
      "\u001b[0;31m---------------------------------------------------------------------------\u001b[0m",
      "\u001b[0;31mNameError\u001b[0m                                 Traceback (most recent call last)",
      "Cell \u001b[0;32mIn[25], line 2\u001b[0m\n\u001b[1;32m      1\u001b[0m \u001b[38;5;66;03m#needs IC\u001b[39;00m\n\u001b[0;32m----> 2\u001b[0m allpreds \u001b[38;5;241m=\u001b[39m vpredtraj(jalltraj[:,\u001b[38;5;241m0\u001b[39m,:], jnp\u001b[38;5;241m.\u001b[39marray(\u001b[43mres\u001b[49m\u001b[38;5;241m.\u001b[39mx))\n",
      "\u001b[0;31mNameError\u001b[0m: name 'res' is not defined"
     ]
    }
   ],
   "source": [
    "#needs IC\n",
    "allpreds = vpredtraj(jalltraj[:,0,:], jnp.array(res.x))"
   ]
  },
  {
   "cell_type": "code",
   "execution_count": null,
   "id": "7dbb5ee5",
   "metadata": {},
   "outputs": [],
   "source": [
    "learnedtrajs = []\n",
    "for i in range(allpreds.shape[0]):\n",
    "    traj = allpreds[0]\n",
    "    steps  = []\n",
    "    for j in range(traj.shape[0]):\n",
    "        diag = traj[0]\n",
    "        steps.append(np.diag(diag))\n",
    "    learnedtrajs.append(steps)"
   ]
  },
  {
   "cell_type": "code",
   "execution_count": null,
   "id": "f8c12c3b-3734-4168-9a91-2a5f215018bf",
   "metadata": {},
   "outputs": [],
   "source": [
    "learnedtrajs = np.array(learnedtrajs)"
   ]
  },
  {
   "cell_type": "code",
   "execution_count": null,
   "id": "76ef0891-aaee-475b-91bc-e27b9a72770e",
   "metadata": {},
   "outputs": [],
   "source": [
    "learnedtrajs.shape"
   ]
  },
  {
   "cell_type": "code",
   "execution_count": null,
   "id": "af2fd042",
   "metadata": {},
   "outputs": [],
   "source": [
    "# # for a grid of initial conditions, generate trajectories\n",
    "# # this is a phase portrait of the LEARNED DYNAMICAL SYSTEM\n",
    "# plt.figure(figsize=(10,6))\n",
    "# for i in range(allpreds.shape[0]):\n",
    "#     plt.plot(allpreds[i,:,1])\n",
    "\n",
    "# plt.show()\n"
   ]
  },
  {
   "cell_type": "code",
   "execution_count": null,
   "id": "dafda366",
   "metadata": {},
   "outputs": [],
   "source": [
    "# # this is a phase portrait of the GROUND TRUTH DYNAMICAL SYSTEM\n",
    "# plt.figure(figsize=(10,6))\n",
    "# for i in range(allpreds.shape[0]):\n",
    "#     plt.plot(trajs[i,:,1].real)\n",
    "\n",
    "# plt.show()\n"
   ]
  },
  {
   "cell_type": "code",
   "execution_count": null,
   "id": "bec782f1",
   "metadata": {},
   "outputs": [],
   "source": [
    "plt.plot(jnp.real(learnedtrajs[10][:,0,0]),color='red')\n",
    "plt.plot(jnp.real(alltraj[10][:numsteps,0,0]),color='black')"
   ]
  },
  {
   "cell_type": "code",
   "execution_count": null,
   "id": "21e0c792-70fc-40e8-a65a-77bdea2a0604",
   "metadata": {},
   "outputs": [],
   "source": [
    "0.5*jnp.mean(jnp.square(allpreds[:,:,0] - trajs[:,:,0]))"
   ]
  },
  {
   "cell_type": "code",
   "execution_count": null,
   "id": "e7cd8a8e-3773-42d6-9ed1-bb3f195aff35",
   "metadata": {},
   "outputs": [],
   "source": [
    "0.5*jnp.mean(jnp.square(allpreds[:,:,1] - trajs[:,:,1]))"
   ]
  },
  {
   "cell_type": "code",
   "execution_count": null,
   "id": "45760c9e-56e3-48bb-8308-1068c3d2ec77",
   "metadata": {},
   "outputs": [],
   "source": [
    "0.5*jnp.mean(jnp.square(allpreds[:,:,:] - trajs[:,:,:]))"
   ]
  }
 ],
 "metadata": {
  "kernelspec": {
   "display_name": "tensorflow-2.9.0",
   "language": "python",
   "name": "tensorflow-2.9.0"
  },
  "language_info": {
   "codemirror_mode": {
    "name": "ipython",
    "version": 3
   },
   "file_extension": ".py",
   "mimetype": "text/x-python",
   "name": "python",
   "nbconvert_exporter": "python",
   "pygments_lexer": "ipython3",
   "version": "3.9.15"
  }
 },
 "nbformat": 4,
 "nbformat_minor": 5
}
