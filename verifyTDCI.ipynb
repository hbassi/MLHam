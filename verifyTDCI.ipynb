{
 "cells": [
  {
   "cell_type": "code",
   "execution_count": 1,
   "metadata": {},
   "outputs": [],
   "source": [
    "from matplotlib import pyplot as plt\n",
    "import numpy as np"
   ]
  },
  {
   "cell_type": "code",
   "execution_count": 2,
   "metadata": {},
   "outputs": [
    {
     "data": {
      "text/plain": [
       "array([[0, 1],\n",
       "       [0, 0]])"
      ]
     },
     "execution_count": 2,
     "metadata": {},
     "output_type": "execute_result"
    }
   ],
   "source": [
    "c0hf = 0.9625707\n",
    "c1hf = -0.2691179\n",
    "c2hf = 0.0321435\n",
    "c2b1b0 = 0.1903932\n",
    "c2b1b1 = 0.6809922 \n",
    "c2b1b2 = 0.0000088\n",
    "c2a1a0 = c2b1b0\n",
    "c2a1a1 = c2b1b1\n",
    "c2a1a2 = c2b1b2\n",
    "c22110 = -0.0309597 \n",
    "c22111 = 0.0086428\n",
    "c22112 = 0.9994833\n",
    "##########################################################################################################################\n",
    "phi1 = np.array([1,0]).reshape((2,1))\n",
    "phi2 = np.array([0, 1]).reshape((2,1))\n",
    "chf = {0: c0hf, 1: c1hf, 2:  c2hf}\n",
    "c2b1b = {0: c2b1b0, 1: c2b1b1, 2:  c2b1b2}\n",
    "c2a1a = {0: c2a1a0, 1: c2a1a1, 2:  c2a1a2}\n",
    "c2211 = {0: c22110, 1: c22111, 2:  c22112}\n",
    "phi1 @ phi2.T"
   ]
  },
  {
   "cell_type": "code",
   "execution_count": 3,
   "metadata": {},
   "outputs": [],
   "source": [
    "# tran_den_mat = {}\n",
    "# for i in range(0,3):\n",
    "#     for j in range(i,3):\n",
    "#         tran_den_mat[str(i)+str(j)] = np.load('denmat_ci/dens_ci_'+str(i)+'_'+str(j)+'_AO.npz')['arr_0']\n",
    "# tran_den_mat['10'] = tran_den_mat['01']\n",
    "# tran_den_mat['20'] = tran_den_mat['02']\n",
    "# tran_den_mat['21'] = tran_den_mat['12']\n",
    "# tran_den_mat"
   ]
  },
  {
   "cell_type": "code",
   "execution_count": 21,
   "metadata": {},
   "outputs": [
    {
     "data": {
      "text/plain": [
       "array([[[[ 1.92558385,  0.        ],\n",
       "         [ 0.        ,  0.07441615]],\n",
       "\n",
       "        [[-0.25877744,  0.        ],\n",
       "         [ 0.        ,  0.25877741]],\n",
       "\n",
       "        [[ 0.06188413,  0.        ],\n",
       "         [ 0.        , -0.06188406]]],\n",
       "\n",
       "\n",
       "       [[[-0.25877744,  0.        ],\n",
       "         [ 0.        ,  0.25877741]],\n",
       "\n",
       "        [[ 1.07234964,  0.        ],\n",
       "         [ 0.        ,  0.92765015]],\n",
       "\n",
       "        [[-0.0172888 ,  0.        ],\n",
       "         [ 0.        ,  0.01728865]]],\n",
       "\n",
       "\n",
       "       [[[ 0.06188413,  0.        ],\n",
       "         [ 0.        , -0.06188406]],\n",
       "\n",
       "        [[-0.0172888 ,  0.        ],\n",
       "         [ 0.        ,  0.01728865]],\n",
       "\n",
       "        [[ 0.00206641,  0.        ],\n",
       "         [ 0.        ,  1.99793373]]]])"
      ]
     },
     "execution_count": 21,
     "metadata": {},
     "output_type": "execute_result"
    }
   ],
   "source": [
    "tens = np.zeros((3,3,2,2))\n",
    "for i in range(0,3):\n",
    "    for j in range(0,3):\n",
    "        tens [i,j,:,:] = 2 * (chf[i]*chf[j] *(phi1 @phi1.T) + (1/2)*c2a1a[i]*c2a1a[j]*(phi1 @phi1.T + phi2 @phi2.T) \n",
    "                                           +(1/2) * c2b1b[i]*c2b1b[j]*(phi1 @phi1.T + phi2 @phi2.T) + c2211[i]*c2211[j]*(phi2 @phi2.T)\n",
    "                                          +(1/2) * (chf[i]*c2a1a[j] * (phi1 @ phi2.T) + c2a1a[i]*chf[j]*(phi2 @ phi1.T))\n",
    "                                          -(1/2) * (chf[i]*c2b1b[j] * (phi1 @ phi2.T) + c2b1b[i]*chf[j]*(phi2 @ phi1.T))\n",
    "                                          -(1/2) * (c2a1a[i]*c2211[j] * (phi1 @ phi2.T) + c2211[i]*c2a1a[j]*(phi2 @ phi1.T))\n",
    "                                          +(1/2) * (c2b1b[i]*c2211[j] * (phi1 @ phi2.T) + c2211[i]*c2b1b[j]*(phi2 @ phi1.T)))\n",
    "    \n",
    "tens\n",
    "#can compare this MO -> AO with saved Gaussian"
   ]
  },
  {
   "cell_type": "code",
   "execution_count": 5,
   "metadata": {},
   "outputs": [],
   "source": [
    "# tens = []\n",
    "# for key in tran_den_mat.keys():\n",
    "#     tens.append(tran_den_mat[key])\n",
    "# tens = np.array(tens).reshape(3,3,2,2)"
   ]
  },
  {
   "cell_type": "code",
   "execution_count": 6,
   "metadata": {},
   "outputs": [
    {
     "data": {
      "text/plain": [
       "['td_dens_im_data', 'td_dens_re_data']"
      ]
     },
     "execution_count": 6,
     "metadata": {},
     "output_type": "execute_result"
    }
   ],
   "source": [
    "full_den_mats = np.load('td_dens_tdcasscf_heh+_sto-3g_046_dt=0.082680au.npz',allow_pickle=True)\n",
    "full_den_mats.files"
   ]
  },
  {
   "cell_type": "code",
   "execution_count": 7,
   "metadata": {},
   "outputs": [
    {
     "data": {
      "text/plain": [
       "(20073, 2, 2)"
      ]
     },
     "execution_count": 7,
     "metadata": {},
     "output_type": "execute_result"
    }
   ],
   "source": [
    "full_den_mats = full_den_mats['td_dens_re_data'] + 1j*full_den_mats['td_dens_im_data']\n",
    "full_den_mats.shape"
   ]
  },
  {
   "cell_type": "code",
   "execution_count": 8,
   "metadata": {},
   "outputs": [],
   "source": [
    "C = np.load('denmat_ci/ke+en+overlap+ee_twoe+dip_casscf22_heh+_sto-3g.npz')['cMO_colvec_data']\n",
    "S = np.load('denmat_ci/ke+en+overlap+ee_twoe+dip_casscf22_heh+_sto-3g.npz')['overlap_data']"
   ]
  },
  {
   "cell_type": "code",
   "execution_count": 9,
   "metadata": {},
   "outputs": [],
   "source": [
    "numsteps = full_den_mats.shape[0]\n",
    "traces = np.einsum('ij,jk,akl,lm,mi -> a', C.T,S,full_den_mats,S,C)"
   ]
  },
  {
   "cell_type": "code",
   "execution_count": 10,
   "metadata": {},
   "outputs": [
    {
     "data": {
      "image/png": "[encoded data removed]",
      "text/plain": [
       "<Figure size 432x288 with 1 Axes>"
      ]
     },
     "metadata": {
      "needs_background": "light"
     },
     "output_type": "display_data"
    }
   ],
   "source": [
    "plt.plot(np.arange(0,numsteps), np.array(traces).real);"
   ]
  },
  {
   "cell_type": "code",
   "execution_count": 11,
   "metadata": {},
   "outputs": [
    {
     "data": {
      "image/png": "[encoded data removed]",
      "text/plain": [
       "<Figure size 432x288 with 1 Axes>"
      ]
     },
     "metadata": {
      "needs_background": "light"
     },
     "output_type": "display_data"
    }
   ],
   "source": [
    "plt.plot(np.arange(0,numsteps), np.array(traces).imag);"
   ]
  },
  {
   "cell_type": "code",
   "execution_count": 12,
   "metadata": {},
   "outputs": [
    {
     "data": {
      "text/plain": [
       "(20071, 5)"
      ]
     },
     "execution_count": 12,
     "metadata": {},
     "output_type": "execute_result"
    }
   ],
   "source": [
    "time_coeffs = np.loadtxt('time_coeffs.tdcasscf_heh+_sto-3g_046_dt=0.082680au.txt',dtype=np.cdouble)\n",
    "time_coeffs.shape"
   ]
  },
  {
   "cell_type": "code",
   "execution_count": 13,
   "metadata": {},
   "outputs": [],
   "source": [
    "#deletes timestamp\n",
    "time_coeffs = np.delete(time_coeffs,0,1)"
   ]
  },
  {
   "cell_type": "code",
   "execution_count": 14,
   "metadata": {},
   "outputs": [
    {
     "data": {
      "text/plain": [
       "array([1.        , 1.00000001, 0.99999999, ..., 1.        , 1.        ,\n",
       "       1.        ])"
      ]
     },
     "execution_count": 14,
     "metadata": {},
     "output_type": "execute_result"
    }
   ],
   "source": [
    "np.sum(np.abs(np.square(time_coeffs)),axis=1)"
   ]
  },
  {
   "cell_type": "code",
   "execution_count": 15,
   "metadata": {},
   "outputs": [
    {
     "data": {
      "text/plain": [
       "array([1.        , 1.00000001, 0.99999999, ..., 1.        , 1.        ,\n",
       "       1.        ])"
      ]
     },
     "execution_count": 15,
     "metadata": {},
     "output_type": "execute_result"
    }
   ],
   "source": [
    "#deletes 0 column\n",
    "time_coeffs2 = np.delete(time_coeffs,1,1)\n",
    "time_coeffs2\n",
    "np.sum(np.abs(np.square(time_coeffs2)),axis=1)"
   ]
  },
  {
   "cell_type": "code",
   "execution_count": 16,
   "metadata": {},
   "outputs": [
    {
     "data": {
      "image/png": "[encoded data removed]",
      "text/plain": [
       "<Figure size 432x288 with 1 Axes>"
      ]
     },
     "metadata": {
      "needs_background": "light"
     },
     "output_type": "display_data"
    }
   ],
   "source": [
    "plt.plot(np.arange(0,time_coeffs2.shape[0]),np.sum(np.abs(np.square(time_coeffs2)),axis=1));"
   ]
  },
  {
   "cell_type": "code",
   "execution_count": 17,
   "metadata": {},
   "outputs": [],
   "source": [
    "# traces = []\n",
    "# for k in range(len(time_coeffs)):\n",
    "#     timestep = time_coeffs2[k]\n",
    "#     trace = 0\n",
    "#     for den_mat in tran_den_mat.keys():\n",
    "#         for i in range(0,3):\n",
    "#             for j in range(i,3):\n",
    "#                 trace += timestep[i] * np.conjugate(timestep[j]) *  np.trace(tran_den_mat[str(i)+str(j)])\n",
    "#     traces.append(trace)\n",
    "# traces = np.array(traces)\n",
    "#np.min(traces),np.max(traces)"
   ]
  },
  {
   "cell_type": "code",
   "execution_count": 18,
   "metadata": {},
   "outputs": [],
   "source": [
    "#plt.plot(np.arange(0,time_coeffs.shape[0]),traces);"
   ]
  },
  {
   "cell_type": "code",
   "execution_count": 26,
   "metadata": {},
   "outputs": [],
   "source": [
    "#this is the training data for MMUT ()\n",
    "rdmMO = np.einsum('ni,nj,ijab->nab',time_coeffs2, np.conjugate(time_coeffs2), tens)"
   ]
  },
  {
   "cell_type": "code",
   "execution_count": 28,
   "metadata": {},
   "outputs": [
    {
     "name": "stdout",
     "output_type": "stream",
     "text": [
      "(2.0000000124161446+2.829090043829363e-19j) (1.9999999564319597+9.24959978401696e-19j)\n"
     ]
    },
    {
     "name": "stderr",
     "output_type": "stream",
     "text": [
      "C:\\Users\\Hardeep\\anaconda3\\lib\\site-packages\\numpy\\core\\_asarray.py:83: ComplexWarning: Casting complex values to real discards the imaginary part\n",
      "  return array(a, dtype, copy=False, order=order)\n"
     ]
    },
    {
     "data": {
      "image/png": "[encoded data removed]",
      "text/plain": [
       "<Figure size 432x288 with 1 Axes>"
      ]
     },
     "metadata": {
      "needs_background": "light"
     },
     "output_type": "display_data"
    }
   ],
   "source": [
    "traces = np.einsum('ijj ->i',rdmMO)\n",
    "print(np.max(traces),np.min(traces))\n",
    "plt.plot(np.arange(0,time_coeffs2.shape[0]),traces);"
   ]
  },
  {
   "cell_type": "code",
   "execution_count": null,
   "metadata": {},
   "outputs": [],
   "source": []
  }
 ],
 "metadata": {
  "kernelspec": {
   "display_name": "Python 3",
   "language": "python",
   "name": "python3"
  },
  "language_info": {
   "codemirror_mode": {
    "name": "ipython",
    "version": 3
   },
   "file_extension": ".py",
   "mimetype": "text/x-python",
   "name": "python",
   "nbconvert_exporter": "python",
   "pygments_lexer": "ipython3",
   "version": "3.8.5"
  }
 },
 "nbformat": 4,
 "nbformat_minor": 4
}
