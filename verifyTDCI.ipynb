{
 "cells": [
  {
   "cell_type": "code",
   "execution_count": 1,
   "metadata": {},
   "outputs": [],
   "source": [
    "from matplotlib import pyplot as plt\n",
    "import numpy as np\n",
    "#TODO make separate notebooks for each system"
   ]
  },
  {
   "cell_type": "code",
   "execution_count": 2,
   "metadata": {},
   "outputs": [],
   "source": [
    "# #uncomment this block for HeH+\n",
    "# sys = 'heh+'\n",
    "# c0hf = 0.9625707\n",
    "# c1hf = -0.13322676E-14 \n",
    "# c2hf = -0.2691179\n",
    "# c3hf = 0.0321435\n",
    "\n",
    "# c2b1b0 = 0.1903932\n",
    "# c2b1b1 = 0.70710678\n",
    "# c2b1b2 = 0.6809922 \n",
    "# c2b1b3 = 0.0000088\n",
    "\n",
    "# c2a1a0 = c2b1b0\n",
    "# c2a1a1 = -0.70710678 \n",
    "# c2a1a2 = c2b1b2\n",
    "# c2a1a3 = c2b1b3\n",
    "\n",
    "# c22110 = -0.0309597 \n",
    "# c22111 = 0.57112365E-16\n",
    "# c22112 = 0.0086428\n",
    "# c22113 = 0.9994833"
   ]
  },
  {
   "cell_type": "code",
   "execution_count": 3,
   "metadata": {},
   "outputs": [],
   "source": [
    "#uncomment this block for HeH+\n",
    "sys = 'heh+'\n",
    "c0hf = 0.9625707\n",
    "c1hf = -0.2691179\n",
    "c2hf = 0.0321435\n",
    "c2b1b0 = 0.1903932\n",
    "c2b1b1 = 0.6809922 \n",
    "c2b1b2 = 0.0000088\n",
    "c2a1a0 = c2b1b0\n",
    "c2a1a1 = c2b1b1\n",
    "c2a1a2 = c2b1b2\n",
    "c22110 = -0.0309597 \n",
    "c22111 = 0.0086428\n",
    "c22112 = 0.999483"
   ]
  },
  {
   "cell_type": "code",
   "execution_count": 4,
   "metadata": {},
   "outputs": [],
   "source": [
    "# #uncomment this block for H2\n",
    "# sys = 'h2'\n",
    "# c0hf = 0.99364675\n",
    "# c1hf = 0.66613381E-15\n",
    "# c2hf = 0.11254389\n",
    "\n",
    "# c2b1b0 = -0.21448983E-15\n",
    "# c2b1b1 = 0.70710678 \n",
    "# c2b1b2 = -0.93431708E-16\n",
    "\n",
    "# c2a1a0 = 0.11102230E-14\n",
    "# c2a1a1 = 0.70710678\n",
    "# c2a1a2 = -0.18041124E-15\n",
    "\n",
    "# c22110 = -0.11254389 \n",
    "# c22111 =  0.26197948E-15\n",
    "# c22112 = 0.99364675  "
   ]
  },
  {
   "cell_type": "code",
   "execution_count": 5,
   "metadata": {},
   "outputs": [],
   "source": [
    "#form basis and dictionary of CI coefficients\n",
    "phi1 = np.array([1,0]).reshape((2,1))\n",
    "phi2 = np.array([0, 1]).reshape((2,1))\n",
    "chf = {0: c0hf, 1: c1hf, 2:  c2hf }\n",
    "c2b1b = {0: c2b1b0, 1: c2b1b1, 2:  c2b1b2}\n",
    "c2a1a = {0: c2a1a0, 1: c2a1a1, 2:  c2a1a2}\n",
    "c2211 = {0: c22110, 1: c22111, 2:  c22112}"
   ]
  },
  {
   "cell_type": "code",
   "execution_count": 6,
   "metadata": {},
   "outputs": [],
   "source": [
    "# #form basis and dictionary of CI coefficients\n",
    "# phi1 = np.array([1,0]).reshape((2,1))\n",
    "# phi2 = np.array([0, 1]).reshape((2,1))\n",
    "# chf = {0: c0hf, 1: c1hf, 2:  c2hf}\n",
    "# c2b1b = {0: c2b1b0, 1: c2b1b1, 2:  c2b1b2}\n",
    "# c2a1a = {0: c2a1a0, 1: c2a1a1, 2:  c2a1a2}\n",
    "# c2211 = {0: c22110, 1: c22111, 2:  c22112}"
   ]
  },
  {
   "cell_type": "code",
   "execution_count": 7,
   "metadata": {},
   "outputs": [],
   "source": [
    "#this loads in the AO basis data saved to disk from Gaussian\n",
    "# tran_den_mat = {}\n",
    "# for i in range(0,3):\n",
    "#     for j in range(i,3):\n",
    "#         tran_den_mat[str(i)+str(j)] = np.load('denmat_ci/dens_ci_'+str(i)+'_'+str(j)+'_AO.npz')['arr_0']\n",
    "# tran_den_mat['10'] = tran_den_mat['01']\n",
    "# tran_den_mat['20'] = tran_den_mat['02']\n",
    "# tran_den_mat['21'] = tran_den_mat['12']\n",
    "# tran_den_mat"
   ]
  },
  {
   "cell_type": "code",
   "execution_count": 8,
   "metadata": {},
   "outputs": [
    {
     "name": "stdout",
     "output_type": "stream",
     "text": [
      "TRACE:  1.99999999347012 00\n",
      "TRACE:  -3.122922009879403e-08 01\n",
      "TRACE:  9.676133999603209e-08 02\n",
      "TRACE:  -3.122922009879403e-08 10\n",
      "TRACE:  1.99999979002786 11\n",
      "TRACE:  -1.4816705999620705e-07 12\n",
      "TRACE:  9.676133999603209e-08 20\n",
      "TRACE:  -1.4816705999620705e-07 21\n",
      "TRACE:  1.9999989440722603 22\n"
     ]
    },
    {
     "data": {
      "text/plain": [
       "array([[[[ 1.92558385,  0.        ],\n",
       "         [ 0.        ,  0.07441615]],\n",
       "\n",
       "        [[-0.25877744,  0.        ],\n",
       "         [ 0.        ,  0.25877741]],\n",
       "\n",
       "        [[ 0.06188413,  0.        ],\n",
       "         [ 0.        , -0.06188404]]],\n",
       "\n",
       "\n",
       "       [[[-0.25877744,  0.        ],\n",
       "         [ 0.        ,  0.25877741]],\n",
       "\n",
       "        [[ 1.07234964,  0.        ],\n",
       "         [ 0.        ,  0.92765015]],\n",
       "\n",
       "        [[-0.0172888 ,  0.        ],\n",
       "         [ 0.        ,  0.01728865]]],\n",
       "\n",
       "\n",
       "       [[[ 0.06188413,  0.        ],\n",
       "         [ 0.        , -0.06188404]],\n",
       "\n",
       "        [[-0.0172888 ,  0.        ],\n",
       "         [ 0.        ,  0.01728865]],\n",
       "\n",
       "        [[ 0.00206641,  0.        ],\n",
       "         [ 0.        ,  1.99793253]]]])"
      ]
     },
     "execution_count": 8,
     "metadata": {},
     "output_type": "execute_result"
    }
   ],
   "source": [
    "tens = np.zeros((3,3,2,2))\n",
    "for i in range(0,3):\n",
    "    for j in range(0,3):\n",
    "        tens [i,j,:,:] = 2 * (chf[i]*chf[j] *(phi1 @phi1.T) + (1/2)*c2a1a[i]*c2a1a[j]*(phi1 @phi1.T + phi2 @phi2.T) \n",
    "                                           +(1/2) * c2b1b[i]*c2b1b[j]*(phi1 @phi1.T + phi2 @phi2.T) + c2211[i]*c2211[j]*(phi2 @phi2.T)\n",
    "                                          +(1/2) * (chf[i]*c2a1a[j] * (phi1 @ phi2.T) + c2a1a[i]*chf[j]*(phi2 @ phi1.T))\n",
    "                                          -(1/2) * (chf[i]*c2b1b[j] * (phi1 @ phi2.T) + c2b1b[i]*chf[j]*(phi2 @ phi1.T))\n",
    "                                          -(1/2) * (c2a1a[i]*c2211[j] * (phi1 @ phi2.T) + c2211[i]*c2a1a[j]*(phi2 @ phi1.T))\n",
    "                                          +(1/2) * (c2b1b[i]*c2211[j] * (phi1 @ phi2.T) + c2211[i]*c2b1b[j]*(phi2 @ phi1.T)))\n",
    "        print('TRACE: ',np.trace(tens [i,j,:,:]),str(i)+str(j))\n",
    "    \n",
    "tens\n",
    "#can compare this MO -> AO with saved Gaussian"
   ]
  },
  {
   "cell_type": "code",
   "execution_count": 9,
   "metadata": {},
   "outputs": [
    {
     "data": {
      "text/plain": [
       "['td_dens_im_data', 'td_dens_re_data']"
      ]
     },
     "execution_count": 9,
     "metadata": {},
     "output_type": "execute_result"
    }
   ],
   "source": [
    "full_den_mats = np.load(sys+'/td_dens_tdcasscf_'+sys+'_sto-3g_046_dt=0.082680au.npz',allow_pickle=True)\n",
    "full_den_mats.files"
   ]
  },
  {
   "cell_type": "code",
   "execution_count": 10,
   "metadata": {},
   "outputs": [
    {
     "data": {
      "text/plain": [
       "(20073, 2, 2)"
      ]
     },
     "execution_count": 10,
     "metadata": {},
     "output_type": "execute_result"
    }
   ],
   "source": [
    "full_den_mats = full_den_mats['td_dens_re_data'] + 1j*full_den_mats['td_dens_im_data']\n",
    "full_den_mats.shape"
   ]
  },
  {
   "cell_type": "code",
   "execution_count": 11,
   "metadata": {},
   "outputs": [],
   "source": [
    "# C = np.load('denmat_ci_H2/ke+en+overlap+ee_twoe+dip_casscf22_h2_sto-3g.npz')['cMO_colvec_data']\n",
    "# S = np.load('denmat_ci_H2/ke+en+overlap+ee_twoe+dip_casscf22_h2_sto-3g.npz')['overlap_data']"
   ]
  },
  {
   "cell_type": "code",
   "execution_count": 12,
   "metadata": {},
   "outputs": [
    {
     "data": {
      "text/plain": [
       "(20071, 5)"
      ]
     },
     "execution_count": 12,
     "metadata": {},
     "output_type": "execute_result"
    }
   ],
   "source": [
    "time_coeffs = np.loadtxt(sys+'/time_coeffs.tdcasscf_'+sys+'_sto-3g_046_dt=0.082680au.txt',dtype=np.cdouble)\n",
    "time_coeffs.shape"
   ]
  },
  {
   "cell_type": "code",
   "execution_count": 13,
   "metadata": {},
   "outputs": [],
   "source": [
    "#deletes time column \n",
    "time_coeffs = np.delete(time_coeffs,0,1)"
   ]
  },
  {
   "cell_type": "code",
   "execution_count": 14,
   "metadata": {},
   "outputs": [
    {
     "data": {
      "text/plain": [
       "array([1.        , 1.00000001, 0.99999999, ..., 1.        , 1.        ,\n",
       "       1.        ])"
      ]
     },
     "execution_count": 14,
     "metadata": {},
     "output_type": "execute_result"
    }
   ],
   "source": [
    "#ensuring normalization\n",
    "np.sum(np.square(np.abs(time_coeffs)),axis=1)"
   ]
  },
  {
   "cell_type": "code",
   "execution_count": 15,
   "metadata": {},
   "outputs": [],
   "source": [
    "#deletes 0 coefficient column\n",
    "time_coeffs2 = np.delete(time_coeffs,1,1)"
   ]
  },
  {
   "cell_type": "code",
   "execution_count": 16,
   "metadata": {},
   "outputs": [
    {
     "name": "stdout",
     "output_type": "stream",
     "text": [
      "[1.         1.00000001 0.99999999 ... 1.         1.         1.        ]\n"
     ]
    },
    {
     "data": {
      "image/png": "[encoded data removed]",
      "text/plain": [
       "<Figure size 432x288 with 1 Axes>"
      ]
     },
     "metadata": {
      "needs_background": "light"
     },
     "output_type": "display_data"
    }
   ],
   "source": [
    "#ensuring normalization\n",
    "print(np.sum(np.abs(np.square(time_coeffs2)),axis=1))\n",
    "plt.plot(np.arange(0,time_coeffs2.shape[0]),np.sum(np.abs(np.square(time_coeffs2)),axis=1));"
   ]
  },
  {
   "cell_type": "code",
   "execution_count": 17,
   "metadata": {},
   "outputs": [],
   "source": [
    "# vals = []\n",
    "# for i in range(time_coeffs2.shape[0]):\n",
    "#     x = np.random.normal(size=4) + 1j*np.random.normal(size=4)\n",
    "#     x /= np.sqrt(np.sum(np.abs(x)**2))\n",
    "#     vals.append(x)\n",
    "# vals = np.array(vals)\n",
    "# time_coeffs2 = vals\n",
    "# np.max((np.sum(np.abs(np.square(vals)),axis=1))), np.min((np.sum(np.abs(np.square(vals)),axis=1)))"
   ]
  },
  {
   "cell_type": "code",
   "execution_count": 20,
   "metadata": {},
   "outputs": [
    {
     "data": {
      "text/plain": [
       "array([[[1.92557198+9.72858751e-21j, 0.        +0.00000000e+00j],\n",
       "        [0.        +0.00000000e+00j, 0.07442801+5.40800991e-21j]],\n",
       "\n",
       "       [[1.92552362+1.87517709e-20j, 0.        +0.00000000e+00j],\n",
       "        [0.        +0.00000000e+00j, 0.07447638-2.27639071e-20j]],\n",
       "\n",
       "       [[1.92541302+3.70246042e-21j, 0.        +0.00000000e+00j],\n",
       "        [0.        +0.00000000e+00j, 0.07458696+3.44578628e-20j]],\n",
       "\n",
       "       ...,\n",
       "\n",
       "       [[1.98118733-1.21295118e-18j, 0.        +0.00000000e+00j],\n",
       "        [0.        +0.00000000e+00j, 0.01881266+1.24005623e-18j]],\n",
       "\n",
       "       [[1.97553651+2.87991202e-18j, 0.        +0.00000000e+00j],\n",
       "        [0.        +0.00000000e+00j, 0.02446348+6.64073831e-19j]],\n",
       "\n",
       "       [[1.96915395-1.88041314e-18j, 0.        +0.00000000e+00j],\n",
       "        [0.        +0.00000000e+00j, 0.03084604+1.34847645e-18j]]])"
      ]
     },
     "execution_count": 20,
     "metadata": {},
     "output_type": "execute_result"
    }
   ],
   "source": [
    "#this is the training data for MMUT ()\n",
    "rdmMO = np.einsum('ni,nj,ijab->nab',time_coeffs2, np.conjugate(time_coeffs2), tens)\n",
    "rdmMO"
   ]
  },
  {
   "cell_type": "code",
   "execution_count": 21,
   "metadata": {},
   "outputs": [
    {
     "name": "stdout",
     "output_type": "stream",
     "text": [
      "(2.000000012557793+6.788969072243217e-19j) (1.9999999563759485+5.861467994999758e-19j)\n"
     ]
    },
    {
     "name": "stderr",
     "output_type": "stream",
     "text": [
      "C:\\Users\\Hardeep\\anaconda3\\lib\\site-packages\\numpy\\core\\_asarray.py:83: ComplexWarning: Casting complex values to real discards the imaginary part\n",
      "  return array(a, dtype, copy=False, order=order)\n"
     ]
    },
    {
     "data": {
      "image/png": "[encoded data removed]",
      "text/plain": [
       "<Figure size 432x288 with 1 Axes>"
      ]
     },
     "metadata": {
      "needs_background": "light"
     },
     "output_type": "display_data"
    }
   ],
   "source": [
    "traces = np.einsum('ijj ->i',rdmMO)\n",
    "print(np.max(traces),np.min(traces))\n",
    "plt.plot(np.arange(0,time_coeffs2.shape[0]),traces);"
   ]
  },
  {
   "cell_type": "code",
   "execution_count": null,
   "metadata": {},
   "outputs": [],
   "source": []
  }
 ],
 "metadata": {
  "kernelspec": {
   "display_name": "Python 3",
   "language": "python",
   "name": "python3"
  },
  "language_info": {
   "codemirror_mode": {
    "name": "ipython",
    "version": 3
   },
   "file_extension": ".py",
   "mimetype": "text/x-python",
   "name": "python",
   "nbconvert_exporter": "python",
   "pygments_lexer": "ipython3",
   "version": "3.8.5"
  }
 },
 "nbformat": 4,
 "nbformat_minor": 4
}
