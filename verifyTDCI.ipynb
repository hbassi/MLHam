{
 "cells": [
  {
   "cell_type": "code",
   "execution_count": 1,
   "metadata": {},
   "outputs": [],
   "source": [
    "from matplotlib import pyplot as plt\n",
    "import numpy as np\n",
    "#TODO make separate notebooks for each system"
   ]
  },
  {
   "cell_type": "code",
   "execution_count": 2,
   "metadata": {},
   "outputs": [],
   "source": [
    "# #uncomment this block for HeH+\n",
    "sys = 'heh+'\n",
    "c0hf = 0.9625707\n",
    "c1hf = -0.13322676E-14 \n",
    "c2hf = -0.2691179\n",
    "c3hf = 0.0321435\n",
    "\n",
    "c2b1b0 = 0.1903932\n",
    "c2b1b1 = 0.70710678\n",
    "c2b1b2 = 0.6809922 \n",
    "c2b1b3 = 0.0000088\n",
    "\n",
    "c2a1a0 = c2b1b0\n",
    "c2a1a1 = -0.70710678 \n",
    "c2a1a2 = c2b1b2\n",
    "c2a1a3 = c2b1b3\n",
    "\n",
    "c22110 = -0.0309597 \n",
    "c22111 = 0.57112365E-16\n",
    "c22112 = 0.0086428\n",
    "c22113 = 0.9994833"
   ]
  },
  {
   "cell_type": "code",
   "execution_count": 3,
   "metadata": {},
   "outputs": [],
   "source": [
    "# #uncomment this block for HeH+\n",
    "# sys = 'heh+'\n",
    "# c0hf = 0.9625707\n",
    "# c1hf = -0.2691179\n",
    "# c2hf = 0.0321435\n",
    "# c2b1b0 = 0.1903932\n",
    "# c2b1b1 = 0.6809922 \n",
    "# c2b1b2 = 0.0000088\n",
    "# c2a1a0 = c2b1b0\n",
    "# c2a1a1 = c2b1b1\n",
    "# c2a1a2 = c2b1b2\n",
    "# c22110 = -0.0309597 \n",
    "# c22111 = 0.0086428\n",
    "# c22112 = 0.999483"
   ]
  },
  {
   "cell_type": "code",
   "execution_count": 4,
   "metadata": {},
   "outputs": [],
   "source": [
    "# #uncomment this block for H2\n",
    "# sys = 'h2'\n",
    "# c0hf = 0.99364675\n",
    "# c1hf = 0.66613381E-15\n",
    "# c2hf = 0.11254389\n",
    "\n",
    "# c2b1b0 = -0.21448983E-15\n",
    "# c2b1b1 = 0.70710678 \n",
    "# c2b1b2 = -0.93431708E-16\n",
    "\n",
    "# c2a1a0 = 0.11102230E-14\n",
    "# c2a1a1 = 0.70710678\n",
    "# c2a1a2 = -0.18041124E-15\n",
    "\n",
    "# c22110 = -0.11254389 \n",
    "# c22111 =  0.26197948E-15\n",
    "# c22112 = 0.99364675  "
   ]
  },
  {
   "cell_type": "code",
   "execution_count": 5,
   "metadata": {},
   "outputs": [],
   "source": [
    "#form basis and dictionary of CI coefficients\n",
    "phi1 = np.array([1,0]).reshape((2,1))\n",
    "phi2 = np.array([0, 1]).reshape((2,1))\n",
    "chf = {0: c0hf, 1: c1hf, 2:  c2hf, 3: c3hf }\n",
    "c2b1b = {0: c2b1b0, 1: c2b1b1, 2:  c2b1b2, 3:c2b1b3 }\n",
    "c2a1a = {0: c2a1a0, 1: c2a1a1, 2:  c2a1a2, 3: c2a1a3}\n",
    "c2211 = {0: c22110, 1: c22111, 2:  c22112, 3: c22113}"
   ]
  },
  {
   "cell_type": "code",
   "execution_count": 6,
   "metadata": {},
   "outputs": [],
   "source": [
    "# #form basis and dictionary of CI coefficients\n",
    "# phi1 = np.array([1,0]).reshape((2,1))\n",
    "# phi2 = np.array([0, 1]).reshape((2,1))\n",
    "# chf = {0: c0hf, 1: c1hf, 2:  c2hf}\n",
    "# c2b1b = {0: c2b1b0, 1: c2b1b1, 2:  c2b1b2}\n",
    "# c2a1a = {0: c2a1a0, 1: c2a1a1, 2:  c2a1a2}\n",
    "# c2211 = {0: c22110, 1: c22111, 2:  c22112}"
   ]
  },
  {
   "cell_type": "code",
   "execution_count": 7,
   "metadata": {},
   "outputs": [],
   "source": [
    "#this loads in the AO basis data saved to disk from Gaussian\n",
    "# tran_den_mat = {}\n",
    "# for i in range(0,3):\n",
    "#     for j in range(i,3):\n",
    "#         tran_den_mat[str(i)+str(j)] = np.load('denmat_ci/dens_ci_'+str(i)+'_'+str(j)+'_AO.npz')['arr_0']\n",
    "# tran_den_mat['10'] = tran_den_mat['01']\n",
    "# tran_den_mat['20'] = tran_den_mat['02']\n",
    "# tran_den_mat['21'] = tran_den_mat['12']\n",
    "# tran_den_mat"
   ]
  },
  {
   "cell_type": "code",
   "execution_count": 8,
   "metadata": {},
   "outputs": [
    {
     "name": "stdout",
     "output_type": "stream",
     "text": [
      "TRACE:  1.99999999347012 00\n",
      "TRACE:  -2.557049320011241e-15 01\n",
      "TRACE:  -3.122922009879403e-08 02\n",
      "TRACE:  7.818552000271595e-08 03\n",
      "TRACE:  -2.557049320011241e-15 10\n",
      "TRACE:  1.9999999932878738 11\n",
      "TRACE:  7.226321875027958e-16 12\n",
      "TRACE:  2.851797362039041e-17 13\n",
      "TRACE:  -3.122922009879403e-08 20\n",
      "TRACE:  7.226321875027958e-16 21\n",
      "TRACE:  1.99999979002786 22\n",
      "TRACE:  -1.429813799962154e-07 23\n",
      "TRACE:  7.818552000271595e-08 30\n",
      "TRACE:  2.851797362039041e-17 31\n",
      "TRACE:  -1.429813799962154e-07 32\n",
      "TRACE:  2.00000014345204 33\n"
     ]
    },
    {
     "data": {
      "text/plain": [
       "array([[[[ 1.92558385e+00,  0.00000000e+00],\n",
       "         [ 0.00000000e+00,  7.44161473e-02]],\n",
       "\n",
       "        [[-2.55351296e-15, -1.36128054e+00],\n",
       "         [-4.37836276e-02, -3.53636337e-18]],\n",
       "\n",
       "        [[-2.58777443e-01,  0.00000000e+00],\n",
       "         [ 0.00000000e+00,  2.58777411e-01]],\n",
       "\n",
       "        [[ 6.18841335e-02,  0.00000000e+00],\n",
       "         [ 0.00000000e+00, -6.18840553e-02]]],\n",
       "\n",
       "\n",
       "       [[[-2.55351296e-15, -4.37836276e-02],\n",
       "         [-1.36128054e+00, -3.53636337e-18]],\n",
       "\n",
       "        [[ 9.99999997e-01,  1.96487999e-15],\n",
       "         [ 1.96487999e-15,  9.99999997e-01]],\n",
       "\n",
       "        [[ 7.21644966e-16,  1.22227650e-02],\n",
       "         [ 3.80590183e-01,  9.87221496e-19]],\n",
       "\n",
       "        [[-8.56477365e-17,  1.41348284e+00],\n",
       "         [-4.54577736e-02,  1.14165710e-16]]],\n",
       "\n",
       "\n",
       "       [[[-2.58777443e-01,  0.00000000e+00],\n",
       "         [ 0.00000000e+00,  2.58777411e-01]],\n",
       "\n",
       "        [[ 7.21644966e-16,  3.80590183e-01],\n",
       "         [ 1.22227650e-02,  9.87221496e-19]],\n",
       "\n",
       "        [[ 1.07234964e+00,  0.00000000e+00],\n",
       "         [ 0.00000000e+00,  9.27650149e-01]],\n",
       "\n",
       "        [[-1.72887970e-02,  0.00000000e+00],\n",
       "         [ 0.00000000e+00,  1.72886540e-02]]],\n",
       "\n",
       "\n",
       "       [[[ 6.18841335e-02,  0.00000000e+00],\n",
       "         [ 0.00000000e+00, -6.18840553e-02]],\n",
       "\n",
       "        [[-8.56477365e-17, -4.54577736e-02],\n",
       "         [ 1.41348284e+00,  1.14165710e-16]],\n",
       "\n",
       "        [[-1.72887970e-02,  0.00000000e+00],\n",
       "         [ 0.00000000e+00,  1.72886540e-02]],\n",
       "\n",
       "        [[ 2.06640934e-03,  0.00000000e+00],\n",
       "         [ 0.00000000e+00,  1.99793373e+00]]]])"
      ]
     },
     "execution_count": 8,
     "metadata": {},
     "output_type": "execute_result"
    }
   ],
   "source": [
    "tens = np.zeros((4,4,2,2))\n",
    "for i in range(0,4):\n",
    "    for j in range(0,4):\n",
    "        tens [i,j,:,:] = 2 * (chf[i]*chf[j] *(phi1 @phi1.T) + (1/2)*c2a1a[i]*c2a1a[j]*(phi1 @phi1.T + phi2 @phi2.T) \n",
    "                                           +(1/2) * c2b1b[i]*c2b1b[j]*(phi1 @phi1.T + phi2 @phi2.T) + c2211[i]*c2211[j]*(phi2 @phi2.T)\n",
    "                                          +(1/2) * (chf[i]*c2a1a[j] * (phi1 @ phi2.T) + c2a1a[i]*chf[j]*(phi2 @ phi1.T))\n",
    "                                          -(1/2) * (chf[i]*c2b1b[j] * (phi1 @ phi2.T) + c2b1b[i]*chf[j]*(phi2 @ phi1.T))\n",
    "                                          -(1/2) * (c2a1a[i]*c2211[j] * (phi1 @ phi2.T) + c2211[i]*c2a1a[j]*(phi2 @ phi1.T))\n",
    "                                          +(1/2) * (c2b1b[i]*c2211[j] * (phi1 @ phi2.T) + c2211[i]*c2b1b[j]*(phi2 @ phi1.T)))\n",
    "        print('TRACE: ',np.trace(tens [i,j,:,:]),str(i)+str(j))\n",
    "    \n",
    "tens\n",
    "#can compare this MO -> AO with saved Gaussian"
   ]
  },
  {
   "cell_type": "code",
   "execution_count": 9,
   "metadata": {},
   "outputs": [],
   "source": [
    "# full_den_mats = np.load(sys+'/td_dens_tdcasscf_'+sys+'_sto-3g_046_dt=0.082680au.npz',allow_pickle=True)\n",
    "# full_den_mats.files"
   ]
  },
  {
   "cell_type": "code",
   "execution_count": 10,
   "metadata": {},
   "outputs": [],
   "source": [
    "# full_den_mats = full_den_mats['td_dens_re_data'] + 1j*full_den_mats['td_dens_im_data']\n",
    "# full_den_mats.shape"
   ]
  },
  {
   "cell_type": "code",
   "execution_count": 11,
   "metadata": {},
   "outputs": [],
   "source": [
    "# C = np.load('denmat_ci_H2/ke+en+overlap+ee_twoe+dip_casscf22_h2_sto-3g.npz')['cMO_colvec_data']\n",
    "# S = np.load('denmat_ci_H2/ke+en+overlap+ee_twoe+dip_casscf22_h2_sto-3g.npz')['overlap_data']"
   ]
  },
  {
   "cell_type": "code",
   "execution_count": 12,
   "metadata": {},
   "outputs": [
    {
     "data": {
      "text/plain": [
       "array([[ 3.99987000e-03+0.0000000e+00j,  9.99999760e-01-3.7856000e-04j,\n",
       "         0.00000000e+00+0.0000000e+00j,  2.46800000e-05+5.7388000e-04j,\n",
       "         8.87000000e-06+9.0850000e-05j],\n",
       "       [ 5.99980000e-03+0.0000000e+00j,  9.99997850e-01-1.1328400e-03j,\n",
       "         0.00000000e+00+0.0000000e+00j,  1.23580000e-04+1.7132100e-03j,\n",
       "         4.38900000e-05+2.6847000e-04j],\n",
       "       [ 7.99973000e-03+0.0000000e+00j,  9.99991460e-01-2.2570800e-03j,\n",
       "         0.00000000e+00+0.0000000e+00j,  3.45920000e-04+3.4011100e-03j,\n",
       "         1.21080000e-04+5.2494000e-04j],\n",
       "       ...,\n",
       "       [ 4.01386611e+01+0.0000000e+00j,  9.69611870e-01+1.4482590e-02j,\n",
       "         0.00000000e+00+0.0000000e+00j, -2.14118560e-01+1.1738910e-01j,\n",
       "        -5.44890000e-04-3.9772500e-03j],\n",
       "       [ 4.01406611e+01+0.0000000e+00j,  9.69611870e-01+1.4482590e-02j,\n",
       "         0.00000000e+00+0.0000000e+00j, -2.03313010e-01+1.3524340e-01j,\n",
       "        -1.30535000e-03-3.7962500e-03j],\n",
       "       [ 4.01426610e+01+0.0000000e+00j,  9.69611870e-01+1.4482590e-02j,\n",
       "         0.00000000e+00+0.0000000e+00j, -1.91022400e-01+1.5210984e-01j,\n",
       "        -2.01631000e-03-3.4713000e-03j]])"
      ]
     },
     "execution_count": 12,
     "metadata": {},
     "output_type": "execute_result"
    }
   ],
   "source": [
    "time_coeffs = np.loadtxt(sys+'/time_coeffs.tdcasscf_'+sys+'_sto-3g_046_dt=0.082680au.txt',dtype=np.cdouble)\n",
    "time_coeffs"
   ]
  },
  {
   "cell_type": "code",
   "execution_count": 13,
   "metadata": {},
   "outputs": [],
   "source": [
    "#deletes time column \n",
    "time_coeffs = np.delete(time_coeffs,0,1)"
   ]
  },
  {
   "cell_type": "code",
   "execution_count": 14,
   "metadata": {},
   "outputs": [
    {
     "data": {
      "text/plain": [
       "array([1.        , 1.00000001, 0.99999999, ..., 1.        , 1.        ,\n",
       "       1.        ])"
      ]
     },
     "execution_count": 14,
     "metadata": {},
     "output_type": "execute_result"
    }
   ],
   "source": [
    "#ensuring normalization\n",
    "np.sum(np.square(np.abs(time_coeffs)),axis=1)"
   ]
  },
  {
   "cell_type": "code",
   "execution_count": 15,
   "metadata": {},
   "outputs": [],
   "source": [
    "#deletes 0 coefficient column\n",
    "time_coeffs2 = np.delete(time_coeffs,1,1)"
   ]
  },
  {
   "cell_type": "code",
   "execution_count": 16,
   "metadata": {},
   "outputs": [
    {
     "name": "stdout",
     "output_type": "stream",
     "text": [
      "[1.         1.00000001 0.99999999 ... 1.         1.         1.        ]\n"
     ]
    },
    {
     "data": {
      "image/png": "[encoded data removed]",
      "text/plain": [
       "<Figure size 432x288 with 1 Axes>"
      ]
     },
     "metadata": {
      "needs_background": "light"
     },
     "output_type": "display_data"
    }
   ],
   "source": [
    "#ensuring normalization\n",
    "print(np.sum(np.abs(np.square(time_coeffs2)),axis=1))\n",
    "plt.plot(np.arange(0,time_coeffs2.shape[0]),np.sum(np.abs(np.square(time_coeffs2)),axis=1));"
   ]
  },
  {
   "cell_type": "code",
   "execution_count": null,
   "metadata": {},
   "outputs": [],
   "source": []
  },
  {
   "cell_type": "code",
   "execution_count": null,
   "metadata": {},
   "outputs": [],
   "source": []
  },
  {
   "cell_type": "code",
   "execution_count": 17,
   "metadata": {},
   "outputs": [
    {
     "data": {
      "text/plain": [
       "array([[[ 0.93001806-1.30104261e-18j, -0.0441861 +3.13141811e-01j],\n",
       "        [-0.0441861 -3.13141811e-01j,  1.06998191+3.03576608e-18j]],\n",
       "\n",
       "       [[ 1.27698376+8.23993651e-18j,  0.08639476+1.82608110e-01j],\n",
       "        [ 0.08639476-1.82608110e-01j,  0.72301612-3.03576608e-18j]],\n",
       "\n",
       "       [[ 0.97814546-1.73472348e-18j,  0.21467543-2.39248606e-01j],\n",
       "        [ 0.21467543+2.39248606e-01j,  1.02185448-1.08420217e-18j]],\n",
       "\n",
       "       ...,\n",
       "\n",
       "       [[ 0.51455004+1.51788304e-18j,  0.2686368 -4.16693583e-01j],\n",
       "        [ 0.2686368 +4.16693583e-01j,  1.48545003-2.16840434e-19j]],\n",
       "\n",
       "       [[ 1.47446644+1.95156391e-18j, -0.19795525-5.74076786e-01j],\n",
       "        [-0.19795525+5.74076786e-01j,  0.52553356-1.51788304e-18j]],\n",
       "\n",
       "       [[ 0.99881313-8.67361738e-19j, -0.10769325-2.05758223e-01j],\n",
       "        [-0.10769325+2.05758223e-01j,  1.0011869 +8.67361738e-19j]]])"
      ]
     },
     "execution_count": 17,
     "metadata": {},
     "output_type": "execute_result"
    }
   ],
   "source": [
    "trajs = []\n",
    "for _ in range(100):\n",
    "    vals = []\n",
    "    for i in range(time_coeffs2.shape[0]):\n",
    "        x = np.random.normal(size=4) + 1j*np.random.normal(size=4)\n",
    "        x /= np.sqrt(np.sum(np.abs(x)**2))\n",
    "        vals.append(x)\n",
    "    vals = np.array(vals)\n",
    "    time_coeffs2 = vals\n",
    "    #print(np.max((np.sum(np.abs(np.square(vals)),axis=1))), np.min((np.sum(np.abs(np.square(vals)),axis=1))))\n",
    "    #this is the training data for MMUT ()\n",
    "    rdmMO = np.einsum('ni,nj,ijab->nab',time_coeffs2, np.conjugate(time_coeffs2), tens)\n",
    "    #print(rdmMO.shape)\n",
    "    trajs.append(rdmMO)\n",
    "trajs = np.array(trajs)\n",
    "trajs[0]"
   ]
  },
  {
   "cell_type": "code",
   "execution_count": 21,
   "metadata": {},
   "outputs": [],
   "source": [
    "with open('tdci_training_data.npy', 'wb') as f:\n",
    "    np.save(f, trajs)"
   ]
  },
  {
   "cell_type": "code",
   "execution_count": 22,
   "metadata": {},
   "outputs": [
    {
     "data": {
      "text/plain": [
       "(100, 20071, 2, 2)"
      ]
     },
     "execution_count": 22,
     "metadata": {},
     "output_type": "execute_result"
    }
   ],
   "source": [
    "np.load('tdci_training_data.npy').shape"
   ]
  },
  {
   "cell_type": "code",
   "execution_count": 20,
   "metadata": {},
   "outputs": [
    {
     "name": "stdout",
     "output_type": "stream",
     "text": [
      "(2.0000002186698795+2.168404344971009e-19j) (1.9999997498177304-7.589415207398531e-19j)\n",
      "(2.000000210486381-3.686287386450715e-18j) (1.9999997455732015+2.981555974335137e-19j)\n",
      "(2.0000002142689337-3.2526065174565133e-19j) (1.9999997540929828+1.8431436932253575e-18j)\n",
      "(2.0000002079327586+1.4094628242311558e-18j) (1.9999997580443152+0j)\n",
      "(2.0000002154750938+3.2526065174565133e-19j) (1.9999997510175822-2.168404344971009e-18j)\n",
      "(2.0000002207047927+9.75781955236954e-19j) (1.9999997555626332-2.168404344971009e-19j)\n",
      "(2.000000212801227-5.7462715141731735e-18j) (1.9999997484519172-1.5178830414797062e-18j)\n",
      "(2.0000002203271006+8.673617379884035e-19j) (1.9999997512703134+1.5178830414797062e-18j)\n",
      "(2.0000002193491246+1.6263032587282567e-19j) (1.9999997503417526+0j)\n",
      "(2.0000002157565344+4.336808689942018e-19j) (1.999999751209244-1.0842021724855044e-18j)\n",
      "(2.0000002122755536-8.673617379884035e-19j) (1.999999746861866+1.0842021724855044e-19j)\n",
      "(2.000000219944348+0j) (1.9999997422723492-2.303929616531697e-18j)\n",
      "(2.000000207602771-4.336808689942018e-19j) (1.9999997472371351+7.047314121155779e-19j)\n",
      "(2.0000002199661817-7.589415207398531e-19j) (1.9999997450702693-1.4094628242311558e-18j)\n",
      "(2.000000217370741+9.215718466126788e-19j) (1.9999997502555975-2.168404344971009e-19j)\n",
      "(2.0000002135595873-2.168404344971009e-18j) (1.9999997419421889+1.0842021724855044e-18j)\n",
      "(2.0000002104958146+1.8973538018496328e-19j) (1.9999997460477212+1.1926223897340549e-18j)\n",
      "(2.0000002162252373-1.1926223897340549e-18j) (1.9999997501239326+1.5178830414797062e-18j)\n",
      "(2.000000214283724-2.168404344971009e-19j) (1.9999997508551248-6.505213034913027e-19j)\n",
      "(2.000000215158923+1.5178830414797062e-18j) (1.999999748315252-4.336808689942018e-19j)\n",
      "(2.0000002153610303+9.783230540787169e-19j) (1.9999997523538098+1.4094628242311558e-18j)\n",
      "(2.0000002134540757+1.0842021724855044e-18j) (1.9999997478518137-1.4094628242311558e-18j)\n",
      "(2.0000002160876322+2.710505431213761e-19j) (1.9999997555859061+1.0842021724855044e-19j)\n",
      "(2.0000002152065695-3.2526065174565133e-19j) (1.9999997543018875+8.023096076392733e-18j)\n",
      "(2.000000208478382+0j) (1.9999997444568152+1.0842021724855044e-19j)\n",
      "(2.000000218290827-1.5720931501039814e-18j) (1.9999997469863657+9.75781955236954e-19j)\n",
      "(2.000000214127861+2.3852447794681098e-18j) (1.9999997507817358+8.673617379884035e-19j)\n",
      "(2.000000219362956-2.439454888092385e-19j) (1.9999997510852872-3.903127820947816e-18j)\n",
      "(2.0000002150313234-3.686287386450715e-18j) (1.9999997463225743+0j)\n",
      "(2.000000218320533+0j) (1.9999997491015749+4.119968255444917e-18j)\n",
      "(2.0000002169293283-3.2526065174565133e-19j) (1.9999997543714687+8.673617379884035e-19j)\n",
      "(2.000000213189534+4.336808689942018e-19j) (1.9999997469601674-2.168404344971009e-19j)\n",
      "(2.000000213734235+1.8431436932253575e-18j) (1.9999997474847853+5.47183283926278e-19j)\n",
      "(2.0000002157615353-1.734723475976807e-18j) (1.9999997481316343+1.5178830414797062e-18j)\n",
      "(2.0000002192721675+2.168404344971009e-19j) (1.9999997578251354-1.3010426069826053e-18j)\n",
      "(2.0000002150986838-7.250602028496811e-19j) (1.999999753251772-2.710505431213761e-18j)\n",
      "(2.0000002157198606-4.336808689942018e-19j) (1.999999747470032+0j)\n",
      "(2.0000002153537872-2.1277467635028025e-18j) (1.999999754577936+5.963111948670274e-19j)\n",
      "(2.0000002188805923+2.710505431213761e-20j) (1.9999997491051615-1.179069862577986e-18j)\n",
      "(2.0000002153623067+1.2481030477792115e-18j) (1.9999997555357918+0j)\n",
      "(2.000000211861857+6.505213034913027e-19j) (1.9999997418687592+8.402566836762659e-19j)\n",
      "(2.0000002150880505+4.336808689942018e-19j) (1.9999997520395667+2.168404344971009e-19j)\n",
      "(2.000000222018125+1.0842021724855044e-19j) (1.9999997518878478-2.0599841277224584e-18j)\n",
      "(2.0000002115417073-1.4230153513872246e-19j) (1.9999997546295756+1.951563910473908e-18j)\n",
      "(2.0000002203384524+2.710505431213761e-20j) (1.9999997488307013-2.168404344971009e-19j)\n",
      "(2.0000002097145906-4.336808689942018e-19j) (1.99999974515599-1.4094628242311558e-18j)\n",
      "(2.0000002155116574-6.505213034913027e-19j) (1.9999997495439827+3.3610267347050637e-18j)\n",
      "(2.000000211382619-9.75781955236954e-19j) (1.999999750079496-3.5236570605778894e-19j)\n",
      "(2.000000214094898-1.0842021724855044e-19j) (1.9999997470862407-3.469446951953614e-18j)\n",
      "(2.000000209367683-2.168404344971009e-19j) (1.999999750999836+1.1926223897340549e-18j)\n",
      "(2.0000002138951363-1.951563910473908e-18j) (1.9999997508771967-5.963111948670274e-19j)\n",
      "(2.0000002084070547+8.673617379884035e-19j) (1.9999997493750925+6.505213034913027e-19j)\n",
      "(2.0000002173911375-1.2468324983583301e-18j) (1.9999997477148914+1.0842021724855044e-18j)\n",
      "(2.0000002067279428+0j) (1.9999997478933116-4.336808689942018e-19j)\n",
      "(2.000000211026534-2.222614453595284e-18j) (1.9999997438837078+0j)\n",
      "(2.0000002187069486+7.589415207398531e-19j) (1.9999997509944656+2.168404344971009e-19j)\n",
      "(2.00000021629514+2.168404344971009e-19j) (1.9999997561651555+3.0357660829594124e-18j)\n",
      "(2.000000212065977-2.439454888092385e-19j) (1.9999997483255454-1.8431436932253575e-18j)\n",
      "(2.000000217589432-3.577867169202165e-18j) (1.9999997472073312+1.0299920638612292e-18j)\n",
      "(2.000000215470699-1.0842021724855044e-19j) (1.999999742497459-2.168404344971009e-19j)\n",
      "(2.0000002192819952-2.168404344971009e-19j) (1.9999997482760623+4.336808689942018e-19j)\n",
      "(2.000000217160493+2.6020852139652106e-18j) (1.9999997541586227-2.7647155398380363e-18j)\n",
      "(2.0000002186171826+2.168404344971009e-19j) (1.9999997535081917+2.7647155398380363e-18j)\n",
      "(2.000000214516175+3.2526065174565133e-19j) (1.9999997498701754-1.3010426069826053e-18j)\n",
      "(2.0000002169118596-2.168404344971009e-19j) (1.999999756244829-2.168404344971009e-18j)\n",
      "(2.0000002188130384-4.336808689942018e-19j) (1.9999997507802816+1.3552527156068805e-18j)\n",
      "(2.000000219065687+5.421010862427522e-20j) (1.9999997466465076+1.4907779871675686e-19j)\n",
      "(2.000000215238126-2.168404344971009e-19j) (1.9999997491957155-1.0706496453294356e-18j)\n",
      "(2.0000002152570238+2.3852447794681098e-18j) (1.999999751915205-1.3010426069826053e-18j)\n",
      "(2.000000215443888+2.168404344971009e-19j) (1.9999997460501202+3.2526065174565133e-19j)\n",
      "(2.000000207951657+4.336808689942018e-19j) (1.9999997482630558+8.673617379884035e-19j)\n",
      "(2.0000002135846873-2.168404344971009e-19j) (1.999999743524751-1.5178830414797062e-18j)\n",
      "(2.000000211855981+1.3010426069826053e-18j) (1.9999997461453343+8.673617379884035e-19j)\n",
      "(2.000000218307797+0j) (1.9999997474732556-2.3852447794681098e-18j)\n",
      "(2.0000002153679834+5.963111948670274e-19j) (1.99999975561875+3.63207727782644e-18j)\n",
      "(2.0000002111686737+2.168404344971009e-18j) (1.9999997457386103+0j)\n",
      "(2.00000021731503-2.439454888092385e-19j) (1.999999748955716-8.131516293641283e-19j)\n",
      "(2.0000002094112723-8.673617379884035e-19j) (1.9999997452709624-2.168404344971009e-19j)\n",
      "(2.000000209727514-1.3010426069826053e-18j) (1.999999755233594-4.336808689942018e-19j)\n",
      "(2.000000212095218+1.3010426069826053e-18j) (1.9999997452345302+7.589415207398531e-19j)\n",
      "(2.0000002189321497-1.5178830414797062e-18j) (1.9999997493903887-1.5178830414797062e-18j)\n",
      "(2.0000002160806285-2.168404344971009e-19j) (1.9999997477730007-2.168404344971009e-19j)\n",
      "(2.000000217947703-3.0357660829594124e-18j) (1.9999997565948395+1.3010426069826053e-18j)\n",
      "(2.000000219364008+1.0842021724855044e-19j) (1.9999997503195923+4.336808689942018e-19j)\n",
      "(2.000000213148567+3.0357660829594124e-18j) (1.9999997503892395-4.336808689942018e-19j)\n",
      "(2.000000213758345-1.3010426069826053e-18j) (1.9999997499242377-1.734723475976807e-18j)\n",
      "(2.0000002070138456+1.9447876468958736e-18j) (1.9999997470207789-4.336808689942018e-19j)\n",
      "(2.000000213053606-3.2526065174565133e-19j) (1.9999997507791667-3.5236570605778894e-19j)\n",
      "(2.0000002101865118-4.336808689942018e-19j) (1.999999751996977+0j)\n",
      "(2.0000002171735094-9.486769009248164e-19j) (1.9999997454097707-8.673617379884035e-19j)\n",
      "(2.0000002175259346-7.589415207398531e-19j) (1.9999997542654373+4.336808689942018e-19j)\n",
      "(2.0000002092812394+3.7947076036992655e-19j) (1.9999997447196447-5.014435047745458e-18j)\n",
      "(2.0000002182361203-1.5178830414797062e-18j) (1.999999749695151+5.421010862427522e-19j)\n",
      "(2.000000213980617+1.0842021724855044e-19j) (1.9999997533847498-1.3010426069826053e-18j)\n",
      "(2.0000002087389266-4.336808689942018e-19j) (1.999999753302417+3.2526065174565133e-19j)\n",
      "(2.0000002114344735+4.336808689942018e-19j) (1.9999997466859194+2.168404344971009e-19j)\n",
      "(2.000000218267509+1.3552527156068805e-18j) (1.999999752975134-1.1926223897340549e-18j)\n",
      "(2.000000222132536-4.336808689942018e-19j) (1.9999997532711475+1.0842021724855044e-18j)\n",
      "(2.0000002178150527-3.2526065174565133e-19j) (1.9999997501529272-2.168404344971009e-19j)\n",
      "(2.0000002145715254-1.734723475976807e-18j) (1.999999751556329+5.421010862427522e-19j)\n"
     ]
    }
   ],
   "source": [
    "for i in range(trajs.shape[0]):\n",
    "    traces = np.einsum('ijj ->i',trajs[i])\n",
    "    print(np.max(traces),np.min(traces))\n",
    "#plt.plot(np.arange(0,time_coeffs2.shape[0]),traces);"
   ]
  },
  {
   "cell_type": "code",
   "execution_count": null,
   "metadata": {},
   "outputs": [],
   "source": []
  }
 ],
 "metadata": {
  "kernelspec": {
   "display_name": "Python 3",
   "language": "python",
   "name": "python3"
  },
  "language_info": {
   "codemirror_mode": {
    "name": "ipython",
    "version": 3
   },
   "file_extension": ".py",
   "mimetype": "text/x-python",
   "name": "python",
   "nbconvert_exporter": "python",
   "pygments_lexer": "ipython3",
   "version": "3.8.5"
  }
 },
 "nbformat": 4,
 "nbformat_minor": 4
}
