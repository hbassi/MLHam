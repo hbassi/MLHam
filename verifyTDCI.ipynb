{
 "cells": [
  {
   "cell_type": "code",
   "execution_count": 1,
   "metadata": {},
   "outputs": [],
   "source": [
    "from matplotlib import pyplot as plt\n",
    "import numpy as np\n",
    "#TODO make separate notebooks for each system"
   ]
  },
  {
   "cell_type": "code",
   "execution_count": 2,
   "metadata": {},
   "outputs": [],
   "source": [
    "# # #uncomment this block for HeH+\n",
    "# sys = 'heh+'\n",
    "# c0hf = 0.9625707\n",
    "# c1hf = -0.13322676E-14 \n",
    "# c2hf = -0.2691179\n",
    "# c3hf = 0.0321435\n",
    "\n",
    "# c2b1b0 = 0.1903932\n",
    "# c2b1b1 = 0.70710678\n",
    "# c2b1b2 = 0.6809922 \n",
    "# c2b1b3 = 0.0000088\n",
    "\n",
    "# c2a1a0 = c2b1b0\n",
    "# c2a1a1 = -0.70710678 \n",
    "# c2a1a2 = c2b1b2\n",
    "# c2a1a3 = c2b1b3\n",
    "\n",
    "# c22110 = -0.0309597 \n",
    "# c22111 = 0.57112365E-16\n",
    "# c22112 = 0.0086428\n",
    "# c22113 = 0.9994833"
   ]
  },
  {
   "cell_type": "code",
   "execution_count": 3,
   "metadata": {},
   "outputs": [],
   "source": [
    "#uncomment this block for HeH+\n",
    "sys = 'heh+'\n",
    "c0hf = 0.9625707\n",
    "c1hf = -0.2691179\n",
    "c2hf = 0.0321435\n",
    "c2b1b0 = 0.1903932\n",
    "c2b1b1 = 0.6809922 \n",
    "c2b1b2 = 0.0000088\n",
    "c2a1a0 = c2b1b0\n",
    "c2a1a1 = c2b1b1\n",
    "c2a1a2 = c2b1b2\n",
    "c22110 = -0.0309597 \n",
    "c22111 = 0.0086428\n",
    "c22112 = 0.999483"
   ]
  },
  {
   "cell_type": "code",
   "execution_count": 4,
   "metadata": {},
   "outputs": [],
   "source": [
    "# #uncomment this block for H2\n",
    "# sys = 'h2'\n",
    "# c0hf = 0.99364675\n",
    "# c1hf = 0.66613381E-15\n",
    "# c2hf = 0.11254389\n",
    "\n",
    "# c2b1b0 = -0.21448983E-15\n",
    "# c2b1b1 = 0.70710678 \n",
    "# c2b1b2 = -0.93431708E-16\n",
    "\n",
    "# c2a1a0 = 0.11102230E-14\n",
    "# c2a1a1 = 0.70710678\n",
    "# c2a1a2 = -0.18041124E-15\n",
    "\n",
    "# c22110 = -0.11254389 \n",
    "# c22111 =  0.26197948E-15\n",
    "# c22112 = 0.99364675  "
   ]
  },
  {
   "cell_type": "code",
   "execution_count": null,
   "metadata": {},
   "outputs": [],
   "source": [
    "# #form basis and dictionary of CI coefficients\n",
    "# phi1 = np.array([1,0]).reshape((2,1))\n",
    "# phi2 = np.array([0, 1]).reshape((2,1))\n",
    "# chf = {0: c0hf, 1: c1hf, 2:  c2hf, 3: c3hf }\n",
    "# c2b1b = {0: c2b1b0, 1: c2b1b1, 2:  c2b1b2, 3:c2b1b3 }\n",
    "# c2a1a = {0: c2a1a0, 1: c2a1a1, 2:  c2a1a2, 3: c2a1a3}\n",
    "# c2211 = {0: c22110, 1: c22111, 2:  c22112, 3: c22113}"
   ]
  },
  {
   "cell_type": "code",
   "execution_count": 5,
   "metadata": {},
   "outputs": [],
   "source": [
    "#form basis and dictionary of CI coefficients\n",
    "phi1 = np.array([1,0]).reshape((2,1))\n",
    "phi2 = np.array([0, 1]).reshape((2,1))\n",
    "chf = {0: c0hf, 1: c1hf, 2:  c2hf}\n",
    "c2b1b = {0: c2b1b0, 1: c2b1b1, 2:  c2b1b2}\n",
    "c2a1a = {0: c2a1a0, 1: c2a1a1, 2:  c2a1a2}\n",
    "c2211 = {0: c22110, 1: c22111, 2:  c22112}"
   ]
  },
  {
   "cell_type": "code",
   "execution_count": 6,
   "metadata": {},
   "outputs": [],
   "source": [
    "#this loads in the AO basis data saved to disk from Gaussian\n",
    "# tran_den_mat = {}\n",
    "# for i in range(0,3):\n",
    "#     for j in range(i,3):\n",
    "#         tran_den_mat[str(i)+str(j)] = np.load('denmat_ci/dens_ci_'+str(i)+'_'+str(j)+'_AO.npz')['arr_0']\n",
    "# tran_den_mat['10'] = tran_den_mat['01']\n",
    "# tran_den_mat['20'] = tran_den_mat['02']\n",
    "# tran_den_mat['21'] = tran_den_mat['12']\n",
    "# tran_den_mat"
   ]
  },
  {
   "cell_type": "code",
   "execution_count": 8,
   "metadata": {},
   "outputs": [
    {
     "name": "stdout",
     "output_type": "stream",
     "text": [
      "TRACE:  1.99999999347012 00\n",
      "TRACE:  -3.122922009879403e-08 01\n",
      "TRACE:  9.676133999603209e-08 02\n",
      "TRACE:  -3.122922009879403e-08 10\n",
      "TRACE:  1.99999979002786 11\n",
      "TRACE:  -1.4816705999620705e-07 12\n",
      "TRACE:  9.676133999603209e-08 20\n",
      "TRACE:  -1.4816705999620705e-07 21\n",
      "TRACE:  1.9999989440722603 22\n"
     ]
    },
    {
     "data": {
      "text/plain": [
       "array([[[[ 1.92558385,  0.        ],\n",
       "         [ 0.        ,  0.07441615]],\n",
       "\n",
       "        [[-0.25877744,  0.        ],\n",
       "         [ 0.        ,  0.25877741]],\n",
       "\n",
       "        [[ 0.06188413,  0.        ],\n",
       "         [ 0.        , -0.06188404]]],\n",
       "\n",
       "\n",
       "       [[[-0.25877744,  0.        ],\n",
       "         [ 0.        ,  0.25877741]],\n",
       "\n",
       "        [[ 1.07234964,  0.        ],\n",
       "         [ 0.        ,  0.92765015]],\n",
       "\n",
       "        [[-0.0172888 ,  0.        ],\n",
       "         [ 0.        ,  0.01728865]]],\n",
       "\n",
       "\n",
       "       [[[ 0.06188413,  0.        ],\n",
       "         [ 0.        , -0.06188404]],\n",
       "\n",
       "        [[-0.0172888 ,  0.        ],\n",
       "         [ 0.        ,  0.01728865]],\n",
       "\n",
       "        [[ 0.00206641,  0.        ],\n",
       "         [ 0.        ,  1.99793253]]]])"
      ]
     },
     "execution_count": 8,
     "metadata": {},
     "output_type": "execute_result"
    }
   ],
   "source": [
    "tens = np.zeros((3,3,2,2))\n",
    "for i in range(0,3):\n",
    "    for j in range(0,3):\n",
    "        tens [i,j,:,:] = 2 * (chf[i]*chf[j] *(phi1 @phi1.T) + (1/2)*c2a1a[i]*c2a1a[j]*(phi1 @phi1.T + phi2 @phi2.T) \n",
    "                                           +(1/2) * c2b1b[i]*c2b1b[j]*(phi1 @phi1.T + phi2 @phi2.T) + c2211[i]*c2211[j]*(phi2 @phi2.T)\n",
    "                                          +(1/2) * (chf[i]*c2a1a[j] * (phi1 @ phi2.T) + c2a1a[i]*chf[j]*(phi2 @ phi1.T))\n",
    "                                          -(1/2) * (chf[i]*c2b1b[j] * (phi1 @ phi2.T) + c2b1b[i]*chf[j]*(phi2 @ phi1.T))\n",
    "                                          -(1/2) * (c2a1a[i]*c2211[j] * (phi1 @ phi2.T) + c2211[i]*c2a1a[j]*(phi2 @ phi1.T))\n",
    "                                          +(1/2) * (c2b1b[i]*c2211[j] * (phi1 @ phi2.T) + c2211[i]*c2b1b[j]*(phi2 @ phi1.T)))\n",
    "        print('TRACE: ',np.trace(tens [i,j,:,:]),str(i)+str(j))\n",
    "    \n",
    "tens\n",
    "#can compare this MO -> AO with saved Gaussian"
   ]
  },
  {
   "cell_type": "code",
   "execution_count": null,
   "metadata": {},
   "outputs": [],
   "source": [
    "# full_den_mats = np.load(sys+'/td_dens_tdcasscf_'+sys+'_sto-3g_046_dt=0.082680au.npz',allow_pickle=True)\n",
    "# full_den_mats.files"
   ]
  },
  {
   "cell_type": "code",
   "execution_count": null,
   "metadata": {},
   "outputs": [],
   "source": [
    "# full_den_mats = full_den_mats['td_dens_re_data'] + 1j*full_den_mats['td_dens_im_data']\n",
    "# full_den_mats.shape"
   ]
  },
  {
   "cell_type": "code",
   "execution_count": null,
   "metadata": {},
   "outputs": [],
   "source": [
    "# C = np.load('denmat_ci_H2/ke+en+overlap+ee_twoe+dip_casscf22_h2_sto-3g.npz')['cMO_colvec_data']\n",
    "# S = np.load('denmat_ci_H2/ke+en+overlap+ee_twoe+dip_casscf22_h2_sto-3g.npz')['overlap_data']"
   ]
  },
  {
   "cell_type": "code",
   "execution_count": 9,
   "metadata": {},
   "outputs": [
    {
     "data": {
      "text/plain": [
       "array([[ 3.99987000e-03+0.0000000e+00j,  9.99999760e-01-3.7856000e-04j,\n",
       "         0.00000000e+00+0.0000000e+00j,  2.46800000e-05+5.7388000e-04j,\n",
       "         8.87000000e-06+9.0850000e-05j],\n",
       "       [ 5.99980000e-03+0.0000000e+00j,  9.99997850e-01-1.1328400e-03j,\n",
       "         0.00000000e+00+0.0000000e+00j,  1.23580000e-04+1.7132100e-03j,\n",
       "         4.38900000e-05+2.6847000e-04j],\n",
       "       [ 7.99973000e-03+0.0000000e+00j,  9.99991460e-01-2.2570800e-03j,\n",
       "         0.00000000e+00+0.0000000e+00j,  3.45920000e-04+3.4011100e-03j,\n",
       "         1.21080000e-04+5.2494000e-04j],\n",
       "       ...,\n",
       "       [ 4.01386611e+01+0.0000000e+00j,  9.69611870e-01+1.4482590e-02j,\n",
       "         0.00000000e+00+0.0000000e+00j, -2.14118560e-01+1.1738910e-01j,\n",
       "        -5.44890000e-04-3.9772500e-03j],\n",
       "       [ 4.01406611e+01+0.0000000e+00j,  9.69611870e-01+1.4482590e-02j,\n",
       "         0.00000000e+00+0.0000000e+00j, -2.03313010e-01+1.3524340e-01j,\n",
       "        -1.30535000e-03-3.7962500e-03j],\n",
       "       [ 4.01426610e+01+0.0000000e+00j,  9.69611870e-01+1.4482590e-02j,\n",
       "         0.00000000e+00+0.0000000e+00j, -1.91022400e-01+1.5210984e-01j,\n",
       "        -2.01631000e-03-3.4713000e-03j]])"
      ]
     },
     "execution_count": 9,
     "metadata": {},
     "output_type": "execute_result"
    }
   ],
   "source": [
    "time_coeffs = np.loadtxt(sys+'/time_coeffs.tdcasscf_'+sys+'_sto-3g_046_dt=0.082680au.txt',dtype=np.cdouble)\n",
    "time_coeffs"
   ]
  },
  {
   "cell_type": "code",
   "execution_count": 10,
   "metadata": {},
   "outputs": [],
   "source": [
    "#deletes time column \n",
    "time_coeffs = np.delete(time_coeffs,0,1)"
   ]
  },
  {
   "cell_type": "code",
   "execution_count": 11,
   "metadata": {},
   "outputs": [
    {
     "data": {
      "text/plain": [
       "array([1.        , 1.00000001, 0.99999999, ..., 1.        , 1.        ,\n",
       "       1.        ])"
      ]
     },
     "execution_count": 11,
     "metadata": {},
     "output_type": "execute_result"
    }
   ],
   "source": [
    "#ensuring normalization\n",
    "np.sum(np.square(np.abs(time_coeffs)),axis=1)"
   ]
  },
  {
   "cell_type": "code",
   "execution_count": 12,
   "metadata": {},
   "outputs": [],
   "source": [
    "#deletes 0 coefficient column\n",
    "time_coeffs2 = np.delete(time_coeffs,1,1)"
   ]
  },
  {
   "cell_type": "code",
   "execution_count": 13,
   "metadata": {},
   "outputs": [
    {
     "name": "stdout",
     "output_type": "stream",
     "text": [
      "[1.         1.00000001 0.99999999 ... 1.         1.         1.        ]\n"
     ]
    },
    {
     "data": {
      "image/png": "[encoded data removed]",
      "text/plain": [
       "<Figure size 432x288 with 1 Axes>"
      ]
     },
     "metadata": {
      "needs_background": "light"
     },
     "output_type": "display_data"
    }
   ],
   "source": [
    "#ensuring normalization\n",
    "print(np.sum(np.abs(np.square(time_coeffs2)),axis=1))\n",
    "plt.plot(np.arange(0,time_coeffs2.shape[0]),np.sum(np.abs(np.square(time_coeffs2)),axis=1));"
   ]
  },
  {
   "cell_type": "code",
   "execution_count": null,
   "metadata": {},
   "outputs": [],
   "source": []
  },
  {
   "cell_type": "code",
   "execution_count": 16,
   "metadata": {},
   "outputs": [
    {
     "data": {
      "text/plain": [
       "(20071, 2, 2)"
      ]
     },
     "execution_count": 16,
     "metadata": {},
     "output_type": "execute_result"
    }
   ],
   "source": [
    "rdmMO = np.einsum('ni,nj,ijab->nab',time_coeffs2, np.conjugate(time_coeffs2), tens)\n",
    "rdmMO.shape"
   ]
  },
  {
   "cell_type": "code",
   "execution_count": 27,
   "metadata": {},
   "outputs": [
    {
     "name": "stderr",
     "output_type": "stream",
     "text": [
      "C:\\Users\\Hardeep\\anaconda3\\lib\\site-packages\\matplotlib\\cbook\\__init__.py:1289: ComplexWarning: Casting complex values to real discards the imaginary part\n",
      "  return np.asarray(x, float)\n"
     ]
    },
    {
     "data": {
      "text/plain": [
       "[<matplotlib.lines.Line2D at 0x1e78f94e5e0>]"
      ]
     },
     "execution_count": 27,
     "metadata": {},
     "output_type": "execute_result"
    },
    {
     "data": {
      "image/png": "[encoded data removed]",
      "text/plain": [
       "<Figure size 432x288 with 1 Axes>"
      ]
     },
     "metadata": {
      "needs_background": "light"
     },
     "output_type": "display_data"
    }
   ],
   "source": [
    "d22 = rdmMO[:1000,1,1]\n",
    "plt.plot(d22)"
   ]
  },
  {
   "cell_type": "code",
   "execution_count": null,
   "metadata": {},
   "outputs": [],
   "source": [
    "# trajs = []\n",
    "# for _ in range(100):\n",
    "#     vals = []\n",
    "#     for i in range(time_coeffs2.shape[0]):\n",
    "#         x = np.random.normal(size=4) + 1j*np.random.normal(size=4)\n",
    "#         x /= np.sqrt(np.sum(np.abs(x)**2))\n",
    "#         vals.append(x)\n",
    "#     vals = np.array(vals)\n",
    "#     time_coeffs2 = vals\n",
    "#     #print(np.max((np.sum(np.abs(np.square(vals)),axis=1))), np.min((np.sum(np.abs(np.square(vals)),axis=1))))\n",
    "#     #this is the training data for MMUT ()\n",
    "    \n",
    "#     #print(rdmMO.shape)\n",
    "#     trajs.append(rdmMO)\n",
    "# trajs = np.array(trajs)\n",
    "# trajs[0]"
   ]
  },
  {
   "cell_type": "code",
   "execution_count": null,
   "metadata": {},
   "outputs": [],
   "source": [
    "with open('tdci_training_data.npy', 'wb') as f:\n",
    "    np.save(f, trajs)"
   ]
  },
  {
   "cell_type": "code",
   "execution_count": null,
   "metadata": {},
   "outputs": [],
   "source": [
    "np.load('tdci_training_data.npy').shape"
   ]
  },
  {
   "cell_type": "code",
   "execution_count": null,
   "metadata": {},
   "outputs": [],
   "source": [
    "for i in range(trajs.shape[0]):\n",
    "    traces = np.einsum('ijj ->i',trajs[i])\n",
    "    print(np.max(traces),np.min(traces))\n",
    "#plt.plot(np.arange(0,time_coeffs2.shape[0]),traces);"
   ]
  },
  {
   "cell_type": "code",
   "execution_count": null,
   "metadata": {},
   "outputs": [],
   "source": []
  }
 ],
 "metadata": {
  "kernelspec": {
   "display_name": "Python 3",
   "language": "python",
   "name": "python3"
  },
  "language_info": {
   "codemirror_mode": {
    "name": "ipython",
    "version": 3
   },
   "file_extension": ".py",
   "mimetype": "text/x-python",
   "name": "python",
   "nbconvert_exporter": "python",
   "pygments_lexer": "ipython3",
   "version": "3.8.5"
  }
 },
 "nbformat": 4,
 "nbformat_minor": 4
}
