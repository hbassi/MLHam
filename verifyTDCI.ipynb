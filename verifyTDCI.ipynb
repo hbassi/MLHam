{
 "cells": [
  {
   "cell_type": "code",
   "execution_count": 1,
   "metadata": {},
   "outputs": [],
   "source": [
    "from matplotlib import pyplot as plt\n",
    "import numpy as np\n",
    "#TODO make separate notebooks for each system"
   ]
  },
  {
   "cell_type": "code",
   "execution_count": 2,
   "metadata": {},
   "outputs": [],
   "source": [
    "#uncomment this block for HeH+\n",
    "sys = 'heh+'\n",
    "c0hf = 0.9625707\n",
    "c1hf = -0.13322676E-14 \n",
    "c2hf = -0.2691179\n",
    "c3hf = 0.0321435\n",
    "\n",
    "c2b1b0 = 0.1903932\n",
    "c2b1b1 = 0.70710678\n",
    "c2b1b2 = 0.6809922 \n",
    "c2b1b3 = 0.0000088\n",
    "\n",
    "c2a1a0 = c2b1b0\n",
    "c2a1a1 = -0.70710678 \n",
    "c2a1a2 = c2b1b2\n",
    "c2a1a3 = c2b1b3\n",
    "\n",
    "c22110 = -0.0309597 \n",
    "c22111 = 0.57112365E-16\n",
    "c22112 = 0.0086428\n",
    "c22113 = 0.9994833"
   ]
  },
  {
   "cell_type": "code",
   "execution_count": 3,
   "metadata": {},
   "outputs": [],
   "source": [
    "# #uncomment this block for HeH+\n",
    "# sys = 'heh+'\n",
    "# c0hf = 0.9625707\n",
    "# c1hf = -0.2691179\n",
    "# c2hf = 0.0321435\n",
    "# c2b1b0 = 0.1903932\n",
    "# c2b1b1 = 0.6809922 \n",
    "# c2b1b2 = 0.0000088\n",
    "# c2a1a0 = c2b1b0\n",
    "# c2a1a1 = c2b1b1\n",
    "# c2a1a2 = c2b1b2\n",
    "# c22110 = -0.0309597 \n",
    "# c22111 = 0.0086428\n",
    "# c22112 = 0.999483"
   ]
  },
  {
   "cell_type": "code",
   "execution_count": 4,
   "metadata": {},
   "outputs": [],
   "source": [
    "# #uncomment this block for H2\n",
    "# sys = 'h2'\n",
    "# c0hf = 0.99364675\n",
    "# c1hf = 0.66613381E-15\n",
    "# c2hf = 0.11254389\n",
    "\n",
    "# c2b1b0 = -0.21448983E-15\n",
    "# c2b1b1 = 0.70710678 \n",
    "# c2b1b2 = -0.93431708E-16\n",
    "\n",
    "# c2a1a0 = 0.11102230E-14\n",
    "# c2a1a1 = 0.70710678\n",
    "# c2a1a2 = -0.18041124E-15\n",
    "\n",
    "# c22110 = -0.11254389 \n",
    "# c22111 =  0.26197948E-15\n",
    "# c22112 = 0.99364675  "
   ]
  },
  {
   "cell_type": "code",
   "execution_count": 5,
   "metadata": {},
   "outputs": [],
   "source": [
    "#form basis and dictionary of CI coefficients\n",
    "phi1 = np.array([1,0]).reshape((2,1))\n",
    "phi2 = np.array([0, 1]).reshape((2,1))\n",
    "chf = {0: c0hf, 1: c1hf, 2:  c2hf , 3: c3hf}\n",
    "c2b1b = {0: c2b1b0, 1: c2b1b1, 2:  c2b1b2, 3: c2b1b3}\n",
    "c2a1a = {0: c2a1a0, 1: c2a1a1, 2:  c2a1a2, 3: c2a1a3}\n",
    "c2211 = {0: c22110, 1: c22111, 2:  c22112, 3: c22113}"
   ]
  },
  {
   "cell_type": "code",
   "execution_count": 6,
   "metadata": {},
   "outputs": [],
   "source": [
    "# #form basis and dictionary of CI coefficients\n",
    "# phi1 = np.array([1,0]).reshape((2,1))\n",
    "# phi2 = np.array([0, 1]).reshape((2,1))\n",
    "# chf = {0: c0hf, 1: c1hf, 2:  c2hf}\n",
    "# c2b1b = {0: c2b1b0, 1: c2b1b1, 2:  c2b1b2}\n",
    "# c2a1a = {0: c2a1a0, 1: c2a1a1, 2:  c2a1a2}\n",
    "# c2211 = {0: c22110, 1: c22111, 2:  c22112}"
   ]
  },
  {
   "cell_type": "code",
   "execution_count": 7,
   "metadata": {},
   "outputs": [],
   "source": [
    "#this loads in the AO basis data saved to disk from Gaussian\n",
    "# tran_den_mat = {}\n",
    "# for i in range(0,3):\n",
    "#     for j in range(i,3):\n",
    "#         tran_den_mat[str(i)+str(j)] = np.load('denmat_ci/dens_ci_'+str(i)+'_'+str(j)+'_AO.npz')['arr_0']\n",
    "# tran_den_mat['10'] = tran_den_mat['01']\n",
    "# tran_den_mat['20'] = tran_den_mat['02']\n",
    "# tran_den_mat['21'] = tran_den_mat['12']\n",
    "# tran_den_mat"
   ]
  },
  {
   "cell_type": "code",
   "execution_count": 8,
   "metadata": {},
   "outputs": [
    {
     "name": "stdout",
     "output_type": "stream",
     "text": [
      "TRACE:  1.99999999347012 00\n",
      "TRACE:  -2.557049320011241e-15 01\n",
      "TRACE:  -3.122922009879403e-08 02\n",
      "TRACE:  7.818552000271595e-08 03\n",
      "TRACE:  -2.557049320011241e-15 10\n",
      "TRACE:  1.9999999932878738 11\n",
      "TRACE:  7.226321875027958e-16 12\n",
      "TRACE:  2.851797362039041e-17 13\n",
      "TRACE:  -3.122922009879403e-08 20\n",
      "TRACE:  7.226321875027958e-16 21\n",
      "TRACE:  1.99999979002786 22\n",
      "TRACE:  -1.429813799962154e-07 23\n",
      "TRACE:  7.818552000271595e-08 30\n",
      "TRACE:  2.851797362039041e-17 31\n",
      "TRACE:  -1.429813799962154e-07 32\n",
      "TRACE:  2.00000014345204 33\n"
     ]
    },
    {
     "data": {
      "text/plain": [
       "array([[[[ 1.92558385e+00,  0.00000000e+00],\n",
       "         [ 0.00000000e+00,  7.44161473e-02]],\n",
       "\n",
       "        [[-2.55351296e-15, -1.36128054e+00],\n",
       "         [-4.37836276e-02, -3.53636337e-18]],\n",
       "\n",
       "        [[-2.58777443e-01,  0.00000000e+00],\n",
       "         [ 0.00000000e+00,  2.58777411e-01]],\n",
       "\n",
       "        [[ 6.18841335e-02,  0.00000000e+00],\n",
       "         [ 0.00000000e+00, -6.18840553e-02]]],\n",
       "\n",
       "\n",
       "       [[[-2.55351296e-15, -4.37836276e-02],\n",
       "         [-1.36128054e+00, -3.53636337e-18]],\n",
       "\n",
       "        [[ 9.99999997e-01,  1.96487999e-15],\n",
       "         [ 1.96487999e-15,  9.99999997e-01]],\n",
       "\n",
       "        [[ 7.21644966e-16,  1.22227650e-02],\n",
       "         [ 3.80590183e-01,  9.87221496e-19]],\n",
       "\n",
       "        [[-8.56477365e-17,  1.41348284e+00],\n",
       "         [-4.54577736e-02,  1.14165710e-16]]],\n",
       "\n",
       "\n",
       "       [[[-2.58777443e-01,  0.00000000e+00],\n",
       "         [ 0.00000000e+00,  2.58777411e-01]],\n",
       "\n",
       "        [[ 7.21644966e-16,  3.80590183e-01],\n",
       "         [ 1.22227650e-02,  9.87221496e-19]],\n",
       "\n",
       "        [[ 1.07234964e+00,  0.00000000e+00],\n",
       "         [ 0.00000000e+00,  9.27650149e-01]],\n",
       "\n",
       "        [[-1.72887970e-02,  0.00000000e+00],\n",
       "         [ 0.00000000e+00,  1.72886540e-02]]],\n",
       "\n",
       "\n",
       "       [[[ 6.18841335e-02,  0.00000000e+00],\n",
       "         [ 0.00000000e+00, -6.18840553e-02]],\n",
       "\n",
       "        [[-8.56477365e-17, -4.54577736e-02],\n",
       "         [ 1.41348284e+00,  1.14165710e-16]],\n",
       "\n",
       "        [[-1.72887970e-02,  0.00000000e+00],\n",
       "         [ 0.00000000e+00,  1.72886540e-02]],\n",
       "\n",
       "        [[ 2.06640934e-03,  0.00000000e+00],\n",
       "         [ 0.00000000e+00,  1.99793373e+00]]]])"
      ]
     },
     "execution_count": 8,
     "metadata": {},
     "output_type": "execute_result"
    }
   ],
   "source": [
    "tens = np.zeros((4,4,2,2))\n",
    "for i in range(0,4):\n",
    "    for j in range(0,4):\n",
    "        tens [i,j,:,:] = 2 * (chf[i]*chf[j] *(phi1 @phi1.T) + (1/2)*c2a1a[i]*c2a1a[j]*(phi1 @phi1.T + phi2 @phi2.T) \n",
    "                                           +(1/2) * c2b1b[i]*c2b1b[j]*(phi1 @phi1.T + phi2 @phi2.T) + c2211[i]*c2211[j]*(phi2 @phi2.T)\n",
    "                                          +(1/2) * (chf[i]*c2a1a[j] * (phi1 @ phi2.T) + c2a1a[i]*chf[j]*(phi2 @ phi1.T))\n",
    "                                          -(1/2) * (chf[i]*c2b1b[j] * (phi1 @ phi2.T) + c2b1b[i]*chf[j]*(phi2 @ phi1.T))\n",
    "                                          -(1/2) * (c2a1a[i]*c2211[j] * (phi1 @ phi2.T) + c2211[i]*c2a1a[j]*(phi2 @ phi1.T))\n",
    "                                          +(1/2) * (c2b1b[i]*c2211[j] * (phi1 @ phi2.T) + c2211[i]*c2b1b[j]*(phi2 @ phi1.T)))\n",
    "        print('TRACE: ',np.trace(tens [i,j,:,:]),str(i)+str(j))\n",
    "    \n",
    "tens\n",
    "#can compare this MO -> AO with saved Gaussian"
   ]
  },
  {
   "cell_type": "code",
   "execution_count": 9,
   "metadata": {},
   "outputs": [
    {
     "data": {
      "text/plain": [
       "['td_dens_im_data', 'td_dens_re_data']"
      ]
     },
     "execution_count": 9,
     "metadata": {},
     "output_type": "execute_result"
    }
   ],
   "source": [
    "full_den_mats = np.load(sys+'/td_dens_tdcasscf_'+sys+'_sto-3g_046_dt=0.082680au.npz',allow_pickle=True)\n",
    "full_den_mats.files"
   ]
  },
  {
   "cell_type": "code",
   "execution_count": 10,
   "metadata": {},
   "outputs": [
    {
     "data": {
      "text/plain": [
       "(20073, 2, 2)"
      ]
     },
     "execution_count": 10,
     "metadata": {},
     "output_type": "execute_result"
    }
   ],
   "source": [
    "full_den_mats = full_den_mats['td_dens_re_data'] + 1j*full_den_mats['td_dens_im_data']\n",
    "full_den_mats.shape"
   ]
  },
  {
   "cell_type": "code",
   "execution_count": 11,
   "metadata": {},
   "outputs": [],
   "source": [
    "# C = np.load('denmat_ci_H2/ke+en+overlap+ee_twoe+dip_casscf22_h2_sto-3g.npz')['cMO_colvec_data']\n",
    "# S = np.load('denmat_ci_H2/ke+en+overlap+ee_twoe+dip_casscf22_h2_sto-3g.npz')['overlap_data']"
   ]
  },
  {
   "cell_type": "code",
   "execution_count": 12,
   "metadata": {},
   "outputs": [
    {
     "data": {
      "text/plain": [
       "(20071, 5)"
      ]
     },
     "execution_count": 12,
     "metadata": {},
     "output_type": "execute_result"
    }
   ],
   "source": [
    "time_coeffs = np.loadtxt(sys+'/time_coeffs.tdcasscf_'+sys+'_sto-3g_046_dt=0.082680au.txt',dtype=np.cdouble)\n",
    "time_coeffs.shape"
   ]
  },
  {
   "cell_type": "code",
   "execution_count": 13,
   "metadata": {},
   "outputs": [],
   "source": [
    "#deletes time column \n",
    "time_coeffs = np.delete(time_coeffs,0,1)"
   ]
  },
  {
   "cell_type": "code",
   "execution_count": 14,
   "metadata": {},
   "outputs": [
    {
     "data": {
      "text/plain": [
       "array([1.        , 1.00000001, 0.99999999, ..., 1.        , 1.        ,\n",
       "       1.        ])"
      ]
     },
     "execution_count": 14,
     "metadata": {},
     "output_type": "execute_result"
    }
   ],
   "source": [
    "#ensuring normalization\n",
    "np.sum(np.square(np.abs(time_coeffs)),axis=1)"
   ]
  },
  {
   "cell_type": "code",
   "execution_count": 15,
   "metadata": {},
   "outputs": [],
   "source": [
    "#deletes 0 coefficient column\n",
    "time_coeffs2 = np.delete(time_coeffs,1,1)"
   ]
  },
  {
   "cell_type": "code",
   "execution_count": 16,
   "metadata": {},
   "outputs": [
    {
     "name": "stdout",
     "output_type": "stream",
     "text": [
      "[1.         1.00000001 0.99999999 ... 1.         1.         1.        ]\n"
     ]
    },
    {
     "data": {
      "image/png": "[encoded data removed]",
      "text/plain": [
       "<Figure size 432x288 with 1 Axes>"
      ]
     },
     "metadata": {
      "needs_background": "light"
     },
     "output_type": "display_data"
    }
   ],
   "source": [
    "#ensuring normalization\n",
    "print(np.sum(np.abs(np.square(time_coeffs2)),axis=1))\n",
    "plt.plot(np.arange(0,time_coeffs2.shape[0]),np.sum(np.abs(np.square(time_coeffs2)),axis=1));"
   ]
  },
  {
   "cell_type": "code",
   "execution_count": 20,
   "metadata": {},
   "outputs": [
    {
     "data": {
      "text/plain": [
       "(1.0000000000000007, 0.9999999999999993)"
      ]
     },
     "execution_count": 20,
     "metadata": {},
     "output_type": "execute_result"
    }
   ],
   "source": [
    "vals = []\n",
    "for i in range(time_coeffs2.shape[0]):\n",
    "    x = np.random.normal(size=4) + 1j*np.random.normal(size=4)\n",
    "    x /= np.sqrt(np.sum(np.abs(x)**2))\n",
    "    vals.append(x)\n",
    "vals = np.array(vals)\n",
    "time_coeffs2 = vals\n",
    "np.max((np.sum(np.abs(np.square(vals)),axis=1))), np.min((np.sum(np.abs(np.square(vals)),axis=1)))"
   ]
  },
  {
   "cell_type": "code",
   "execution_count": 21,
   "metadata": {},
   "outputs": [
    {
     "name": "stdout",
     "output_type": "stream",
     "text": [
      "[[ 0.87164715+8.67361738e-19j -0.19606976-3.35278989e-01j]\n",
      " [-0.19606976+3.35278989e-01j  1.12835282+2.38524478e-18j]]\n",
      "\n",
      "[[1.27700265+1.62630326e-19j 0.5180247 +1.89280227e-01j]\n",
      " [0.5180247 -1.89280227e-01j 0.72299731-2.22261445e-18j]]\n",
      "\n",
      "[[1.82252023-5.36680075e-18j 0.17048499+3.80856789e-01j]\n",
      " [0.17048499-3.80856789e-01j 0.17747974-8.13151629e-19j]]\n",
      "\n",
      "[[ 0.95791157+2.16840434e-19j -0.17612454-2.34320657e-01j]\n",
      " [-0.17612454+2.34320657e-01j  1.04208831+1.73472348e-18j]]\n",
      "\n",
      "[[ 0.57226897-1.08420217e-19j -0.03944976+3.43018664e-01j]\n",
      " [-0.03944976-3.43018664e-01j  1.42773122-1.08420217e-19j]]\n",
      "\n",
      "[[ 1.39021384+1.09775470e-17j -0.1696033 +3.12915473e-01j]\n",
      " [-0.1696033 -3.12915473e-01j  0.60978626+3.93023288e-18j]]\n",
      "\n",
      "[[ 0.86872463+0.00000000e+00j -0.03651242-2.10043773e-02j]\n",
      " [-0.03651242+2.10043773e-02j  1.13127525-1.73472348e-18j]]\n",
      "\n",
      "[[ 0.74851146+4.33680869e-18j -0.29758493-2.02909837e-01j]\n",
      " [-0.29758493+2.02909837e-01j  1.25148858+6.07153217e-18j]]\n",
      "\n",
      "[[ 1.48579865+2.16840434e-19j -0.24631276-2.07230530e-01j]\n",
      " [-0.24631276+2.07230530e-01j  0.51420134-2.81892565e-18j]]\n",
      "\n",
      "[[1.10334321-2.92734587e-18j 0.02222612+3.66427013e-01j]\n",
      " [0.02222612-3.66427013e-01j 0.89665683-6.50521303e-19j]]\n",
      "\n",
      "[[ 0.7377415 +1.73472348e-18j -0.15166435-3.73830976e-01j]\n",
      " [-0.15166435+3.73830976e-01j  1.26225856-3.90312782e-18j]]\n",
      "\n",
      "[[ 1.08571133-2.60208521e-18j -0.30652189-7.37866018e-02j]\n",
      " [-0.30652189+7.37866018e-02j  0.91428857-1.08420217e-18j]]\n",
      "\n",
      "[[ 1.01285429-2.27682456e-18j -0.11179046-9.24194788e-02j]\n",
      " [-0.11179046+9.24194788e-02j  0.9871455 +5.58364119e-18j]]\n",
      "\n",
      "[[0.95831634-2.16840434e-19j 0.32674193-7.41304968e-03j]\n",
      " [0.32674193+7.41304968e-03j 1.04168352-1.51788304e-18j]]\n",
      "\n",
      "[[1.07041906-1.40946282e-17j 0.11718234-8.06400230e-02j]\n",
      " [0.11718234+8.06400230e-02j 0.92958089-7.80625564e-18j]]\n",
      "\n",
      "[[ 0.78096893-8.67361738e-19j -0.20322187+4.12973735e-02j]\n",
      " [-0.20322187-4.12973735e-02j  1.21903099+0.00000000e+00j]]\n",
      "\n",
      "[[ 1.42805   -2.60208521e-18j -0.16307561-2.49684413e-02j]\n",
      " [-0.16307561+2.49684413e-02j  0.57194992+0.00000000e+00j]]\n",
      "\n",
      "[[ 1.02098561+0.00000000e+00j -0.57507418-5.32375403e-01j]\n",
      " [-0.57507418+5.32375403e-01j  0.97901437+1.73472348e-18j]]\n",
      "\n",
      "[[ 0.57083448+2.60208521e-18j -0.46514589-2.81192789e-01j]\n",
      " [-0.46514589+2.81192789e-01j  1.42916549-8.67361738e-19j]]\n",
      "\n",
      "[[ 1.00306359+8.67361738e-18j -0.00682227-2.80482419e-01j]\n",
      " [-0.00682227+2.80482419e-01j  0.9969364 +3.46944695e-18j]]\n",
      "\n"
     ]
    }
   ],
   "source": [
    "#this is the training data for MMUT ()\n",
    "rdmMO = np.einsum('ni,nj,ijab->nab',vals, np.conjugate(vals), tens)\n",
    "for j in range(0,200,10):\n",
    "    print(rdmMO[j])\n",
    "    print()"
   ]
  },
  {
   "cell_type": "code",
   "execution_count": 19,
   "metadata": {},
   "outputs": [
    {
     "name": "stdout",
     "output_type": "stream",
     "text": [
      "(2.0000002129182346-1.748276003132876e-18j) (1.9999997461594536+7.589415207398531e-19j)\n"
     ]
    },
    {
     "name": "stderr",
     "output_type": "stream",
     "text": [
      "C:\\Users\\Hardeep\\anaconda3\\lib\\site-packages\\numpy\\core\\_asarray.py:83: ComplexWarning: Casting complex values to real discards the imaginary part\n",
      "  return array(a, dtype, copy=False, order=order)\n"
     ]
    },
    {
     "data": {
      "image/png": "[encoded data removed]",
      "text/plain": [
       "<Figure size 432x288 with 1 Axes>"
      ]
     },
     "metadata": {
      "needs_background": "light"
     },
     "output_type": "display_data"
    }
   ],
   "source": [
    "traces = np.einsum('ijj ->i',rdmMO)\n",
    "print(np.max(traces),np.min(traces))\n",
    "plt.plot(np.arange(0,vals.shape[0]),traces);"
   ]
  },
  {
   "cell_type": "code",
   "execution_count": null,
   "metadata": {},
   "outputs": [],
   "source": []
  }
 ],
 "metadata": {
  "kernelspec": {
   "display_name": "Python 3",
   "language": "python",
   "name": "python3"
  },
  "language_info": {
   "codemirror_mode": {
    "name": "ipython",
    "version": 3
   },
   "file_extension": ".py",
   "mimetype": "text/x-python",
   "name": "python",
   "nbconvert_exporter": "python",
   "pygments_lexer": "ipython3",
   "version": "3.8.5"
  }
 },
 "nbformat": 4,
 "nbformat_minor": 4
}
