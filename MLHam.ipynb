{
 "cells": [
  {
   "cell_type": "code",
   "execution_count": 1,
   "id": "fde49bfb-a9d2-4eee-8216-17921113011b",
   "metadata": {},
   "outputs": [],
   "source": [
    "from jax.config import config\n",
    "config.update(\"jax_enable_x64\", True)\n",
    "\n",
    "import jax.numpy as jnp\n",
    "from jax import jit, lax, vmap, jacobian\n",
    "import jax.scipy.linalg as jsl\n",
    "\n",
    "import jax\n",
    "\n",
    "import numpy as np\n",
    "from read_traj_v2 import *\n",
    "\n",
    "import scipy.optimize\n",
    "\n",
    "import matplotlib\n",
    "%matplotlib inline\n",
    "import matplotlib.pyplot as plt"
   ]
  },
  {
   "cell_type": "code",
   "execution_count": 2,
   "id": "cdd49902-a6c5-4036-a143-daadf57e8319",
   "metadata": {},
   "outputs": [
    {
     "name": "stdout",
     "output_type": "stream",
     "text": [
      "\n",
      "\treading from \"./correctdata/ke+en+overlap+ee_twoe+dip_casscf22_heh+_sto-3g.npz\"\n",
      "\n",
      "can only concatenate str (not \"NoneType\") to str\n",
      "True is not in list\n"
     ]
    }
   ],
   "source": [
    "mol = 'heh+'\n",
    "basis = 'sto-3g'\n",
    "init = 'hf'\n",
    "td = 'rt-tdexx'\n",
    "\n",
    "dt = 0.08268/10\n",
    "\n",
    "inpath = './correctdata'\n",
    "inpath2 = './mydata/'\n",
    "outpath = './'\n",
    "saved_model_dir = './models/'\n",
    "\n",
    "trnfrq = jnp.array(np.load('./tdcis_data/tdcis_trnfreq_dt0.008268.npz'))\n",
    "trnamp = jnp.array(np.load('./tdcis_data/tdcis_trnamp_dt0.008268.npz'))\n",
    "trntme = jnp.array(np.load('./tdcis_data/tdcis_trntme_dt0.008268.npz'))\n",
    "# load important static matrices\n",
    "a = traj_data(inpath, mol, basis, init, td, '001',\n",
    "                init_cond_file=f'ke+en+overlap+ee_twoe+dip_casscf22_{mol}_{basis}.npz',\n",
    "                )\n",
    "a.assign_init_data()\n",
    "drc = a.drc\n",
    "xmat, didat, kinmat, enmat = a.xmat, a.didat, a.kinmat, a.enmat\n",
    "X = xmat"
   ]
  },
  {
   "cell_type": "code",
   "execution_count": 3,
   "id": "782c93f5-ac6b-461c-8027-c4cd4d28a6e4",
   "metadata": {},
   "outputs": [
    {
     "name": "stdout",
     "output_type": "stream",
     "text": [
      "(301, 10000, 2, 2)\n"
     ]
    }
   ],
   "source": [
    "trnden = jnp.array(np.load('./tdcis_data/tdcis_dt0.0082680.npz'))\n",
    "#trnden = jnp.array(np.load('./tdhf_data/rt-tdhf_forcing_full_finedt.npz'))\n",
    "print(trnden.shape)"
   ]
  },
  {
   "cell_type": "code",
   "execution_count": 4,
   "id": "b35e5065-2283-4433-a05e-e0c4005bed70",
   "metadata": {},
   "outputs": [],
   "source": [
    "inds = np.array([140, 141, 142, 143, 144, 150, 151, 152, 153,\n",
    "       154, 155, 156, 157, 158, 159, 165, 166, 167,168,169])\n",
    "#inds = np.array([145])\n",
    "trnden = trnden[inds]\n",
    "trnfrq = trnfrq[inds]\n",
    "trnamp = trnamp[inds]\n",
    "trntme = trntme[inds]"
   ]
  },
  {
   "cell_type": "code",
   "execution_count": 5,
   "id": "0656b107-e219-4d47-85b5-4a3ed87bb89d",
   "metadata": {},
   "outputs": [
    {
     "name": "stdout",
     "output_type": "stream",
     "text": [
      "(20, 10000, 2, 2)\n"
     ]
    }
   ],
   "source": [
    "print(trnden.shape)"
   ]
  },
  {
   "cell_type": "code",
   "execution_count": 6,
   "id": "a085c573",
   "metadata": {},
   "outputs": [],
   "source": [
    "# need two masks\n",
    "# upper mask is matrix whose (u,v)-th element is 0 unless u <= v\n",
    "# lower mask is matrix whose (u,v)-th element is 0 unless u > v\n",
    "upper = np.zeros((2,2),dtype=np.float64)\n",
    "lower = np.zeros((2,2),dtype=np.float64)\n",
    "for u in range(2):\n",
    "    for v in range(2):\n",
    "        if u <= v:\n",
    "            upper[u,v] = 1.0\n",
    "        if u > v:\n",
    "            lower[u,v] = 1.0\n",
    "\n",
    "ru1 = 2*np.einsum('uv,uk,ma,sb,uvms,vl->klab',upper,X,X,X,a.eeten,X)\n",
    "ru2 = np.einsum('uv,uk,ma,sb,umvs,vl->klab',upper,X,X,X,a.eeten,X)\n",
    "rl1 = 2*np.einsum('uv,uk,ma,sb,vums,vl->klab',lower,X,X,X,a.eeten,X)\n",
    "rl2 = np.einsum('uv,uk,ma,sb,vmus,vl->klab',lower,X,X,X,a.eeten,X)\n",
    "beta1trueNP = ru1 - ru2 + rl1 - rl2\n",
    "gamma1trueNP = ru1 - ru2 - rl1 + rl2\n",
    "\n",
    "beta0trueNP = xmat.conj().T @ (kinmat - enmat) @ xmat\n",
    "gamma0trueNP = np.zeros(beta0trueNP.shape)\n",
    "\n",
    "# extract parameters for real target\n",
    "beta0true = -beta0trueNP.reshape((-1))\n",
    "beta1true = -beta1trueNP.reshape((drc**2, drc**2))\n",
    "# extract parameters for imag target\n",
    "gamma0true = -gamma0trueNP.reshape((-1))\n",
    "gamma1true = -gamma1trueNP.reshape((drc**2, drc**2))\n",
    "\n",
    "beta0 = beta0true\n",
    "# beta1 = beta1true\n",
    "gamma0 = gamma0true\n",
    "# gamma1 = gamma1true\n",
    "\n",
    "thetatrue = jnp.concatenate([beta1true.reshape((-1)), gamma1true.reshape((-1))])"
   ]
  },
  {
   "cell_type": "code",
   "execution_count": 7,
   "id": "e208b109-be01-4e34-a35d-0570b43fa966",
   "metadata": {},
   "outputs": [],
   "source": [
    "# #nlayers = 2\n",
    "# #layerwidths = [2*drc**2,164,164,164,2*drc**2]\n",
    "# nlayers = 2\n",
    "# layerwidths = [2*drc**2,1200,2*drc**2]\n",
    "# numparams = 0\n",
    "# numweights = 0\n",
    "# for j in range(nlayers):\n",
    "#     numparams += layerwidths[j]*layerwidths[j+1] + layerwidths[j+1]\n",
    "#     numweights += layerwidths[j]*layerwidths[j+1]\n",
    "#numparams = 2 * drc**2 + 2 * 2 * drc**4\n",
    "# # numparams = 32\n",
    "numparams = 400"
   ]
  },
  {
   "cell_type": "code",
   "execution_count": 8,
   "id": "7c9ec612-7a09-42af-b28d-087ca1d8ae0b",
   "metadata": {},
   "outputs": [],
   "source": [
    "# def MLham(theta,t,x,y,fldfrq,fldamp,tmeoff,norm_direc):\n",
    "#     beta1 = thetatrue[:drc**4].reshape((drc**2, drc**2))\n",
    "#     gamma1 = thetatrue[drc**4:].reshape((drc**2, drc**2))\n",
    "#     x = x.reshape((drc**2))\n",
    "#     y = y.reshape((drc**2))\n",
    "   \n",
    "#     rmat0 = (beta0 + jnp.matmul(x, beta1)).reshape((drc, drc))\n",
    "#     qmat0 = (gamma0 + jnp.matmul(y, gamma1)).reshape((drc, drc))\n",
    "#     h0 = 0.5*(rmat0 + rmat0.T) + 0.5j*(qmat0 - qmat0.T)\n",
    "\n",
    "#     # beta0p = theta[:drc**2].reshape((drc**2))\n",
    "#     # gamma0p = theta[drc**2:2*drc**2].reshape((drc**2))\n",
    "#     # beta1p = theta[2*drc**2:2*drc**2+drc**4].reshape((drc**2,drc**2))\n",
    "#     # gamma1p = theta[2*drc**2+drc**4: 2*drc**2+2*drc**4].reshape((drc**2,drc**2))\n",
    "#     # beta2p = theta[2*drc**2+2*drc**4:2*drc**2+3*drc**4].reshape((drc**2,drc**2))\n",
    "#     # gamma2p = theta[2*drc**2+3*drc**4: 2*drc**2+4*drc**4].reshape((drc**2,drc**2))\n",
    "#     # rmat1 = (beta0p + jnp.matmul(x,beta1p) + jnp.matmul(x**2,beta2p)).reshape((drc,drc))\n",
    "#     # qmat1 = (gamma0p + jnp.matmul(y,gamma1p) + jnp.matmul(y**2,gamma2p)).reshape((drc,drc))\n",
    "    \n",
    "#     beta0p = theta[:4].reshape((drc**2))\n",
    "#     gamma0p = theta[4:8].reshape((drc**2))\n",
    "#     beta1p = theta[8:24].reshape((drc**2, drc**2))\n",
    "#     gamma1p = theta[24:40].reshape((drc**2, drc**2))\n",
    "#     beta2p = theta[40:80].reshape((4,10))\n",
    "#     gamma2p = theta[80:120].reshape((4,10))\n",
    "#     p = x+1j*y\n",
    "#     p2ndorder = jnp.array([p[0]**2, p[0]*p[1], p[0]*p[2], p[0]*p[3],p[1]**2, p[1]*p[2], p[1]*p[3], p[2]**2, p[2]*p[3], p[3]**2])\n",
    "#     x2 = p2ndorder.real.reshape((10))\n",
    "#     y2 = p2ndorder.imag.reshape((10))\n",
    "#     # # produce real target\n",
    "#     rmat1 = (beta0p + jnp.matmul(x, beta1p) + jnp.matmul(beta2p,x2)).reshape((drc,drc))\n",
    "#     # # produce imag target\n",
    "#     qmat1 = (gamma0p + jnp.matmul(y, gamma1p) + jnp.matmul(gamma2p,y2)).reshape((drc, drc))\n",
    "    \n",
    "#     h1= 0.5*(rmat1 + rmat1.T) + 0.5j*(qmat1 - qmat1.T)\n",
    "#     h = h0 + h1\n",
    "    \n",
    "#     ef = (t>=0)*(t<=tmeoff)*fldamp*jnp.sin(fldfrq*t)\n",
    "#     hfieldAO = ef*jnp.sum(norm_direc[:,None,None]*didat, axis=0, dtype=jnp.complex128)\n",
    "#     h -= xmat.conj().T @ hfieldAO @ xmat\n",
    "#     return h.real, h.imag"
   ]
  },
  {
   "cell_type": "code",
   "execution_count": 9,
   "id": "c7ef958f-2765-48bd-af06-7045eb9f92ec",
   "metadata": {},
   "outputs": [],
   "source": [
    "def MLham(theta):\n",
    "    #import pdb; pdb.set_trace()\n",
    "    #hamels = theta[tstart:tend]\n",
    "    h = jnp.array([[theta[0], theta[1] +1j*theta[2]], [theta[1] -1j*theta[2], theta[3]]]).reshape((drc,drc))\n",
    "    return h.real, h.imag "
   ]
  },
  {
   "cell_type": "code",
   "execution_count": 10,
   "id": "87e78e8a-c2be-476a-b331-24cc2f15c4b5",
   "metadata": {},
   "outputs": [],
   "source": [
    "mydHdtheta = jacobian(MLham, 0)\n",
    "dHdXjax = jacobian(MLham, 2)\n",
    "dHdYjax = jacobian(MLham,3)"
   ]
  },
  {
   "cell_type": "code",
   "execution_count": 11,
   "id": "2e04bc41",
   "metadata": {},
   "outputs": [],
   "source": [
    "m = drc\n",
    "def expderiv(d, u, w):\n",
    "    offdiagmask = jnp.ones((m, m)) - jnp.eye(m)\n",
    "    expspec = jnp.exp(d)\n",
    "    e1, e2 = jnp.meshgrid(expspec, expspec)\n",
    "    s1, s2 = jnp.meshgrid(d, d)\n",
    "    denom = offdiagmask * (s1 - s2) + jnp.eye(m)\n",
    "    mask = offdiagmask * (e1 - e2)/denom + jnp.diag(expspec)\n",
    "    prederivamat = jnp.einsum('ij,jk,kl->il',u.conj().T,w,u) \n",
    "    derivamat = prederivamat * mask\n",
    "    return jnp.einsum('ij,jk,kl->il',u,derivamat,u.conj().T)"
   ]
  },
  {
   "cell_type": "code",
   "execution_count": 12,
   "id": "368da964",
   "metadata": {},
   "outputs": [],
   "source": [
    "def expderiv2(d, u, w):\n",
    "    offdiagmask = jnp.ones((m, m)) - jnp.eye(m)\n",
    "    expspec = jnp.exp(d)\n",
    "    e1, e2 = jnp.meshgrid(expspec, expspec)\n",
    "    s1, s2 = jnp.meshgrid(d, d)\n",
    "    denom = offdiagmask * (s1 - s2) + jnp.eye(m)\n",
    "    mask = offdiagmask * (e1 - e2)/denom + jnp.diag(expspec)\n",
    "    prederivamat = jnp.einsum('ij,abjk,kl->ilab',u.conj().T,w,u) \n",
    "    derivamat = jnp.einsum('ilab,il->ilab',prederivamat,mask)\n",
    "    return jnp.einsum('ij,jkab,kl->ilab',u,derivamat,u.conj().T)"
   ]
  },
  {
   "cell_type": "code",
   "execution_count": 13,
   "id": "acf65ed4",
   "metadata": {},
   "outputs": [],
   "source": [
    "def expderiv3(d, u, w):\n",
    "    offdiagmask = jnp.ones((m, m)) - jnp.eye(m)\n",
    "    expspec = jnp.exp(d)\n",
    "    e1, e2 = jnp.meshgrid(expspec, expspec)\n",
    "    s1, s2 = jnp.meshgrid(d, d)\n",
    "    denom = offdiagmask * (s1 - s2) + jnp.eye(m)\n",
    "    mask = offdiagmask * (e1 - e2)/denom + jnp.diag(expspec)\n",
    "    prederivamat = jnp.einsum('ij,jka,kl->ila',u.conj().T,w,u) \n",
    "    derivamat = jnp.einsum('ila,il->ila',prederivamat,mask)\n",
    "    return jnp.einsum('ij,jka,kl->ila',u,derivamat,u.conj().T)"
   ]
  },
  {
   "cell_type": "code",
   "execution_count": 14,
   "id": "7425c709",
   "metadata": {},
   "outputs": [],
   "source": [
    "def xicomp(theta, x, y, evals, evecs, t, fldfrq,fldamp,tmeoff,norm_direc):\n",
    "    dHrealdPauto = 0.5*(dHdXjax(theta,t,x,y,fldfrq,fldamp,tmeoff,norm_direc)[0] - 1j*dHdYjax(theta,t,x,y,fldfrq,fldamp,tmeoff,norm_direc)[0])\n",
    "    dHimagdPauto = 0.5*(dHdXjax(theta,t,x,y,fldfrq,fldamp,tmeoff,norm_direc)[1] - 1j*dHdYjax(theta,t,x,y,fldfrq,fldamp,tmeoff,norm_direc)[1])\n",
    "    dHdp = dHrealdPauto + 1j*dHimagdPauto\n",
    "    dHrealdPbarauto = 0.5*(dHdXjax(theta,t,x,y,fldfrq,fldamp,tmeoff,norm_direc)[0] + 1j*dHdYjax(theta,t,x,y,fldfrq,fldamp,tmeoff,norm_direc)[0])\n",
    "    dHimagdPbarauto = 0.5*(dHdXjax(theta,t,x,y,fldfrq,fldamp,tmeoff,norm_direc)[1] + 1j*dHdYjax(theta,t,x,y,fldfrq,fldamp,tmeoff,norm_direc)[1])\n",
    "    dHdPbar = dHrealdPbarauto  + 1j*dHimagdPbarauto\n",
    "    dHdp = dHdp.reshape((drc,drc,drc,drc)).transpose((2,3,0,1))\n",
    "    dHdPbar = dHdPbar.reshape((drc,drc,drc,drc)).transpose((2,3,0,1))\n",
    "    jacP = expderiv2(evals, evecs, dHdp)\n",
    "    jacPbar = expderiv2(evals, evecs, dHdPbar)\n",
    "    return jacP, jacPbar\n",
    "\n",
    "def dUdtheta(theta, x, y, evals, evecs, t, fldfrq,fldamp,tmeoff,norm_direc):\n",
    "    dHdtheta =  mydHdtheta(theta,t, x, y, fldfrq,fldamp,tmeoff,norm_direc)\n",
    "    tm1 = expderiv3(evals, evecs, dHdtheta[0])\n",
    "    tm2 = expderiv3(evals, evecs, dHdtheta[1])\n",
    "    return tm1 + 1j*tm2"
   ]
  },
  {
   "cell_type": "code",
   "execution_count": 15,
   "id": "1ceb74d2",
   "metadata": {},
   "outputs": [],
   "source": [
    "mynumsteps = 100\n",
    "ntvec = mynumsteps\n",
    "\n",
    "def MMUT_Adjoint(theta, Ptilde, dt=0.08268, \n",
    "                 tmeoff=1, fldfrq=1, fldamp=1, norm_direc=jnp.array([0.0,0.0,1.0])):\n",
    "    tvec = dt*jnp.arange(ntvec)\n",
    "    P0 = Ptilde[0,:,:]\n",
    "    propagated_dens = [P0]\n",
    "    H0 = MLham(theta,0.0)\n",
    "    H0 = H0[0] + 1.0j*H0[1]\n",
    "    evals, evecs = jnp.linalg.eigh(H0)\n",
    "    U0 = evecs @ jnp.diag(jnp.exp(-1j*dt*evals)) @ evecs.conj().T\n",
    "    P1 = U0 @ P0 @ U0.conj().T\n",
    "    propagated_dens.append( P1 )\n",
    "    \n",
    "    def bodyfun(i, dtup):\n",
    "        dl, dvals, dvecs, dU = dtup\n",
    "        P0 = dl[i, :, :]\n",
    "        P1 = dl[i+1, :, :]\n",
    "        H1 = MLham(theta,(i+1.0)*dt)\n",
    "        H1 = H1[0] + 1.0j*H1[1]\n",
    "        evals, evecs = jnp.linalg.eigh(H1)\n",
    "        dvals = dvals.at[i+1].set( evals )\n",
    "        dvecs = dvecs.at[i+1].set( evecs )\n",
    "        U1 = evecs @ jnp.diag(jnp.exp(-2j*dt*evals)) @ evecs.conj().T\n",
    "        dU = dU.at[i+1].set( U1 )\n",
    "        P2 = U1 @ P0 @ U1.conj().T\n",
    "        dl = dl.at[i+2].set( P2 )\n",
    "        return (dl, dvals, dvecs, dU)\n",
    "    \n",
    "    alldens = jnp.concatenate([jnp.stack(propagated_dens), jnp.zeros((ntvec-1, drc, drc))], axis=0)\n",
    "    allevals = jnp.concatenate([jnp.expand_dims(evals,0), jnp.zeros((ntvec-1, drc))], axis=0)\n",
    "    allevecs = jnp.concatenate([jnp.expand_dims(evecs,0), jnp.zeros((ntvec-1, drc, drc))], axis=0)\n",
    "    allU = jnp.concatenate([jnp.expand_dims(U0,0), jnp.zeros((ntvec-1, drc, drc))], axis=0)\n",
    "    ftup = lax.fori_loop(0, ntvec-1, bodyfun, (alldens, allevals, allevecs, allU))\n",
    "    Pstack, allevals, allevecs, allU = ftup\n",
    "\n",
    "    def bodylamb(i, dl):\n",
    "        k = ntvec - i\n",
    "        newlamb = Pstack[k, :, :] - Ptilde[k, :, :]\n",
    "        xiak = xicomp(theta, Pstack[k].real, Pstack[k].imag,-2j*dt*allevals[k], allevecs[k], i*dt, fldfrq,fldamp,tmeoff,norm_direc)\n",
    "        xibk = xicomp(theta,  Pstack[k].real.reshape((-1)), Pstack[k].imag.reshape((-1)), 2j*dt*allevals[k], allevecs[k], i*dt, fldfrq,fldamp,tmeoff,norm_direc)\n",
    "        # if i <---> k correspond, then i-1 <---> k+1 correspond\n",
    "        newlamb += jnp.einsum('ij,ijkl->kl',dl[i-1] @ allU[k] @ Pstack[k-1], (-2j*dt*xiak[0]).conj())\n",
    "        newlamb += jnp.einsum('ij,ijkl->kl',dl[i-1] @ allU[k] @ Pstack[k-1], (-2j*dt*xiak[1]).conj()).conj()\n",
    "        newlamb += jnp.einsum('ij,ijkl->kl',Pstack[k-1] @ allU[k].conj().T @ dl[i-1], (2j*dt*xibk[0]).conj())\n",
    "        newlamb += jnp.einsum('ij,ijkl->kl',Pstack[k-1] @ allU[k].conj().T @ dl[i-1], (2j*dt*xibk[1]).conj()).conj()\n",
    "        newlamb += allU[k+1].conj().T @ dl[i-2] @ allU[k+1]\n",
    "        return dl.at[i].set( newlamb )\n",
    "    \n",
    "    lambfinal = Pstack[ntvec, :, :] - Ptilde[ntvec, :, :]\n",
    "    lambnext = Pstack[ntvec-1, :, :] - Ptilde[ntvec-1, :, :]\n",
    "    xiak = xicomp(theta, Pstack[ntvec-1].real, Pstack[ntvec-1].imag, -2j*dt*allevals[ntvec-1], allevecs[ntvec-1], (ntvec-1)*dt, fldfrq,fldamp,tmeoff,norm_direc)\n",
    "    xibk = xicomp(theta, Pstack[ntvec-1].real, Pstack[ntvec-1].imag, 2j*dt*allevals[ntvec-1], allevecs[ntvec-1], (ntvec-1)*dt, fldfrq,fldamp,tmeoff,norm_direc)\n",
    "    lambnext += jnp.einsum('ij,ijkl->kl',lambfinal @ allU[ntvec-1] @ Pstack[ntvec-2], (-2j*dt*xiak[0]).conj())\n",
    "    lambnext += jnp.einsum('ij,ijkl->kl',lambfinal @ allU[ntvec-1] @ Pstack[ntvec-2], (-2j*dt*xiak[1]).conj()).conj()\n",
    "    lambnext += jnp.einsum('ij,ijkl->kl',Pstack[ntvec-2] @ allU[ntvec-1].conj().T @ lambfinal, (2j*dt*xibk[0]).conj())\n",
    "    lambnext += jnp.einsum('ij,ijkl->kl',Pstack[ntvec-2] @ allU[ntvec-1].conj().T @ lambfinal, (2j*dt*xibk[1]).conj()).conj()\n",
    "    lambcat = jnp.concatenate([jnp.expand_dims(lambfinal,0), jnp.expand_dims(lambnext, 0), jnp.zeros((ntvec-2, drc, drc))])\n",
    "    alllamb = lax.fori_loop(2, ntvec, bodylamb, lambcat)\n",
    "    lambstack = jnp.flipud( jnp.stack(alllamb, axis=0) )    \n",
    "    \n",
    "    def bodygrad(k, gL):\n",
    "        tmp1 = -2j*dt*dUdtheta(theta, Pstack[k].real, Pstack[k].imag, -2j*dt*allevals[k], allevecs[k], k*dt, fldfrq,fldamp,tmeoff,norm_direc)\n",
    "        term1 = jnp.einsum('ija,jk,kl->ila',tmp1,Pstack[k-1],allU[k].conj().T)\n",
    "        term2 = term1.transpose((1,0,2)).conj()\n",
    "        return gL + jnp.real(jnp.einsum('il,ila->a',lambstack[k],(term1+term2).conj()))\n",
    "\n",
    "    tmp1 = -1j*dt*dUdtheta(theta, Pstack[0].real, Pstack[0].imag, -1j*dt*allevals[0], allevecs[0], 0 , fldfrq,fldamp,tmeoff,norm_direc)\n",
    "    term1 = jnp.einsum('ija,jk,kl->ila',tmp1,Pstack[0],allU[0].conj().T)\n",
    "    term2 = term1.transpose((1,0,2)).conj()\n",
    "    initgradL = jnp.real(jnp.einsum('il,ila->a',lambstack[0],(term1+term2).conj()))\n",
    "    gradL = lax.fori_loop(1, ntvec, bodygrad, initgradL)\n",
    "    return gradL/mynumsteps/drc**2\n",
    "    "
   ]
  },
  {
   "cell_type": "code",
   "execution_count": 16,
   "id": "2af0ec1d-b817-4a9d-bc42-6619c7c15c06",
   "metadata": {},
   "outputs": [],
   "source": [
    "def MMUT_Prop_HSB(theta, initial_density, dt=0.08268, ntvec=2000,\n",
    "                  tmeoff=1, fldfrq=1, fldamp=1, norm_direc=jnp.array([0.0,0.0,1.0])):\n",
    "    tvec = dt*jnp.arange(ntvec)\n",
    "    P0 = initial_density.reshape((drc, drc))\n",
    "    propagated_dens = [P0]\n",
    "    H0 = MLham(theta[0:4])\n",
    "    H0 = H0[0] + 1.0j*H0[1]\n",
    "    evals, evecs = jnp.linalg.eigh(H0)\n",
    "    U0 = evecs @ jnp.diag(jnp.exp(-1j*dt*evals)) @ evecs.conj().T\n",
    "    P1 = U0 @ P0 @ U0.conj().T\n",
    "   \n",
    "    propagated_dens.append( P1 )\n",
    "    def bodyfun(i, dl):\n",
    "        P0 = dl[i, :, :]\n",
    "        P1 = dl[i+1, :, :]\n",
    "        H1 = MLham(jax.lax.dynamic_slice(theta, ((4*(i+1)),), (4,)))#theta[4*(i+1):4*(i+1+1)])\n",
    "        H1 = H1[0] + 1.0j*H1[1]\n",
    "        evals, evecs = jnp.linalg.eigh(H1)\n",
    "        U1 = evecs @ jnp.diag(jnp.exp(-2j*dt*evals)) @ evecs.conj().T\n",
    "        P2 = U1 @ P0 @ U1.conj().T\n",
    "        return dl.at[i+2].set( P2 )\n",
    "    #import pdb; pdb.set_trace()\n",
    "    alldens = jnp.concatenate([jnp.stack(propagated_dens), jnp.zeros((ntvec-1, drc, drc))], axis=0) \n",
    "    fdl = lax.fori_loop(0, ntvec-1, bodyfun, alldens)\n",
    "    \n",
    "    return fdl"
   ]
  },
  {
   "cell_type": "code",
   "execution_count": 17,
   "id": "3ed71ae0",
   "metadata": {},
   "outputs": [],
   "source": [
    "# # # this is a sanity check\n",
    "\n",
    "# # pick one trajectory\n",
    "# i = 140\n",
    "# ic = trnden[i][0,:,:].reshape((-1))\n",
    "# print('propagating trajectory: {}'.format(i))\n",
    "\n",
    "# # propagate with true Hamiltonian, correct forcing, etc \n",
    "# mlprop = MMUT_Prop_HSB(thetatrue, ic, dt=dt, ntvec=mynumsteps, tmeoff=trntme[i], fldfrq=trnfrq[i], fldamp=trnamp[i])\n",
    "# mlprop.shape\n",
    "\n",
    "# # plot the result of propagating with MMUT_Prop_HSB **and** the ground truth training trajectory, on the same panels\n",
    "\n",
    "# plt.figure(figsize=(6,4))\n",
    "# plt.plot(jnp.real(mlprop[:,0,0]),color='red')\n",
    "# plt.plot(jnp.real(trnden[i][:mynumsteps+1,0,0]),color='black')\n",
    "# plt.show()\n",
    "# plt.figure(figsize=(6,4))\n",
    "# plt.plot(jnp.real(mlprop[:,0,1]),color='red')\n",
    "# plt.plot(jnp.real(trnden[i][:mynumsteps+1,0,1]),color='black')\n",
    "# plt.show()\n",
    "# plt.figure(figsize=(6,4))\n",
    "# plt.plot(jnp.imag(mlprop[:,0,1]),color='red')\n",
    "# plt.plot(jnp.imag(trnden[i][:mynumsteps+1,0,1]),color='black')\n",
    "# plt.show()\n",
    "# plt.figure(figsize=(6,4))\n",
    "# plt.plot(jnp.real(mlprop[:,1,1]),color='red')\n",
    "# plt.plot(jnp.real(trnden[i][:mynumsteps+1,1,1]),color='black')\n",
    "# plt.show()"
   ]
  },
  {
   "cell_type": "code",
   "execution_count": 18,
   "id": "ad6a2c34",
   "metadata": {},
   "outputs": [],
   "source": [
    "# single-trajectory loss\n",
    "def loss(theta, i):\n",
    "    mlprop = MMUT_Prop_HSB(theta, ic, dt=dt, ntvec=mynumsteps,\n",
    "                           tmeoff=trntme[i], fldfrq=trnfrq[i], fldamp=trnamp[i])\n",
    "    resid = mlprop - trnden[i,:mynumsteps+1, :, :]\n",
    "    sse = 0.5*jnp.real(jnp.mean(jnp.conj(resid)*resid))\n",
    "    return sse"
   ]
  },
  {
   "cell_type": "code",
   "execution_count": 19,
   "id": "cde974e5-dc6d-4f07-ae49-4763c4b4a89d",
   "metadata": {},
   "outputs": [],
   "source": [
    "# gradient of single-trajectory loss\n",
    "def gradloss(theta, i):\n",
    "    return MMUT_Adjoint(theta, \n",
    "                        jnp.array(trnden[i,:mynumsteps+1,:,:]), dt=dt, \n",
    "                        tmeoff=trntme[i], fldfrq=trnfrq[i], fldamp=trnamp[i])"
   ]
  },
  {
   "cell_type": "code",
   "execution_count": 20,
   "id": "67201d4b",
   "metadata": {},
   "outputs": [],
   "source": [
    "# # # this is a sanity check\n",
    "\n",
    "# # the single-trajectory loss evaluated at the *true* theta should be super close to 0\n",
    "# print( loss(thetatrue, 0))\n",
    "\n",
    "# # the norm of the gradient of the single-trajectory loss at the *true* theta should be super close to 0\n",
    "# print( jnp.linalg.norm( jnp.abs( gradloss(thetatrue, 0) ) ))"
   ]
  },
  {
   "cell_type": "code",
   "execution_count": 21,
   "id": "b9e3aeaa-e112-472c-b4fd-5e19e746f596",
   "metadata": {},
   "outputs": [
    {
     "name": "stdout",
     "output_type": "stream",
     "text": [
      "propagating trajectory: 140\n"
     ]
    }
   ],
   "source": [
    "# # uncomment this cell to test whether the adjoint method's gradient agrees with JAX's gradient\n",
    "# # you should get agreement to 6-7 decimal places --- j\n",
    "i = 140\n",
    "ic = trnden[i][0,:,:].reshape((-1))\n",
    "print('propagating trajectory: {}'.format(i))"
   ]
  },
  {
   "cell_type": "code",
   "execution_count": 22,
   "id": "6ad06670-973b-475e-bd4a-b8ecd2b5a705",
   "metadata": {},
   "outputs": [],
   "source": [
    "from jax import grad, jacobian\n",
    "jaxgradloss = grad(loss)\n",
    "#thetarand = jnp.array(np.random.normal(size=32))\n",
    "#thetarand = jnp.array(np.random.normal(size=2 * drc**2 + 2 * 2 * drc**4))\n",
    "thetarand = 0.01 * jnp.array(np.random.normal(size=numparams))"
   ]
  },
  {
   "cell_type": "code",
   "execution_count": 23,
   "id": "937a643e-7b27-471b-a6ee-77f50d16aa36",
   "metadata": {},
   "outputs": [],
   "source": [
    "# #uncomment if you want a finite difference differentiation of the loss wrt theta\n",
    "# perturbedtheta = np.copy(thetarand)\n",
    "# fdtot = []\n",
    "# for ind in range(perturbedtheta.shape[0]):\n",
    "#     perturbedtheta[ind] += 1e-6\n",
    "#     losstheta = loss(thetarand,i)\n",
    "#     lossperturbedtheta = loss(perturbedtheta,i)\n",
    "#     fd = (lossperturbedtheta - losstheta)/1e-6\n",
    "#     fdtot.append(fd)\n",
    "#     perturbedtheta[ind] -= 1e-6\n",
    "# fdtot = np.array(fdtot)"
   ]
  },
  {
   "cell_type": "code",
   "execution_count": 24,
   "id": "2a8dd6ac-789c-4d6b-a30b-61a48b99b74f",
   "metadata": {},
   "outputs": [],
   "source": [
    "autodiffresult = jaxgradloss(thetarand, i)\n",
    "# adjointresult = gradloss(thetarand, i)\n",
    "# #print(autodiffresult)\n",
    "# #print(adjointresult)\n",
    "# print(jnp.mean(jnp.abs(autodiffresult-adjointresult)))"
   ]
  },
  {
   "cell_type": "code",
   "execution_count": 25,
   "id": "802ecf4c-d522-4189-a887-1c8d7a4e03f5",
   "metadata": {},
   "outputs": [],
   "source": [
    "# multi-trajectory loss\n",
    "vloss = vmap(loss, (None,0))\n",
    "jvloss = jit(vloss)\n",
    "\n",
    "# gradient of multi-trajectory loss\n",
    "vgradloss = vmap(jaxgradloss, (None, 0))\n",
    "jvgradloss = jit(vgradloss)"
   ]
  },
  {
   "cell_type": "code",
   "execution_count": 26,
   "id": "5b0a554d-6ec8-4d94-91f0-e132e62a982d",
   "metadata": {},
   "outputs": [],
   "source": [
    "\n",
    "# # multi-trajectory loss\n",
    "# ploss = pmap(loss, (None,0))\n",
    "# #jvloss = jit(vloss)\n",
    "\n",
    "# # gradient of multi-trajectory loss\n",
    "# pgradloss = pmap(gradloss, (None, 0))\n",
    "# #jvgradloss = jit(vgradloss)"
   ]
  },
  {
   "cell_type": "code",
   "execution_count": 27,
   "id": "6e8af22c-4903-40db-be04-ff5848467728",
   "metadata": {},
   "outputs": [],
   "source": [
    "# # this is a sanity check\n",
    "\n",
    "# # the multi-trajectory loss evaluated at the *true* theta should be super close to 0\n",
    "# print( jnp.mean( jvloss(thetatrue, jnp.arange(140,160)) ) )\n",
    "\n",
    "# # the norm of the gradient of the multi-trajectory loss at the *true* theta should be super close to 0\n",
    "# print( jnp.linalg.norm( jnp.mean( jvgradloss(thetatrue, jnp.arange(140,160)), axis=0 ) ) )"
   ]
  },
  {
   "cell_type": "code",
   "execution_count": 28,
   "id": "53bf0d1d-2851-4a8f-9dfe-f93ec88738b5",
   "metadata": {},
   "outputs": [],
   "source": [
    "# NumPy wrappers to our JAX functions for use with SciPy optimizers\n",
    "#was arange(140,160)\n",
    "def siobj(x):\n",
    "    jx = jnp.array(x)\n",
    "    return jnp.mean(jvloss( jx, jnp.arange(0,len(inds)))).item()\n",
    "\n",
    "def sigrad(x):\n",
    "    jx = jnp.array(x)\n",
    "    return np.asarray( jnp.mean( jvgradloss( jx, jnp.arange(0,len(inds) )), axis=0 ), dtype = np.float64 )"
   ]
  },
  {
   "cell_type": "code",
   "execution_count": 29,
   "id": "d4e62367-6f3c-4740-a577-da3683dff3a1",
   "metadata": {},
   "outputs": [],
   "source": [
    "# # NumPy wrappers to our JAX functions for use with SciPy optimizers\n",
    "\n",
    "# def siobj(x):\n",
    "#     jx = jnp.array(x)\n",
    "#     return jnp.mean(ploss( jx, jnp.arange(140,144) )).item()\n",
    "\n",
    "# def sigrad(x):\n",
    "#     jx = jnp.array(x)\n",
    "#     return np.asarray( jnp.mean( pgradloss( jx, jnp.arange(140,144) ), axis=0 ), dtype = np.float64 )"
   ]
  },
  {
   "cell_type": "code",
   "execution_count": 30,
   "id": "6467efcc-ea3d-41ba-9125-9eb3b77494e9",
   "metadata": {},
   "outputs": [],
   "source": [
    "# many-theta version of the loss function\n",
    "vthetaloss = vmap(loss, (0, None))\n",
    "jvthetaloss = jit(vthetaloss)"
   ]
  },
  {
   "cell_type": "code",
   "execution_count": 31,
   "id": "86e4828e-2914-489e-a87b-b63c7be669ae",
   "metadata": {},
   "outputs": [
    {
     "data": {
      "image/png": "[encoded data removed]",
      "text/plain": [
       "<Figure size 640x480 with 1 Axes>"
      ]
     },
     "metadata": {},
     "output_type": "display_data"
    }
   ],
   "source": [
    "# evaluate the loss for many randomly sampled thetas\n",
    "numruns = 100\n",
    "np.random.seed(5)\n",
    "manytheta0 = 1e-1*jnp.array(np.random.normal(size=numparams*numruns), dtype=np.float64).reshape((numruns, -1))\n",
    "\n",
    "# use the many-theta version of the loss function,\n",
    "# but only evaluate along one trajectory, to save memory and time\n",
    "testloss = jvthetaloss(manytheta0, 0)\n",
    "\n",
    "# plot log_{10} of the losses obtained from the random thetas\n",
    "plt.plot(jnp.log(testloss)/jnp.log(10))\n",
    "plt.show()\n",
    "\n",
    "# pick the best theta\n",
    "minind = jnp.argmin(testloss)\n",
    "theta0 = manytheta0[minind]"
   ]
  },
  {
   "cell_type": "code",
   "execution_count": 32,
   "id": "5c847853-23b8-4658-a040-0913be16299c",
   "metadata": {},
   "outputs": [
    {
     "name": "stdout",
     "output_type": "stream",
     "text": [
      "| niter |f evals|CG iter|  obj func   |tr radius |   opt    |  c viol  |\n",
      "|-------|-------|-------|-------------|----------|----------|----------|\n",
      "|   1   |   1   |   0   | +1.3780e-05 | 1.00e+00 | 1.83e-05 | 0.00e+00 |\n",
      "|   2   |   2   |   1   | +1.3765e-05 | 1.00e+00 | 1.83e-05 | 0.00e+00 |\n",
      "|   3   |   3   |   2   | +7.1578e-06 | 1.00e+00 | 3.98e-06 | 0.00e+00 |\n",
      "|   4   |   4   |   3   | +6.6586e-06 | 1.00e+00 | 3.05e-06 | 0.00e+00 |\n",
      "|   5   |   5   |   5   | +5.0338e-06 | 1.00e+00 | 4.91e-06 | 0.00e+00 |\n",
      "|   6   |   6   |   8   | +4.4661e-06 | 1.00e+00 | 3.64e-06 | 0.00e+00 |\n",
      "|   7   |   7   |   9   | +4.3578e-06 | 1.00e+00 | 1.67e-06 | 0.00e+00 |\n",
      "|   8   |   8   |  11   | +4.2643e-06 | 1.00e+00 | 1.98e-06 | 0.00e+00 |\n",
      "|   9   |   9   |  13   | +4.0683e-06 | 1.00e+00 | 2.69e-06 | 0.00e+00 |\n",
      "|  10   |  10   |  14   | +4.0038e-06 | 1.00e+00 | 1.80e-06 | 0.00e+00 |\n",
      "|  11   |  11   |  17   | +3.6343e-06 | 1.00e+00 | 8.14e-07 | 0.00e+00 |\n",
      "|  12   |  12   |  20   | +3.5875e-06 | 1.00e+00 | 5.87e-07 | 0.00e+00 |\n",
      "|  13   |  13   |  21   | +3.5700e-06 | 1.00e+00 | 6.17e-07 | 0.00e+00 |\n",
      "|  14   |  14   |  25   | +3.3424e-06 | 1.00e+00 | 7.92e-07 | 0.00e+00 |\n",
      "|  15   |  15   |  26   | +3.3267e-06 | 1.00e+00 | 5.99e-07 | 0.00e+00 |\n",
      "|  16   |  16   |  29   | +3.2907e-06 | 1.00e+00 | 8.72e-07 | 0.00e+00 |\n",
      "|  17   |  17   |  31   | +3.2639e-06 | 1.00e+00 | 8.90e-07 | 0.00e+00 |\n",
      "|  18   |  18   |  36   | +3.1637e-06 | 1.00e+00 | 1.09e-06 | 0.00e+00 |\n",
      "|  19   |  19   |  37   | +3.1457e-06 | 1.00e+00 | 5.22e-07 | 0.00e+00 |\n",
      "|  20   |  20   |  42   | +3.0943e-06 | 1.00e+00 | 3.59e-07 | 0.00e+00 |\n",
      "|  21   |  21   |  43   | +3.0910e-06 | 1.00e+00 | 3.60e-07 | 0.00e+00 |\n",
      "|  22   |  22   |  46   | +3.0296e-06 | 1.00e+00 | 9.32e-07 | 0.00e+00 |\n",
      "|  23   |  23   |  47   | +3.0223e-06 | 1.00e+00 | 4.83e-07 | 0.00e+00 |\n",
      "|  24   |  24   |  52   | +2.9624e-06 | 1.00e+00 | 4.85e-07 | 0.00e+00 |\n",
      "|  25   |  25   |  57   | +2.9248e-06 | 1.00e+00 | 6.12e-07 | 0.00e+00 |\n",
      "|  26   |  26   |  58   | +2.9202e-06 | 1.00e+00 | 4.74e-07 | 0.00e+00 |\n",
      "|  27   |  27   |  60   | +2.9040e-06 | 1.00e+00 | 5.69e-07 | 0.00e+00 |\n",
      "|  28   |  28   |  63   | +2.8948e-06 | 1.00e+00 | 5.51e-07 | 0.00e+00 |\n",
      "|  29   |  29   |  64   | +2.8923e-06 | 1.00e+00 | 3.74e-07 | 0.00e+00 |\n",
      "|  30   |  30   |  71   | +2.8761e-06 | 1.00e+00 | 4.48e-07 | 0.00e+00 |\n",
      "|  31   |  31   |  73   | +2.8724e-06 | 1.00e+00 | 4.39e-07 | 0.00e+00 |\n",
      "|  32   |  32   |  77   | +2.8370e-06 | 1.00e+00 | 4.15e-07 | 0.00e+00 |\n",
      "|  33   |  33   |  78   | +2.8344e-06 | 1.00e+00 | 2.44e-07 | 0.00e+00 |\n",
      "|  34   |  34   |  88   | +2.7970e-06 | 1.00e+00 | 3.44e-07 | 0.00e+00 |\n",
      "|  35   |  35   |  91   | +2.7930e-06 | 1.00e+00 | 2.73e-07 | 0.00e+00 |\n",
      "|  36   |  36   |  94   | +2.7896e-06 | 1.00e+00 | 2.60e-07 | 0.00e+00 |\n",
      "|  37   |  37   |  96   | +2.7864e-06 | 1.00e+00 | 2.41e-07 | 0.00e+00 |\n",
      "|  38   |  38   |  102  | +2.7587e-06 | 1.00e+00 | 3.72e-07 | 0.00e+00 |\n",
      "|  39   |  39   |  103  | +2.7565e-06 | 1.00e+00 | 2.39e-07 | 0.00e+00 |\n",
      "|  40   |  40   |  105  | +2.7495e-06 | 1.00e+00 | 3.23e-07 | 0.00e+00 |\n",
      "|  41   |  41   |  108  | +2.7433e-06 | 1.00e+00 | 3.87e-07 | 0.00e+00 |\n",
      "|  42   |  42   |  109  | +2.7415e-06 | 1.00e+00 | 1.94e-07 | 0.00e+00 |\n",
      "|  43   |  43   |  120  | +2.7106e-06 | 1.00e+00 | 1.78e-07 | 0.00e+00 |\n",
      "|  44   |  44   |  126  | +2.7075e-06 | 1.00e+00 | 1.93e-07 | 0.00e+00 |\n",
      "|  45   |  45   |  127  | +2.7064e-06 | 1.00e+00 | 1.73e-07 | 0.00e+00 |\n",
      "|  46   |  46   |  129  | +2.6976e-06 | 1.00e+00 | 3.09e-07 | 0.00e+00 |\n",
      "|  47   |  47   |  130  | +2.6961e-06 | 1.00e+00 | 1.55e-07 | 0.00e+00 |\n",
      "|  48   |  48   |  135  | +2.6807e-06 | 1.00e+00 | 2.21e-07 | 0.00e+00 |\n",
      "|  49   |  49   |  148  | +2.6546e-06 | 1.00e+00 | 2.20e-07 | 0.00e+00 |\n",
      "|  50   |  50   |  149  | +2.6537e-06 | 1.00e+00 | 1.93e-07 | 0.00e+00 |\n",
      "|  51   |  51   |  152  | +2.6517e-06 | 1.00e+00 | 1.68e-07 | 0.00e+00 |\n",
      "|  52   |  52   |  155  | +2.6501e-06 | 1.00e+00 | 1.98e-07 | 0.00e+00 |\n",
      "|  53   |  53   |  159  | +2.6420e-06 | 1.00e+00 | 3.25e-07 | 0.00e+00 |\n",
      "|  54   |  54   |  160  | +2.6406e-06 | 1.00e+00 | 1.65e-07 | 0.00e+00 |\n",
      "|  55   |  55   |  169  | +2.6315e-06 | 1.00e+00 | 1.89e-07 | 0.00e+00 |\n",
      "|  56   |  56   |  175  | +2.6294e-06 | 1.00e+00 | 1.59e-07 | 0.00e+00 |\n",
      "|  57   |  57   |  177  | +2.6288e-06 | 1.00e+00 | 1.60e-07 | 0.00e+00 |\n",
      "|  58   |  58   |  187  | +2.6163e-06 | 1.00e+00 | 2.20e-07 | 0.00e+00 |\n",
      "|  59   |  59   |  188  | +2.6151e-06 | 1.00e+00 | 1.55e-07 | 0.00e+00 |\n",
      "|  60   |  60   |  193  | +2.6101e-06 | 1.00e+00 | 1.48e-07 | 0.00e+00 |\n",
      "|  61   |  61   |  199  | +2.6071e-06 | 1.00e+00 | 1.32e-07 | 0.00e+00 |\n",
      "|  62   |  62   |  208  | +2.6031e-06 | 1.00e+00 | 1.43e-07 | 0.00e+00 |\n",
      "|  63   |  63   |  209  | +2.6025e-06 | 1.00e+00 | 1.37e-07 | 0.00e+00 |\n",
      "|  64   |  64   |  211  | +2.5981e-06 | 1.00e+00 | 2.61e-07 | 0.00e+00 |\n",
      "|  65   |  65   |  212  | +2.5973e-06 | 1.00e+00 | 1.66e-07 | 0.00e+00 |\n",
      "|  66   |  66   |  215  | +2.5913e-06 | 1.00e+00 | 8.51e-08 | 0.00e+00 |\n",
      "|  67   |  67   |  227  | +2.5808e-06 | 1.00e+00 | 1.63e-07 | 0.00e+00 |\n",
      "|  68   |  68   |  228  | +2.5805e-06 | 1.00e+00 | 1.06e-07 | 0.00e+00 |\n",
      "|  69   |  69   |  235  | +2.5783e-06 | 1.00e+00 | 8.50e-08 | 0.00e+00 |\n",
      "|  70   |  70   |  237  | +2.5780e-06 | 1.00e+00 | 9.49e-08 | 0.00e+00 |\n",
      "|  71   |  71   |  241  | +2.5742e-06 | 1.00e+00 | 2.48e-07 | 0.00e+00 |\n",
      "|  72   |  72   |  242  | +2.5737e-06 | 1.00e+00 | 1.30e-07 | 0.00e+00 |\n",
      "|  73   |  73   |  247  | +2.5695e-06 | 1.00e+00 | 7.20e-08 | 0.00e+00 |\n",
      "|  74   |  74   |  261  | +2.5598e-06 | 1.00e+00 | 1.12e-07 | 0.00e+00 |\n",
      "|  75   |  75   |  262  | +2.5596e-06 | 1.00e+00 | 6.10e-08 | 0.00e+00 |\n",
      "|  76   |  76   |  269  | +2.5587e-06 | 1.00e+00 | 7.96e-08 | 0.00e+00 |\n",
      "|  77   |  77   |  271  | +2.5585e-06 | 1.00e+00 | 7.71e-08 | 0.00e+00 |\n",
      "|  78   |  78   |  274  | +2.5561e-06 | 1.00e+00 | 2.41e-07 | 0.00e+00 |\n",
      "|  79   |  79   |  275  | +2.5557e-06 | 1.00e+00 | 1.22e-07 | 0.00e+00 |\n",
      "|  80   |  80   |  280  | +2.5527e-06 | 1.00e+00 | 7.30e-08 | 0.00e+00 |\n",
      "|  81   |  81   |  287  | +2.5494e-06 | 1.00e+00 | 9.44e-08 | 0.00e+00 |\n",
      "|  82   |  82   |  290  | +2.5490e-06 | 1.00e+00 | 9.09e-08 | 0.00e+00 |\n",
      "|  83   |  83   |  291  | +2.5489e-06 | 1.00e+00 | 8.75e-08 | 0.00e+00 |\n",
      "|  84   |  84   |  293  | +2.5479e-06 | 1.00e+00 | 1.62e-07 | 0.00e+00 |\n",
      "|  85   |  85   |  294  | +2.5477e-06 | 1.00e+00 | 9.45e-08 | 0.00e+00 |\n",
      "|  86   |  86   |  297  | +2.5466e-06 | 1.00e+00 | 4.28e-08 | 0.00e+00 |\n",
      "|  87   |  87   |  314  | +2.5411e-06 | 1.00e+00 | 6.78e-08 | 0.00e+00 |\n",
      "|  88   |  88   |  315  | +2.5411e-06 | 1.00e+00 | 5.57e-08 | 0.00e+00 |\n",
      "|  89   |  89   |  317  | +2.5409e-06 | 1.00e+00 | 7.90e-08 | 0.00e+00 |\n",
      "|  90   |  90   |  319  | +2.5405e-06 | 1.00e+00 | 1.64e-07 | 0.00e+00 |\n",
      "|  91   |  91   |  320  | +2.5403e-06 | 1.00e+00 | 1.10e-07 | 0.00e+00 |\n",
      "|  92   |  92   |  325  | +2.5388e-06 | 1.00e+00 | 3.29e-08 | 0.00e+00 |\n",
      "|  93   |  93   |  338  | +2.5363e-06 | 1.00e+00 | 7.94e-08 | 0.00e+00 |\n",
      "|  94   |  94   |  339  | +2.5362e-06 | 1.00e+00 | 4.42e-08 | 0.00e+00 |\n",
      "|  95   |  95   |  342  | +2.5360e-06 | 1.00e+00 | 4.52e-08 | 0.00e+00 |\n",
      "|  96   |  96   |  344  | +2.5359e-06 | 1.00e+00 | 5.83e-08 | 0.00e+00 |\n",
      "|  97   |  97   |  349  | +2.5348e-06 | 1.00e+00 | 1.65e-07 | 0.00e+00 |\n",
      "|  98   |  98   |  350  | +2.5347e-06 | 1.00e+00 | 8.55e-08 | 0.00e+00 |\n",
      "|  99   |  99   |  357  | +2.5330e-06 | 1.00e+00 | 4.02e-08 | 0.00e+00 |\n",
      "|  100  |  100  |  374  | +2.5303e-06 | 1.00e+00 | 6.53e-08 | 0.00e+00 |\n",
      "|  101  |  101  |  377  | +2.5302e-06 | 1.00e+00 | 3.42e-08 | 0.00e+00 |\n",
      "|  102  |  102  |  378  | +2.5302e-06 | 1.00e+00 | 3.42e-08 | 0.00e+00 |\n",
      "|  103  |  103  |  380  | +2.5295e-06 | 1.00e+00 | 1.40e-07 | 0.00e+00 |\n",
      "|  104  |  104  |  381  | +2.5294e-06 | 1.00e+00 | 8.17e-08 | 0.00e+00 |\n",
      "|  105  |  105  |  386  | +2.5284e-06 | 1.00e+00 | 2.64e-08 | 0.00e+00 |\n",
      "|  106  |  106  |  403  | +2.5267e-06 | 1.00e+00 | 5.92e-08 | 0.00e+00 |\n",
      "|  107  |  107  |  404  | +2.5266e-06 | 1.00e+00 | 3.81e-08 | 0.00e+00 |\n",
      "|  108  |  108  |  409  | +2.5265e-06 | 1.00e+00 | 4.09e-08 | 0.00e+00 |\n",
      "|  109  |  109  |  411  | +2.5264e-06 | 1.00e+00 | 4.53e-08 | 0.00e+00 |\n",
      "|  110  |  110  |  414  | +2.5257e-06 | 1.00e+00 | 7.20e-08 | 0.00e+00 |\n",
      "|  111  |  111  |  415  | +2.5256e-06 | 1.00e+00 | 3.95e-08 | 0.00e+00 |\n",
      "|  112  |  112  |  422  | +2.5251e-06 | 1.00e+00 | 2.85e-08 | 0.00e+00 |\n",
      "|  113  |  113  |  434  | +2.5247e-06 | 1.00e+00 | 2.60e-08 | 0.00e+00 |\n",
      "|  114  |  114  |  435  | +2.5247e-06 | 1.00e+00 | 2.17e-08 | 0.00e+00 |\n",
      "|  115  |  115  |  437  | +2.5245e-06 | 1.00e+00 | 6.28e-08 | 0.00e+00 |\n",
      "|  116  |  116  |  438  | +2.5245e-06 | 1.00e+00 | 4.03e-08 | 0.00e+00 |\n",
      "|  117  |  117  |  441  | +2.5242e-06 | 1.00e+00 | 2.20e-08 | 0.00e+00 |\n",
      "|  118  |  118  |  458  | +2.5232e-06 | 1.00e+00 | 6.38e-08 | 0.00e+00 |\n",
      "|  119  |  119  |  459  | +2.5231e-06 | 1.00e+00 | 1.79e-08 | 0.00e+00 |\n",
      "|  120  |  120  |  469  | +2.5230e-06 | 1.00e+00 | 2.03e-08 | 0.00e+00 |\n",
      "|  121  |  121  |  471  | +2.5230e-06 | 1.00e+00 | 2.09e-08 | 0.00e+00 |\n",
      "|  122  |  122  |  474  | +2.5228e-06 | 1.00e+00 | 6.58e-08 | 0.00e+00 |\n",
      "|  123  |  123  |  475  | +2.5227e-06 | 1.00e+00 | 3.34e-08 | 0.00e+00 |\n",
      "|  124  |  124  |  480  | +2.5225e-06 | 1.00e+00 | 1.45e-08 | 0.00e+00 |\n",
      "|  125  |  125  |  497  | +2.5221e-06 | 1.00e+00 | 3.24e-08 | 0.00e+00 |\n",
      "|  126  |  126  |  498  | +2.5221e-06 | 1.00e+00 | 1.68e-08 | 0.00e+00 |\n",
      "|  127  |  127  |  500  | +2.5221e-06 | 1.00e+00 | 2.71e-08 | 0.00e+00 |\n",
      "|  128  |  128  |  502  | +2.5221e-06 | 1.00e+00 | 4.82e-08 | 0.00e+00 |\n",
      "|  129  |  129  |  503  | +2.5221e-06 | 1.00e+00 | 3.34e-08 | 0.00e+00 |\n",
      "|  130  |  130  |  507  | +2.5219e-06 | 1.00e+00 | 1.94e-08 | 0.00e+00 |\n",
      "|  131  |  131  |  518  | +2.5217e-06 | 1.00e+00 | 3.03e-08 | 0.00e+00 |\n",
      "|  132  |  132  |  519  | +2.5217e-06 | 1.00e+00 | 1.08e-08 | 0.00e+00 |\n",
      "|  133  |  133  |  532  | +2.5216e-06 | 1.00e+00 | 1.48e-08 | 0.00e+00 |\n",
      "|  134  |  134  |  535  | +2.5216e-06 | 1.00e+00 | 1.18e-08 | 0.00e+00 |\n",
      "|  135  |  135  |  537  | +2.5216e-06 | 1.00e+00 | 1.31e-08 | 0.00e+00 |\n",
      "|  136  |  136  |  542  | +2.5214e-06 | 1.00e+00 | 3.38e-08 | 0.00e+00 |\n",
      "|  137  |  137  |  543  | +2.5214e-06 | 1.00e+00 | 1.52e-08 | 0.00e+00 |\n",
      "|  138  |  138  |  551  | +2.5213e-06 | 1.00e+00 | 8.72e-09 | 0.00e+00 |\n",
      "|  139  |  139  |  568  | +2.5212e-06 | 1.00e+00 | 1.22e-08 | 0.00e+00 |\n",
      "|  140  |  140  |  569  | +2.5212e-06 | 1.00e+00 | 8.54e-09 | 0.00e+00 |\n",
      "|  141  |  141  |  574  | +2.5212e-06 | 1.00e+00 | 1.41e-08 | 0.00e+00 |\n",
      "|  142  |  142  |  576  | +2.5212e-06 | 1.00e+00 | 1.65e-08 | 0.00e+00 |\n",
      "|  143  |  143  |  581  | +2.5211e-06 | 1.00e+00 | 4.07e-08 | 0.00e+00 |\n",
      "|  144  |  144  |  582  | +2.5211e-06 | 1.00e+00 | 2.18e-08 | 0.00e+00 |\n",
      "|  145  |  145  |  589  | +2.5210e-06 | 1.00e+00 | 7.98e-09 | 0.00e+00 |\n",
      "|  146  |  146  |  597  | +2.5210e-06 | 1.00e+00 | 1.10e-08 | 0.00e+00 |\n",
      "|  147  |  147  |  600  | +2.5210e-06 | 1.00e+00 | 4.47e-09 | 0.00e+00 |\n",
      "|  148  |  148  |  615  | +2.5209e-06 | 1.00e+00 | 4.95e-09 | 0.00e+00 |\n",
      "|  149  |  149  |  616  | +2.5209e-06 | 1.00e+00 | 4.98e-09 | 0.00e+00 |\n",
      "|  150  |  150  |  618  | +2.5209e-06 | 1.00e+00 | 1.91e-08 | 0.00e+00 |\n",
      "|  151  |  151  |  619  | +2.5209e-06 | 1.00e+00 | 1.21e-08 | 0.00e+00 |\n",
      "|  152  |  152  |  624  | +2.5209e-06 | 1.00e+00 | 6.25e-09 | 0.00e+00 |\n",
      "|  153  |  153  |  638  | +2.5208e-06 | 1.00e+00 | 1.73e-08 | 0.00e+00 |\n",
      "|  154  |  154  |  639  | +2.5208e-06 | 1.00e+00 | 5.22e-09 | 0.00e+00 |\n",
      "|  155  |  155  |  653  | +2.5208e-06 | 1.00e+00 | 6.00e-09 | 0.00e+00 |\n",
      "|  156  |  156  |  655  | +2.5208e-06 | 1.00e+00 | 5.77e-09 | 0.00e+00 |\n",
      "|  157  |  157  |  658  | +2.5208e-06 | 1.00e+00 | 1.88e-08 | 0.00e+00 |\n",
      "|  158  |  158  |  659  | +2.5208e-06 | 1.00e+00 | 8.23e-09 | 0.00e+00 |\n",
      "|  159  |  159  |  665  | +2.5208e-06 | 1.00e+00 | 3.30e-09 | 0.00e+00 |\n",
      "|  160  |  160  |  681  | +2.5208e-06 | 1.00e+00 | 5.06e-09 | 0.00e+00 |\n",
      "|  161  |  161  |  684  | +2.5208e-06 | 1.00e+00 | 2.73e-09 | 0.00e+00 |\n",
      "|  162  |  162  |  691  | +2.5208e-06 | 1.00e+00 | 2.01e-09 | 0.00e+00 |\n",
      "|  163  |  163  |  692  | +2.5208e-06 | 1.00e+00 | 2.16e-09 | 0.00e+00 |\n",
      "|  164  |  164  |  711  | +2.5207e-06 | 1.00e+00 | 1.19e-08 | 0.00e+00 |\n",
      "|  165  |  165  |  712  | +2.5207e-06 | 1.00e+00 | 5.80e-09 | 0.00e+00 |\n",
      "|  166  |  166  |  715  | +2.5207e-06 | 1.00e+00 | 2.29e-09 | 0.00e+00 |\n",
      "|  167  |  167  |  724  | +2.5207e-06 | 1.00e+00 | 5.16e-09 | 0.00e+00 |\n",
      "|  168  |  168  |  725  | +2.5207e-06 | 1.00e+00 | 2.41e-09 | 0.00e+00 |\n",
      "|  169  |  169  |  736  | +2.5207e-06 | 1.00e+00 | 2.78e-09 | 0.00e+00 |\n",
      "|  170  |  170  |  738  | +2.5207e-06 | 1.00e+00 | 2.91e-09 | 0.00e+00 |\n",
      "|  171  |  171  |  742  | +2.5207e-06 | 1.00e+00 | 5.86e-09 | 0.00e+00 |\n",
      "|  172  |  172  |  743  | +2.5207e-06 | 1.00e+00 | 3.20e-09 | 0.00e+00 |\n",
      "|  173  |  173  |  752  | +2.5207e-06 | 1.00e+00 | 2.26e-09 | 0.00e+00 |\n",
      "|  174  |  174  |  765  | +2.5207e-06 | 1.00e+00 | 3.52e-09 | 0.00e+00 |\n",
      "|  175  |  175  |  768  | +2.5207e-06 | 1.00e+00 | 1.87e-09 | 0.00e+00 |\n",
      "|  176  |  176  |  773  | +2.5207e-06 | 1.00e+00 | 1.44e-09 | 0.00e+00 |\n",
      "|  177  |  177  |  774  | +2.5207e-06 | 1.00e+00 | 1.40e-09 | 0.00e+00 |\n",
      "|  178  |  178  |  778  | +2.5207e-06 | 1.00e+00 | 4.49e-09 | 0.00e+00 |\n",
      "|  179  |  179  |  779  | +2.5207e-06 | 1.00e+00 | 2.23e-09 | 0.00e+00 |\n",
      "|  180  |  180  |  788  | +2.5207e-06 | 1.00e+00 | 2.38e-09 | 0.00e+00 |\n",
      "|  181  |  181  |  804  | +2.5207e-06 | 1.00e+00 | 2.55e-09 | 0.00e+00 |\n",
      "|  182  |  182  |  807  | +2.5207e-06 | 1.00e+00 | 1.27e-09 | 0.00e+00 |\n",
      "|  183  |  183  |  814  | +2.5207e-06 | 1.00e+00 | 1.03e-09 | 0.00e+00 |\n",
      "|  184  |  184  |  815  | +2.5207e-06 | 1.00e+00 | 9.89e-10 | 0.00e+00 |\n",
      "|  185  |  185  |  819  | +2.5207e-06 | 1.00e+00 | 3.36e-09 | 0.00e+00 |\n",
      "|  186  |  186  |  820  | +2.5207e-06 | 1.00e+00 | 1.65e-09 | 0.00e+00 |\n",
      "|  187  |  187  |  828  | +2.5207e-06 | 1.00e+00 | 1.39e-09 | 0.00e+00 |\n",
      "|  188  |  188  |  847  | +2.5207e-06 | 1.00e+00 | 1.15e-09 | 0.00e+00 |\n",
      "|  189  |  189  |  850  | +2.5207e-06 | 1.00e+00 | 9.58e-10 | 0.00e+00 |\n",
      "|  190  |  190  |  851  | +2.5207e-06 | 1.00e+00 | 9.22e-10 | 0.00e+00 |\n",
      "|  191  |  191  |  855  | +2.5207e-06 | 1.00e+00 | 2.86e-09 | 0.00e+00 |\n",
      "|  192  |  192  |  856  | +2.5207e-06 | 1.00e+00 | 1.88e-09 | 0.00e+00 |\n",
      "|  193  |  193  |  861  | +2.5207e-06 | 1.00e+00 | 6.91e-10 | 0.00e+00 |\n",
      "|  194  |  194  |  874  | +2.5207e-06 | 1.00e+00 | 1.22e-09 | 0.00e+00 |\n",
      "|  195  |  195  |  875  | +2.5207e-06 | 1.00e+00 | 5.93e-10 | 0.00e+00 |\n",
      "|  196  |  196  |  878  | +2.5207e-06 | 1.00e+00 | 4.45e-10 | 0.00e+00 |\n",
      "|  197  |  197  |  893  | +2.5207e-06 | 1.00e+00 | 6.82e-10 | 0.00e+00 |\n",
      "|  198  |  198  |  895  | +2.5207e-06 | 1.00e+00 | 6.95e-10 | 0.00e+00 |\n",
      "|  199  |  199  |  900  | +2.5207e-06 | 1.00e+00 | 1.18e-09 | 0.00e+00 |\n",
      "|  200  |  200  |  903  | +2.5207e-06 | 1.00e+00 | 7.43e-10 | 0.00e+00 |\n",
      "\n",
      "The maximum number of function evaluations is exceeded.\n",
      "Number of iterations: 200, function evaluations: 200, CG iterations: 903, optimality: 7.43e-10, constraint violation: 0.00e+00, execution time: 1.2e+01 s.\n"
     ]
    }
   ],
   "source": [
    "# optimize using SciPy plus wrapped functions above (siobj & sigrad),\n",
    "# starting from the initial theta0 chosen via random sampling\n",
    "#theta0 = np.load('./tdcis_data/trainedtheta_perturbedNN_model_tdcis_dt0.008268au.npz')\n",
    "#theta0 = trainedtheta\n",
    "res = scipy.optimize.minimize( siobj, \n",
    "                               x0 = theta0,\n",
    "                               method = 'trust-constr', \n",
    "                               jac = sigrad,\n",
    "                               options = {'disp': True, 'verbose': 2, 'xtol': 1e-30, 'gtol': 1e-30, 'maxiter': 200} )\n",
    "trainedtheta = res.x"
   ]
  },
  {
   "cell_type": "code",
   "execution_count": 33,
   "id": "4b6decd6-9c83-454e-8dfc-7b3a13567bca",
   "metadata": {},
   "outputs": [],
   "source": [
    "# # after training, run some diagnostics\n",
    "\n",
    "# # how far was the initial guess from the *true* theta?\n",
    "# print( jnp.linalg.norm(theta0-thetatrue) )\n",
    "\n",
    "# # how far is the final value of theta from the *true* theta?\n",
    "# print( jnp.linalg.norm(res.x-thetatrue) )"
   ]
  },
  {
   "cell_type": "code",
   "execution_count": 34,
   "id": "36c11049-51cb-409a-99c5-d137b9f24a30",
   "metadata": {},
   "outputs": [],
   "source": [
    "# trainedtheta = np.load('./tdcis_data/trainedtheta_perturbedtruepoly_model_tdcis_dt0.008268au_lowampdata.npz')"
   ]
  },
  {
   "cell_type": "code",
   "execution_count": 35,
   "id": "1552e41a-702a-44a4-aa4d-8e091c4874bc",
   "metadata": {},
   "outputs": [],
   "source": [
    "# plt.plot(trainedtheta)"
   ]
  },
  {
   "cell_type": "code",
   "execution_count": 36,
   "id": "a55ff0ff-442e-4220-a32f-b3a52fefadac",
   "metadata": {},
   "outputs": [],
   "source": [
    "# trainedtheta = np.zeros(numparams)"
   ]
  },
  {
   "cell_type": "code",
   "execution_count": 37,
   "id": "2f9847af-c2ef-455e-82c8-8f9e8484d9be",
   "metadata": {},
   "outputs": [],
   "source": [
    "# with open('./tdcis_data/trainedtheta_perturbedtruepoly_model_tdcis_dt0.008268au_lowampdata.npz', 'wb') as f:\n",
    "#     np.save(f, res.x)"
   ]
  },
  {
   "cell_type": "code",
   "execution_count": 38,
   "id": "aecb332a-a723-49fc-b7eb-dc1932da5f0e",
   "metadata": {},
   "outputs": [],
   "source": [
    "def myinfo(ind):\n",
    "    print(trnfreq[ind], trnamp[ind], trncycs[ind])"
   ]
  },
  {
   "cell_type": "code",
   "execution_count": 39,
   "id": "5300f22c-f7ff-40a8-b4c7-6affe9d01a5f",
   "metadata": {},
   "outputs": [
    {
     "data": {
      "text/plain": [
       "array([140, 141, 142, 143, 144, 150, 151, 152, 153, 154, 155, 156, 157,\n",
       "       158, 159, 165, 166, 167, 168, 169])"
      ]
     },
     "execution_count": 39,
     "metadata": {},
     "output_type": "execute_result"
    }
   ],
   "source": [
    "inds"
   ]
  },
  {
   "cell_type": "code",
   "execution_count": 40,
   "id": "37a6beee-f40c-420a-9628-f385c055f915",
   "metadata": {},
   "outputs": [],
   "source": [
    "# for i in inds:\n",
    "#     fig, axs = plt.subplots(2, 2, figsize=(10,8))\n",
    "#     #axs[0,0].plot(mlprop[:,0,0].real, color='red')\n",
    "#     axs[0,0].plot(jnp.real(trnden[i][:mynumsteps+1,0,0]),color='black')\n",
    "#     axs[0,0].set_title('P'+str(0)+str(0)+' Real')\n",
    "\n",
    "#     #axs[0,1].plot(mlprop[:,0,1].real, color='red')\n",
    "#     axs[0,1].plot(jnp.real(trnden[i][:mynumsteps+1,0,1]),color='black')\n",
    "#     axs[0,1].set_title('P'+str(0)+str(1)+' Real')\n",
    "\n",
    "#     #axs[1,0].plot(mlprop[:,0,1].imag, color='red')\n",
    "#     axs[1,0].plot(jnp.imag(trnden[i][:mynumsteps+1,0,1]),color='black')\n",
    "#     axs[1,0].set_title('P'+str(0)+str(1)+' Imaginary')\n",
    "\n",
    "#     #axs[1,1].plot(mlprop[:,1,1].real, color='red')\n",
    "#     axs[1,1].plot(jnp.real(trnden[i][:mynumsteps+1,1,1]),color='black')\n",
    "#     axs[1,1].set_title('P'+str(1)+str(1)+' Real')\n",
    "#     #plt.savefig('./tdcasscf_data/linear_model_forcing_tdcasscf.pdf')\n",
    "#     plt.legend(['ML Prop', 'Ground Truth'])\n",
    "#     #plt.show()\n",
    "#     #plt.close()"
   ]
  },
  {
   "cell_type": "code",
   "execution_count": 41,
   "id": "c9574d20-8ee4-4be5-8813-0605a5189fb8",
   "metadata": {},
   "outputs": [],
   "source": [
    "#trainedtheta = np.load('./tdcis_data/trainedtheta_perturbedNN_model_tdcis_dt0.008268au_finedata.npz')"
   ]
  },
  {
   "cell_type": "code",
   "execution_count": 42,
   "id": "361fc9d5-baf3-4f1f-82e6-01f66759a553",
   "metadata": {},
   "outputs": [],
   "source": [
    "trnden = jnp.array(np.load('./tdcis_data/tdcis_dt0.0082680.npz'))\n",
    "trndentdhf = jnp.array(np.load('./tdhf_data/rt-tdhf_forcing_full_finedt.npz'))\n",
    "trnfrq = jnp.array(np.load('./tdcis_data/tdcis_trnfreq_dt0.008268.npz'))\n",
    "trnamp = jnp.array(np.load('./tdcis_data/tdcis_trnamp_dt0.008268.npz'))\n",
    "trntme = jnp.array(np.load('./tdcis_data/tdcis_trntme_dt0.008268.npz'))"
   ]
  },
  {
   "cell_type": "code",
   "execution_count": 43,
   "id": "5a078ccf-99d1-4b27-bce5-cbdd4ab06850",
   "metadata": {},
   "outputs": [
    {
     "data": {
      "text/plain": [
       "(301, 10000, 2, 2)"
      ]
     },
     "execution_count": 43,
     "metadata": {},
     "output_type": "execute_result"
    }
   ],
   "source": [
    "trnden.shape"
   ]
  },
  {
   "cell_type": "code",
   "execution_count": 44,
   "id": "e084a3cd-0be9-4a63-a434-0ce51a3320be",
   "metadata": {},
   "outputs": [
    {
     "data": {
      "text/plain": [
       "array([140, 141, 142, 143, 144, 150, 151, 152, 153, 154, 155, 156, 157,\n",
       "       158, 159, 165, 166, 167, 168, 169])"
      ]
     },
     "execution_count": 44,
     "metadata": {},
     "output_type": "execute_result"
    }
   ],
   "source": [
    "inds"
   ]
  },
  {
   "cell_type": "code",
   "execution_count": 45,
   "id": "79c4d05f-a01f-47f5-b63f-118dea91c799",
   "metadata": {},
   "outputs": [],
   "source": [
    "i = 143\n",
    "ic = trnden[i][0,:,:].reshape((-1))\n",
    "mlprop = MMUT_Prop_HSB(trainedtheta, ic, dt=dt, ntvec=mynumsteps, tmeoff=trntme[i], fldfrq=trnfrq[i], fldamp=trnamp[i])"
   ]
  },
  {
   "cell_type": "code",
   "execution_count": 46,
   "id": "9bae0646-76db-4751-b738-b17ad7f36d10",
   "metadata": {},
   "outputs": [
    {
     "name": "stdout",
     "output_type": "stream",
     "text": [
      "9.023282226462891e-06\n"
     ]
    },
    {
     "data": {
      "image/png": "[encoded data removed]",
      "text/plain": [
       "<Figure size 1000x800 with 4 Axes>"
      ]
     },
     "metadata": {},
     "output_type": "display_data"
    }
   ],
   "source": [
    "print(jnp.mean(jnp.abs(mlprop - trnden[i][:mynumsteps+1,:,:])**2))\n",
    "fig, axs = plt.subplots(2, 2, figsize=(10,8))\n",
    "axs[0,0].plot(mlprop[:,0,0].real, color='red')\n",
    "axs[0,0].plot(jnp.real(trnden[i][:mynumsteps+1,0,0]),color='black')\n",
    "axs[0,0].set_title('P'+str(0)+str(0)+' Real')\n",
    "\n",
    "axs[0,1].plot(mlprop[:,0,1].real, color='red')\n",
    "axs[0,1].plot(jnp.real(trnden[i][:mynumsteps+1,0,1]),color='black')\n",
    "axs[0,1].set_title('P'+str(0)+str(1)+' Real')\n",
    "\n",
    "axs[1,0].plot(mlprop[:,0,1].imag, color='red')\n",
    "axs[1,0].plot(jnp.imag(trnden[i][:mynumsteps+1,0,1]),color='black')\n",
    "axs[1,0].set_title('P'+str(0)+str(1)+' Imaginary')\n",
    "\n",
    "axs[1,1].plot(mlprop[:,1,1].real, color='red')\n",
    "axs[1,1].plot(jnp.real(trnden[i][:mynumsteps+1,1,1]),color='black')\n",
    "axs[1,1].set_title('P'+str(1)+str(1)+' Real')\n",
    "#plt.savefig('./tdcis_data/perturbedNN_0.5amp_1000steps_fit.pdf')\n",
    "plt.legend(['ML Prop', 'Ground Truth'])\n",
    "plt.show()\n",
    "plt.close()"
   ]
  },
  {
   "cell_type": "code",
   "execution_count": null,
   "id": "6759f402-1909-4546-9d75-56d76ed411cc",
   "metadata": {},
   "outputs": [],
   "source": [
    "i = 145\n",
    "ic = trnden[i][0,:,:].reshape((-1))\n",
    "mlprop = MMUT_Prop_HSB(trainedtheta, ic, dt=dt, ntvec=mynumsteps, tmeoff=trntme[i], fldfrq=trnfrq[i], fldamp=trnamp[i])"
   ]
  },
  {
   "cell_type": "code",
   "execution_count": null,
   "id": "bf7819eb-9d3f-4849-8895-75aed2ec6504",
   "metadata": {},
   "outputs": [],
   "source": [
    "print(jnp.mean(jnp.abs(mlprop - trnden[i][:mynumsteps+1,:,:])**2))\n",
    "fig, axs = plt.subplots(2, 2, figsize=(10,8))\n",
    "axs[0,0].plot(mlprop[:,0,0].real, color='red')\n",
    "axs[0,0].plot(jnp.real(trnden[i][:mynumsteps+1,0,0]),color='black')\n",
    "axs[0,0].plot(jnp.real(trndentdhf[i][:mynumsteps+1,0,0]))\n",
    "axs[0,0].set_title('P'+str(0)+str(0)+' Real')\n",
    "\n",
    "axs[0,1].plot(mlprop[:,0,1].real, color='red')\n",
    "axs[0,1].plot(jnp.real(trnden[i][:mynumsteps+1,0,1]),color='black')\n",
    "axs[0,1].plot(jnp.real(trndentdhf[i][:mynumsteps+1,0,1]))\n",
    "axs[0,1].set_title('P'+str(0)+str(1)+' Real')\n",
    "\n",
    "axs[1,0].plot(mlprop[:,0,1].imag, color='red')\n",
    "axs[1,0].plot(jnp.imag(trnden[i][:mynumsteps+1,0,1]),color='black')\n",
    "axs[1,0].plot(jnp.imag(trndentdhf[i][:mynumsteps+1,0,1]))\n",
    "axs[1,0].set_title('P'+str(0)+str(1)+' Imaginary')\n",
    "\n",
    "axs[1,1].plot(mlprop[:,1,1].real, color='red')\n",
    "axs[1,1].plot(jnp.real(trnden[i][:mynumsteps+1,1,1]),color='black')\n",
    "axs[1,1].plot(jnp.real(trndentdhf[i][:mynumsteps+1,1,1]))\n",
    "axs[1,1].set_title('P'+str(1)+str(1)+' Real')\n",
    "#plt.savefig('./tdcasscf_data/linear_model_forcing_tdcasscf.pdf')\n",
    "plt.legend(['ML Prop', 'Ground Truth (TDCIs)', 'Ground Truth (TDHF)'])\n",
    "plt.show()\n",
    "plt.close()"
   ]
  },
  {
   "cell_type": "code",
   "execution_count": null,
   "id": "237a6f23-d9d6-436a-bf30-2acaaaf95613",
   "metadata": {},
   "outputs": [],
   "source": [
    "# # pick one training trajectory, and for this trajectory, \n",
    "# # plot the MSE at each point in time between\n",
    "# # (1) mlprop, the result we get by propagating using the learned theta from optimization --- \"res.x\",\n",
    "# # (2) the ground truth training trajectory\n",
    "# for ii in range(140,160):\n",
    "#     i = ii\n",
    "#     ic = trnden[i][0,:,:].reshape((-1))\n",
    "#     mlprop = MMUT_Prop_HSB(jnp.array(res.x), \n",
    "#                            ic, dt=dt, ntvec=mynumsteps, tmeoff=trntme[i], fldfrq=trnfrq[i], fldamp=trnamp[i])\n",
    "#     #print(mlprop.shape)\n",
    "#     #print(trnden[i][:mynumsteps+1,:,:].shape)\n",
    "#     print(trnfrq[i],trnamp[i])\n",
    "#     print(jnp.mean(jnp.abs(mlprop - trnden[i][:mynumsteps+1,:,:])**2))\n",
    "#     print('=============================================')\n",
    "#     plt.figure(figsize=(6,4))\n",
    "#     plt.plot(jnp.mean(jnp.abs(mlprop-trnden[i][:mynumsteps+1,:,:])**2,axis=(1,2)))\n",
    "# plt.show()"
   ]
  },
  {
   "cell_type": "code",
   "execution_count": null,
   "id": "d1424a8f-e58c-4877-a3e2-c85831fea601",
   "metadata": {},
   "outputs": [],
   "source": [
    "# compute and return all the densities **and** all the Hamiltonians along one trajectory!\n",
    "def MMUT_Save_Ham(theta, initial_density, dt=0.08268, ntvec=2000,\n",
    "                  tmeoff=1, fldfrq=1, fldamp=1, norm_direc=jnp.array([0.0,0.0,1.0])):\n",
    "    tvec = dt*jnp.arange(ntvec)\n",
    "    P0 = initial_density.reshape((drc, drc))\n",
    "    propagated_dens = [P0]\n",
    "    H0 = MLham(theta,0.0,P0.real, P0.imag,fldfrq,fldamp,tmeoff,norm_direc)\n",
    "    H0 = H0[0] + 1.0j*H0[1]\n",
    "    propagated_hams = [H0]\n",
    "    evals, evecs = jnp.linalg.eigh(H0)\n",
    "    U0 = evecs @ jnp.diag(jnp.exp(-1j*dt*evals)) @ evecs.conj().T\n",
    "    P1 = U0 @ P0 @ U0.conj().T\n",
    "    propagated_dens.append( P1 )\n",
    "    def bodyfun(i, intup):\n",
    "        dl, hl = intup\n",
    "        P0 = dl[i, :, :]\n",
    "        P1 = dl[i+1, :, :]\n",
    "        H1 = MLham(theta,(i+1.0)*dt,P1.real, P1.imag,fldfrq,fldamp,tmeoff,norm_direc)\n",
    "        H1 = H1[0] + 1.0j*H1[1]\n",
    "        evals, evecs = jnp.linalg.eigh(H1)\n",
    "        U1 = evecs @ jnp.diag(jnp.exp(-2j*dt*evals)) @ evecs.conj().T\n",
    "        P2 = U1 @ P0 @ U1.conj().T\n",
    "        return (dl.at[i+2].set( P2 ), hl.at[i+1].set( H1 ))\n",
    "    \n",
    "    alldens = jnp.concatenate([jnp.stack(propagated_dens), jnp.zeros((ntvec-1, drc, drc))], axis=0)\n",
    "    allhams = jnp.concatenate([jnp.stack(propagated_hams), jnp.zeros((ntvec-1, drc, drc))], axis=0)\n",
    "    fdh = lax.fori_loop(0, ntvec-1, bodyfun, (alldens, allhams))\n",
    "    \n",
    "    return fdh"
   ]
  },
  {
   "cell_type": "code",
   "execution_count": null,
   "id": "5eacbb5c-9a2c-4df7-8af8-7173c0b913e1",
   "metadata": {},
   "outputs": [],
   "source": [
    "# compute mean square commutator errors for one trajectory\n",
    "def commutatorerror(theta, i):\n",
    "    ic = trnden[i][0,:,:].reshape((-1))\n",
    "    mynumsteps = 4000\n",
    "    mydenham = MMUT_Save_Ham(theta, ic, dt=dt, ntvec=mynumsteps, tmeoff=trntme[i], fldfrq=trnfrq[i], fldamp=trnamp[i])\n",
    "    trdenham = MMUT_Save_Ham(thetatrue, ic, dt=dt, ntvec=mynumsteps, tmeoff=trntme[i], fldfrq=trnfrq[i], fldamp=trnamp[i])\n",
    "\n",
    "    mycom = jnp.einsum('aij,ajk->aik',mydenham[1],mydenham[0][:-1,:,:]) - jnp.einsum('aij,ajk->aik',mydenham[0][:-1,:,:],mydenham[1])\n",
    "    trcom = jnp.einsum('aij,ajk->aik',trdenham[1],trdenham[0][:-1,:,:]) - jnp.einsum('aij,ajk->aik',trdenham[0][:-1,:,:],trdenham[1])\n",
    "\n",
    "    return jnp.mean(jnp.square(jnp.abs(mycom - trcom)))"
   ]
  },
  {
   "cell_type": "code",
   "execution_count": null,
   "id": "2e0c9527-e594-4bfb-bdcd-02ea2ba0b63c",
   "metadata": {},
   "outputs": [],
   "source": [
    "# many trajectory version\n",
    "vcommutatorerror = vmap(commutatorerror, (None, 0))\n",
    "jvcommutatorerror = jit(vcommutatorerror)"
   ]
  },
  {
   "cell_type": "code",
   "execution_count": null,
   "id": "8d9819bb-1e5d-4b81-bf69-72dc9453fb75",
   "metadata": {},
   "outputs": [],
   "source": [
    "# evaluate commutator errors on training set\n",
    "allcommerrs = jvcommutatorerror(jnp.array(res.x), jnp.arange(100))"
   ]
  },
  {
   "cell_type": "code",
   "execution_count": null,
   "id": "c192f924-8873-4b01-ad3e-80babe32fb02",
   "metadata": {},
   "outputs": [],
   "source": [
    "# min, mean, and max commutator error\n",
    "print(jnp.min(allcommerrs), jnp.mean(allcommerrs), jnp.max(allcommerrs))"
   ]
  },
  {
   "cell_type": "code",
   "execution_count": null,
   "id": "6ceb70ef-77d5-48c6-a0f5-37d32a34897b",
   "metadata": {},
   "outputs": [],
   "source": []
  }
 ],
 "metadata": {
  "kernelspec": {
   "display_name": "tensorflow-2.9.0",
   "language": "python",
   "name": "tensorflow-2.9.0"
  },
  "language_info": {
   "codemirror_mode": {
    "name": "ipython",
    "version": 3
   },
   "file_extension": ".py",
   "mimetype": "text/x-python",
   "name": "python",
   "nbconvert_exporter": "python",
   "pygments_lexer": "ipython3",
   "version": "3.9.15"
  }
 },
 "nbformat": 4,
 "nbformat_minor": 5
}
