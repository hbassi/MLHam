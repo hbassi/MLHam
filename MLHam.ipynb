{
 "cells": [
  {
   "cell_type": "code",
   "execution_count": 1,
   "id": "fde49bfb-a9d2-4eee-8216-17921113011b",
   "metadata": {},
   "outputs": [],
   "source": [
    "from jax.config import config\n",
    "config.update(\"jax_enable_x64\", True)\n",
    "\n",
    "import jax.numpy as jnp\n",
    "from jax import jit, lax, vmap, jacobian\n",
    "import jax.scipy.linalg as jsl\n",
    "\n",
    "import jax\n",
    "\n",
    "import numpy as np\n",
    "from read_traj_v2 import *\n",
    "\n",
    "import scipy.optimize\n",
    "\n",
    "import matplotlib\n",
    "%matplotlib inline\n",
    "import matplotlib.pyplot as plt"
   ]
  },
  {
   "cell_type": "code",
   "execution_count": 2,
   "id": "cdd49902-a6c5-4036-a143-daadf57e8319",
   "metadata": {},
   "outputs": [
    {
     "name": "stdout",
     "output_type": "stream",
     "text": [
      "\n",
      "\treading from \"./correctdata/ke+en+overlap+ee_twoe+dip_casscf22_heh+_sto-3g.npz\"\n",
      "\n",
      "can only concatenate str (not \"NoneType\") to str\n",
      "True is not in list\n"
     ]
    }
   ],
   "source": [
    "mol = 'heh+'\n",
    "basis = 'sto-3g'\n",
    "init = 'hf'\n",
    "td = 'rt-tdexx'\n",
    "\n",
    "dt = 0.08268/10\n",
    "\n",
    "inpath = './correctdata'\n",
    "inpath2 = './mydata/'\n",
    "outpath = './'\n",
    "saved_model_dir = './models/'\n",
    "\n",
    "trnfrq = jnp.array(np.load('./tdcis_data/tdcis_trnfreq_dt0.008268.npz'))\n",
    "trnamp = jnp.array(np.load('./tdcis_data/tdcis_trnamp_dt0.008268.npz'))\n",
    "trntme = jnp.array(np.load('./tdcis_data/tdcis_trntme_dt0.008268.npz'))\n",
    "# load important static matrices\n",
    "a = traj_data(inpath, mol, basis, init, td, '001',\n",
    "                init_cond_file=f'ke+en+overlap+ee_twoe+dip_casscf22_{mol}_{basis}.npz',\n",
    "                )\n",
    "a.assign_init_data()\n",
    "drc = a.drc\n",
    "xmat, didat, kinmat, enmat = a.xmat, a.didat, a.kinmat, a.enmat\n",
    "X = xmat"
   ]
  },
  {
   "cell_type": "code",
   "execution_count": 3,
   "id": "782c93f5-ac6b-461c-8027-c4cd4d28a6e4",
   "metadata": {},
   "outputs": [
    {
     "name": "stdout",
     "output_type": "stream",
     "text": [
      "(301, 10000, 2, 2)\n"
     ]
    }
   ],
   "source": [
    "trnden = jnp.array(np.load('./tdcis_data/tdcis_dt0.0082680.npz'))\n",
    "#trnden = jnp.array(np.load('./tdhf_data/rt-tdhf_forcing_full_finedt.npz'))\n",
    "print(trnden.shape)"
   ]
  },
  {
   "cell_type": "code",
   "execution_count": 4,
   "id": "b35e5065-2283-4433-a05e-e0c4005bed70",
   "metadata": {},
   "outputs": [],
   "source": [
    "# inds = np.array([140, 141, 142, 143, 144, 150, 151, 152, 153,\n",
    "#        154, 155, 156, 157, 158, 159, 165, 166, 167,168,169])\n",
    "inds = np.array([145])\n",
    "trnden = trnden[inds]\n",
    "trnfrq = trnfrq[inds]\n",
    "trnamp = trnamp[inds]\n",
    "trntme = trntme[inds]"
   ]
  },
  {
   "cell_type": "code",
   "execution_count": 5,
   "id": "0656b107-e219-4d47-85b5-4a3ed87bb89d",
   "metadata": {},
   "outputs": [
    {
     "name": "stdout",
     "output_type": "stream",
     "text": [
      "(1, 10000, 2, 2)\n"
     ]
    }
   ],
   "source": [
    "print(trnden.shape)"
   ]
  },
  {
   "cell_type": "code",
   "execution_count": 6,
   "id": "a085c573",
   "metadata": {},
   "outputs": [],
   "source": [
    "# need two masks\n",
    "# upper mask is matrix whose (u,v)-th element is 0 unless u <= v\n",
    "# lower mask is matrix whose (u,v)-th element is 0 unless u > v\n",
    "upper = np.zeros((2,2),dtype=np.float64)\n",
    "lower = np.zeros((2,2),dtype=np.float64)\n",
    "for u in range(2):\n",
    "    for v in range(2):\n",
    "        if u <= v:\n",
    "            upper[u,v] = 1.0\n",
    "        if u > v:\n",
    "            lower[u,v] = 1.0\n",
    "\n",
    "ru1 = 2*np.einsum('uv,uk,ma,sb,uvms,vl->klab',upper,X,X,X,a.eeten,X)\n",
    "ru2 = np.einsum('uv,uk,ma,sb,umvs,vl->klab',upper,X,X,X,a.eeten,X)\n",
    "rl1 = 2*np.einsum('uv,uk,ma,sb,vums,vl->klab',lower,X,X,X,a.eeten,X)\n",
    "rl2 = np.einsum('uv,uk,ma,sb,vmus,vl->klab',lower,X,X,X,a.eeten,X)\n",
    "beta1trueNP = ru1 - ru2 + rl1 - rl2\n",
    "gamma1trueNP = ru1 - ru2 - rl1 + rl2\n",
    "\n",
    "beta0trueNP = xmat.conj().T @ (kinmat - enmat) @ xmat\n",
    "gamma0trueNP = np.zeros(beta0trueNP.shape)\n",
    "\n",
    "# extract parameters for real target\n",
    "beta0true = -beta0trueNP.reshape((-1))\n",
    "beta1true = -beta1trueNP.reshape((drc**2, drc**2))\n",
    "# extract parameters for imag target\n",
    "gamma0true = -gamma0trueNP.reshape((-1))\n",
    "gamma1true = -gamma1trueNP.reshape((drc**2, drc**2))\n",
    "\n",
    "beta0 = beta0true\n",
    "# beta1 = beta1true\n",
    "gamma0 = gamma0true\n",
    "# gamma1 = gamma1true\n",
    "\n",
    "thetatrue = jnp.concatenate([beta1true.reshape((-1)), gamma1true.reshape((-1))])"
   ]
  },
  {
   "cell_type": "code",
   "execution_count": 7,
   "id": "e208b109-be01-4e34-a35d-0570b43fa966",
   "metadata": {},
   "outputs": [],
   "source": [
    "numparams = 1000 * 4"
   ]
  },
  {
   "cell_type": "code",
   "execution_count": 8,
   "id": "c7ef958f-2765-48bd-af06-7045eb9f92ec",
   "metadata": {},
   "outputs": [],
   "source": [
    "def MLham(theta):\n",
    "    h = jnp.array([[theta[0], theta[1] +1j*theta[2]], [theta[1] -1j*theta[2], theta[3]]]).reshape((drc,drc))\n",
    "    return h.real, h.imag "
   ]
  },
  {
   "cell_type": "code",
   "execution_count": 9,
   "id": "87e78e8a-c2be-476a-b331-24cc2f15c4b5",
   "metadata": {},
   "outputs": [],
   "source": [
    "mydHdtheta = jacobian(MLham, 0)\n",
    "dHdXjax = jacobian(MLham, 2)\n",
    "dHdYjax = jacobian(MLham,3)"
   ]
  },
  {
   "cell_type": "code",
   "execution_count": 10,
   "id": "2e04bc41",
   "metadata": {},
   "outputs": [],
   "source": [
    "m = drc\n",
    "def expderiv(d, u, w):\n",
    "    offdiagmask = jnp.ones((m, m)) - jnp.eye(m)\n",
    "    expspec = jnp.exp(d)\n",
    "    e1, e2 = jnp.meshgrid(expspec, expspec)\n",
    "    s1, s2 = jnp.meshgrid(d, d)\n",
    "    denom = offdiagmask * (s1 - s2) + jnp.eye(m)\n",
    "    mask = offdiagmask * (e1 - e2)/denom + jnp.diag(expspec)\n",
    "    prederivamat = jnp.einsum('ij,jk,kl->il',u.conj().T,w,u) \n",
    "    derivamat = prederivamat * mask\n",
    "    return jnp.einsum('ij,jk,kl->il',u,derivamat,u.conj().T)"
   ]
  },
  {
   "cell_type": "code",
   "execution_count": 11,
   "id": "368da964",
   "metadata": {},
   "outputs": [],
   "source": [
    "def expderiv2(d, u, w):\n",
    "    offdiagmask = jnp.ones((m, m)) - jnp.eye(m)\n",
    "    expspec = jnp.exp(d)\n",
    "    e1, e2 = jnp.meshgrid(expspec, expspec)\n",
    "    s1, s2 = jnp.meshgrid(d, d)\n",
    "    denom = offdiagmask * (s1 - s2) + jnp.eye(m)\n",
    "    mask = offdiagmask * (e1 - e2)/denom + jnp.diag(expspec)\n",
    "    prederivamat = jnp.einsum('ij,abjk,kl->ilab',u.conj().T,w,u) \n",
    "    derivamat = jnp.einsum('ilab,il->ilab',prederivamat,mask)\n",
    "    return jnp.einsum('ij,jkab,kl->ilab',u,derivamat,u.conj().T)"
   ]
  },
  {
   "cell_type": "code",
   "execution_count": 12,
   "id": "acf65ed4",
   "metadata": {},
   "outputs": [],
   "source": [
    "def expderiv3(d, u, w):\n",
    "    offdiagmask = jnp.ones((m, m)) - jnp.eye(m)\n",
    "    expspec = jnp.exp(d)\n",
    "    e1, e2 = jnp.meshgrid(expspec, expspec)\n",
    "    s1, s2 = jnp.meshgrid(d, d)\n",
    "    denom = offdiagmask * (s1 - s2) + jnp.eye(m)\n",
    "    mask = offdiagmask * (e1 - e2)/denom + jnp.diag(expspec)\n",
    "    prederivamat = jnp.einsum('ij,jka,kl->ila',u.conj().T,w,u) \n",
    "    derivamat = jnp.einsum('ila,il->ila',prederivamat,mask)\n",
    "    return jnp.einsum('ij,jka,kl->ila',u,derivamat,u.conj().T)"
   ]
  },
  {
   "cell_type": "code",
   "execution_count": 13,
   "id": "7425c709",
   "metadata": {},
   "outputs": [],
   "source": [
    "def xicomp(theta, x, y, evals, evecs, t, fldfrq,fldamp,tmeoff,norm_direc):\n",
    "    dHrealdPauto = 0.5*(dHdXjax(theta,t,x,y,fldfrq,fldamp,tmeoff,norm_direc)[0] - 1j*dHdYjax(theta,t,x,y,fldfrq,fldamp,tmeoff,norm_direc)[0])\n",
    "    dHimagdPauto = 0.5*(dHdXjax(theta,t,x,y,fldfrq,fldamp,tmeoff,norm_direc)[1] - 1j*dHdYjax(theta,t,x,y,fldfrq,fldamp,tmeoff,norm_direc)[1])\n",
    "    dHdp = dHrealdPauto + 1j*dHimagdPauto\n",
    "    dHrealdPbarauto = 0.5*(dHdXjax(theta,t,x,y,fldfrq,fldamp,tmeoff,norm_direc)[0] + 1j*dHdYjax(theta,t,x,y,fldfrq,fldamp,tmeoff,norm_direc)[0])\n",
    "    dHimagdPbarauto = 0.5*(dHdXjax(theta,t,x,y,fldfrq,fldamp,tmeoff,norm_direc)[1] + 1j*dHdYjax(theta,t,x,y,fldfrq,fldamp,tmeoff,norm_direc)[1])\n",
    "    dHdPbar = dHrealdPbarauto  + 1j*dHimagdPbarauto\n",
    "    dHdp = dHdp.reshape((drc,drc,drc,drc)).transpose((2,3,0,1))\n",
    "    dHdPbar = dHdPbar.reshape((drc,drc,drc,drc)).transpose((2,3,0,1))\n",
    "    jacP = expderiv2(evals, evecs, dHdp)\n",
    "    jacPbar = expderiv2(evals, evecs, dHdPbar)\n",
    "    return jacP, jacPbar\n",
    "\n",
    "def dUdtheta(theta, x, y, evals, evecs, t, fldfrq,fldamp,tmeoff,norm_direc):\n",
    "    dHdtheta =  mydHdtheta(theta,t, x, y, fldfrq,fldamp,tmeoff,norm_direc)\n",
    "    tm1 = expderiv3(evals, evecs, dHdtheta[0])\n",
    "    tm2 = expderiv3(evals, evecs, dHdtheta[1])\n",
    "    return tm1 + 1j*tm2"
   ]
  },
  {
   "cell_type": "code",
   "execution_count": 14,
   "id": "1ceb74d2",
   "metadata": {},
   "outputs": [],
   "source": [
    "mynumsteps = 1000\n",
    "ntvec = mynumsteps\n",
    "\n",
    "def MMUT_Adjoint(theta, Ptilde, dt=0.08268, \n",
    "                 tmeoff=1, fldfrq=1, fldamp=1, norm_direc=jnp.array([0.0,0.0,1.0])):\n",
    "    tvec = dt*jnp.arange(ntvec)\n",
    "    P0 = Ptilde[0,:,:]\n",
    "    propagated_dens = [P0]\n",
    "    H0 = MLham(theta,0.0)\n",
    "    H0 = H0[0] + 1.0j*H0[1]\n",
    "    evals, evecs = jnp.linalg.eigh(H0)\n",
    "    U0 = evecs @ jnp.diag(jnp.exp(-1j*dt*evals)) @ evecs.conj().T\n",
    "    P1 = U0 @ P0 @ U0.conj().T\n",
    "    propagated_dens.append( P1 )\n",
    "    \n",
    "    def bodyfun(i, dtup):\n",
    "        dl, dvals, dvecs, dU = dtup\n",
    "        P0 = dl[i, :, :]\n",
    "        P1 = dl[i+1, :, :]\n",
    "        H1 = MLham(theta,(i+1.0)*dt)\n",
    "        H1 = H1[0] + 1.0j*H1[1]\n",
    "        evals, evecs = jnp.linalg.eigh(H1)\n",
    "        dvals = dvals.at[i+1].set( evals )\n",
    "        dvecs = dvecs.at[i+1].set( evecs )\n",
    "        U1 = evecs @ jnp.diag(jnp.exp(-2j*dt*evals)) @ evecs.conj().T\n",
    "        dU = dU.at[i+1].set( U1 )\n",
    "        P2 = U1 @ P0 @ U1.conj().T\n",
    "        dl = dl.at[i+2].set( P2 )\n",
    "        return (dl, dvals, dvecs, dU)\n",
    "    \n",
    "    alldens = jnp.concatenate([jnp.stack(propagated_dens), jnp.zeros((ntvec-1, drc, drc))], axis=0)\n",
    "    allevals = jnp.concatenate([jnp.expand_dims(evals,0), jnp.zeros((ntvec-1, drc))], axis=0)\n",
    "    allevecs = jnp.concatenate([jnp.expand_dims(evecs,0), jnp.zeros((ntvec-1, drc, drc))], axis=0)\n",
    "    allU = jnp.concatenate([jnp.expand_dims(U0,0), jnp.zeros((ntvec-1, drc, drc))], axis=0)\n",
    "    ftup = lax.fori_loop(0, ntvec-1, bodyfun, (alldens, allevals, allevecs, allU))\n",
    "    Pstack, allevals, allevecs, allU = ftup\n",
    "\n",
    "    def bodylamb(i, dl):\n",
    "        k = ntvec - i\n",
    "        newlamb = Pstack[k, :, :] - Ptilde[k, :, :]\n",
    "        xiak = xicomp(theta, Pstack[k].real, Pstack[k].imag,-2j*dt*allevals[k], allevecs[k], i*dt, fldfrq,fldamp,tmeoff,norm_direc)\n",
    "        xibk = xicomp(theta,  Pstack[k].real.reshape((-1)), Pstack[k].imag.reshape((-1)), 2j*dt*allevals[k], allevecs[k], i*dt, fldfrq,fldamp,tmeoff,norm_direc)\n",
    "        # if i <---> k correspond, then i-1 <---> k+1 correspond\n",
    "        newlamb += jnp.einsum('ij,ijkl->kl',dl[i-1] @ allU[k] @ Pstack[k-1], (-2j*dt*xiak[0]).conj())\n",
    "        newlamb += jnp.einsum('ij,ijkl->kl',dl[i-1] @ allU[k] @ Pstack[k-1], (-2j*dt*xiak[1]).conj()).conj()\n",
    "        newlamb += jnp.einsum('ij,ijkl->kl',Pstack[k-1] @ allU[k].conj().T @ dl[i-1], (2j*dt*xibk[0]).conj())\n",
    "        newlamb += jnp.einsum('ij,ijkl->kl',Pstack[k-1] @ allU[k].conj().T @ dl[i-1], (2j*dt*xibk[1]).conj()).conj()\n",
    "        newlamb += allU[k+1].conj().T @ dl[i-2] @ allU[k+1]\n",
    "        return dl.at[i].set( newlamb )\n",
    "    \n",
    "    lambfinal = Pstack[ntvec, :, :] - Ptilde[ntvec, :, :]\n",
    "    lambnext = Pstack[ntvec-1, :, :] - Ptilde[ntvec-1, :, :]\n",
    "    xiak = xicomp(theta, Pstack[ntvec-1].real, Pstack[ntvec-1].imag, -2j*dt*allevals[ntvec-1], allevecs[ntvec-1], (ntvec-1)*dt, fldfrq,fldamp,tmeoff,norm_direc)\n",
    "    xibk = xicomp(theta, Pstack[ntvec-1].real, Pstack[ntvec-1].imag, 2j*dt*allevals[ntvec-1], allevecs[ntvec-1], (ntvec-1)*dt, fldfrq,fldamp,tmeoff,norm_direc)\n",
    "    lambnext += jnp.einsum('ij,ijkl->kl',lambfinal @ allU[ntvec-1] @ Pstack[ntvec-2], (-2j*dt*xiak[0]).conj())\n",
    "    lambnext += jnp.einsum('ij,ijkl->kl',lambfinal @ allU[ntvec-1] @ Pstack[ntvec-2], (-2j*dt*xiak[1]).conj()).conj()\n",
    "    lambnext += jnp.einsum('ij,ijkl->kl',Pstack[ntvec-2] @ allU[ntvec-1].conj().T @ lambfinal, (2j*dt*xibk[0]).conj())\n",
    "    lambnext += jnp.einsum('ij,ijkl->kl',Pstack[ntvec-2] @ allU[ntvec-1].conj().T @ lambfinal, (2j*dt*xibk[1]).conj()).conj()\n",
    "    lambcat = jnp.concatenate([jnp.expand_dims(lambfinal,0), jnp.expand_dims(lambnext, 0), jnp.zeros((ntvec-2, drc, drc))])\n",
    "    alllamb = lax.fori_loop(2, ntvec, bodylamb, lambcat)\n",
    "    lambstack = jnp.flipud( jnp.stack(alllamb, axis=0) )    \n",
    "    \n",
    "    def bodygrad(k, gL):\n",
    "        tmp1 = -2j*dt*dUdtheta(theta, Pstack[k].real, Pstack[k].imag, -2j*dt*allevals[k], allevecs[k], k*dt, fldfrq,fldamp,tmeoff,norm_direc)\n",
    "        term1 = jnp.einsum('ija,jk,kl->ila',tmp1,Pstack[k-1],allU[k].conj().T)\n",
    "        term2 = term1.transpose((1,0,2)).conj()\n",
    "        return gL + jnp.real(jnp.einsum('il,ila->a',lambstack[k],(term1+term2).conj()))\n",
    "\n",
    "    tmp1 = -1j*dt*dUdtheta(theta, Pstack[0].real, Pstack[0].imag, -1j*dt*allevals[0], allevecs[0], 0 , fldfrq,fldamp,tmeoff,norm_direc)\n",
    "    term1 = jnp.einsum('ija,jk,kl->ila',tmp1,Pstack[0],allU[0].conj().T)\n",
    "    term2 = term1.transpose((1,0,2)).conj()\n",
    "    initgradL = jnp.real(jnp.einsum('il,ila->a',lambstack[0],(term1+term2).conj()))\n",
    "    gradL = lax.fori_loop(1, ntvec, bodygrad, initgradL)\n",
    "    return gradL/mynumsteps/drc**2\n",
    "    "
   ]
  },
  {
   "cell_type": "code",
   "execution_count": 15,
   "id": "2af0ec1d-b817-4a9d-bc42-6619c7c15c06",
   "metadata": {},
   "outputs": [],
   "source": [
    "def MMUT_Prop_HSB(theta, initial_density, dt=0.08268, ntvec=2000,\n",
    "                  tmeoff=1, fldfrq=1, fldamp=1, norm_direc=jnp.array([0.0,0.0,1.0])):\n",
    "    tvec = dt*jnp.arange(ntvec)\n",
    "    P0 = initial_density.reshape((drc, drc))\n",
    "    propagated_dens = [P0]\n",
    "    H0 = MLham(theta[0:4])\n",
    "    H0 = H0[0] + 1.0j*H0[1]\n",
    "    evals, evecs = jnp.linalg.eigh(H0)\n",
    "    U0 = evecs @ jnp.diag(jnp.exp(-1j*dt*evals)) @ evecs.conj().T\n",
    "    P1 = U0 @ P0 @ U0.conj().T\n",
    "   \n",
    "    propagated_dens.append( P1 )\n",
    "    def bodyfun(i, dl):\n",
    "        P0 = dl[i, :, :]\n",
    "        P1 = dl[i+1, :, :]\n",
    "        H1 = MLham(jax.lax.dynamic_slice(theta, ((4*(i+1)),), (4,)))\n",
    "        H1 = H1[0] + 1.0j*H1[1]\n",
    "        evals, evecs = jnp.linalg.eigh(H1)\n",
    "        U1 = evecs @ jnp.diag(jnp.exp(-2j*dt*evals)) @ evecs.conj().T\n",
    "        P2 = U1 @ P0 @ U1.conj().T\n",
    "        return dl.at[i+2].set( P2 )\n",
    "    alldens = jnp.concatenate([jnp.stack(propagated_dens), jnp.zeros((ntvec-1, drc, drc))], axis=0) \n",
    "    fdl = lax.fori_loop(0, ntvec-1, bodyfun, alldens)\n",
    "    \n",
    "    return fdl"
   ]
  },
  {
   "cell_type": "code",
   "execution_count": 16,
   "id": "ad6a2c34",
   "metadata": {},
   "outputs": [],
   "source": [
    "# single-trajectory loss\n",
    "def loss(theta, i):\n",
    "    mlprop = MMUT_Prop_HSB(theta, ic, dt=dt, ntvec=mynumsteps,\n",
    "                           tmeoff=trntme[i], fldfrq=trnfrq[i], fldamp=trnamp[i])\n",
    "    resid = mlprop - trnden[i,:mynumsteps+1, :, :]\n",
    "    sse = 0.5*jnp.real(jnp.mean(jnp.conj(resid)*resid))\n",
    "    return sse"
   ]
  },
  {
   "cell_type": "code",
   "execution_count": 17,
   "id": "cde974e5-dc6d-4f07-ae49-4763c4b4a89d",
   "metadata": {},
   "outputs": [],
   "source": [
    "# gradient of single-trajectory loss\n",
    "def gradloss(theta, i):\n",
    "    return MMUT_Adjoint(theta, \n",
    "                        jnp.array(trnden[i,:mynumsteps+1,:,:]), dt=dt, \n",
    "                        tmeoff=trntme[i], fldfrq=trnfrq[i], fldamp=trnamp[i])"
   ]
  },
  {
   "cell_type": "code",
   "execution_count": 18,
   "id": "b9e3aeaa-e112-472c-b4fd-5e19e746f596",
   "metadata": {},
   "outputs": [
    {
     "name": "stdout",
     "output_type": "stream",
     "text": [
      "propagating trajectory: 140\n"
     ]
    }
   ],
   "source": [
    "# # uncomment this cell to test whether the adjoint method's gradient agrees with JAX's gradient\n",
    "# # you should get agreement to 6-7 decimal places --- j\n",
    "i = 140\n",
    "ic = trnden[i][0,:,:].reshape((-1))\n",
    "print('propagating trajectory: {}'.format(i))"
   ]
  },
  {
   "cell_type": "code",
   "execution_count": 19,
   "id": "6ad06670-973b-475e-bd4a-b8ecd2b5a705",
   "metadata": {},
   "outputs": [],
   "source": [
    "from jax import grad, jacobian\n",
    "jaxgradloss = grad(loss)\n",
    "#thetarand = jnp.array(np.random.normal(size=32))\n",
    "#thetarand = jnp.array(np.random.normal(size=2 * drc**2 + 2 * 2 * drc**4))\n",
    "thetarand = 0.01 * jnp.array(np.random.normal(size=numparams))"
   ]
  },
  {
   "cell_type": "code",
   "execution_count": 20,
   "id": "937a643e-7b27-471b-a6ee-77f50d16aa36",
   "metadata": {},
   "outputs": [],
   "source": [
    "# #uncomment if you want a finite difference differentiation of the loss wrt theta\n",
    "# perturbedtheta = np.copy(thetarand)\n",
    "# fdtot = []\n",
    "# for ind in range(perturbedtheta.shape[0]):\n",
    "#     perturbedtheta[ind] += 1e-6\n",
    "#     losstheta = loss(thetarand,i)\n",
    "#     lossperturbedtheta = loss(perturbedtheta,i)\n",
    "#     fd = (lossperturbedtheta - losstheta)/1e-6\n",
    "#     fdtot.append(fd)\n",
    "#     perturbedtheta[ind] -= 1e-6\n",
    "# fdtot = np.array(fdtot)"
   ]
  },
  {
   "cell_type": "code",
   "execution_count": 21,
   "id": "2a8dd6ac-789c-4d6b-a30b-61a48b99b74f",
   "metadata": {},
   "outputs": [],
   "source": [
    "autodiffresult = jaxgradloss(thetarand, i)\n",
    "# adjointresult = gradloss(thetarand, i)\n",
    "# #print(autodiffresult)\n",
    "# #print(adjointresult)\n",
    "# print(jnp.mean(jnp.abs(autodiffresult-adjointresult)))"
   ]
  },
  {
   "cell_type": "code",
   "execution_count": 22,
   "id": "802ecf4c-d522-4189-a887-1c8d7a4e03f5",
   "metadata": {},
   "outputs": [],
   "source": [
    "# multi-trajectory loss\n",
    "vloss = vmap(loss, (None,0))\n",
    "jvloss = jit(vloss)\n",
    "\n",
    "# gradient of multi-trajectory loss\n",
    "vgradloss = vmap(jaxgradloss, (None, 0))\n",
    "jvgradloss = jit(vgradloss)"
   ]
  },
  {
   "cell_type": "code",
   "execution_count": 23,
   "id": "53bf0d1d-2851-4a8f-9dfe-f93ec88738b5",
   "metadata": {},
   "outputs": [],
   "source": [
    "# NumPy wrappers to our JAX functions for use with SciPy optimizers\n",
    "#was arange(140,160)\n",
    "def siobj(x):\n",
    "    jx = jnp.array(x)\n",
    "    return jnp.mean(jvloss( jx, jnp.arange(0,len(inds)))).item()\n",
    "\n",
    "def sigrad(x):\n",
    "    jx = jnp.array(x)\n",
    "    return np.asarray( jnp.mean( jvgradloss( jx, jnp.arange(0,len(inds) )), axis=0 ), dtype = np.float64 )"
   ]
  },
  {
   "cell_type": "code",
   "execution_count": 24,
   "id": "6467efcc-ea3d-41ba-9125-9eb3b77494e9",
   "metadata": {},
   "outputs": [],
   "source": [
    "# many-theta version of the loss function\n",
    "vthetaloss = vmap(loss, (0, None))\n",
    "jvthetaloss = jit(vthetaloss)"
   ]
  },
  {
   "cell_type": "code",
   "execution_count": 25,
   "id": "86e4828e-2914-489e-a87b-b63c7be669ae",
   "metadata": {},
   "outputs": [
    {
     "data": {
      "image/png": "[encoded data removed]",
      "text/plain": [
       "<Figure size 640x480 with 1 Axes>"
      ]
     },
     "metadata": {},
     "output_type": "display_data"
    }
   ],
   "source": [
    "# evaluate the loss for many randomly sampled thetas\n",
    "numruns = 100\n",
    "np.random.seed(5)\n",
    "manytheta0 = 1e-1*jnp.array(np.random.normal(size=numparams*numruns), dtype=np.float64).reshape((numruns, -1))\n",
    "\n",
    "# use the many-theta version of the loss function,\n",
    "# but only evaluate along one trajectory, to save memory and time\n",
    "testloss = jvthetaloss(manytheta0, 0)\n",
    "\n",
    "# plot log_{10} of the losses obtained from the random thetas\n",
    "plt.plot(jnp.log(testloss)/jnp.log(10))\n",
    "plt.show()\n",
    "\n",
    "# pick the best theta\n",
    "minind = jnp.argmin(testloss)\n",
    "theta0 = manytheta0[minind]"
   ]
  },
  {
   "cell_type": "code",
   "execution_count": 26,
   "id": "5c847853-23b8-4658-a040-0913be16299c",
   "metadata": {},
   "outputs": [
    {
     "name": "stdout",
     "output_type": "stream",
     "text": [
      "| niter |f evals|CG iter|  obj func   |tr radius |   opt    |  c viol  |\n",
      "|-------|-------|-------|-------------|----------|----------|----------|\n",
      "|   1   |   1   |   0   | +2.7573e-02 | 1.00e+00 | 4.13e-04 | 0.00e+00 |\n",
      "|   2   |   2   |   1   | +2.7488e-02 | 1.00e+00 | 4.11e-04 | 0.00e+00 |\n",
      "|   3   |   3   |   2   | +2.1011e-02 | 7.00e+00 | 2.18e-04 | 0.00e+00 |\n",
      "|   4   |   4   |   4   | +1.5895e-02 | 9.85e+00 | 3.01e-04 | 0.00e+00 |\n",
      "|   5   |   5   |   6   | +9.8773e-03 | 1.56e+01 | 2.75e-04 | 0.00e+00 |\n",
      "|   6   |   6   |   9   | +6.3561e-03 | 1.66e+01 | 1.01e-04 | 0.00e+00 |\n",
      "|   7   |   7   |  10   | +5.7144e-03 | 1.66e+01 | 8.06e-05 | 0.00e+00 |\n",
      "|   8   |   8   |  13   | +4.4092e-03 | 1.66e+01 | 1.33e-04 | 0.00e+00 |\n",
      "|   9   |   9   |  16   | +3.1670e-03 | 1.66e+01 | 1.12e-04 | 0.00e+00 |\n",
      "|  10   |  10   |  17   | +2.8181e-03 | 1.66e+01 | 4.23e-05 | 0.00e+00 |\n",
      "|  11   |  11   |  21   | +2.2529e-03 | 1.66e+01 | 4.21e-05 | 0.00e+00 |\n",
      "|  12   |  12   |  23   | +2.1854e-03 | 1.66e+01 | 2.55e-05 | 0.00e+00 |\n",
      "|  13   |  13   |  28   | +1.9890e-03 | 1.66e+01 | 4.88e-05 | 0.00e+00 |\n",
      "|  14   |  14   |  31   | +1.8954e-03 | 1.66e+01 | 5.23e-05 | 0.00e+00 |\n",
      "|  15   |  15   |  34   | +1.7053e-03 | 1.66e+01 | 3.09e-05 | 0.00e+00 |\n",
      "|  16   |  16   |  36   | +1.6555e-03 | 1.66e+01 | 1.74e-05 | 0.00e+00 |\n",
      "|  17   |  17   |  41   | +1.5596e-03 | 1.66e+01 | 3.38e-05 | 0.00e+00 |\n",
      "|  18   |  18   |  44   | +1.5213e-03 | 1.66e+01 | 3.43e-05 | 0.00e+00 |\n",
      "|  19   |  19   |  48   | +1.4665e-03 | 1.66e+01 | 1.55e-05 | 0.00e+00 |\n",
      "|  20   |  20   |  52   | +1.4335e-03 | 1.66e+01 | 1.89e-05 | 0.00e+00 |\n",
      "|  21   |  21   |  54   | +1.4251e-03 | 1.66e+01 | 1.11e-05 | 0.00e+00 |\n",
      "|  22   |  22   |  59   | +1.3961e-03 | 1.66e+01 | 3.30e-05 | 0.00e+00 |\n",
      "|  23   |  23   |  60   | +1.3898e-03 | 1.66e+01 | 2.18e-05 | 0.00e+00 |\n",
      "|  24   |  24   |  65   | +1.3283e-03 | 1.66e+01 | 7.68e-06 | 0.00e+00 |\n",
      "|  25   |  25   |  71   | +1.2751e-03 | 1.66e+01 | 1.27e-05 | 0.00e+00 |\n",
      "|  26   |  26   |  72   | +1.2724e-03 | 1.66e+01 | 7.38e-06 | 0.00e+00 |\n",
      "|  27   |  27   |  77   | +1.2657e-03 | 1.66e+01 | 7.16e-06 | 0.00e+00 |\n",
      "|  28   |  28   |  79   | +1.2634e-03 | 1.66e+01 | 6.36e-06 | 0.00e+00 |\n",
      "|  29   |  29   |  82   | +1.2511e-03 | 1.66e+01 | 4.70e-06 | 0.00e+00 |\n",
      "|  30   |  30   |  88   | +1.2468e-03 | 1.66e+01 | 4.13e-06 | 0.00e+00 |\n",
      "|  31   |  31   |  89   | +1.2459e-03 | 1.66e+01 | 3.69e-06 | 0.00e+00 |\n",
      "|  32   |  32   |  91   | +1.2440e-03 | 1.66e+01 | 6.06e-06 | 0.00e+00 |\n",
      "|  33   |  33   |  94   | +1.2419e-03 | 1.66e+01 | 6.99e-06 | 0.00e+00 |\n",
      "|  34   |  34   |  95   | +1.2413e-03 | 1.66e+01 | 3.50e-06 | 0.00e+00 |\n",
      "|  35   |  35   |  101  | +1.2378e-03 | 1.66e+01 | 5.59e-06 | 0.00e+00 |\n",
      "|  36   |  36   |  103  | +1.2370e-03 | 1.66e+01 | 4.51e-06 | 0.00e+00 |\n",
      "|  37   |  37   |  110  | +1.2290e-03 | 1.66e+01 | 5.50e-06 | 0.00e+00 |\n",
      "|  38   |  38   |  111  | +1.2282e-03 | 1.66e+01 | 2.56e-06 | 0.00e+00 |\n",
      "|  39   |  39   |  120  | +1.2228e-03 | 1.66e+01 | 2.11e-06 | 0.00e+00 |\n",
      "|  40   |  40   |  123  | +1.2223e-03 | 1.66e+01 | 1.47e-06 | 0.00e+00 |\n",
      "|  41   |  41   |  132  | +1.2216e-03 | 1.66e+01 | 1.56e-06 | 0.00e+00 |\n",
      "|  42   |  42   |  133  | +1.2215e-03 | 1.66e+01 | 1.37e-06 | 0.00e+00 |\n",
      "|  43   |  43   |  137  | +1.2186e-03 | 1.66e+01 | 4.46e-06 | 0.00e+00 |\n",
      "|  44   |  44   |  138  | +1.2182e-03 | 1.66e+01 | 1.90e-06 | 0.00e+00 |\n",
      "|  45   |  45   |  144  | +1.2162e-03 | 1.66e+01 | 1.98e-06 | 0.00e+00 |\n",
      "|  46   |  46   |  152  | +1.2151e-03 | 1.66e+01 | 2.00e-06 | 0.00e+00 |\n",
      "|  47   |  47   |  154  | +1.2150e-03 | 1.66e+01 | 1.85e-06 | 0.00e+00 |\n",
      "|  48   |  48   |  157  | +1.2145e-03 | 1.66e+01 | 1.16e-06 | 0.00e+00 |\n",
      "|  49   |  49   |  165  | +1.2142e-03 | 1.66e+01 | 1.42e-06 | 0.00e+00 |\n",
      "|  50   |  50   |  166  | +1.2141e-03 | 1.66e+01 | 1.50e-06 | 0.00e+00 |\n",
      "|  51   |  51   |  170  | +1.2134e-03 | 1.66e+01 | 2.20e-06 | 0.00e+00 |\n",
      "|  52   |  52   |  171  | +1.2133e-03 | 1.66e+01 | 1.08e-06 | 0.00e+00 |\n",
      "|  53   |  53   |  181  | +1.2119e-03 | 1.66e+01 | 1.07e-06 | 0.00e+00 |\n",
      "|  54   |  54   |  194  | +1.2111e-03 | 1.66e+01 | 1.03e-06 | 0.00e+00 |\n",
      "|  55   |  55   |  195  | +1.2110e-03 | 1.66e+01 | 1.01e-06 | 0.00e+00 |\n",
      "|  56   |  56   |  197  | +1.2107e-03 | 1.66e+01 | 1.93e-06 | 0.00e+00 |\n",
      "|  57   |  57   |  198  | +1.2106e-03 | 1.66e+01 | 1.02e-06 | 0.00e+00 |\n",
      "|  58   |  58   |  204  | +1.2103e-03 | 1.66e+01 | 6.33e-07 | 0.00e+00 |\n",
      "|  59   |  59   |  214  | +1.2101e-03 | 1.66e+01 | 8.88e-07 | 0.00e+00 |\n",
      "|  60   |  60   |  216  | +1.2101e-03 | 1.66e+01 | 8.01e-07 | 0.00e+00 |\n",
      "|  61   |  61   |  223  | +1.2097e-03 | 1.66e+01 | 1.04e-06 | 0.00e+00 |\n",
      "|  62   |  62   |  229  | +1.2095e-03 | 1.66e+01 | 1.01e-06 | 0.00e+00 |\n",
      "|  63   |  63   |  232  | +1.2094e-03 | 1.66e+01 | 6.02e-07 | 0.00e+00 |\n",
      "|  64   |  64   |  245  | +1.2091e-03 | 1.66e+01 | 8.50e-07 | 0.00e+00 |\n",
      "|  65   |  65   |  246  | +1.2091e-03 | 1.66e+01 | 7.69e-07 | 0.00e+00 |\n",
      "|  66   |  66   |  252  | +1.2086e-03 | 1.66e+01 | 1.34e-06 | 0.00e+00 |\n",
      "|  67   |  67   |  253  | +1.2086e-03 | 1.66e+01 | 5.54e-07 | 0.00e+00 |\n",
      "|  68   |  68   |  263  | +1.2083e-03 | 1.66e+01 | 7.44e-07 | 0.00e+00 |\n",
      "|  69   |  69   |  266  | +1.2082e-03 | 1.66e+01 | 5.49e-07 | 0.00e+00 |\n",
      "|  70   |  70   |  278  | +1.2080e-03 | 1.66e+01 | 7.74e-07 | 0.00e+00 |\n",
      "|  71   |  71   |  279  | +1.2080e-03 | 1.66e+01 | 6.82e-07 | 0.00e+00 |\n",
      "|  72   |  72   |  281  | +1.2079e-03 | 1.66e+01 | 1.15e-06 | 0.00e+00 |\n",
      "|  73   |  73   |  282  | +1.2078e-03 | 1.66e+01 | 6.27e-07 | 0.00e+00 |\n",
      "|  74   |  74   |  288  | +1.2078e-03 | 1.66e+01 | 3.61e-07 | 0.00e+00 |\n",
      "|  75   |  75   |  300  | +1.2077e-03 | 1.66e+01 | 4.36e-07 | 0.00e+00 |\n",
      "|  76   |  76   |  302  | +1.2077e-03 | 1.66e+01 | 4.00e-07 | 0.00e+00 |\n",
      "|  77   |  77   |  309  | +1.2075e-03 | 1.66e+01 | 8.71e-07 | 0.00e+00 |\n",
      "|  78   |  78   |  312  | +1.2074e-03 | 1.66e+01 | 5.42e-07 | 0.00e+00 |\n",
      "|  79   |  79   |  320  | +1.2073e-03 | 1.66e+01 | 3.76e-07 | 0.00e+00 |\n",
      "|  80   |  80   |  333  | +1.2071e-03 | 1.66e+01 | 4.15e-07 | 0.00e+00 |\n",
      "|  81   |  81   |  334  | +1.2071e-03 | 1.66e+01 | 3.38e-07 | 0.00e+00 |\n",
      "|  82   |  82   |  336  | +1.2071e-03 | 1.66e+01 | 6.55e-07 | 0.00e+00 |\n",
      "|  83   |  83   |  337  | +1.2071e-03 | 1.66e+01 | 4.26e-07 | 0.00e+00 |\n",
      "|  84   |  84   |  342  | +1.2070e-03 | 1.66e+01 | 4.19e-07 | 0.00e+00 |\n",
      "|  85   |  85   |  355  | +1.2067e-03 | 1.66e+01 | 8.68e-07 | 0.00e+00 |\n",
      "|  86   |  86   |  356  | +1.2067e-03 | 1.66e+01 | 4.12e-07 | 0.00e+00 |\n",
      "|  87   |  87   |  372  | +1.2066e-03 | 1.66e+01 | 4.85e-07 | 0.00e+00 |\n",
      "|  88   |  88   |  374  | +1.2065e-03 | 1.66e+01 | 4.64e-07 | 0.00e+00 |\n",
      "|  89   |  89   |  377  | +1.2064e-03 | 1.66e+01 | 4.69e-07 | 0.00e+00 |\n",
      "|  90   |  90   |  382  | +1.2064e-03 | 1.66e+01 | 3.74e-07 | 0.00e+00 |\n",
      "|  91   |  91   |  385  | +1.2064e-03 | 1.66e+01 | 2.42e-07 | 0.00e+00 |\n",
      "|  92   |  92   |  401  | +1.2063e-03 | 1.66e+01 | 3.49e-07 | 0.00e+00 |\n",
      "|  93   |  93   |  404  | +1.2063e-03 | 1.66e+01 | 2.59e-07 | 0.00e+00 |\n",
      "|  94   |  94   |  406  | +1.2063e-03 | 1.66e+01 | 2.71e-07 | 0.00e+00 |\n",
      "|  95   |  95   |  412  | +1.2063e-03 | 1.66e+01 | 9.19e-07 | 0.00e+00 |\n",
      "|  96   |  96   |  413  | +1.2063e-03 | 1.66e+01 | 4.98e-07 | 0.00e+00 |\n",
      "|  97   |  97   |  419  | +1.2062e-03 | 1.66e+01 | 2.41e-07 | 0.00e+00 |\n",
      "|  98   |  98   |  429  | +1.2062e-03 | 1.66e+01 | 2.75e-07 | 0.00e+00 |\n",
      "|  99   |  99   |  432  | +1.2062e-03 | 1.66e+01 | 2.32e-07 | 0.00e+00 |\n",
      "|  100  |  100  |  433  | +1.2062e-03 | 1.66e+01 | 2.28e-07 | 0.00e+00 |\n",
      "|  101  |  101  |  447  | +1.2061e-03 | 1.66e+01 | 7.79e-07 | 0.00e+00 |\n",
      "|  102  |  102  |  448  | +1.2061e-03 | 1.66e+01 | 4.17e-07 | 0.00e+00 |\n",
      "|  103  |  103  |  453  | +1.2060e-03 | 1.66e+01 | 1.80e-07 | 0.00e+00 |\n",
      "|  104  |  104  |  472  | +1.2059e-03 | 1.66e+01 | 6.89e-07 | 0.00e+00 |\n",
      "|  105  |  105  |  473  | +1.2059e-03 | 1.66e+01 | 1.91e-07 | 0.00e+00 |\n",
      "|  106  |  106  |  485  | +1.2058e-03 | 1.66e+01 | 1.53e-07 | 0.00e+00 |\n",
      "|  107  |  107  |  502  | +1.2058e-03 | 1.66e+01 | 1.93e-07 | 0.00e+00 |\n",
      "|  108  |  108  |  503  | +1.2058e-03 | 1.66e+01 | 2.00e-07 | 0.00e+00 |\n",
      "|  109  |  109  |  505  | +1.2058e-03 | 1.66e+01 | 5.37e-07 | 0.00e+00 |\n",
      "|  110  |  110  |  506  | +1.2058e-03 | 1.66e+01 | 3.22e-07 | 0.00e+00 |\n",
      "|  111  |  111  |  510  | +1.2058e-03 | 1.66e+01 | 1.66e-07 | 0.00e+00 |\n",
      "|  112  |  112  |  516  | +1.2058e-03 | 1.66e+01 | 2.06e-07 | 0.00e+00 |\n",
      "|  113  |  113  |  517  | +1.2058e-03 | 1.66e+01 | 2.23e-07 | 0.00e+00 |\n",
      "|  114  |  114  |  519  | +1.2057e-03 | 1.66e+01 | 4.50e-07 | 0.00e+00 |\n",
      "|  115  |  115  |  520  | +1.2057e-03 | 1.66e+01 | 2.70e-07 | 0.00e+00 |\n",
      "|  116  |  116  |  523  | +1.2057e-03 | 1.66e+01 | 1.14e-07 | 0.00e+00 |\n",
      "|  117  |  117  |  542  | +1.2056e-03 | 1.66e+01 | 3.99e-07 | 0.00e+00 |\n",
      "|  118  |  118  |  543  | +1.2056e-03 | 1.66e+01 | 1.16e-07 | 0.00e+00 |\n",
      "|  119  |  119  |  570  | +1.2056e-03 | 1.66e+01 | 1.63e-07 | 0.00e+00 |\n",
      "|  120  |  120  |  574  | +1.2056e-03 | 1.66e+01 | 1.37e-07 | 0.00e+00 |\n",
      "|  121  |  121  |  576  | +1.2056e-03 | 1.66e+01 | 1.40e-07 | 0.00e+00 |\n",
      "|  122  |  122  |  587  | +1.2055e-03 | 1.66e+01 | 4.41e-07 | 0.00e+00 |\n",
      "|  123  |  123  |  588  | +1.2055e-03 | 1.66e+01 | 2.86e-07 | 0.00e+00 |\n",
      "|  124  |  124  |  597  | +1.2055e-03 | 1.66e+01 | 1.52e-07 | 0.00e+00 |\n",
      "|  125  |  125  |  613  | +1.2055e-03 | 1.66e+01 | 2.30e-07 | 0.00e+00 |\n",
      "|  126  |  126  |  617  | +1.2055e-03 | 1.66e+01 | 1.74e-07 | 0.00e+00 |\n",
      "|  127  |  127  |  618  | +1.2055e-03 | 1.66e+01 | 1.91e-07 | 0.00e+00 |\n",
      "|  128  |  128  |  622  | +1.2054e-03 | 1.66e+01 | 4.65e-07 | 0.00e+00 |\n",
      "|  129  |  129  |  623  | +1.2054e-03 | 1.66e+01 | 3.02e-07 | 0.00e+00 |\n",
      "|  130  |  130  |  628  | +1.2054e-03 | 1.66e+01 | 1.39e-07 | 0.00e+00 |\n",
      "|  131  |  131  |  647  | +1.2054e-03 | 1.66e+01 | 3.39e-07 | 0.00e+00 |\n",
      "|  132  |  132  |  648  | +1.2054e-03 | 1.66e+01 | 1.33e-07 | 0.00e+00 |\n",
      "|  133  |  133  |  651  | +1.2054e-03 | 1.66e+01 | 2.01e-07 | 0.00e+00 |\n",
      "|  134  |  134  |  653  | +1.2054e-03 | 1.66e+01 | 2.35e-07 | 0.00e+00 |\n",
      "|  135  |  135  |  662  | +1.2054e-03 | 1.66e+01 | 5.38e-07 | 0.00e+00 |\n",
      "|  136  |  136  |  663  | +1.2054e-03 | 1.66e+01 | 2.74e-07 | 0.00e+00 |\n",
      "|  137  |  137  |  669  | +1.2054e-03 | 1.66e+01 | 9.41e-08 | 0.00e+00 |\n",
      "|  138  |  138  |  700  | +1.2053e-03 | 1.66e+01 | 2.77e-07 | 0.00e+00 |\n",
      "|  139  |  139  |  701  | +1.2053e-03 | 1.66e+01 | 1.09e-07 | 0.00e+00 |\n",
      "|  140  |  140  |  709  | +1.2053e-03 | 1.66e+01 | 1.50e-07 | 0.00e+00 |\n",
      "|  141  |  141  |  711  | +1.2053e-03 | 1.66e+01 | 1.54e-07 | 0.00e+00 |\n",
      "|  142  |  142  |  720  | +1.2053e-03 | 1.66e+01 | 4.85e-07 | 0.00e+00 |\n",
      "|  143  |  143  |  721  | +1.2053e-03 | 1.66e+01 | 2.16e-07 | 0.00e+00 |\n",
      "|  144  |  144  |  731  | +1.2053e-03 | 1.66e+01 | 1.38e-07 | 0.00e+00 |\n",
      "|  145  |  145  |  743  | +1.2053e-03 | 1.66e+01 | 1.82e-07 | 0.00e+00 |\n",
      "|  146  |  146  |  746  | +1.2053e-03 | 1.66e+01 | 1.11e-07 | 0.00e+00 |\n",
      "|  147  |  147  |  761  | +1.2052e-03 | 1.66e+01 | 1.33e-07 | 0.00e+00 |\n",
      "|  148  |  148  |  762  | +1.2052e-03 | 1.66e+01 | 1.29e-07 | 0.00e+00 |\n",
      "|  149  |  149  |  766  | +1.2052e-03 | 1.66e+01 | 2.90e-07 | 0.00e+00 |\n",
      "|  150  |  150  |  767  | +1.2052e-03 | 1.66e+01 | 1.73e-07 | 0.00e+00 |\n",
      "|  151  |  151  |  772  | +1.2052e-03 | 1.66e+01 | 8.08e-08 | 0.00e+00 |\n",
      "|  152  |  152  |  801  | +1.2052e-03 | 1.66e+01 | 1.85e-07 | 0.00e+00 |\n",
      "|  153  |  153  |  802  | +1.2052e-03 | 1.66e+01 | 9.59e-08 | 0.00e+00 |\n",
      "|  154  |  154  |  807  | +1.2052e-03 | 1.66e+01 | 1.05e-07 | 0.00e+00 |\n",
      "|  155  |  155  |  809  | +1.2052e-03 | 1.66e+01 | 1.23e-07 | 0.00e+00 |\n",
      "|  156  |  156  |  813  | +1.2052e-03 | 1.66e+01 | 3.43e-07 | 0.00e+00 |\n",
      "|  157  |  157  |  814  | +1.2052e-03 | 1.66e+01 | 1.88e-07 | 0.00e+00 |\n",
      "|  158  |  158  |  822  | +1.2052e-03 | 1.66e+01 | 1.18e-07 | 0.00e+00 |\n",
      "|  159  |  159  |  841  | +1.2052e-03 | 1.66e+01 | 1.69e-07 | 0.00e+00 |\n",
      "|  160  |  160  |  844  | +1.2052e-03 | 1.66e+01 | 8.79e-08 | 0.00e+00 |\n",
      "|  161  |  161  |  845  | +1.2051e-03 | 1.66e+01 | 9.29e-08 | 0.00e+00 |\n",
      "|  162  |  162  |  847  | +1.2051e-03 | 1.66e+01 | 2.09e-07 | 0.00e+00 |\n",
      "|  163  |  163  |  848  | +1.2051e-03 | 1.66e+01 | 1.55e-07 | 0.00e+00 |\n",
      "|  164  |  164  |  851  | +1.2051e-03 | 1.66e+01 | 7.05e-08 | 0.00e+00 |\n",
      "|  165  |  165  |  882  | +1.2051e-03 | 1.66e+01 | 3.70e-07 | 0.00e+00 |\n",
      "|  166  |  166  |  883  | +1.2051e-03 | 1.66e+01 | 1.16e-07 | 0.00e+00 |\n",
      "|  167  |  167  |  895  | +1.2051e-03 | 1.66e+01 | 7.06e-08 | 0.00e+00 |\n",
      "|  168  |  168  |  907  | +1.2051e-03 | 1.66e+01 | 7.35e-08 | 0.00e+00 |\n",
      "|  169  |  169  |  909  | +1.2051e-03 | 1.66e+01 | 7.30e-08 | 0.00e+00 |\n",
      "|  170  |  170  |  918  | +1.2051e-03 | 1.66e+01 | 2.09e-07 | 0.00e+00 |\n",
      "|  171  |  171  |  919  | +1.2051e-03 | 1.66e+01 | 1.11e-07 | 0.00e+00 |\n",
      "|  172  |  172  |  930  | +1.2051e-03 | 1.66e+01 | 1.64e-07 | 0.00e+00 |\n",
      "|  173  |  173  |  935  | +1.2051e-03 | 1.66e+01 | 9.64e-08 | 0.00e+00 |\n",
      "|  174  |  174  |  969  | +1.2051e-03 | 1.66e+01 | 1.59e-07 | 0.00e+00 |\n",
      "|  175  |  175  |  970  | +1.2051e-03 | 1.66e+01 | 7.79e-08 | 0.00e+00 |\n",
      "|  176  |  176  |  972  | +1.2051e-03 | 1.66e+01 | 1.11e-07 | 0.00e+00 |\n",
      "|  177  |  177  |  974  | +1.2051e-03 | 1.66e+01 | 2.58e-07 | 0.00e+00 |\n",
      "|  178  |  178  |  975  | +1.2051e-03 | 1.66e+01 | 1.74e-07 | 0.00e+00 |\n",
      "|  179  |  179  |  980  | +1.2050e-03 | 1.66e+01 | 1.02e-07 | 0.00e+00 |\n",
      "|  180  |  180  |  992  | +1.2050e-03 | 1.66e+01 | 2.43e-07 | 0.00e+00 |\n",
      "|  181  |  181  |  993  | +1.2050e-03 | 1.66e+01 | 1.01e-07 | 0.00e+00 |\n",
      "|  182  |  182  | 1004  | +1.2050e-03 | 1.66e+01 | 1.13e-07 | 0.00e+00 |\n",
      "|  183  |  183  | 1009  | +1.2050e-03 | 1.66e+01 | 7.78e-08 | 0.00e+00 |\n",
      "|  184  |  184  | 1028  | +1.2050e-03 | 1.66e+01 | 9.00e-08 | 0.00e+00 |\n",
      "|  185  |  185  | 1030  | +1.2050e-03 | 1.66e+01 | 8.57e-08 | 0.00e+00 |\n",
      "|  186  |  186  | 1035  | +1.2050e-03 | 1.66e+01 | 2.36e-07 | 0.00e+00 |\n",
      "|  187  |  187  | 1036  | +1.2050e-03 | 1.66e+01 | 1.13e-07 | 0.00e+00 |\n",
      "|  188  |  188  | 1045  | +1.2050e-03 | 1.66e+01 | 5.71e-08 | 0.00e+00 |\n",
      "|  189  |  189  | 1077  | +1.2050e-03 | 1.66e+01 | 1.06e-07 | 0.00e+00 |\n",
      "|  190  |  190  | 1081  | +1.2050e-03 | 1.66e+01 | 7.70e-08 | 0.00e+00 |\n",
      "|  191  |  191  | 1082  | +1.2050e-03 | 1.66e+01 | 7.49e-08 | 0.00e+00 |\n",
      "|  192  |  192  | 1086  | +1.2050e-03 | 1.66e+01 | 3.19e-07 | 0.00e+00 |\n",
      "|  193  |  193  | 1087  | +1.2050e-03 | 1.66e+01 | 1.87e-07 | 0.00e+00 |\n",
      "|  194  |  194  | 1092  | +1.2050e-03 | 1.66e+01 | 6.13e-08 | 0.00e+00 |\n",
      "|  195  |  195  | 1108  | +1.2050e-03 | 1.66e+01 | 1.88e-07 | 0.00e+00 |\n",
      "|  196  |  196  | 1109  | +1.2050e-03 | 1.66e+01 | 5.99e-08 | 0.00e+00 |\n",
      "|  197  |  197  | 1128  | +1.2049e-03 | 1.66e+01 | 5.64e-08 | 0.00e+00 |\n",
      "|  198  |  198  | 1157  | +1.2049e-03 | 1.66e+01 | 5.99e-08 | 0.00e+00 |\n",
      "|  199  |  199  | 1162  | +1.2049e-03 | 1.66e+01 | 6.59e-08 | 0.00e+00 |\n",
      "|  200  |  200  | 1164  | +1.2049e-03 | 1.66e+01 | 6.86e-08 | 0.00e+00 |\n",
      "\n",
      "The maximum number of function evaluations is exceeded.\n",
      "Number of iterations: 200, function evaluations: 200, CG iterations: 1164, optimality: 6.86e-08, constraint violation: 0.00e+00, execution time: 1.2e+02 s.\n"
     ]
    }
   ],
   "source": [
    "# optimize using SciPy plus wrapped functions above (siobj & sigrad),\n",
    "# starting from the initial theta0 chosen via random sampling\n",
    "#theta0 = np.load('./tdcis_data/trainedtheta_perturbedNN_model_tdcis_dt0.008268au.npz')\n",
    "#theta0 = trainedtheta\n",
    "res = scipy.optimize.minimize( siobj, \n",
    "                               x0 = theta0,\n",
    "                               method = 'trust-constr', \n",
    "                               jac = sigrad,\n",
    "                               options = {'disp': True, 'verbose': 2, 'xtol': 1e-30, 'gtol': 1e-30, 'maxiter': 200} )\n",
    "trainedtheta = res.x"
   ]
  },
  {
   "cell_type": "code",
   "execution_count": 35,
   "id": "aecb332a-a723-49fc-b7eb-dc1932da5f0e",
   "metadata": {},
   "outputs": [],
   "source": [
    "def myinfo(ind):\n",
    "    print(trnfreq[ind], trnamp[ind], trncycs[ind])"
   ]
  },
  {
   "cell_type": "code",
   "execution_count": 36,
   "id": "5300f22c-f7ff-40a8-b4c7-6affe9d01a5f",
   "metadata": {},
   "outputs": [
    {
     "data": {
      "text/plain": [
       "array([145])"
      ]
     },
     "execution_count": 36,
     "metadata": {},
     "output_type": "execute_result"
    }
   ],
   "source": [
    "inds"
   ]
  },
  {
   "cell_type": "code",
   "execution_count": 37,
   "id": "37a6beee-f40c-420a-9628-f385c055f915",
   "metadata": {},
   "outputs": [],
   "source": [
    "# for i in inds:\n",
    "#     fig, axs = plt.subplots(2, 2, figsize=(10,8))\n",
    "#     #axs[0,0].plot(mlprop[:,0,0].real, color='red')\n",
    "#     axs[0,0].plot(jnp.real(trnden[i][:mynumsteps+1,0,0]),color='black')\n",
    "#     axs[0,0].set_title('P'+str(0)+str(0)+' Real')\n",
    "\n",
    "#     #axs[0,1].plot(mlprop[:,0,1].real, color='red')\n",
    "#     axs[0,1].plot(jnp.real(trnden[i][:mynumsteps+1,0,1]),color='black')\n",
    "#     axs[0,1].set_title('P'+str(0)+str(1)+' Real')\n",
    "\n",
    "#     #axs[1,0].plot(mlprop[:,0,1].imag, color='red')\n",
    "#     axs[1,0].plot(jnp.imag(trnden[i][:mynumsteps+1,0,1]),color='black')\n",
    "#     axs[1,0].set_title('P'+str(0)+str(1)+' Imaginary')\n",
    "\n",
    "#     #axs[1,1].plot(mlprop[:,1,1].real, color='red')\n",
    "#     axs[1,1].plot(jnp.real(trnden[i][:mynumsteps+1,1,1]),color='black')\n",
    "#     axs[1,1].set_title('P'+str(1)+str(1)+' Real')\n",
    "#     #plt.savefig('./tdcasscf_data/linear_model_forcing_tdcasscf.pdf')\n",
    "#     plt.legend(['ML Prop', 'Ground Truth'])\n",
    "#     #plt.show()\n",
    "#     #plt.close()"
   ]
  },
  {
   "cell_type": "code",
   "execution_count": 38,
   "id": "361fc9d5-baf3-4f1f-82e6-01f66759a553",
   "metadata": {},
   "outputs": [],
   "source": [
    "trnden = jnp.array(np.load('./tdcis_data/tdcis_dt0.0082680.npz'))\n",
    "trndentdhf = jnp.array(np.load('./tdhf_data/rt-tdhf_forcing_full_finedt.npz'))\n",
    "trnfrq = jnp.array(np.load('./tdcis_data/tdcis_trnfreq_dt0.008268.npz'))\n",
    "trnamp = jnp.array(np.load('./tdcis_data/tdcis_trnamp_dt0.008268.npz'))\n",
    "trntme = jnp.array(np.load('./tdcis_data/tdcis_trntme_dt0.008268.npz'))"
   ]
  },
  {
   "cell_type": "code",
   "execution_count": 39,
   "id": "5a078ccf-99d1-4b27-bce5-cbdd4ab06850",
   "metadata": {},
   "outputs": [
    {
     "data": {
      "text/plain": [
       "(301, 10000, 2, 2)"
      ]
     },
     "execution_count": 39,
     "metadata": {},
     "output_type": "execute_result"
    }
   ],
   "source": [
    "trnden.shape"
   ]
  },
  {
   "cell_type": "code",
   "execution_count": 40,
   "id": "e084a3cd-0be9-4a63-a434-0ce51a3320be",
   "metadata": {},
   "outputs": [
    {
     "data": {
      "text/plain": [
       "array([145])"
      ]
     },
     "execution_count": 40,
     "metadata": {},
     "output_type": "execute_result"
    }
   ],
   "source": [
    "inds"
   ]
  },
  {
   "cell_type": "code",
   "execution_count": 41,
   "id": "79c4d05f-a01f-47f5-b63f-118dea91c799",
   "metadata": {},
   "outputs": [],
   "source": [
    "i = 145\n",
    "ic = trnden[i][0,:,:].reshape((-1))\n",
    "mlprop = MMUT_Prop_HSB(trainedtheta, ic, dt=dt, ntvec=mynumsteps, tmeoff=trntme[i], fldfrq=trnfrq[i], fldamp=trnamp[i])"
   ]
  },
  {
   "cell_type": "code",
   "execution_count": 42,
   "id": "9bae0646-76db-4751-b738-b17ad7f36d10",
   "metadata": {},
   "outputs": [
    {
     "name": "stdout",
     "output_type": "stream",
     "text": [
      "0.0024098755042073717\n"
     ]
    },
    {
     "data": {
      "image/png": "[encoded data removed]",
      "text/plain": [
       "<Figure size 1000x800 with 4 Axes>"
      ]
     },
     "metadata": {},
     "output_type": "display_data"
    }
   ],
   "source": [
    "print(jnp.mean(jnp.abs(mlprop - trnden[i][:mynumsteps+1,:,:])**2))\n",
    "fig, axs = plt.subplots(2, 2, figsize=(10,8))\n",
    "axs[0,0].plot(mlprop[:,0,0].real, color='red')\n",
    "axs[0,0].plot(jnp.real(trnden[i][:mynumsteps+1,0,0]),color='black')\n",
    "axs[0,0].set_title('P'+str(0)+str(0)+' Real')\n",
    "\n",
    "axs[0,1].plot(mlprop[:,0,1].real, color='red')\n",
    "axs[0,1].plot(jnp.real(trnden[i][:mynumsteps+1,0,1]),color='black')\n",
    "axs[0,1].set_title('P'+str(0)+str(1)+' Real')\n",
    "\n",
    "axs[1,0].plot(mlprop[:,0,1].imag, color='red')\n",
    "axs[1,0].plot(jnp.imag(trnden[i][:mynumsteps+1,0,1]),color='black')\n",
    "axs[1,0].set_title('P'+str(0)+str(1)+' Imaginary')\n",
    "\n",
    "axs[1,1].plot(mlprop[:,1,1].real, color='red')\n",
    "axs[1,1].plot(jnp.real(trnden[i][:mynumsteps+1,1,1]),color='black')\n",
    "axs[1,1].set_title('P'+str(1)+str(1)+' Real')\n",
    "#plt.savefig('./tdcis_data/perturbedNN_0.5amp_1000steps_fit.pdf')\n",
    "plt.legend(['ML Prop', 'Ground Truth'])\n",
    "plt.show()\n",
    "plt.close()"
   ]
  },
  {
   "cell_type": "code",
   "execution_count": null,
   "id": "6759f402-1909-4546-9d75-56d76ed411cc",
   "metadata": {},
   "outputs": [],
   "source": [
    "i = 145\n",
    "ic = trnden[i][0,:,:].reshape((-1))\n",
    "mlprop = MMUT_Prop_HSB(trainedtheta, ic, dt=dt, ntvec=mynumsteps, tmeoff=trntme[i], fldfrq=trnfrq[i], fldamp=trnamp[i])"
   ]
  },
  {
   "cell_type": "code",
   "execution_count": null,
   "id": "bf7819eb-9d3f-4849-8895-75aed2ec6504",
   "metadata": {},
   "outputs": [],
   "source": [
    "print(jnp.mean(jnp.abs(mlprop - trnden[i][:mynumsteps+1,:,:])**2))\n",
    "fig, axs = plt.subplots(2, 2, figsize=(10,8))\n",
    "axs[0,0].plot(mlprop[:,0,0].real, color='red')\n",
    "axs[0,0].plot(jnp.real(trnden[i][:mynumsteps+1,0,0]),color='black')\n",
    "axs[0,0].plot(jnp.real(trndentdhf[i][:mynumsteps+1,0,0]))\n",
    "axs[0,0].set_title('P'+str(0)+str(0)+' Real')\n",
    "\n",
    "axs[0,1].plot(mlprop[:,0,1].real, color='red')\n",
    "axs[0,1].plot(jnp.real(trnden[i][:mynumsteps+1,0,1]),color='black')\n",
    "axs[0,1].plot(jnp.real(trndentdhf[i][:mynumsteps+1,0,1]))\n",
    "axs[0,1].set_title('P'+str(0)+str(1)+' Real')\n",
    "\n",
    "axs[1,0].plot(mlprop[:,0,1].imag, color='red')\n",
    "axs[1,0].plot(jnp.imag(trnden[i][:mynumsteps+1,0,1]),color='black')\n",
    "axs[1,0].plot(jnp.imag(trndentdhf[i][:mynumsteps+1,0,1]))\n",
    "axs[1,0].set_title('P'+str(0)+str(1)+' Imaginary')\n",
    "\n",
    "axs[1,1].plot(mlprop[:,1,1].real, color='red')\n",
    "axs[1,1].plot(jnp.real(trnden[i][:mynumsteps+1,1,1]),color='black')\n",
    "axs[1,1].plot(jnp.real(trndentdhf[i][:mynumsteps+1,1,1]))\n",
    "axs[1,1].set_title('P'+str(1)+str(1)+' Real')\n",
    "#plt.savefig('./tdcasscf_data/linear_model_forcing_tdcasscf.pdf')\n",
    "plt.legend(['ML Prop', 'Ground Truth (TDCIs)', 'Ground Truth (TDHF)'])\n",
    "plt.show()\n",
    "plt.close()"
   ]
  },
  {
   "cell_type": "code",
   "execution_count": null,
   "id": "237a6f23-d9d6-436a-bf30-2acaaaf95613",
   "metadata": {},
   "outputs": [],
   "source": [
    "# # pick one training trajectory, and for this trajectory, \n",
    "# # plot the MSE at each point in time between\n",
    "# # (1) mlprop, the result we get by propagating using the learned theta from optimization --- \"res.x\",\n",
    "# # (2) the ground truth training trajectory\n",
    "# for ii in range(140,160):\n",
    "#     i = ii\n",
    "#     ic = trnden[i][0,:,:].reshape((-1))\n",
    "#     mlprop = MMUT_Prop_HSB(jnp.array(res.x), \n",
    "#                            ic, dt=dt, ntvec=mynumsteps, tmeoff=trntme[i], fldfrq=trnfrq[i], fldamp=trnamp[i])\n",
    "#     #print(mlprop.shape)\n",
    "#     #print(trnden[i][:mynumsteps+1,:,:].shape)\n",
    "#     print(trnfrq[i],trnamp[i])\n",
    "#     print(jnp.mean(jnp.abs(mlprop - trnden[i][:mynumsteps+1,:,:])**2))\n",
    "#     print('=============================================')\n",
    "#     plt.figure(figsize=(6,4))\n",
    "#     plt.plot(jnp.mean(jnp.abs(mlprop-trnden[i][:mynumsteps+1,:,:])**2,axis=(1,2)))\n",
    "# plt.show()"
   ]
  },
  {
   "cell_type": "code",
   "execution_count": null,
   "id": "d1424a8f-e58c-4877-a3e2-c85831fea601",
   "metadata": {},
   "outputs": [],
   "source": [
    "# compute and return all the densities **and** all the Hamiltonians along one trajectory!\n",
    "def MMUT_Save_Ham(theta, initial_density, dt=0.08268, ntvec=2000,\n",
    "                  tmeoff=1, fldfrq=1, fldamp=1, norm_direc=jnp.array([0.0,0.0,1.0])):\n",
    "    tvec = dt*jnp.arange(ntvec)\n",
    "    P0 = initial_density.reshape((drc, drc))\n",
    "    propagated_dens = [P0]\n",
    "    H0 = MLham(theta,0.0,P0.real, P0.imag,fldfrq,fldamp,tmeoff,norm_direc)\n",
    "    H0 = H0[0] + 1.0j*H0[1]\n",
    "    propagated_hams = [H0]\n",
    "    evals, evecs = jnp.linalg.eigh(H0)\n",
    "    U0 = evecs @ jnp.diag(jnp.exp(-1j*dt*evals)) @ evecs.conj().T\n",
    "    P1 = U0 @ P0 @ U0.conj().T\n",
    "    propagated_dens.append( P1 )\n",
    "    def bodyfun(i, intup):\n",
    "        dl, hl = intup\n",
    "        P0 = dl[i, :, :]\n",
    "        P1 = dl[i+1, :, :]\n",
    "        H1 = MLham(theta,(i+1.0)*dt,P1.real, P1.imag,fldfrq,fldamp,tmeoff,norm_direc)\n",
    "        H1 = H1[0] + 1.0j*H1[1]\n",
    "        evals, evecs = jnp.linalg.eigh(H1)\n",
    "        U1 = evecs @ jnp.diag(jnp.exp(-2j*dt*evals)) @ evecs.conj().T\n",
    "        P2 = U1 @ P0 @ U1.conj().T\n",
    "        return (dl.at[i+2].set( P2 ), hl.at[i+1].set( H1 ))\n",
    "    \n",
    "    alldens = jnp.concatenate([jnp.stack(propagated_dens), jnp.zeros((ntvec-1, drc, drc))], axis=0)\n",
    "    allhams = jnp.concatenate([jnp.stack(propagated_hams), jnp.zeros((ntvec-1, drc, drc))], axis=0)\n",
    "    fdh = lax.fori_loop(0, ntvec-1, bodyfun, (alldens, allhams))\n",
    "    \n",
    "    return fdh"
   ]
  },
  {
   "cell_type": "code",
   "execution_count": null,
   "id": "5eacbb5c-9a2c-4df7-8af8-7173c0b913e1",
   "metadata": {},
   "outputs": [],
   "source": [
    "# compute mean square commutator errors for one trajectory\n",
    "def commutatorerror(theta, i):\n",
    "    ic = trnden[i][0,:,:].reshape((-1))\n",
    "    mynumsteps = 4000\n",
    "    mydenham = MMUT_Save_Ham(theta, ic, dt=dt, ntvec=mynumsteps, tmeoff=trntme[i], fldfrq=trnfrq[i], fldamp=trnamp[i])\n",
    "    trdenham = MMUT_Save_Ham(thetatrue, ic, dt=dt, ntvec=mynumsteps, tmeoff=trntme[i], fldfrq=trnfrq[i], fldamp=trnamp[i])\n",
    "\n",
    "    mycom = jnp.einsum('aij,ajk->aik',mydenham[1],mydenham[0][:-1,:,:]) - jnp.einsum('aij,ajk->aik',mydenham[0][:-1,:,:],mydenham[1])\n",
    "    trcom = jnp.einsum('aij,ajk->aik',trdenham[1],trdenham[0][:-1,:,:]) - jnp.einsum('aij,ajk->aik',trdenham[0][:-1,:,:],trdenham[1])\n",
    "\n",
    "    return jnp.mean(jnp.square(jnp.abs(mycom - trcom)))"
   ]
  },
  {
   "cell_type": "code",
   "execution_count": null,
   "id": "2e0c9527-e594-4bfb-bdcd-02ea2ba0b63c",
   "metadata": {},
   "outputs": [],
   "source": [
    "# many trajectory version\n",
    "vcommutatorerror = vmap(commutatorerror, (None, 0))\n",
    "jvcommutatorerror = jit(vcommutatorerror)"
   ]
  },
  {
   "cell_type": "code",
   "execution_count": null,
   "id": "8d9819bb-1e5d-4b81-bf69-72dc9453fb75",
   "metadata": {},
   "outputs": [],
   "source": [
    "# evaluate commutator errors on training set\n",
    "allcommerrs = jvcommutatorerror(jnp.array(res.x), jnp.arange(100))"
   ]
  },
  {
   "cell_type": "code",
   "execution_count": null,
   "id": "c192f924-8873-4b01-ad3e-80babe32fb02",
   "metadata": {},
   "outputs": [],
   "source": [
    "# min, mean, and max commutator error\n",
    "print(jnp.min(allcommerrs), jnp.mean(allcommerrs), jnp.max(allcommerrs))"
   ]
  },
  {
   "cell_type": "code",
   "execution_count": null,
   "id": "6ceb70ef-77d5-48c6-a0f5-37d32a34897b",
   "metadata": {},
   "outputs": [],
   "source": []
  }
 ],
 "metadata": {
  "kernelspec": {
   "display_name": "tensorflow-2.9.0",
   "language": "python",
   "name": "tensorflow-2.9.0"
  },
  "language_info": {
   "codemirror_mode": {
    "name": "ipython",
    "version": 3
   },
   "file_extension": ".py",
   "mimetype": "text/x-python",
   "name": "python",
   "nbconvert_exporter": "python",
   "pygments_lexer": "ipython3",
   "version": "3.9.15"
  }
 },
 "nbformat": 4,
 "nbformat_minor": 5
}
