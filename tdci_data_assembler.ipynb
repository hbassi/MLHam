{
 "cells": [
  {
   "cell_type": "code",
   "execution_count": 1,
   "metadata": {},
   "outputs": [],
   "source": [
    "from matplotlib import pyplot as plt\n",
    "import numpy as np\n",
    "import scipy\n",
    "#TODO make separate notebooks for each system"
   ]
  },
  {
   "cell_type": "code",
   "execution_count": 2,
   "metadata": {},
   "outputs": [],
   "source": [
    "# #uncomment this block for HeH+\n",
    "sys = 'heh+'\n",
    "c0hf = 0.9625707\n",
    "c1hf = -0.2691179\n",
    "c2hf = 0.0321435\n",
    "c2b1b0 = 0.1903932\n",
    "c2b1b1 = 0.6809922 \n",
    "c2b1b2 = 0.0000088\n",
    "c2a1a0 = c2b1b0\n",
    "c2a1a1 = c2b1b1\n",
    "c2a1a2 = c2b1b2\n",
    "c22110 = -0.0309597 \n",
    "c22111 = 0.0086428\n",
    "c22112 = 0.999483"
   ]
  },
  {
   "cell_type": "code",
   "execution_count": 3,
   "metadata": {},
   "outputs": [],
   "source": [
    "# #form basis and dictionary of CI coefficients\n",
    "phi1 = np.array([1,0]).reshape((2,1))\n",
    "phi2 = np.array([0, 1]).reshape((2,1))\n",
    "chf = {0: c0hf, 1: c1hf, 2:  c2hf}\n",
    "c2b1b = {0: c2b1b0, 1: c2b1b1, 2:  c2b1b2}\n",
    "c2a1a = {0: c2a1a0, 1: c2a1a1, 2:  c2a1a2}\n",
    "c2211 = {0: c22110, 1: c22111, 2:  c22112}"
   ]
  },
  {
   "cell_type": "code",
   "execution_count": 4,
   "metadata": {},
   "outputs": [
    {
     "name": "stdout",
     "output_type": "stream",
     "text": [
      "TRACE:  1.99999999347012 00\n",
      "TRACE:  -3.122922009879403e-08 01\n",
      "TRACE:  9.676133999603209e-08 02\n",
      "TRACE:  -3.122922009879403e-08 10\n",
      "TRACE:  1.99999979002786 11\n",
      "TRACE:  -1.4816705999620705e-07 12\n",
      "TRACE:  9.676133999603209e-08 20\n",
      "TRACE:  -1.4816705999620705e-07 21\n",
      "TRACE:  1.9999989440722603 22\n"
     ]
    },
    {
     "data": {
      "text/plain": [
       "array([[[[ 1.92558385,  0.        ],\n",
       "         [ 0.        ,  0.07441615]],\n",
       "\n",
       "        [[-0.25877744,  0.        ],\n",
       "         [ 0.        ,  0.25877741]],\n",
       "\n",
       "        [[ 0.06188413,  0.        ],\n",
       "         [ 0.        , -0.06188404]]],\n",
       "\n",
       "\n",
       "       [[[-0.25877744,  0.        ],\n",
       "         [ 0.        ,  0.25877741]],\n",
       "\n",
       "        [[ 1.07234964,  0.        ],\n",
       "         [ 0.        ,  0.92765015]],\n",
       "\n",
       "        [[-0.0172888 ,  0.        ],\n",
       "         [ 0.        ,  0.01728865]]],\n",
       "\n",
       "\n",
       "       [[[ 0.06188413,  0.        ],\n",
       "         [ 0.        , -0.06188404]],\n",
       "\n",
       "        [[-0.0172888 ,  0.        ],\n",
       "         [ 0.        ,  0.01728865]],\n",
       "\n",
       "        [[ 0.00206641,  0.        ],\n",
       "         [ 0.        ,  1.99793253]]]])"
      ]
     },
     "execution_count": 4,
     "metadata": {},
     "output_type": "execute_result"
    }
   ],
   "source": [
    "tens = np.zeros((3,3,2,2))\n",
    "for i in range(0,3):\n",
    "    for j in range(0,3):\n",
    "        tens [i,j,:,:] = 2 * (chf[i]*chf[j] *(phi1 @phi1.T) + (1/2)*c2a1a[i]*c2a1a[j]*(phi1 @phi1.T + phi2 @phi2.T) \n",
    "                                           +(1/2) * c2b1b[i]*c2b1b[j]*(phi1 @phi1.T + phi2 @phi2.T) + c2211[i]*c2211[j]*(phi2 @phi2.T)\n",
    "                                          +(1/2) * (chf[i]*c2a1a[j] * (phi1 @ phi2.T) + c2a1a[i]*chf[j]*(phi2 @ phi1.T))\n",
    "                                          -(1/2) * (chf[i]*c2b1b[j] * (phi1 @ phi2.T) + c2b1b[i]*chf[j]*(phi2 @ phi1.T))\n",
    "                                          -(1/2) * (c2a1a[i]*c2211[j] * (phi1 @ phi2.T) + c2211[i]*c2a1a[j]*(phi2 @ phi1.T))\n",
    "                                          +(1/2) * (c2b1b[i]*c2211[j] * (phi1 @ phi2.T) + c2211[i]*c2b1b[j]*(phi2 @ phi1.T)))\n",
    "        print('TRACE: ',np.trace(tens [i,j,:,:]),str(i)+str(j))\n",
    "    \n",
    "tens\n",
    "#can compare this MO -> AO with saved Gaussian"
   ]
  },
  {
   "cell_type": "code",
   "execution_count": 172,
   "metadata": {},
   "outputs": [],
   "source": [
    "M = np.array([np.array([2,-2+2j])/np.linalg.norm(np.array([2,-2+2j])),\n",
    "              np.array([2+2j,2])/np.linalg.norm(np.array([2,2+2j]))])"
   ]
  },
  {
   "cell_type": "code",
   "execution_count": 176,
   "metadata": {},
   "outputs": [
    {
     "data": {
      "text/plain": [
       "(array([[1.00000000e+00+0.j, 2.94613014e-18+0.j],\n",
       "        [2.94613014e-18+0.j, 1.00000000e+00+0.j]]),\n",
       " array([[ 1.00000000e+00+0.j, -2.94613014e-18+0.j],\n",
       "        [-2.94613014e-18+0.j,  1.00000000e+00+0.j]]))"
      ]
     },
     "execution_count": 176,
     "metadata": {},
     "output_type": "execute_result"
    }
   ],
   "source": [
    "M @ M.conj().T, M.conj().T @ M"
   ]
  },
  {
   "cell_type": "code",
   "execution_count": 140,
   "metadata": {},
   "outputs": [
    {
     "data": {
      "text/plain": [
       "(90, 20000, 2, 2)"
      ]
     },
     "execution_count": 140,
     "metadata": {},
     "output_type": "execute_result"
    }
   ],
   "source": [
    "trajs = []\n",
    "numsteps = 20000\n",
    "for i in range(10,100):\n",
    "    time_coeffs = np.loadtxt('C:/Users/Hardeep/Desktop/test/time_coeffs.tdcasscf_'+sys+'_sto-3g_0'+str(i)+'_dt=0.082680au.txt',dtype=np.cdouble)\n",
    "    time_coeffs = np.delete(time_coeffs,0,1)\n",
    "    #print(np.sum(np.square(np.abs(time_coeffs)),axis=1))\n",
    "    time_coeffs2 = np.delete(time_coeffs,1,1)\n",
    "    #print(np.sum(np.abs(np.square(time_coeffs2)),axis=1))\n",
    "    #plt.plot(np.arange(0,time_coeffs2.shape[0]),np.sum(np.abs(np.square(time_coeffs2)),axis=1));\n",
    "    #plt.show()\n",
    "    rdmMO = M @ np.einsum('ni,nj,ijab->nab',time_coeffs2, np.conjugate(time_coeffs2), tens) @ M.conj().T\n",
    "    trajs.append(rdmMO[:numsteps,:,:])\n",
    "trajs = np.array(trajs)\n",
    "trajs.shape"
   ]
  },
  {
   "cell_type": "code",
   "execution_count": 166,
   "metadata": {},
   "outputs": [
    {
     "data": {
      "text/plain": [
       "[<matplotlib.lines.Line2D at 0x10f86946c10>]"
      ]
     },
     "execution_count": 166,
     "metadata": {},
     "output_type": "execute_result"
    },
    {
     "data": {
      "image/png": "[encoded data removed]",
      "text/plain": [
       "<Figure size 432x288 with 1 Axes>"
      ]
     },
     "metadata": {
      "needs_background": "light"
     },
     "output_type": "display_data"
    }
   ],
   "source": [
    "plt.plot(trajs[89,:200,0,0].real)"
   ]
  },
  {
   "cell_type": "code",
   "execution_count": 79,
   "metadata": {},
   "outputs": [],
   "source": [
    "with open('heh+_training_data_unitary.npz', 'wb') as f:\n",
    "    np.save(f, trajs)"
   ]
  },
  {
   "cell_type": "code",
   "execution_count": null,
   "metadata": {},
   "outputs": [],
   "source": []
  }
 ],
 "metadata": {
  "kernelspec": {
   "display_name": "Python 3",
   "language": "python",
   "name": "python3"
  },
  "language_info": {
   "codemirror_mode": {
    "name": "ipython",
    "version": 3
   },
   "file_extension": ".py",
   "mimetype": "text/x-python",
   "name": "python",
   "nbconvert_exporter": "python",
   "pygments_lexer": "ipython3",
   "version": "3.8.5"
  }
 },
 "nbformat": 4,
 "nbformat_minor": 4
}
