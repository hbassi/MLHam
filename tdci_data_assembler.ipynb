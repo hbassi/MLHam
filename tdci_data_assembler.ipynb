{
 "cells": [
  {
   "cell_type": "code",
   "execution_count": 1,
   "metadata": {},
   "outputs": [],
   "source": [
    "from matplotlib import pyplot as plt\n",
    "import numpy as np\n",
    "import scipy\n",
    "#TODO make separate notebooks for each system"
   ]
  },
  {
   "cell_type": "code",
   "execution_count": 2,
   "metadata": {},
   "outputs": [],
   "source": [
    "# #uncomment this block for HeH+\n",
    "# sys = 'heh+'\n",
    "# c0hf = 0.9625707\n",
    "# c1hf = -0.2691179\n",
    "# c2hf = 0.0321435\n",
    "# c2b1b0 = 0.1903932\n",
    "# c2b1b1 = 0.6809922 \n",
    "# c2b1b2 = 0.0000088\n",
    "# c2a1a0 = c2b1b0\n",
    "# c2a1a1 = c2b1b1\n",
    "# c2a1a2 = c2b1b2\n",
    "# c22110 = -0.0309597 \n",
    "# c22111 = 0.0086428\n",
    "# c22112 = 0.999483"
   ]
  },
  {
   "cell_type": "code",
   "execution_count": 3,
   "metadata": {},
   "outputs": [],
   "source": [
    "sys = 'heh+'\n",
    "c0hf = 0.9625707\n",
    "c1hf = -0.13322676E-14 \n",
    "c2hf = -0.2691179\n",
    "c3hf = 0.0321435\n",
    "\n",
    "c2b1b0 = 0.1903932\n",
    "c2b1b1 = 0.70710678\n",
    "c2b1b2 = 0.6809922 \n",
    "c2b1b3 = 0.0000088\n",
    "\n",
    "c2a1a0 = c2b1b0\n",
    "c2a1a1 = -0.70710678 \n",
    "c2a1a2 = c2b1b2\n",
    "c2a1a3 = c2b1b3\n",
    "\n",
    "c22110 = -0.0309597 \n",
    "c22111 = 0.57112365E-16\n",
    "c22112 = 0.0086428\n",
    "c22113 = 0.9994833"
   ]
  },
  {
   "cell_type": "code",
   "execution_count": 4,
   "metadata": {},
   "outputs": [],
   "source": [
    "# #form basis and dictionary of CI coefficients\n",
    "#canonicalMO\n",
    "#phi1 = np.array([1,0]).reshape((2,1))\n",
    "#phi2 = np.array([0, 1]).reshape((2,1))\n",
    "phi1 = np.array([0.000365,0.999803]).reshape((2,1))\n",
    "phi2 = np.array([1.186690, -0.639239]).reshape((2,1))\n",
    "phi1hf = np.array([0.20252, 0.87629]).reshape((2,1))\n",
    "chf = {0: c0hf, 1: c1hf, 2:  c2hf, 3: c3hf }\n",
    "c2b1b = {0: c2b1b0, 1: c2b1b1, 2:  c2b1b2, 3:c2b1b3 }\n",
    "c2a1a = {0: c2a1a0, 1: c2a1a1, 2:  c2a1a2, 3: c2a1a3}\n",
    "c2211 = {0: c22110, 1: c22111, 2:  c22112, 3: c22113}"
   ]
  },
  {
   "cell_type": "code",
   "execution_count": 5,
   "metadata": {},
   "outputs": [],
   "source": [
    "#  print(np.trace((rdmAO[0,:,:]) @ dipole_moment_matrix_AO),np.trace((phi1hf @ phi1hf.T) @ dipole_moment_matrix_AO) )"
   ]
  },
  {
   "cell_type": "code",
   "execution_count": 6,
   "metadata": {},
   "outputs": [],
   "source": [
    "# dipole_moment_matrix_AO.shape"
   ]
  },
  {
   "cell_type": "code",
   "execution_count": 7,
   "metadata": {
    "scrolled": true
   },
   "outputs": [
    {
     "name": "stdout",
     "output_type": "stream",
     "text": [
      "TRACE:  1.0300145965474115 00\n",
      "TRACE:  0.4486931395812618 01\n",
      "TRACE:  0.10574335475915428 02\n",
      "TRACE:  -0.025287440806968486 03\n",
      "TRACE:  0.4486931395812618 10\n",
      "TRACE:  1.4082329089013803 11\n",
      "TRACE:  -0.12544087280599467 12\n",
      "TRACE:  -0.43686507418787685 13\n",
      "TRACE:  0.10574335475915428 20\n",
      "TRACE:  -0.12544087280599467 21\n",
      "TRACE:  1.3786687247751992 22\n",
      "TRACE:  0.007064534885243796 23\n",
      "TRACE:  -0.025287440806968486 30\n",
      "TRACE:  -0.43686507418787685 31\n",
      "TRACE:  0.007064534885243796 32\n",
      "TRACE:  1.8160153954219627 33\n"
     ]
    },
    {
     "data": {
      "text/plain": [
       "array([[[[ 5.23977712e-02, -2.78738959e-02],\n",
       "         [-2.78738959e-02,  9.77616825e-01]],\n",
       "\n",
       "        [[-3.04296046e-04, -2.58148702e-02],\n",
       "         [-8.07544773e-01,  4.48997436e-01]],\n",
       "\n",
       "        [[ 1.82209448e-01, -9.81987116e-02],\n",
       "         [-9.81987116e-02, -7.64660933e-02]],\n",
       "\n",
       "        [[-4.35735851e-02,  2.34832495e-02],\n",
       "         [ 2.34832495e-02,  1.82861443e-02]]],\n",
       "\n",
       "\n",
       "       [[[-3.04296046e-04, -8.07544773e-01],\n",
       "         [-2.58148702e-02,  4.48997436e-01]],\n",
       "\n",
       "        [[ 7.04116642e-01, -3.79106799e-01],\n",
       "         [-3.79106799e-01,  7.04116267e-01]],\n",
       "\n",
       "        [[ 8.50718636e-05,  2.25775370e-01],\n",
       "         [ 7.20648769e-03, -1.25525945e-01]],\n",
       "\n",
       "        [[ 2.96274453e-04, -2.71317276e-02],\n",
       "         [ 8.38523056e-01, -4.37161349e-01]]],\n",
       "\n",
       "\n",
       "       [[[ 1.82209448e-01, -9.81987116e-02],\n",
       "         [-9.81987116e-02, -7.64660933e-02]],\n",
       "\n",
       "        [[ 8.50718636e-05,  7.20648769e-03],\n",
       "         [ 2.25775370e-01, -1.25525945e-01]],\n",
       "\n",
       "        [[ 6.53173920e-01, -3.51652077e-01],\n",
       "         [-3.51652077e-01,  7.25494805e-01]],\n",
       "\n",
       "        [[ 1.21732267e-02, -6.56055544e-03],\n",
       "         [-6.56055544e-03, -5.10869185e-03]]],\n",
       "\n",
       "\n",
       "       [[[-4.35735851e-02,  2.34832495e-02],\n",
       "         [ 2.34832495e-02,  1.82861443e-02]],\n",
       "\n",
       "        [[ 2.96274453e-04,  8.38523056e-01],\n",
       "         [-2.71317276e-02, -4.37161349e-01]],\n",
       "\n",
       "        [[ 1.21732267e-02, -6.56055544e-03],\n",
       "         [-6.56055544e-03, -5.10869185e-03]],\n",
       "\n",
       "        [[ 1.40677826e+00, -7.57794439e-01],\n",
       "         [-7.57794439e-01,  4.09237131e-01]]]])"
      ]
     },
     "execution_count": 7,
     "metadata": {},
     "output_type": "execute_result"
    }
   ],
   "source": [
    "tens = np.zeros((4,4,2,2))\n",
    "for i in range(0,4):\n",
    "    for j in range(0,4):\n",
    "        tens [i,j,:,:] = (chf[i]*chf[j] *(phi1 @phi1.T) + (1/2)*c2a1a[i]*c2a1a[j]*(phi1 @phi1.T + phi2 @phi2.T) \n",
    "                                           +(1/2) * c2b1b[i]*c2b1b[j]*(phi1 @phi1.T + phi2 @phi2.T) + c2211[i]*c2211[j]*(phi2 @phi2.T)\n",
    "                                          +(1/2) * (chf[i]*c2a1a[j] * (phi1 @ phi2.T) + c2a1a[i]*chf[j]*(phi2 @ phi1.T))\n",
    "                                          -(1/2) * (chf[i]*c2b1b[j] * (phi1 @ phi2.T) + c2b1b[i]*chf[j]*(phi2 @ phi1.T))\n",
    "                                          -(1/2) * (c2a1a[i]*c2211[j] * (phi1 @ phi2.T) + c2211[i]*c2a1a[j]*(phi2 @ phi1.T))\n",
    "                                          +(1/2) * (c2b1b[i]*c2211[j] * (phi1 @ phi2.T) + c2211[i]*c2b1b[j]*(phi2 @ phi1.T)))\n",
    "        print('TRACE: ',np.trace(tens [i,j,:,:]),str(i)+str(j))\n",
    "    \n",
    "tens\n",
    "#can compare this MO -> AO with saved Gaussian"
   ]
  },
  {
   "cell_type": "code",
   "execution_count": 8,
   "metadata": {},
   "outputs": [],
   "source": [
    "overlapAO = np.array([[1.0, 0.538415], [0.538415, 1.0]])"
   ]
  },
  {
   "cell_type": "code",
   "execution_count": 9,
   "metadata": {},
   "outputs": [],
   "source": [
    "s, U = np.linalg.eig(overlapAO)"
   ]
  },
  {
   "cell_type": "code",
   "execution_count": 10,
   "metadata": {},
   "outputs": [],
   "source": [
    "trajs = []\n",
    "numsteps = 20000\n",
    "for i in range(1,10):\n",
    "    time_coeffs = np.loadtxt('C:/Users/Hardeep/Desktop/test/time_coeffs.tdcasscf_'+sys+'_sto-3g_00'+str(i)+'_dt=0.082680au.txt',dtype=np.cdouble)\n",
    "    time_coeffs = np.delete(time_coeffs,0,1)\n",
    "    #print(np.sum(np.square(np.abs(time_coeffs)),axis=1))\n",
    "    #time_coeffs2 = np.delete(time_coeffs,1,1)\n",
    "    #print(np.sum(np.abs(np.square(time_coeffs2)),axis=1))\n",
    "    #plt.plot(np.arange(0,time_coeffs2.shape[0]),np.sum(np.abs(np.square(time_coeffs2)),axis=1));\n",
    "    #plt.show()\n",
    "    #rdmAO = np.einsum('ni,nj,ijab->nab',time_coeffs, np.conjugate(time_coeffs), tens)\n",
    "    rdmAOorthogonalized = np.diag(np.sqrt(s)) @ U.T @ np.einsum('ni,nj,ijab->nab',time_coeffs, np.conjugate(time_coeffs), tens) @ U @ np.diag(np.sqrt(s))\n",
    "    # center oscillations about 0\n",
    "    rdmAOorthogonalized -= np.mean(rdmAOorthogonalized,axis=0)\n",
    "\n",
    "    # make them have amplitude 1\n",
    "    rdmAOorthogonalized /= np.max(np.abs(rdmAOorthogonalized),axis=0)\n",
    "    #trajs.append(rdmAO[:numsteps,:,:])\n",
    "    trajs.append(rdmAOorthogonalized[810:1500,:,:].real)"
   ]
  },
  {
   "cell_type": "code",
   "execution_count": 11,
   "metadata": {},
   "outputs": [
    {
     "data": {
      "text/plain": [
       "(99, 690, 2, 2)"
      ]
     },
     "execution_count": 11,
     "metadata": {},
     "output_type": "execute_result"
    }
   ],
   "source": [
    "for i in range(10,100):\n",
    "    time_coeffs = np.loadtxt('C:/Users/Hardeep/Desktop/test/time_coeffs.tdcasscf_'+sys+'_sto-3g_0'+str(i)+'_dt=0.082680au.txt',dtype=np.cdouble)\n",
    "    time_coeffs = np.delete(time_coeffs,0,1)\n",
    "    #print(np.sum(np.square(np.abs(time_coeffs)),axis=1))\n",
    "    #time_coeffs2 = np.delete(time_coeffs,1,1)\n",
    "    #print(np.sum(np.abs(np.square(time_coeffs2)),axis=1))\n",
    "    #plt.plot(np.arange(0,time_coeffs2.shape[0]),np.sum(np.abs(np.square(time_coeffs2)),axis=1));\n",
    "    #plt.show()\n",
    "    #rdmAO = np.einsum('ni,nj,ijab->nab',time_coeffs, np.conjugate(time_coeffs), tens)\n",
    "    rdmAOorthogonalized = np.diag(np.sqrt(s)) @ U.T @ np.einsum('ni,nj,ijab->nab',time_coeffs, np.conjugate(time_coeffs), tens) @ U @ np.diag(np.sqrt(s))\n",
    "    #trajs.append(rdmAO[:numsteps,:,:])\n",
    "    rdmAOorthogonalized -= np.mean(rdmAOorthogonalized,axis=0)\n",
    "    # make them have amplitude 1\n",
    "    rdmAOorthogonalized /= np.max(np.abs(rdmAOorthogonalized),axis=0)\n",
    "    trajs.append(rdmAOorthogonalized[810:1500,:,:].real)\n",
    "trajs = np.array(trajs)\n",
    "trajs.shape"
   ]
  },
  {
   "cell_type": "code",
   "execution_count": null,
   "metadata": {},
   "outputs": [],
   "source": []
  },
  {
   "cell_type": "code",
   "execution_count": 12,
   "metadata": {},
   "outputs": [],
   "source": [
    "with open('tdci_heh+_AO_diagonalized_cycle.npz', 'wb') as f:\n",
    "    np.save(f, trajs)"
   ]
  },
  {
   "cell_type": "code",
   "execution_count": 20,
   "metadata": {},
   "outputs": [
    {
     "data": {
      "text/plain": [
       "array([[[[ 0.03027408,  0.03027408],\n",
       "         [ 0.03027408, -0.03027407]],\n",
       "\n",
       "        [[ 0.02887758,  0.02887758],\n",
       "         [ 0.02887758, -0.02887757]],\n",
       "\n",
       "        [[ 0.02729549,  0.02729548],\n",
       "         [ 0.02729548, -0.02729548]],\n",
       "\n",
       "        ...,\n",
       "\n",
       "        [[-0.02554515, -0.02554514],\n",
       "         [-0.02554514,  0.02554513]],\n",
       "\n",
       "        [[-0.02663322, -0.02663321],\n",
       "         [-0.02663321,  0.0266332 ]],\n",
       "\n",
       "        [[-0.02749909, -0.02749908],\n",
       "         [-0.02749908,  0.02749907]]],\n",
       "\n",
       "\n",
       "       [[[ 0.14491365,  0.14491371],\n",
       "         [ 0.14491371, -0.14491378]],\n",
       "\n",
       "        [[ 0.15344298,  0.15344305],\n",
       "         [ 0.15344305, -0.15344312]],\n",
       "\n",
       "        [[ 0.16086524,  0.16086532],\n",
       "         [ 0.16086532, -0.16086539]],\n",
       "\n",
       "        ...,\n",
       "\n",
       "        [[ 0.00595247,  0.00595247],\n",
       "         [ 0.00595247, -0.00595246]],\n",
       "\n",
       "        [[-0.00925914, -0.00925915],\n",
       "         [-0.00925915,  0.00925916]],\n",
       "\n",
       "        [[-0.02439484, -0.02439485],\n",
       "         [-0.02439485,  0.02439487]]],\n",
       "\n",
       "\n",
       "       [[[ 0.11821413,  0.11821411],\n",
       "         [ 0.11821411, -0.11821409]],\n",
       "\n",
       "        [[ 0.1184772 ,  0.11847718],\n",
       "         [ 0.11847718, -0.11847716]],\n",
       "\n",
       "        [[ 0.11792057,  0.11792056],\n",
       "         [ 0.11792056, -0.11792054]],\n",
       "\n",
       "        ...,\n",
       "\n",
       "        [[-0.05969682, -0.05969681],\n",
       "         [-0.05969681,  0.0596968 ]],\n",
       "\n",
       "        [[-0.06788206, -0.06788204],\n",
       "         [-0.06788204,  0.06788203]],\n",
       "\n",
       "        [[-0.07559324, -0.07559322],\n",
       "         [-0.07559322,  0.0755932 ]]],\n",
       "\n",
       "\n",
       "       ...,\n",
       "\n",
       "\n",
       "       [[[-0.29968148, -0.29968146],\n",
       "         [-0.29968146,  0.29968143]],\n",
       "\n",
       "        [[-0.37083846, -0.37083843],\n",
       "         [-0.37083843,  0.37083839]],\n",
       "\n",
       "        [[-0.43866468, -0.43866469],\n",
       "         [-0.43866469,  0.43866469]],\n",
       "\n",
       "        ...,\n",
       "\n",
       "        [[-0.55542725, -0.55542736],\n",
       "         [-0.55542736,  0.55542746]],\n",
       "\n",
       "        [[-0.4880033 , -0.48800336],\n",
       "         [-0.48800336,  0.48800342]],\n",
       "\n",
       "        [[-0.41824335, -0.41824342],\n",
       "         [-0.41824342,  0.41824348]]],\n",
       "\n",
       "\n",
       "       [[[-0.31301318, -0.31301318],\n",
       "         [-0.31301318,  0.31301317]],\n",
       "\n",
       "        [[-0.38349209, -0.38349207],\n",
       "         [-0.38349207,  0.38349204]],\n",
       "\n",
       "        [[-0.45057497, -0.45057495],\n",
       "         [-0.45057495,  0.45057494]],\n",
       "\n",
       "        ...,\n",
       "\n",
       "        [[-0.54274046, -0.54274048],\n",
       "         [-0.54274048,  0.54274051]],\n",
       "\n",
       "        [[-0.47485138, -0.47485145],\n",
       "         [-0.47485145,  0.47485151]],\n",
       "\n",
       "        [[-0.40473846, -0.40473853],\n",
       "         [-0.40473853,  0.40473861]]],\n",
       "\n",
       "\n",
       "       [[[-0.32467397, -0.32467392],\n",
       "         [-0.32467392,  0.32467387]],\n",
       "\n",
       "        [[-0.39436963, -0.39436961],\n",
       "         [-0.39436961,  0.3943696 ]],\n",
       "\n",
       "        [[-0.46061878, -0.46061876],\n",
       "         [-0.46061876,  0.46061874]],\n",
       "\n",
       "        ...,\n",
       "\n",
       "        [[-0.53038309, -0.53038315],\n",
       "         [-0.53038315,  0.53038321]],\n",
       "\n",
       "        [[-0.46219814, -0.46219818],\n",
       "         [-0.46219818,  0.46219822]],\n",
       "\n",
       "        [[-0.3919095 , -0.39190959],\n",
       "         [-0.39190959,  0.39190968]]]])"
      ]
     },
     "execution_count": 20,
     "metadata": {},
     "output_type": "execute_result"
    }
   ],
   "source": [
    "trajs"
   ]
  },
  {
   "cell_type": "code",
   "execution_count": null,
   "metadata": {},
   "outputs": [],
   "source": [
    "traces = np.einsum('ijj ->i',rdmAO@overlap)\n",
    "print(np.max(traces),np.min(traces))\n",
    "traces"
   ]
  },
  {
   "cell_type": "code",
   "execution_count": null,
   "metadata": {},
   "outputs": [],
   "source": [
    "# denAOtdhf = np.load('C:/Users/Hardeep/Downloads/td_dens_re+im_rt-tdexx_delta_s0_heh+_sto-3g.npz')"
   ]
  },
  {
   "cell_type": "code",
   "execution_count": null,
   "metadata": {},
   "outputs": [],
   "source": [
    "# denAOtdhf = denAOtdhf['td_dens_re_data'] + 1j*denAOtdhf['td_dens_im_data']"
   ]
  },
  {
   "cell_type": "code",
   "execution_count": null,
   "metadata": {},
   "outputs": [],
   "source": [
    "# denAOtdhf.shape"
   ]
  },
  {
   "cell_type": "code",
   "execution_count": null,
   "metadata": {},
   "outputs": [],
   "source": [
    "# for i in range(trajs.shape[0]):\n",
    "#     traj = trajs[i]\n",
    "#     print(np.linalg.norm(traj - denAOtdhf[:20000]))"
   ]
  },
  {
   "cell_type": "code",
   "execution_count": null,
   "metadata": {},
   "outputs": [],
   "source": [
    "# fig, axs = plt.subplots(2, 2, figsize=(10,8))\n",
    "# for i in range(0,2):\n",
    "#     for j in range(0,2):\n",
    "#         axs[i,j].plot(trajs[3,:5000,i,j].real)\n",
    "#         axs[i,j].plot(denAO[:5000,i,j].real)\n",
    "#         axs[i,j].set_title('P'+str(i)+str(j)+' Real')"
   ]
  },
  {
   "cell_type": "code",
   "execution_count": null,
   "metadata": {},
   "outputs": [],
   "source": [
    "trajs[0,0,:,:]"
   ]
  },
  {
   "cell_type": "code",
   "execution_count": null,
   "metadata": {},
   "outputs": [],
   "source": [
    "denAOforcingtdhf = np.load('C:/Users/Hardeep/Downloads/td_dens_re+im_rt-tdexx_ndlaser1cycs0_heh+_sto-3g.npz')"
   ]
  },
  {
   "cell_type": "code",
   "execution_count": null,
   "metadata": {},
   "outputs": [],
   "source": [
    "denAOforcingtdhf = denAOforcingtdhf['td_dens_re_data'] + 1j*denAOforcingtdhf['td_dens_im_data']"
   ]
  },
  {
   "cell_type": "code",
   "execution_count": null,
   "metadata": {},
   "outputs": [],
   "source": [
    "trajs[:,0,:,:]"
   ]
  },
  {
   "cell_type": "code",
   "execution_count": null,
   "metadata": {},
   "outputs": [],
   "source": [
    "denAOforcingtdhf[0,:,:]"
   ]
  },
  {
   "cell_type": "code",
   "execution_count": null,
   "metadata": {},
   "outputs": [],
   "source": [
    "for i in range(trajs.shape[0]):\n",
    "    traj = trajs[i]\n",
    "    print(np.linalg.norm(traj - denAOforcingtdhf[:20000]))"
   ]
  },
  {
   "cell_type": "code",
   "execution_count": null,
   "metadata": {},
   "outputs": [],
   "source": [
    "# fig, axs = plt.subplots(2, 2, figsize=(10,8))\n",
    "# for i in range(0,2):\n",
    "#     for j in range(0,2):\n",
    "#         axs[i,j].plot(trajs[3,:5000,i,j].imag)\n",
    "#         axs[i,j].plot(denAOforcing[:5000,i,j].imag)\n",
    "#         axs[i,j].set_title('P'+str(i)+str(j)+' Imaginary')"
   ]
  },
  {
   "cell_type": "code",
   "execution_count": null,
   "metadata": {},
   "outputs": [],
   "source": [
    "fig, axs = plt.subplots(2, 2, figsize=(10,8))\n",
    "\n",
    "axs[0,0].plot(trajs[3,:5000,0,0].real)\n",
    "axs[0,0].plot(denAOforcingtdhf[:5000,0,0].real)\n",
    "axs[0,0].set_title('P'+str(0)+str(0)+' Real')\n",
    "\n",
    "axs[0,1].plot(trajs[3,:5000,0,1].real)\n",
    "axs[0,1].plot(denAOforcingtdhf[:5000,0,1].real)\n",
    "axs[0,1].set_title('P'+str(0)+str(1)+' Real')\n",
    "\n",
    "axs[1,0].plot(trajs[3,:5000,0,1].imag)\n",
    "axs[1,0].plot(denAOforcingtdhf[:5000,0,1].imag)\n",
    "axs[1,0].set_title('P'+str(0)+str(1)+' Imaginary')\n",
    "\n",
    "axs[1,1].plot(trajs[3,:5000,1,1].real)\n",
    "axs[1,1].plot(denAOforcingtdhf[:5000,1,1].real)\n",
    "axs[1,1].set_title('P'+str(1)+str(1)+' Real')\n",
    "\n",
    "\n"
   ]
  },
  {
   "cell_type": "code",
   "execution_count": null,
   "metadata": {},
   "outputs": [],
   "source": [
    "dipole = np.load('C:/Users/Hardeep/Downloads/td_efield+dipole_rt-tdexx_ndlaser1cycs0_heh+_sto-3g.npz')['td_dipole_data']"
   ]
  },
  {
   "cell_type": "code",
   "execution_count": null,
   "metadata": {},
   "outputs": [],
   "source": [
    "dipole.shape"
   ]
  },
  {
   "cell_type": "code",
   "execution_count": null,
   "metadata": {},
   "outputs": [],
   "source": [
    "plt.plot(dipole[2])"
   ]
  },
  {
   "cell_type": "code",
   "execution_count": null,
   "metadata": {},
   "outputs": [],
   "source": [
    "dipole_moment_matrix_AO = np.array([[-0.729434, 0.0734846], [0.0734846, 0.729434]])"
   ]
  },
  {
   "cell_type": "code",
   "execution_count": null,
   "metadata": {},
   "outputs": [],
   "source": [
    "denAOtdhf.shape,denAOforcingtdhf.shape ,trajs.shape"
   ]
  },
  {
   "cell_type": "code",
   "execution_count": null,
   "metadata": {},
   "outputs": [],
   "source": [
    "tdcitraj = trajs[3]"
   ]
  },
  {
   "cell_type": "code",
   "execution_count": null,
   "metadata": {},
   "outputs": [],
   "source": [
    "dmtdciAO = np.einsum('ijj -> i', (tdcitraj @ dipole_moment_matrix_AO))"
   ]
  },
  {
   "cell_type": "code",
   "execution_count": null,
   "metadata": {},
   "outputs": [],
   "source": [
    "dmtdhfAOforcing = np.einsum('ijj -> i', (denAOforcingtdhf @ dipole_moment_matrix_AO))"
   ]
  },
  {
   "cell_type": "code",
   "execution_count": null,
   "metadata": {},
   "outputs": [],
   "source": [
    "dmtdhfAO = np.einsum('ijj -> i', (denAOtdhf @ dipole_moment_matrix_AO))"
   ]
  },
  {
   "cell_type": "code",
   "execution_count": null,
   "metadata": {},
   "outputs": [],
   "source": [
    "plt.plot(dmtdciAO.real[9000:10000]);\n",
    "plt.plot(dmtdhfAOforcing.real[9000:10000]);\n",
    "#plt.plot(dmtdhfAO.real[:10000]);\n",
    "plt.legend(['TDCI', 'TDHF (forcing)', 'TDHF'])"
   ]
  },
  {
   "cell_type": "code",
   "execution_count": null,
   "metadata": {},
   "outputs": [],
   "source": [
    "np.linalg.norm(dmtdciAO - dmtdhfAO[:20000])"
   ]
  },
  {
   "cell_type": "code",
   "execution_count": null,
   "metadata": {},
   "outputs": [],
   "source": [
    "np.linalg.norm(dmtdciAO - dmtdhfAOforcing[:20000])"
   ]
  },
  {
   "cell_type": "code",
   "execution_count": null,
   "metadata": {},
   "outputs": [],
   "source": [
    "np.linalg.norm(dmtdhfAOforcing - dmtdhfAO)"
   ]
  },
  {
   "cell_type": "code",
   "execution_count": null,
   "metadata": {},
   "outputs": [],
   "source": [
    "plt.plot(dmtdhfAOforcing.real[:]);"
   ]
  },
  {
   "cell_type": "code",
   "execution_count": null,
   "metadata": {},
   "outputs": [],
   "source": []
  }
 ],
 "metadata": {
  "kernelspec": {
   "display_name": "Python 3",
   "language": "python",
   "name": "python3"
  },
  "language_info": {
   "codemirror_mode": {
    "name": "ipython",
    "version": 3
   },
   "file_extension": ".py",
   "mimetype": "text/x-python",
   "name": "python",
   "nbconvert_exporter": "python",
   "pygments_lexer": "ipython3",
   "version": "3.8.5"
  }
 },
 "nbformat": 4,
 "nbformat_minor": 4
}
